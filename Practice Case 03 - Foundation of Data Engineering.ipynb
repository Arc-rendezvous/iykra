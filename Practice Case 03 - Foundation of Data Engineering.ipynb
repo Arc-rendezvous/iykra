{
 "cells": [
  {
   "cell_type": "markdown",
   "metadata": {},
   "source": [
    "<span style=\"font-size:42px\"><b>Practise Case 03</b></span><br><br>\n",
    "<span style=\"font-size:36px\">Foundation Of Data Engineering</span>\n",
    "\n",
    "Copyright 2019 Gunawan Lumban Gaol\n",
    "\n",
    "Licensed under the Apache License, Version 2.0 (the \"License\"); you may not use this file except in compliance with the License. You may obtain a copy of the License at http://www.apache.org/licenses/LICENSE-2.0\n",
    "\n",
    "Unless required by applicable law or agreed to in writing, software distributed under the License is distributed on an \"AS IS\" BASIS, WITHOUT WARRANTIES OR CONDITIONS OF ANY KIND, either express or implied. See the License for the specific language overning permissions and limitations under the License."
   ]
  },
  {
   "cell_type": "markdown",
   "metadata": {},
   "source": [
    "# Import Packages"
   ]
  },
  {
   "cell_type": "code",
   "execution_count": 1,
   "metadata": {
    "ExecuteTime": {
     "end_time": "2019-10-31T12:21:48.222000Z",
     "start_time": "2019-10-31T12:21:44.816000Z"
    }
   },
   "outputs": [
    {
     "name": "stderr",
     "output_type": "stream",
     "text": [
      "[nltk_data] Downloading package stopwords to\n",
      "[nltk_data]     C:\\Users\\gunawan.gaol\\AppData\\Roaming\\nltk_data...\n",
      "[nltk_data]   Package stopwords is already up-to-date!\n"
     ]
    }
   ],
   "source": [
    "import numpy as np\n",
    "import pandas as pd\n",
    "from tqdm import tqdm_notebook as tqdm\n",
    "import time\n",
    "from configparser import ConfigParser\n",
    "import matplotlib.pyplot as plt\n",
    "\n",
    "# Instagram scraper library\n",
    "from igramscraper.instagram import Instagram\n",
    "from edapy.edapy.scraping import get_account_metadata, get_all_media_ids, get_all_media_comments\n",
    "\n",
    "# Text Processing library\n",
    "import re\n",
    "from langdetect import detect\n",
    "import nltk\n",
    "nltk.download('stopwords')\n",
    "from nltk.corpus import stopwords\n",
    "from nltk.stem import PorterStemmer\n",
    "from textblob import TextBlob"
   ]
  },
  {
   "cell_type": "code",
   "execution_count": 2,
   "metadata": {
    "ExecuteTime": {
     "end_time": "2019-10-31T12:21:48.242000Z",
     "start_time": "2019-10-31T12:21:48.226000Z"
    }
   },
   "outputs": [
    {
     "data": {
      "text/plain": [
       "['./config.ini']"
      ]
     },
     "execution_count": 2,
     "metadata": {},
     "output_type": "execute_result"
    }
   ],
   "source": [
    "config = ConfigParser()\n",
    "config.read('./config.ini')"
   ]
  },
  {
   "cell_type": "code",
   "execution_count": 3,
   "metadata": {
    "ExecuteTime": {
     "end_time": "2019-10-31T12:21:48.264000Z",
     "start_time": "2019-10-31T12:21:48.247000Z"
    }
   },
   "outputs": [],
   "source": [
    "def preprocess_text(X):\n",
    "    # Copy the data\n",
    "    res = X.copy()\n",
    "    \n",
    "    # Lower casing\n",
    "    res = res.str.lower()\n",
    "    \n",
    "    # Punctuation removal\n",
    "    res = res.str.replace('[^\\w\\s]','')\n",
    "    \n",
    "    # Stopwords removal\n",
    "    stop = stopwords.words('indonesian')\n",
    "    res = res.apply(lambda x: \" \".join(x for x in str(x).split() if x not in stop))\n",
    "    \n",
    "    # Frequent words removal\n",
    "    freq = pd.Series(' '.join(res).split()).value_counts()[:10]\n",
    "    freq = list(freq.index)\n",
    "    res = res.apply(lambda x: \" \".join(x for x in str(x).split() if x not in freq))\n",
    "    \n",
    "    # Rare words removal\n",
    "    rare_word = pd.Series(' '.join(res).split()).value_counts()[-10:]\n",
    "    rare_word = list(rare_word.index)\n",
    "    res = res.apply(lambda x: \" \".join(x for x in str(x).split() if x not in freq))\n",
    "            \n",
    "    return res"
   ]
  },
  {
   "cell_type": "code",
   "execution_count": 4,
   "metadata": {
    "ExecuteTime": {
     "end_time": "2019-10-31T12:21:48.280000Z",
     "start_time": "2019-10-31T12:21:48.267000Z"
    }
   },
   "outputs": [],
   "source": [
    "def translate_text(X):\n",
    "    res = X.copy()\n",
    "    \n",
    "    # Translate the Words\n",
    "    translated_list = []\n",
    "    for text in tqdm(res):\n",
    "        try:\n",
    "            text_str = TextBlob(text)\n",
    "            lang = detect(text)\n",
    "            trans = text_str.translate(from_lang='id', to='en')\n",
    "            translated_list.append(str(trans))\n",
    "        except Exception as e:\n",
    "            translated_list.append(text)\n",
    "    \n",
    "    return pd.Series(translated_list)"
   ]
  },
  {
   "cell_type": "code",
   "execution_count": 5,
   "metadata": {
    "ExecuteTime": {
     "end_time": "2019-10-31T12:21:48.298000Z",
     "start_time": "2019-10-31T12:21:48.285000Z"
    }
   },
   "outputs": [],
   "source": [
    "def create_df(X):\n",
    "    res = X.copy()\n",
    "    \n",
    "    # Stemming\n",
    "    st = PorterStemmer()\n",
    "    res = res.apply(lambda x: \" \".join([st.stem(word) for word in str(x).split()]))\n",
    "    \n",
    "    # Create new empty dataframe\n",
    "    df = pd.DataFrame()\n",
    "    df['text'] = res\n",
    "    \n",
    "    # Labelling\n",
    "    for i, text in tqdm(enumerate(res)):\n",
    "        textB = TextBlob(text)\n",
    "        sentiment = textB.sentiment.polarity\n",
    "        subjectivity = textB.sentiment.subjectivity\n",
    "        if sentiment < 0.00 :\n",
    "            sentimentclass = 'Negative'            \n",
    "        elif sentiment > 0.00 :\n",
    "            sentimentclass = 'Positive'            \n",
    "        else :\n",
    "            sentimentclass = 'Netral'\n",
    "        df.loc[i,'sentiment'] = sentiment\n",
    "        df.loc[i,'sentimentclass'] = sentimentclass\n",
    "        df.loc[i,'subjectivity'] = subjectivity\n",
    "    return df"
   ]
  },
  {
   "cell_type": "markdown",
   "metadata": {},
   "source": [
    "# Import External Data\n",
    "\n",
    "Since requests usually comes with limitation of number of requests per time interval, use different proxy to bypass the limit."
   ]
  },
  {
   "cell_type": "code",
   "execution_count": 6,
   "metadata": {
    "ExecuteTime": {
     "end_time": "2019-10-31T12:21:48.312000Z",
     "start_time": "2019-10-31T12:21:48.301000Z"
    }
   },
   "outputs": [],
   "source": [
    "proxies = pd.read_csv('txt/cnU9FuCeHx.txt', header=None)[0].values"
   ]
  },
  {
   "cell_type": "markdown",
   "metadata": {},
   "source": [
    "The process below will download all comments from each post in the user account by using package [igramscraper](https://github.com/realsirjoe/instagram-scraper).\n",
    "\n",
    "Steps in getting the comments:\n",
    "* get account metadata\n",
    "* get all media ids using account metadata\n",
    "* get all media comments using media ids\n",
    "\n",
    "*Note that the account username is anonymized since this notebook will be made public.*"
   ]
  },
  {
   "cell_type": "markdown",
   "metadata": {},
   "source": [
    "## Fintech1"
   ]
  },
  {
   "cell_type": "code",
   "execution_count": 7,
   "metadata": {
    "ExecuteTime": {
     "end_time": "2019-10-31T12:21:50.346000Z",
     "start_time": "2019-10-31T12:21:48.834000Z"
    }
   },
   "outputs": [],
   "source": [
    "fintech1_username = config['instagram']['FINTECH1']\n",
    "fintech1_metadata = get_account_metadata(fintech1_username)"
   ]
  },
  {
   "cell_type": "code",
   "execution_count": 8,
   "metadata": {
    "ExecuteTime": {
     "end_time": "2019-10-31T12:23:43.882000Z",
     "start_time": "2019-10-31T12:21:53.346000Z"
    }
   },
   "outputs": [
    {
     "data": {
      "application/vnd.jupyter.widget-view+json": {
       "model_id": "44275dbadb5b4d65ba1c50e8c55c3834",
       "version_major": 2,
       "version_minor": 0
      },
      "text/plain": [
       "HBox(children=(IntProgress(value=0, max=2552), HTML(value='')))"
      ]
     },
     "metadata": {},
     "output_type": "display_data"
    },
    {
     "name": "stdout",
     "output_type": "stream",
     "text": [
      "\n"
     ]
    }
   ],
   "source": [
    "fintech1_media_ids = get_all_media_ids(fintech1_metadata)"
   ]
  },
  {
   "cell_type": "code",
   "execution_count": 11,
   "metadata": {
    "ExecuteTime": {
     "end_time": "2019-10-31T12:35:29.110000Z",
     "start_time": "2019-10-31T12:35:29.096000Z"
    }
   },
   "outputs": [],
   "source": [
    "get_all_media_comments(fintech1_media_ids[:1000], 'csv/output1.csv', proxies)"
   ]
  },
  {
   "cell_type": "markdown",
   "metadata": {},
   "source": [
    "## Fintech2"
   ]
  },
  {
   "cell_type": "code",
   "execution_count": 62,
   "metadata": {
    "ExecuteTime": {
     "end_time": "2019-10-31T07:36:41.213000Z",
     "start_time": "2019-10-31T07:36:39.819000Z"
    }
   },
   "outputs": [],
   "source": [
    "fintech2_username = config['instagram']['FINTECH2']\n",
    "fintech2_metadata = get_account_metadata(fintech2_username)"
   ]
  },
  {
   "cell_type": "code",
   "execution_count": 63,
   "metadata": {
    "ExecuteTime": {
     "end_time": "2019-10-31T07:37:36.979000Z",
     "start_time": "2019-10-31T07:36:56.736000Z"
    }
   },
   "outputs": [
    {
     "data": {
      "application/vnd.jupyter.widget-view+json": {
       "model_id": "631938d1eac243d69d5175f7aa485806",
       "version_major": 2,
       "version_minor": 0
      },
      "text/plain": [
       "HBox(children=(IntProgress(value=0, max=1900), HTML(value='')))"
      ]
     },
     "metadata": {},
     "output_type": "display_data"
    }
   ],
   "source": [
    "fintech2_media_ids = get_all_media_ids(fintech2_metadata)"
   ]
  },
  {
   "cell_type": "code",
   "execution_count": 66,
   "metadata": {
    "ExecuteTime": {
     "end_time": "2019-10-31T08:24:30.119000Z",
     "start_time": "2019-10-31T07:38:32.601000Z"
    }
   },
   "outputs": [
    {
     "data": {
      "application/vnd.jupyter.widget-view+json": {
       "model_id": "f0336a7f54f54e79a0f89521717fdd3b",
       "version_major": 2,
       "version_minor": 0
      },
      "text/plain": [
       "HBox(children=(IntProgress(value=0), HTML(value='')))"
      ]
     },
     "metadata": {},
     "output_type": "display_data"
    },
    {
     "name": "stdout",
     "output_type": "stream",
     "text": [
      "Response code is 429. Body: {\"message\": \"rate limited\", \"status\": \"fail\"} Something went wrong. Please report issue., Code:429\n",
      "Response code is 429. Body: {\"message\": \"rate limited\", \"status\": \"fail\"} Something went wrong. Please report issue., Code:429\n",
      "Expecting value: line 1 column 1 (char 0)\n",
      "Could not extract gis from page, Code:500\n",
      "Could not extract gis from page, Code:500\n",
      "Could not extract gis from page, Code:500\n",
      "Could not extract gis from page, Code:500\n",
      "Response code is 429. Body: {\"message\": \"rate limited\", \"status\": \"fail\"} Something went wrong. Please report issue., Code:429\n",
      "Response code is 429. Body: {\"message\": \"rate limited\", \"status\": \"fail\"} Something went wrong. Please report issue., Code:429\n",
      "Response code is 429. Body: {\"message\": \"rate limited\", \"status\": \"fail\"} Something went wrong. Please report issue., Code:429\n",
      "Response code is 429. Body: {\"message\": \"rate limited\", \"status\": \"fail\"} Something went wrong. Please report issue., Code:429\n",
      "Could not extract gis from page, Code:500\n",
      "Could not extract gis from page, Code:500\n",
      "Response code is 429. Body: {\"message\": \"rate limited\", \"status\": \"fail\"} Something went wrong. Please report issue., Code:429\n",
      "Could not extract gis from page, Code:500\n",
      "Could not extract gis from page, Code:500\n",
      "Could not extract gis from page, Code:500\n",
      "Could not extract gis from page, Code:500\n",
      "Response code is 429. Body: {\"message\": \"rate limited\", \"status\": \"fail\"} Something went wrong. Please report issue., Code:429\n",
      "Could not extract gis from page, Code:500\n",
      "Response code is 429. Body: {\"message\": \"rate limited\", \"status\": \"fail\"} Something went wrong. Please report issue., Code:429\n",
      "Could not extract gis from page, Code:500\n",
      "Could not extract gis from page, Code:500\n"
     ]
    }
   ],
   "source": [
    "get_all_media_comments(fintech2_media_ids[:1000], 'csv/output2.csv', proxies)"
   ]
  },
  {
   "cell_type": "markdown",
   "metadata": {},
   "source": [
    "## Fintech3"
   ]
  },
  {
   "cell_type": "code",
   "execution_count": 67,
   "metadata": {
    "ExecuteTime": {
     "end_time": "2019-10-31T08:31:22.143000Z",
     "start_time": "2019-10-31T08:31:21.352000Z"
    }
   },
   "outputs": [],
   "source": [
    "fintech3_username = config['instagram']['FINTECH3']\n",
    "fintech3_metadata = get_account_metadata(fintech3_username)"
   ]
  },
  {
   "cell_type": "code",
   "execution_count": 68,
   "metadata": {
    "ExecuteTime": {
     "end_time": "2019-10-31T08:32:21.388000Z",
     "start_time": "2019-10-31T08:31:22.148000Z"
    }
   },
   "outputs": [
    {
     "data": {
      "application/vnd.jupyter.widget-view+json": {
       "model_id": "5ea5ac2c5b364302bebca8d2f7dea555",
       "version_major": 2,
       "version_minor": 0
      },
      "text/plain": [
       "HBox(children=(IntProgress(value=0, max=2566), HTML(value='')))"
      ]
     },
     "metadata": {},
     "output_type": "display_data"
    }
   ],
   "source": [
    "fintech3_media_ids = get_all_media_ids(fintech3_metadata)"
   ]
  },
  {
   "cell_type": "code",
   "execution_count": 69,
   "metadata": {
    "ExecuteTime": {
     "end_time": "2019-10-31T08:56:10.901000Z",
     "start_time": "2019-10-31T08:32:21.391000Z"
    }
   },
   "outputs": [
    {
     "data": {
      "application/vnd.jupyter.widget-view+json": {
       "model_id": "9692d95e78dd49a38ec8ee026ccff555",
       "version_major": 2,
       "version_minor": 0
      },
      "text/plain": [
       "HBox(children=(IntProgress(value=0), HTML(value='')))"
      ]
     },
     "metadata": {},
     "output_type": "display_data"
    },
    {
     "name": "stdout",
     "output_type": "stream",
     "text": [
      "Response code is 429. Body: {\"message\": \"rate limited\", \"status\": \"fail\"} Something went wrong. Please report issue., Code:429\n",
      "Could not extract gis from page, Code:500\n",
      "Response code is 429. Body: {\"message\": \"rate limited\", \"status\": \"fail\"} Something went wrong. Please report issue., Code:429\n",
      "Response code is 429. Body: {\"message\": \"rate limited\", \"status\": \"fail\"} Something went wrong. Please report issue., Code:429\n",
      "Response code is 429. Body: {\"message\": \"rate limited\", \"status\": \"fail\"} Something went wrong. Please report issue., Code:429\n",
      "Response code is 429. Body: {\"message\": \"rate limited\", \"status\": \"fail\"} Something went wrong. Please report issue., Code:429\n"
     ]
    }
   ],
   "source": [
    "get_all_media_comments(fintech3_media_ids[:1000], 'csv/output3.csv', proxies)"
   ]
  },
  {
   "cell_type": "markdown",
   "metadata": {},
   "source": [
    "# Label Creation for Sentiment Analysis"
   ]
  },
  {
   "cell_type": "markdown",
   "metadata": {},
   "source": [
    "## Load Saved Data\n",
    "\n",
    "As the comments can contain certain error in character, we import the data using argument `error_bad_lines=False` to skip such broken data in the saved files."
   ]
  },
  {
   "cell_type": "code",
   "execution_count": 157,
   "metadata": {
    "ExecuteTime": {
     "end_time": "2019-10-31T09:54:06.909000Z",
     "start_time": "2019-10-31T09:54:06.438000Z"
    }
   },
   "outputs": [
    {
     "name": "stderr",
     "output_type": "stream",
     "text": [
      "b'Skipping line 127: expected 4 fields, saw 7\\nSkipping line 143: expected 4 fields, saw 7\\nSkipping line 454: expected 4 fields, saw 6\\nSkipping line 455: expected 4 fields, saw 6\\nSkipping line 457: expected 4 fields, saw 6\\nSkipping line 673: expected 4 fields, saw 5\\nSkipping line 1045: expected 4 fields, saw 11\\nSkipping line 1127: expected 4 fields, saw 6\\nSkipping line 1155: expected 4 fields, saw 6\\nSkipping line 1268: expected 4 fields, saw 6\\nSkipping line 1424: expected 4 fields, saw 5\\nSkipping line 1501: expected 4 fields, saw 6\\nSkipping line 1727: expected 4 fields, saw 5\\nSkipping line 2129: expected 4 fields, saw 7\\nSkipping line 2164: expected 4 fields, saw 12\\nSkipping line 2168: expected 4 fields, saw 6\\nSkipping line 2214: expected 4 fields, saw 7\\nSkipping line 2227: expected 4 fields, saw 7\\nSkipping line 2229: expected 4 fields, saw 5\\nSkipping line 2249: expected 4 fields, saw 6\\nSkipping line 2265: expected 4 fields, saw 6\\nSkipping line 2331: expected 4 fields, saw 5\\nSkipping line 2368: expected 4 fields, saw 18\\nSkipping line 2386: expected 4 fields, saw 10\\nSkipping line 2421: expected 4 fields, saw 5\\nSkipping line 2424: expected 4 fields, saw 11\\nSkipping line 2432: expected 4 fields, saw 9\\nSkipping line 2433: expected 4 fields, saw 7\\nSkipping line 2443: expected 4 fields, saw 5\\nSkipping line 2488: expected 4 fields, saw 9\\nSkipping line 2539: expected 4 fields, saw 5\\nSkipping line 2547: expected 4 fields, saw 5\\nSkipping line 2564: expected 4 fields, saw 9\\nSkipping line 2578: expected 4 fields, saw 9\\nSkipping line 2580: expected 4 fields, saw 5\\nSkipping line 2584: expected 4 fields, saw 11\\nSkipping line 2588: expected 4 fields, saw 5\\nSkipping line 2589: expected 4 fields, saw 12\\nSkipping line 2742: expected 4 fields, saw 5\\nSkipping line 3816: expected 4 fields, saw 7\\nSkipping line 3877: expected 4 fields, saw 5\\nSkipping line 3900: expected 4 fields, saw 5\\nSkipping line 3906: expected 4 fields, saw 7\\nSkipping line 3913: expected 4 fields, saw 5\\nSkipping line 3918: expected 4 fields, saw 5\\nSkipping line 4022: expected 4 fields, saw 5\\nSkipping line 4030: expected 4 fields, saw 6\\nSkipping line 4056: expected 4 fields, saw 9\\nSkipping line 4082: expected 4 fields, saw 5\\nSkipping line 4162: expected 4 fields, saw 7\\nSkipping line 4621: expected 4 fields, saw 7\\nSkipping line 4786: expected 4 fields, saw 5\\nSkipping line 4820: expected 4 fields, saw 5\\nSkipping line 4836: expected 4 fields, saw 6\\nSkipping line 4938: expected 4 fields, saw 6\\nSkipping line 4956: expected 4 fields, saw 8\\nSkipping line 5072: expected 4 fields, saw 6\\nSkipping line 5871: expected 4 fields, saw 7\\nSkipping line 5955: expected 4 fields, saw 5\\nSkipping line 5956: expected 4 fields, saw 7\\nSkipping line 5958: expected 4 fields, saw 6\\nSkipping line 5970: expected 4 fields, saw 6\\nSkipping line 5994: expected 4 fields, saw 5\\nSkipping line 6013: expected 4 fields, saw 8\\nSkipping line 6028: expected 4 fields, saw 5\\nSkipping line 6035: expected 4 fields, saw 9\\nSkipping line 6038: expected 4 fields, saw 5\\nSkipping line 6047: expected 4 fields, saw 12\\nSkipping line 6083: expected 4 fields, saw 8\\nSkipping line 6089: expected 4 fields, saw 5\\nSkipping line 6091: expected 4 fields, saw 8\\nSkipping line 6095: expected 4 fields, saw 8\\nSkipping line 6111: expected 4 fields, saw 6\\nSkipping line 6191: expected 4 fields, saw 5\\nSkipping line 6249: expected 4 fields, saw 5\\nSkipping line 6251: expected 4 fields, saw 7\\nSkipping line 6268: expected 4 fields, saw 5\\nSkipping line 6269: expected 4 fields, saw 10\\nSkipping line 6281: expected 4 fields, saw 7\\nSkipping line 6381: expected 4 fields, saw 9\\nSkipping line 6557: expected 4 fields, saw 6\\nSkipping line 6578: expected 4 fields, saw 6\\nSkipping line 6601: expected 4 fields, saw 6\\nSkipping line 7128: expected 4 fields, saw 7\\nSkipping line 7129: expected 4 fields, saw 8\\nSkipping line 7155: expected 4 fields, saw 7\\nSkipping line 7157: expected 4 fields, saw 7\\nSkipping line 7161: expected 4 fields, saw 7\\nSkipping line 7184: expected 4 fields, saw 16\\nSkipping line 7200: expected 4 fields, saw 10\\nSkipping line 7301: expected 4 fields, saw 6\\nSkipping line 7302: expected 4 fields, saw 6\\nSkipping line 7404: expected 4 fields, saw 8\\nSkipping line 7405: expected 4 fields, saw 7\\nSkipping line 7473: expected 4 fields, saw 6\\nSkipping line 7651: expected 4 fields, saw 5\\nSkipping line 7655: expected 4 fields, saw 6\\nSkipping line 7678: expected 4 fields, saw 5\\nSkipping line 7749: expected 4 fields, saw 6\\nSkipping line 7890: expected 4 fields, saw 6\\nSkipping line 8078: expected 4 fields, saw 12\\nSkipping line 8080: expected 4 fields, saw 8\\nSkipping line 8085: expected 4 fields, saw 5\\nSkipping line 8086: expected 4 fields, saw 5\\nSkipping line 8107: expected 4 fields, saw 6\\nSkipping line 8120: expected 4 fields, saw 7\\nSkipping line 8121: expected 4 fields, saw 11\\nSkipping line 8145: expected 4 fields, saw 6\\nSkipping line 8161: expected 4 fields, saw 7\\nSkipping line 8166: expected 4 fields, saw 5\\nSkipping line 8198: expected 4 fields, saw 15\\nSkipping line 8199: expected 4 fields, saw 11\\nSkipping line 8236: expected 4 fields, saw 8\\nSkipping line 8237: expected 4 fields, saw 5\\nSkipping line 8264: expected 4 fields, saw 7\\nSkipping line 8270: expected 4 fields, saw 15\\nSkipping line 8282: expected 4 fields, saw 9\\nSkipping line 8297: expected 4 fields, saw 6\\nSkipping line 8321: expected 4 fields, saw 8\\nSkipping line 8325: expected 4 fields, saw 8\\nSkipping line 8408: expected 4 fields, saw 10\\nSkipping line 8412: expected 4 fields, saw 8\\nSkipping line 8413: expected 4 fields, saw 8\\nSkipping line 8436: expected 4 fields, saw 5\\nSkipping line 8467: expected 4 fields, saw 5\\nSkipping line 8472: expected 4 fields, saw 8\\nSkipping line 8477: expected 4 fields, saw 7\\nSkipping line 8496: expected 4 fields, saw 8\\nSkipping line 8518: expected 4 fields, saw 9\\nSkipping line 8551: expected 4 fields, saw 9\\nSkipping line 8584: expected 4 fields, saw 9\\nSkipping line 8593: expected 4 fields, saw 9\\nSkipping line 8607: expected 4 fields, saw 8\\nSkipping line 8621: expected 4 fields, saw 11\\nSkipping line 8633: expected 4 fields, saw 6\\nSkipping line 8636: expected 4 fields, saw 7\\nSkipping line 8640: expected 4 fields, saw 7\\nSkipping line 8641: expected 4 fields, saw 6\\nSkipping line 8643: expected 4 fields, saw 7\\nSkipping line 8665: expected 4 fields, saw 5\\nSkipping line 8670: expected 4 fields, saw 7\\nSkipping line 8676: expected 4 fields, saw 7\\nSkipping line 8680: expected 4 fields, saw 5\\nSkipping line 8688: expected 4 fields, saw 7\\nSkipping line 8704: expected 4 fields, saw 8\\nSkipping line 8712: expected 4 fields, saw 9\\nSkipping line 8719: expected 4 fields, saw 6\\nSkipping line 8731: expected 4 fields, saw 5\\nSkipping line 8742: expected 4 fields, saw 5\\nSkipping line 8743: expected 4 fields, saw 5\\nSkipping line 8744: expected 4 fields, saw 8\\nSkipping line 8755: expected 4 fields, saw 6\\nSkipping line 8766: expected 4 fields, saw 13\\nSkipping line 8773: expected 4 fields, saw 8\\nSkipping line 8779: expected 4 fields, saw 6\\nSkipping line 8782: expected 4 fields, saw 6\\nSkipping line 8786: expected 4 fields, saw 7\\nSkipping line 8795: expected 4 fields, saw 5\\nSkipping line 8809: expected 4 fields, saw 5\\nSkipping line 8822: expected 4 fields, saw 8\\nSkipping line 8832: expected 4 fields, saw 26\\nSkipping line 8847: expected 4 fields, saw 13\\nSkipping line 8849: expected 4 fields, saw 9\\nSkipping line 8852: expected 4 fields, saw 5\\nSkipping line 8863: expected 4 fields, saw 5\\nSkipping line 8866: expected 4 fields, saw 8\\nSkipping line 8867: expected 4 fields, saw 8\\nSkipping line 8881: expected 4 fields, saw 6\\nSkipping line 8910: expected 4 fields, saw 12\\nSkipping line 8915: expected 4 fields, saw 5\\nSkipping line 11668: expected 4 fields, saw 5\\nSkipping line 11693: expected 4 fields, saw 5\\nSkipping line 12050: expected 4 fields, saw 7\\nSkipping line 13435: expected 4 fields, saw 5\\nSkipping line 14064: expected 4 fields, saw 5\\nSkipping line 14115: expected 4 fields, saw 5\\nSkipping line 14157: expected 4 fields, saw 7\\nSkipping line 14159: expected 4 fields, saw 8\\nSkipping line 14197: expected 4 fields, saw 5\\nSkipping line 14226: expected 4 fields, saw 8\\nSkipping line 14227: expected 4 fields, saw 8\\nSkipping line 14236: expected 4 fields, saw 7\\nSkipping line 14272: expected 4 fields, saw 9\\nSkipping line 14289: expected 4 fields, saw 13\\nSkipping line 14311: expected 4 fields, saw 7\\nSkipping line 14316: expected 4 fields, saw 6\\nSkipping line 14324: expected 4 fields, saw 5\\nSkipping line 14327: expected 4 fields, saw 5\\nSkipping line 14343: expected 4 fields, saw 8\\nSkipping line 14690: expected 4 fields, saw 9\\nSkipping line 14832: expected 4 fields, saw 5\\nSkipping line 14861: expected 4 fields, saw 9\\nSkipping line 15186: expected 4 fields, saw 14\\nSkipping line 15189: expected 4 fields, saw 7\\nSkipping line 15194: expected 4 fields, saw 16\\nSkipping line 15196: expected 4 fields, saw 5\\nSkipping line 15199: expected 4 fields, saw 5\\nSkipping line 15202: expected 4 fields, saw 6\\nSkipping line 15235: expected 4 fields, saw 14\\nSkipping line 15237: expected 4 fields, saw 7\\nSkipping line 15240: expected 4 fields, saw 10\\nSkipping line 15245: expected 4 fields, saw 12\\nSkipping line 15246: expected 4 fields, saw 14\\nSkipping line 15247: expected 4 fields, saw 13\\nSkipping line 15255: expected 4 fields, saw 5\\nSkipping line 15261: expected 4 fields, saw 5\\nSkipping line 15268: expected 4 fields, saw 7\\nSkipping line 15274: expected 4 fields, saw 7\\nSkipping line 15280: expected 4 fields, saw 6\\nSkipping line 15299: expected 4 fields, saw 5\\nSkipping line 15301: expected 4 fields, saw 5\\nSkipping line 15309: expected 4 fields, saw 5\\nSkipping line 15360: expected 4 fields, saw 5\\nSkipping line 15363: expected 4 fields, saw 5\\nSkipping line 15373: expected 4 fields, saw 5\\nSkipping line 15376: expected 4 fields, saw 5\\nSkipping line 15381: expected 4 fields, saw 7\\nSkipping line 15388: expected 4 fields, saw 5\\nSkipping line 15391: expected 4 fields, saw 6\\nSkipping line 15395: expected 4 fields, saw 6\\nSkipping line 15410: expected 4 fields, saw 5\\nSkipping line 15431: expected 4 fields, saw 6\\nSkipping line 15437: expected 4 fields, saw 5\\nSkipping line 15444: expected 4 fields, saw 6\\nSkipping line 15455: expected 4 fields, saw 19\\nSkipping line 15457: expected 4 fields, saw 8\\nSkipping line 15461: expected 4 fields, saw 5\\nSkipping line 15463: expected 4 fields, saw 5\\nSkipping line 15487: expected 4 fields, saw 5\\nSkipping line 15500: expected 4 fields, saw 11\\nSkipping line 15514: expected 4 fields, saw 17\\nSkipping line 15516: expected 4 fields, saw 6\\nSkipping line 15523: expected 4 fields, saw 5\\nSkipping line 15525: expected 4 fields, saw 7\\nSkipping line 15551: expected 4 fields, saw 8\\nSkipping line 15552: expected 4 fields, saw 8\\nSkipping line 15559: expected 4 fields, saw 7\\nSkipping line 15561: expected 4 fields, saw 6\\nSkipping line 15566: expected 4 fields, saw 11\\nSkipping line 15567: expected 4 fields, saw 5\\nSkipping line 15579: expected 4 fields, saw 5\\nSkipping line 15593: expected 4 fields, saw 9\\nSkipping line 15597: expected 4 fields, saw 6\\nSkipping line 15617: expected 4 fields, saw 7\\nSkipping line 15652: expected 4 fields, saw 5\\nSkipping line 15669: expected 4 fields, saw 6\\nSkipping line 15671: expected 4 fields, saw 7\\nSkipping line 15673: expected 4 fields, saw 5\\nSkipping line 15685: expected 4 fields, saw 10\\nSkipping line 15686: expected 4 fields, saw 11\\nSkipping line 15690: expected 4 fields, saw 7\\nSkipping line 15708: expected 4 fields, saw 5\\nSkipping line 15719: expected 4 fields, saw 10\\nSkipping line 15721: expected 4 fields, saw 5\\nSkipping line 15725: expected 4 fields, saw 5\\nSkipping line 15726: expected 4 fields, saw 7\\nSkipping line 15727: expected 4 fields, saw 8\\nSkipping line 15730: expected 4 fields, saw 8\\nSkipping line 15734: expected 4 fields, saw 8\\nSkipping line 15737: expected 4 fields, saw 9\\nSkipping line 15744: expected 4 fields, saw 5\\nSkipping line 15745: expected 4 fields, saw 6\\nSkipping line 15746: expected 4 fields, saw 5\\nSkipping line 15779: expected 4 fields, saw 15\\nSkipping line 15780: expected 4 fields, saw 26\\nSkipping line 15787: expected 4 fields, saw 6\\nSkipping line 15800: expected 4 fields, saw 6\\nSkipping line 15810: expected 4 fields, saw 6\\nSkipping line 15817: expected 4 fields, saw 7\\nSkipping line 15818: expected 4 fields, saw 6\\nSkipping line 15821: expected 4 fields, saw 5\\nSkipping line 15823: expected 4 fields, saw 6\\nSkipping line 15826: expected 4 fields, saw 7\\nSkipping line 15833: expected 4 fields, saw 6\\nSkipping line 15848: expected 4 fields, saw 5\\nSkipping line 15854: expected 4 fields, saw 5\\nSkipping line 15862: expected 4 fields, saw 6\\nSkipping line 15868: expected 4 fields, saw 10\\nSkipping line 16070: expected 4 fields, saw 6\\nSkipping line 16095: expected 4 fields, saw 7\\nSkipping line 16103: expected 4 fields, saw 7\\nSkipping line 16107: expected 4 fields, saw 5\\nSkipping line 16108: expected 4 fields, saw 5\\nSkipping line 16109: expected 4 fields, saw 8\\nSkipping line 16190: expected 4 fields, saw 5\\nSkipping line 16196: expected 4 fields, saw 5\\nSkipping line 16398: expected 4 fields, saw 8\\nSkipping line 16417: expected 4 fields, saw 10\\nSkipping line 16528: expected 4 fields, saw 5\\nSkipping line 16587: expected 4 fields, saw 13\\nSkipping line 16891: expected 4 fields, saw 7\\nSkipping line 16892: expected 4 fields, saw 7\\nSkipping line 16938: expected 4 fields, saw 6\\nSkipping line 17128: expected 4 fields, saw 5\\nSkipping line 17221: expected 4 fields, saw 5\\nSkipping line 17223: expected 4 fields, saw 9\\nSkipping line 17229: expected 4 fields, saw 5\\nSkipping line 17236: expected 4 fields, saw 5\\nSkipping line 17294: expected 4 fields, saw 5\\nSkipping line 17348: expected 4 fields, saw 8\\nSkipping line 17352: expected 4 fields, saw 5\\nSkipping line 17358: expected 4 fields, saw 5\\nSkipping line 17378: expected 4 fields, saw 6\\nSkipping line 17397: expected 4 fields, saw 6\\nSkipping line 17416: expected 4 fields, saw 5\\nSkipping line 17485: expected 4 fields, saw 5\\nSkipping line 17496: expected 4 fields, saw 5\\nSkipping line 17599: expected 4 fields, saw 5\\nSkipping line 17625: expected 4 fields, saw 7\\nSkipping line 17653: expected 4 fields, saw 5\\nSkipping line 17739: expected 4 fields, saw 5\\nSkipping line 17743: expected 4 fields, saw 5\\nSkipping line 17744: expected 4 fields, saw 5\\nSkipping line 17804: expected 4 fields, saw 5\\nSkipping line 17810: expected 4 fields, saw 5\\nSkipping line 17816: expected 4 fields, saw 5\\nSkipping line 17822: expected 4 fields, saw 5\\nSkipping line 17830: expected 4 fields, saw 7\\nSkipping line 17831: expected 4 fields, saw 7\\nSkipping line 17836: expected 4 fields, saw 5\\nSkipping line 17845: expected 4 fields, saw 7\\nSkipping line 17846: expected 4 fields, saw 7\\nSkipping line 17867: expected 4 fields, saw 5\\nSkipping line 17889: expected 4 fields, saw 6\\nSkipping line 17890: expected 4 fields, saw 6\\nSkipping line 17892: expected 4 fields, saw 6\\nSkipping line 17893: expected 4 fields, saw 5\\nSkipping line 17954: expected 4 fields, saw 5\\nSkipping line 17963: expected 4 fields, saw 6\\nSkipping line 17983: expected 4 fields, saw 8\\nSkipping line 18009: expected 4 fields, saw 6\\nSkipping line 18037: expected 4 fields, saw 8\\nSkipping line 18072: expected 4 fields, saw 5\\nSkipping line 18083: expected 4 fields, saw 6\\nSkipping line 18084: expected 4 fields, saw 7\\nSkipping line 18085: expected 4 fields, saw 7\\nSkipping line 18111: expected 4 fields, saw 5\\nSkipping line 18129: expected 4 fields, saw 5\\nSkipping line 18142: expected 4 fields, saw 5\\nSkipping line 18143: expected 4 fields, saw 5\\nSkipping line 18162: expected 4 fields, saw 6\\nSkipping line 18316: expected 4 fields, saw 8\\nSkipping line 18327: expected 4 fields, saw 5\\nSkipping line 18383: expected 4 fields, saw 5\\nSkipping line 18384: expected 4 fields, saw 6\\nSkipping line 18390: expected 4 fields, saw 6\\nSkipping line 18587: expected 4 fields, saw 7\\nSkipping line 18910: expected 4 fields, saw 5\\nSkipping line 18983: expected 4 fields, saw 14\\nSkipping line 18990: expected 4 fields, saw 5\\nSkipping line 19034: expected 4 fields, saw 5\\nSkipping line 19038: expected 4 fields, saw 5\\nSkipping line 19117: expected 4 fields, saw 5\\nSkipping line 19120: expected 4 fields, saw 7\\nSkipping line 19133: expected 4 fields, saw 6\\nSkipping line 19328: expected 4 fields, saw 5\\nSkipping line 19429: expected 4 fields, saw 8\\nSkipping line 19433: expected 4 fields, saw 5\\nSkipping line 19550: expected 4 fields, saw 5\\nSkipping line 19929: expected 4 fields, saw 11\\nSkipping line 20624: expected 4 fields, saw 10\\nSkipping line 20628: expected 4 fields, saw 8\\nSkipping line 20636: expected 4 fields, saw 5\\nSkipping line 20834: expected 4 fields, saw 9\\nSkipping line 21048: expected 4 fields, saw 5\\nSkipping line 21157: expected 4 fields, saw 5\\nSkipping line 21857: expected 4 fields, saw 5\\nSkipping line 21890: expected 4 fields, saw 5\\nSkipping line 22173: expected 4 fields, saw 5\\nSkipping line 22439: expected 4 fields, saw 8\\nSkipping line 22517: expected 4 fields, saw 5\\nSkipping line 23673: expected 4 fields, saw 10\\nSkipping line 23698: expected 4 fields, saw 7\\nSkipping line 23893: expected 4 fields, saw 8\\nSkipping line 24108: expected 4 fields, saw 5\\nSkipping line 24300: expected 4 fields, saw 9\\nSkipping line 24796: expected 4 fields, saw 5\\nSkipping line 25025: expected 4 fields, saw 5\\nSkipping line 25583: expected 4 fields, saw 6\\nSkipping line 25742: expected 4 fields, saw 7\\nSkipping line 25970: expected 4 fields, saw 5\\nSkipping line 25974: expected 4 fields, saw 5\\nSkipping line 26362: expected 4 fields, saw 6\\nSkipping line 26631: expected 4 fields, saw 5\\nSkipping line 26917: expected 4 fields, saw 5\\nSkipping line 27496: expected 4 fields, saw 11\\nSkipping line 28326: expected 4 fields, saw 7\\nSkipping line 29202: expected 4 fields, saw 6\\nSkipping line 29686: expected 4 fields, saw 5\\nSkipping line 29852: expected 4 fields, saw 9\\nSkipping line 32670: expected 4 fields, saw 6\\nSkipping line 32845: expected 4 fields, saw 5\\nSkipping line 32960: expected 4 fields, saw 5\\nSkipping line 33109: expected 4 fields, saw 5\\nSkipping line 33240: expected 4 fields, saw 5\\nSkipping line 33333: expected 4 fields, saw 6\\nSkipping line 33343: expected 4 fields, saw 5\\nSkipping line 33352: expected 4 fields, saw 5\\nSkipping line 34150: expected 4 fields, saw 11\\nSkipping line 34695: expected 4 fields, saw 5\\nSkipping line 34711: expected 4 fields, saw 7\\nSkipping line 35091: expected 4 fields, saw 14\\nSkipping line 35103: expected 4 fields, saw 6\\nSkipping line 35326: expected 4 fields, saw 6\\nSkipping line 35343: expected 4 fields, saw 22\\nSkipping line 35407: expected 4 fields, saw 7\\nSkipping line 35532: expected 4 fields, saw 9\\nSkipping line 35988: expected 4 fields, saw 5\\n'"
     ]
    },
    {
     "name": "stderr",
     "output_type": "stream",
     "text": [
      "\n"
     ]
    },
    {
     "name": "stderr",
     "output_type": "stream",
     "text": [
      "b'Skipping line 844: expected 4 fields, saw 6\\nSkipping line 1031: expected 4 fields, saw 5\\nSkipping line 1473: expected 4 fields, saw 5\\nSkipping line 1643: expected 4 fields, saw 5\\nSkipping line 1981: expected 4 fields, saw 5\\nSkipping line 1998: expected 4 fields, saw 5\\nSkipping line 2679: expected 4 fields, saw 6\\nSkipping line 2681: expected 4 fields, saw 6\\nSkipping line 3153: expected 4 fields, saw 6\\nSkipping line 3560: expected 4 fields, saw 7\\nSkipping line 3569: expected 4 fields, saw 6\\nSkipping line 4196: expected 4 fields, saw 7\\nSkipping line 4390: expected 4 fields, saw 5\\nSkipping line 4452: expected 4 fields, saw 5\\nSkipping line 4826: expected 4 fields, saw 5\\nSkipping line 4986: expected 4 fields, saw 5\\nSkipping line 5051: expected 4 fields, saw 5\\nSkipping line 5087: expected 4 fields, saw 6\\nSkipping line 5550: expected 4 fields, saw 5\\nSkipping line 5976: expected 4 fields, saw 5\\nSkipping line 6035: expected 4 fields, saw 5\\nSkipping line 6239: expected 4 fields, saw 7\\nSkipping line 6332: expected 4 fields, saw 6\\nSkipping line 6978: expected 4 fields, saw 6\\nSkipping line 7603: expected 4 fields, saw 8\\nSkipping line 7843: expected 4 fields, saw 8\\nSkipping line 8639: expected 4 fields, saw 6\\nSkipping line 9372: expected 4 fields, saw 6\\nSkipping line 9661: expected 4 fields, saw 7\\nSkipping line 9773: expected 4 fields, saw 6\\nSkipping line 10371: expected 4 fields, saw 5\\nSkipping line 10417: expected 4 fields, saw 6\\nSkipping line 10511: expected 4 fields, saw 7\\nSkipping line 10642: expected 4 fields, saw 5\\nSkipping line 11353: expected 4 fields, saw 5\\nSkipping line 11548: expected 4 fields, saw 5\\nSkipping line 11850: expected 4 fields, saw 5\\nSkipping line 12102: expected 4 fields, saw 5\\nSkipping line 12702: expected 4 fields, saw 5\\nSkipping line 12809: expected 4 fields, saw 5\\nSkipping line 12836: expected 4 fields, saw 5\\nSkipping line 12942: expected 4 fields, saw 5\\nSkipping line 13866: expected 4 fields, saw 5\\nSkipping line 13916: expected 4 fields, saw 5\\nSkipping line 13928: expected 4 fields, saw 5\\nSkipping line 13980: expected 4 fields, saw 5\\nSkipping line 14112: expected 4 fields, saw 5\\nSkipping line 14134: expected 4 fields, saw 5\\nSkipping line 14227: expected 4 fields, saw 5\\nSkipping line 14481: expected 4 fields, saw 7\\nSkipping line 14485: expected 4 fields, saw 13\\nSkipping line 14488: expected 4 fields, saw 12\\nSkipping line 14498: expected 4 fields, saw 8\\nSkipping line 14538: expected 4 fields, saw 5\\nSkipping line 14539: expected 4 fields, saw 5\\nSkipping line 14556: expected 4 fields, saw 6\\nSkipping line 15062: expected 4 fields, saw 6\\nSkipping line 15065: expected 4 fields, saw 12\\nSkipping line 15066: expected 4 fields, saw 12\\nSkipping line 15073: expected 4 fields, saw 7\\nSkipping line 15075: expected 4 fields, saw 5\\nSkipping line 15086: expected 4 fields, saw 13\\nSkipping line 15087: expected 4 fields, saw 13\\nSkipping line 15091: expected 4 fields, saw 12\\nSkipping line 15251: expected 4 fields, saw 5\\nSkipping line 15296: expected 4 fields, saw 8\\nSkipping line 15397: expected 4 fields, saw 6\\nSkipping line 15408: expected 4 fields, saw 6\\nSkipping line 15446: expected 4 fields, saw 9\\nSkipping line 15609: expected 4 fields, saw 5\\nSkipping line 15652: expected 4 fields, saw 6\\nSkipping line 15663: expected 4 fields, saw 6\\nSkipping line 15751: expected 4 fields, saw 5\\nSkipping line 15818: expected 4 fields, saw 5\\nSkipping line 15853: expected 4 fields, saw 6\\nSkipping line 16403: expected 4 fields, saw 6\\nSkipping line 16630: expected 4 fields, saw 5\\nSkipping line 16736: expected 4 fields, saw 6\\nSkipping line 17248: expected 4 fields, saw 5\\nSkipping line 17286: expected 4 fields, saw 5\\nSkipping line 17295: expected 4 fields, saw 45\\nSkipping line 17940: expected 4 fields, saw 7\\nSkipping line 18124: expected 4 fields, saw 5\\nSkipping line 18144: expected 4 fields, saw 6\\nSkipping line 19355: expected 4 fields, saw 5\\nSkipping line 20338: expected 4 fields, saw 8\\nSkipping line 20403: expected 4 fields, saw 5\\nSkipping line 20910: expected 4 fields, saw 5\\nSkipping line 20949: expected 4 fields, saw 10\\nSkipping line 22348: expected 4 fields, saw 11\\nSkipping line 22363: expected 4 fields, saw 7\\nSkipping line 22613: expected 4 fields, saw 7\\nSkipping line 22621: expected 4 fields, saw 6\\nSkipping line 23808: expected 4 fields, saw 6\\nSkipping line 23837: expected 4 fields, saw 5\\nSkipping line 24059: expected 4 fields, saw 9\\nSkipping line 24460: expected 4 fields, saw 5\\nSkipping line 24527: expected 4 fields, saw 6\\nSkipping line 24732: expected 4 fields, saw 6\\nSkipping line 24764: expected 4 fields, saw 5\\nSkipping line 24988: expected 4 fields, saw 5\\nSkipping line 25207: expected 4 fields, saw 5\\nSkipping line 25327: expected 4 fields, saw 5\\nSkipping line 25963: expected 4 fields, saw 5\\nSkipping line 26102: expected 4 fields, saw 5\\nSkipping line 26421: expected 4 fields, saw 5\\nSkipping line 27169: expected 4 fields, saw 5\\nSkipping line 27789: expected 4 fields, saw 8\\nSkipping line 27993: expected 4 fields, saw 5\\nSkipping line 28209: expected 4 fields, saw 5\\nSkipping line 28825: expected 4 fields, saw 6\\nSkipping line 28908: expected 4 fields, saw 5\\nSkipping line 29103: expected 4 fields, saw 5\\nSkipping line 29645: expected 4 fields, saw 5\\nSkipping line 29740: expected 4 fields, saw 5\\nSkipping line 29910: expected 4 fields, saw 5\\nSkipping line 30100: expected 4 fields, saw 5\\nSkipping line 30101: expected 4 fields, saw 5\\nSkipping line 30368: expected 4 fields, saw 5\\nSkipping line 30370: expected 4 fields, saw 5\\nSkipping line 31348: expected 4 fields, saw 5\\nSkipping line 31349: expected 4 fields, saw 5\\nSkipping line 31558: expected 4 fields, saw 6\\nSkipping line 31801: expected 4 fields, saw 5\\nSkipping line 31805: expected 4 fields, saw 11\\nSkipping line 33452: expected 4 fields, saw 5\\nSkipping line 33926: expected 4 fields, saw 6\\nSkipping line 33988: expected 4 fields, saw 6\\nSkipping line 34019: expected 4 fields, saw 6\\nSkipping line 35582: expected 4 fields, saw 5\\nSkipping line 35826: expected 4 fields, saw 5\\nSkipping line 36445: expected 4 fields, saw 5\\nSkipping line 36556: expected 4 fields, saw 5\\nSkipping line 36664: expected 4 fields, saw 5\\nSkipping line 36712: expected 4 fields, saw 5\\nSkipping line 36922: expected 4 fields, saw 5\\nSkipping line 36957: expected 4 fields, saw 7\\nSkipping line 37043: expected 4 fields, saw 5\\nSkipping line 37609: expected 4 fields, saw 5\\nSkipping line 37793: expected 4 fields, saw 5\\nSkipping line 37917: expected 4 fields, saw 5\\nSkipping line 37932: expected 4 fields, saw 5\\nSkipping line 38263: expected 4 fields, saw 5\\nSkipping line 38291: expected 4 fields, saw 5\\nSkipping line 38377: expected 4 fields, saw 5\\nSkipping line 38391: expected 4 fields, saw 6\\nSkipping line 38664: expected 4 fields, saw 6\\nSkipping line 38673: expected 4 fields, saw 5\\nSkipping line 38739: expected 4 fields, saw 5\\nSkipping line 39837: expected 4 fields, saw 7\\nSkipping line 39864: expected 4 fields, saw 12\\nSkipping line 39865: expected 4 fields, saw 12\\nSkipping line 39882: expected 4 fields, saw 7\\nSkipping line 39884: expected 4 fields, saw 12\\nSkipping line 40077: expected 4 fields, saw 9\\nSkipping line 40229: expected 4 fields, saw 5\\nSkipping line 40397: expected 4 fields, saw 5\\nSkipping line 40740: expected 4 fields, saw 6\\nSkipping line 40810: expected 4 fields, saw 6\\nSkipping line 40831: expected 4 fields, saw 5\\nSkipping line 41037: expected 4 fields, saw 6\\nSkipping line 41706: expected 4 fields, saw 5\\nSkipping line 41708: expected 4 fields, saw 5\\nSkipping line 41710: expected 4 fields, saw 5\\nSkipping line 41718: expected 4 fields, saw 5\\nSkipping line 41731: expected 4 fields, saw 5\\nSkipping line 41738: expected 4 fields, saw 7\\nSkipping line 41740: expected 4 fields, saw 5\\nSkipping line 41742: expected 4 fields, saw 5\\nSkipping line 41749: expected 4 fields, saw 9\\nSkipping line 41771: expected 4 fields, saw 6\\nSkipping line 41779: expected 4 fields, saw 6\\nSkipping line 41785: expected 4 fields, saw 5\\nSkipping line 41813: expected 4 fields, saw 5\\nSkipping line 41875: expected 4 fields, saw 5\\nSkipping line 42330: expected 4 fields, saw 9\\nSkipping line 42625: expected 4 fields, saw 6\\nSkipping line 43235: expected 4 fields, saw 5\\nSkipping line 43874: expected 4 fields, saw 7\\nSkipping line 44029: expected 4 fields, saw 6\\nSkipping line 44967: expected 4 fields, saw 11\\nSkipping line 45166: expected 4 fields, saw 5\\nSkipping line 45795: expected 4 fields, saw 6\\nSkipping line 45864: expected 4 fields, saw 5\\nSkipping line 45933: expected 4 fields, saw 8\\nSkipping line 46143: expected 4 fields, saw 5\\nSkipping line 46744: expected 4 fields, saw 5\\nSkipping line 46751: expected 4 fields, saw 5\\nSkipping line 46837: expected 4 fields, saw 5\\nSkipping line 47166: expected 4 fields, saw 6\\nSkipping line 47294: expected 4 fields, saw 6\\nSkipping line 47463: expected 4 fields, saw 5\\nSkipping line 47531: expected 4 fields, saw 6\\nSkipping line 47672: expected 4 fields, saw 6\\nSkipping line 48747: expected 4 fields, saw 6\\nSkipping line 48827: expected 4 fields, saw 5\\nSkipping line 49558: expected 4 fields, saw 5\\nSkipping line 49725: expected 4 fields, saw 5\\nSkipping line 49898: expected 4 fields, saw 6\\nSkipping line 55370: expected 4 fields, saw 6\\nSkipping line 55632: expected 4 fields, saw 6\\nSkipping line 56167: expected 4 fields, saw 6\\nSkipping line 56188: expected 4 fields, saw 5\\nSkipping line 56189: expected 4 fields, saw 5\\n'\n"
     ]
    },
    {
     "name": "stderr",
     "output_type": "stream",
     "text": [
      "b'Skipping line 245: expected 4 fields, saw 5\\nSkipping line 268: expected 4 fields, saw 9\\nSkipping line 501: expected 4 fields, saw 5\\nSkipping line 871: expected 4 fields, saw 5\\nSkipping line 1001: expected 4 fields, saw 5\\nSkipping line 1346: expected 4 fields, saw 9\\nSkipping line 1532: expected 4 fields, saw 5\\nSkipping line 1614: expected 4 fields, saw 5\\nSkipping line 1615: expected 4 fields, saw 5\\nSkipping line 2098: expected 4 fields, saw 5\\nSkipping line 2277: expected 4 fields, saw 5\\nSkipping line 3153: expected 4 fields, saw 7\\nSkipping line 3155: expected 4 fields, saw 5\\nSkipping line 3433: expected 4 fields, saw 6\\nSkipping line 3683: expected 4 fields, saw 6\\nSkipping line 3723: expected 4 fields, saw 7\\nSkipping line 3826: expected 4 fields, saw 5\\nSkipping line 3836: expected 4 fields, saw 5\\nSkipping line 4037: expected 4 fields, saw 5\\nSkipping line 4928: expected 4 fields, saw 5\\nSkipping line 4929: expected 4 fields, saw 5\\nSkipping line 5043: expected 4 fields, saw 5\\nSkipping line 6013: expected 4 fields, saw 5\\nSkipping line 6383: expected 4 fields, saw 5\\nSkipping line 6510: expected 4 fields, saw 6\\nSkipping line 6516: expected 4 fields, saw 5\\nSkipping line 6530: expected 4 fields, saw 5\\nSkipping line 6837: expected 4 fields, saw 7\\nSkipping line 7026: expected 4 fields, saw 6\\nSkipping line 7087: expected 4 fields, saw 5\\nSkipping line 7159: expected 4 fields, saw 5\\nSkipping line 7190: expected 4 fields, saw 5\\nSkipping line 7292: expected 4 fields, saw 5\\nSkipping line 7295: expected 4 fields, saw 11\\nSkipping line 7297: expected 4 fields, saw 5\\nSkipping line 7340: expected 4 fields, saw 5\\nSkipping line 7370: expected 4 fields, saw 5\\nSkipping line 7637: expected 4 fields, saw 7\\nSkipping line 7732: expected 4 fields, saw 5\\nSkipping line 7775: expected 4 fields, saw 10\\nSkipping line 7803: expected 4 fields, saw 5\\nSkipping line 7814: expected 4 fields, saw 5\\nSkipping line 8090: expected 4 fields, saw 6\\nSkipping line 8101: expected 4 fields, saw 5\\nSkipping line 8602: expected 4 fields, saw 5\\nSkipping line 9104: expected 4 fields, saw 8\\nSkipping line 9834: expected 4 fields, saw 6\\nSkipping line 9867: expected 4 fields, saw 5\\nSkipping line 10349: expected 4 fields, saw 5\\nSkipping line 10740: expected 4 fields, saw 6\\nSkipping line 10958: expected 4 fields, saw 8\\nSkipping line 11615: expected 4 fields, saw 6\\nSkipping line 11677: expected 4 fields, saw 5\\nSkipping line 12833: expected 4 fields, saw 5\\nSkipping line 12889: expected 4 fields, saw 5\\nSkipping line 13332: expected 4 fields, saw 7\\nSkipping line 13570: expected 4 fields, saw 8\\nSkipping line 13915: expected 4 fields, saw 5\\nSkipping line 13945: expected 4 fields, saw 5\\nSkipping line 13961: expected 4 fields, saw 5\\nSkipping line 13982: expected 4 fields, saw 5\\nSkipping line 14002: expected 4 fields, saw 5\\nSkipping line 14015: expected 4 fields, saw 7\\nSkipping line 14031: expected 4 fields, saw 5\\nSkipping line 14056: expected 4 fields, saw 5\\nSkipping line 14068: expected 4 fields, saw 5\\nSkipping line 14308: expected 4 fields, saw 5\\nSkipping line 14326: expected 4 fields, saw 5\\nSkipping line 14336: expected 4 fields, saw 6\\nSkipping line 14349: expected 4 fields, saw 5\\nSkipping line 14519: expected 4 fields, saw 5\\nSkipping line 14537: expected 4 fields, saw 7\\nSkipping line 14950: expected 4 fields, saw 6\\nSkipping line 14951: expected 4 fields, saw 5\\nSkipping line 15033: expected 4 fields, saw 11\\nSkipping line 15064: expected 4 fields, saw 5\\nSkipping line 15072: expected 4 fields, saw 11\\nSkipping line 15247: expected 4 fields, saw 5\\nSkipping line 15270: expected 4 fields, saw 5\\nSkipping line 15316: expected 4 fields, saw 5\\nSkipping line 15333: expected 4 fields, saw 5\\nSkipping line 15363: expected 4 fields, saw 5\\nSkipping line 15379: expected 4 fields, saw 5\\nSkipping line 15388: expected 4 fields, saw 5\\nSkipping line 15401: expected 4 fields, saw 5\\nSkipping line 15420: expected 4 fields, saw 5\\nSkipping line 15543: expected 4 fields, saw 5\\nSkipping line 15588: expected 4 fields, saw 5\\nSkipping line 15712: expected 4 fields, saw 5\\nSkipping line 15764: expected 4 fields, saw 5\\nSkipping line 15790: expected 4 fields, saw 5\\nSkipping line 15832: expected 4 fields, saw 5\\nSkipping line 15841: expected 4 fields, saw 5\\nSkipping line 16107: expected 4 fields, saw 5\\n'\n"
     ]
    }
   ],
   "source": [
    "fintech1_df = pd.read_csv('csv/output.csv', error_bad_lines=False)\n",
    "fintech2_df = pd.read_csv('csv/output2.csv', error_bad_lines=False)\n",
    "fintech3_df = pd.read_csv('csv/output3.csv', error_bad_lines=False)"
   ]
  },
  {
   "cell_type": "code",
   "execution_count": 158,
   "metadata": {
    "ExecuteTime": {
     "end_time": "2019-10-31T09:54:06.924000Z",
     "start_time": "2019-10-31T09:54:06.912000Z"
    }
   },
   "outputs": [
    {
     "name": "stdout",
     "output_type": "stream",
     "text": [
      "(36636, 4)\n",
      "(56681, 4)\n",
      "(16239, 4)\n"
     ]
    }
   ],
   "source": [
    "print(fintech1_df.shape)\n",
    "print(fintech2_df.shape)\n",
    "print(fintech3_df.shape)"
   ]
  },
  {
   "cell_type": "markdown",
   "metadata": {},
   "source": [
    "Remove data with `owner_username` value equals to account username."
   ]
  },
  {
   "cell_type": "code",
   "execution_count": 159,
   "metadata": {
    "ExecuteTime": {
     "end_time": "2019-10-31T09:54:07.184000Z",
     "start_time": "2019-10-31T09:54:07.143000Z"
    }
   },
   "outputs": [],
   "source": [
    "fintech1_df = fintech1_df[fintech1_df['owner_username'] != fintech1_username]\n",
    "fintech2_df = fintech2_df[fintech2_df['owner_username'] != fintech2_username]\n",
    "fintech3_df = fintech3_df[fintech3_df['owner_username'] != fintech3_username]"
   ]
  },
  {
   "cell_type": "code",
   "execution_count": 160,
   "metadata": {
    "ExecuteTime": {
     "end_time": "2019-10-31T09:54:08.167000Z",
     "start_time": "2019-10-31T09:54:08.131000Z"
    }
   },
   "outputs": [
    {
     "name": "stdout",
     "output_type": "stream",
     "text": [
      "(33279, 4)\n",
      "(55308, 4)\n",
      "(15885, 4)\n"
     ]
    }
   ],
   "source": [
    "print(fintech1_df.shape)\n",
    "print(fintech2_df.shape)\n",
    "print(fintech3_df.shape)"
   ]
  },
  {
   "cell_type": "markdown",
   "metadata": {},
   "source": [
    "Reduce the number of sample to 200, performance issue during translation. "
   ]
  },
  {
   "cell_type": "code",
   "execution_count": 161,
   "metadata": {
    "ExecuteTime": {
     "end_time": "2019-10-31T09:54:29.284000Z",
     "start_time": "2019-10-31T09:54:29.238000Z"
    }
   },
   "outputs": [],
   "source": [
    "n_sample = 200\n",
    "fintech1_df = fintech1_df.sample(n_sample, random_state=42)\n",
    "fintech2_df = fintech2_df.sample(n_sample, random_state=42)\n",
    "fintech3_df = fintech3_df.sample(n_sample, random_state=42)"
   ]
  },
  {
   "cell_type": "markdown",
   "metadata": {},
   "source": [
    "## Text Preprocessing"
   ]
  },
  {
   "cell_type": "markdown",
   "metadata": {},
   "source": [
    "Get the comment values from each of the account."
   ]
  },
  {
   "cell_type": "code",
   "execution_count": 162,
   "metadata": {
    "ExecuteTime": {
     "end_time": "2019-10-31T09:54:30.212000Z",
     "start_time": "2019-10-31T09:54:30.195000Z"
    }
   },
   "outputs": [],
   "source": [
    "texts_fintech1 = fintech1_df['owner_comment']\n",
    "texts_fintech2 = fintech2_df['owner_comment']\n",
    "texts_fintech3 = fintech3_df['owner_comment']"
   ]
  },
  {
   "cell_type": "code",
   "execution_count": 163,
   "metadata": {
    "ExecuteTime": {
     "end_time": "2019-10-31T09:54:30.631000Z",
     "start_time": "2019-10-31T09:54:30.476000Z"
    }
   },
   "outputs": [],
   "source": [
    "texts_fintech1 = preprocess_text(texts_fintech1)\n",
    "texts_fintech2 = preprocess_text(texts_fintech2)\n",
    "texts_fintech3 = preprocess_text(texts_fintech3)"
   ]
  },
  {
   "cell_type": "markdown",
   "metadata": {},
   "source": [
    "Translate using Google API via TextBlob."
   ]
  },
  {
   "cell_type": "code",
   "execution_count": 258,
   "metadata": {
    "ExecuteTime": {
     "end_time": "2019-10-31T11:26:47.889000Z",
     "start_time": "2019-10-31T11:21:56.967000Z"
    }
   },
   "outputs": [
    {
     "data": {
      "application/vnd.jupyter.widget-view+json": {
       "model_id": "e73179082ceb4b03a6aa75c6e85b01f8",
       "version_major": 2,
       "version_minor": 0
      },
      "text/plain": [
       "HBox(children=(IntProgress(value=0, max=200), HTML(value='')))"
      ]
     },
     "metadata": {},
     "output_type": "display_data"
    },
    {
     "data": {
      "application/vnd.jupyter.widget-view+json": {
       "model_id": "ac35c8d4b621407ea4fe746b2466959a",
       "version_major": 2,
       "version_minor": 0
      },
      "text/plain": [
       "HBox(children=(IntProgress(value=0, max=200), HTML(value='')))"
      ]
     },
     "metadata": {},
     "output_type": "display_data"
    },
    {
     "data": {
      "application/vnd.jupyter.widget-view+json": {
       "model_id": "0869887cb81f418a8038c3d89a216f61",
       "version_major": 2,
       "version_minor": 0
      },
      "text/plain": [
       "HBox(children=(IntProgress(value=0, max=200), HTML(value='')))"
      ]
     },
     "metadata": {},
     "output_type": "display_data"
    }
   ],
   "source": [
    "texts_fintech1 = translate_text(texts_fintech1)\n",
    "texts_fintech2 = translate_text(texts_fintech2)\n",
    "texts_fintech3 = translate_text(texts_fintech3)"
   ]
  },
  {
   "cell_type": "markdown",
   "metadata": {},
   "source": [
    "## Create Label"
   ]
  },
  {
   "cell_type": "markdown",
   "metadata": {},
   "source": [
    "Create the dataframe."
   ]
  },
  {
   "cell_type": "code",
   "execution_count": 260,
   "metadata": {
    "ExecuteTime": {
     "end_time": "2019-10-31T11:27:05.419000Z",
     "start_time": "2019-10-31T11:27:04.013000Z"
    }
   },
   "outputs": [
    {
     "data": {
      "application/vnd.jupyter.widget-view+json": {
       "model_id": "fd889a02e46c4371b77ba7aa87d32965",
       "version_major": 2,
       "version_minor": 0
      },
      "text/plain": [
       "HBox(children=(IntProgress(value=1, bar_style='info', max=1), HTML(value='')))"
      ]
     },
     "metadata": {},
     "output_type": "display_data"
    },
    {
     "data": {
      "application/vnd.jupyter.widget-view+json": {
       "model_id": "25cddb1bdfd442518b71b4da82534bda",
       "version_major": 2,
       "version_minor": 0
      },
      "text/plain": [
       "HBox(children=(IntProgress(value=1, bar_style='info', max=1), HTML(value='')))"
      ]
     },
     "metadata": {},
     "output_type": "display_data"
    },
    {
     "data": {
      "application/vnd.jupyter.widget-view+json": {
       "model_id": "e0688fff235c43139c9a8a7daccf8d0b",
       "version_major": 2,
       "version_minor": 0
      },
      "text/plain": [
       "HBox(children=(IntProgress(value=1, bar_style='info', max=1), HTML(value='')))"
      ]
     },
     "metadata": {},
     "output_type": "display_data"
    }
   ],
   "source": [
    "df_fintech1 = create_df(texts_fintech1)\n",
    "df_fintech2 = create_df(texts_fintech2)\n",
    "df_fintech3 = create_df(texts_fintech3)"
   ]
  },
  {
   "cell_type": "markdown",
   "metadata": {},
   "source": [
    "# Visualization\n",
    "\n",
    "Summarize the sentiment polarity distribution and Net Promoter Score based on the sentiment."
   ]
  },
  {
   "cell_type": "code",
   "execution_count": 326,
   "metadata": {
    "ExecuteTime": {
     "end_time": "2019-10-31T11:46:01.552000Z",
     "start_time": "2019-10-31T11:46:01.517000Z"
    }
   },
   "outputs": [],
   "source": [
    "df_viz = pd.DataFrame([df_fintech1['sentimentclass'].value_counts(),\n",
    "              df_fintech2['sentimentclass'].value_counts(),\n",
    "              df_fintech3['sentimentclass'].value_counts()])\n",
    "df_viz.index = pd.Index(['Fintech1', 'Fintech2', 'Fintech3'])"
   ]
  },
  {
   "cell_type": "code",
   "execution_count": 327,
   "metadata": {
    "ExecuteTime": {
     "end_time": "2019-10-31T11:46:03.207000Z",
     "start_time": "2019-10-31T11:46:03.182000Z"
    }
   },
   "outputs": [],
   "source": [
    "df_viz['pos_neg_ratio'] = df_viz['Positive'] / df_viz['Negative']\n",
    "df_viz['NPS'] = ((df_viz['Positive'] / df_viz.sum(axis=1)) - (df_viz['Negative'] / df_viz.sum(axis=1))) * 100"
   ]
  },
  {
   "cell_type": "code",
   "execution_count": 328,
   "metadata": {
    "ExecuteTime": {
     "end_time": "2019-10-31T11:46:03.766000Z",
     "start_time": "2019-10-31T11:46:03.349000Z"
    }
   },
   "outputs": [
    {
     "data": {
      "image/png": "[encoded data removed]",
      "text/plain": [
       "<Figure size 1080x432 with 2 Axes>"
      ]
     },
     "metadata": {
      "needs_background": "light"
     },
     "output_type": "display_data"
    }
   ],
   "source": [
    "fig, ax = plt.subplots(1, 2, figsize=(15, 6))\n",
    "df_viz[['Netral', 'Positive', 'Negative']].plot.bar(ax=ax[0])\n",
    "df_viz[['NPS']].plot.bar(ax=ax[1])\n",
    "ax[1].set_ylim([-100, 100])\n",
    "ax[1].axhline(color='k', linewidth=0.6)\n",
    "    \n",
    "for i, x in zip(ax[1].patches, df_viz['NPS']):\n",
    "    ax[1].text(i.get_x()+i.get_width()/4, i.get_height()+3, round(x, 2), fontsize=12, color='k')"
   ]
  },
  {
   "cell_type": "markdown",
   "metadata": {},
   "source": [
    "We can see, by using sentiment polarity in TextBlob, it basically count the positivity and negativity for each word in the text, regarding to the dictionary in TextBlob. So if the word wasn't found in the dictionary, the word will give zero scores in calculating the polarity.\n",
    "\n",
    "Note that the translation isn't perfect, so that it may affect the result of this sentiment analysis using TextBlob.\n",
    "\n",
    "Here, although Fintech1 receive a lot more negative comment in percentage, the NPS score is still higher than the other account."
   ]
  }
 ],
 "metadata": {
  "hide_input": false,
  "kernelspec": {
   "display_name": "Python 3",
   "language": "python",
   "name": "python3"
  },
  "language_info": {
   "codemirror_mode": {
    "name": "ipython",
    "version": 3
   },
   "file_extension": ".py",
   "mimetype": "text/x-python",
   "name": "python",
   "nbconvert_exporter": "python",
   "pygments_lexer": "ipython3",
   "version": "3.7.3"
  },
  "toc": {
   "base_numbering": 1,
   "nav_menu": {},
   "number_sections": true,
   "sideBar": true,
   "skip_h1_title": false,
   "title_cell": "Table of Contents",
   "title_sidebar": "Contents",
   "toc_cell": false,
   "toc_position": {
    "height": "calc(100% - 180px)",
    "left": "10px",
    "top": "150px",
    "width": "341.484px"
   },
   "toc_section_display": true,
   "toc_window_display": true
  }
 },
 "nbformat": 4,
 "nbformat_minor": 2
}
