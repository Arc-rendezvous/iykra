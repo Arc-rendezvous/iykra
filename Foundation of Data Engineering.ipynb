{
 "cells": [
  {
   "cell_type": "markdown",
   "metadata": {},
   "source": [
    "<span style=\"font-size:36px\"><b>Foundation of Data Engineering</b></span>\n",
    "\n",
    "Copyright 2019 Gunawan Lumban Gaol\n",
    "\n",
    "Licensed under the Apache License, Version 2.0 (the \"License\"); you may not use this file except in compliance with the License. You may obtain a copy of the License at http://www.apache.org/licenses/LICENSE-2.0\n",
    "\n",
    "Unless required by applicable law or agreed to in writing, software distributed under the License is distributed on an \"AS IS\" BASIS, WITHOUT WARRANTIES OR CONDITIONS OF ANY KIND, either express or implied. See the License for the specific language overning permissions and limitations under the License."
   ]
  },
  {
   "cell_type": "markdown",
   "metadata": {},
   "source": [
    "# Import Packages"
   ]
  },
  {
   "cell_type": "code",
   "execution_count": 126,
   "metadata": {
    "ExecuteTime": {
     "end_time": "2019-10-30T06:29:29.187000Z",
     "start_time": "2019-10-30T06:29:29.178000Z"
    }
   },
   "outputs": [],
   "source": [
    "import configparser\n",
    "import numpy as np\n",
    "import pandas as pd\n",
    "from datetime import datetime\n",
    "import requests\n",
    "from bs4 import BeautifulSoup as bs"
   ]
  },
  {
   "cell_type": "markdown",
   "metadata": {},
   "source": [
    "# Web Scraping"
   ]
  },
  {
   "cell_type": "markdown",
   "metadata": {},
   "source": [
    "## Synchronous Web Scraping\n",
    "\n",
    "Simple synchronous web scraping using `requests` and `beautifulsoup`."
   ]
  },
  {
   "cell_type": "code",
   "execution_count": 108,
   "metadata": {
    "ExecuteTime": {
     "end_time": "2019-10-30T05:08:43.038000Z",
     "start_time": "2019-10-30T05:08:36.184000Z"
    },
    "scrolled": false
   },
   "outputs": [
    {
     "name": "stdout",
     "output_type": "stream",
     "text": [
      "Title:  √ Spesifikasi dan Harga Xiaomi Pocophone F2 | Home Credit\n",
      "Content:  \n",
      "  Selain yang top of mind, seperti Samsung dan iP ...\n"
     ]
    }
   ],
   "source": [
    "url = \"https://www.homecredit.co.id/Spesifikasi-dan-Harga-Xiaomi-Pocophone-F2\"\n",
    "\n",
    "try:\n",
    "    res = requests.get(url, timeout=10)\n",
    "    soup = bs(res.content, \"html.parser\")\n",
    "    \n",
    "    title = soup.find('title')\n",
    "    title = title.text.strip()\n",
    "    \n",
    "    content = [e.text for e in soup.find_all('div', {'itemprop': 'articleBody'})]\n",
    "    \n",
    "    print(\"Title: \", title)\n",
    "    print(\"Content: \", content[0][:50], '...')\n",
    "except requests.exceptions.RequestException as e:\n",
    "    print(e)"
   ]
  },
  {
   "cell_type": "markdown",
   "metadata": {},
   "source": [
    "Below load more pages using `Selenium` package with chrome browser."
   ]
  },
  {
   "cell_type": "code",
   "execution_count": 83,
   "metadata": {
    "ExecuteTime": {
     "end_time": "2019-10-30T04:41:21.651000Z",
     "start_time": "2019-10-30T04:27:07.607000Z"
    }
   },
   "outputs": [
    {
     "name": "stdout",
     "output_type": "stream",
     "text": [
      "<selenium.webdriver.remote.webelement.WebElement (session=\"bfcbabb71dd7b1ec6954949325c79791\", element=\"cb9bce1a-b299-4d21-a0e2-6f5d439c454e\")>\n",
      "<selenium.webdriver.remote.webelement.WebElement (session=\"bfcbabb71dd7b1ec6954949325c79791\", element=\"cb9bce1a-b299-4d21-a0e2-6f5d439c454e\")>\n",
      "<selenium.webdriver.remote.webelement.WebElement (session=\"bfcbabb71dd7b1ec6954949325c79791\", element=\"cb9bce1a-b299-4d21-a0e2-6f5d439c454e\")>\n",
      "<selenium.webdriver.remote.webelement.WebElement (session=\"bfcbabb71dd7b1ec6954949325c79791\", element=\"cb9bce1a-b299-4d21-a0e2-6f5d439c454e\")>\n",
      "<selenium.webdriver.remote.webelement.WebElement (session=\"bfcbabb71dd7b1ec6954949325c79791\", element=\"cb9bce1a-b299-4d21-a0e2-6f5d439c454e\")>\n",
      "<selenium.webdriver.remote.webelement.WebElement (session=\"bfcbabb71dd7b1ec6954949325c79791\", element=\"cb9bce1a-b299-4d21-a0e2-6f5d439c454e\")>\n",
      "<selenium.webdriver.remote.webelement.WebElement (session=\"bfcbabb71dd7b1ec6954949325c79791\", element=\"cb9bce1a-b299-4d21-a0e2-6f5d439c454e\")>\n",
      "<selenium.webdriver.remote.webelement.WebElement (session=\"bfcbabb71dd7b1ec6954949325c79791\", element=\"cb9bce1a-b299-4d21-a0e2-6f5d439c454e\")>\n",
      "<selenium.webdriver.remote.webelement.WebElement (session=\"bfcbabb71dd7b1ec6954949325c79791\", element=\"cb9bce1a-b299-4d21-a0e2-6f5d439c454e\")>\n",
      "<selenium.webdriver.remote.webelement.WebElement (session=\"bfcbabb71dd7b1ec6954949325c79791\", element=\"cb9bce1a-b299-4d21-a0e2-6f5d439c454e\")>\n",
      "<selenium.webdriver.remote.webelement.WebElement (session=\"bfcbabb71dd7b1ec6954949325c79791\", element=\"cb9bce1a-b299-4d21-a0e2-6f5d439c454e\")>\n",
      "<selenium.webdriver.remote.webelement.WebElement (session=\"bfcbabb71dd7b1ec6954949325c79791\", element=\"cb9bce1a-b299-4d21-a0e2-6f5d439c454e\")>\n",
      "<selenium.webdriver.remote.webelement.WebElement (session=\"bfcbabb71dd7b1ec6954949325c79791\", element=\"cb9bce1a-b299-4d21-a0e2-6f5d439c454e\")>\n",
      "<selenium.webdriver.remote.webelement.WebElement (session=\"bfcbabb71dd7b1ec6954949325c79791\", element=\"cb9bce1a-b299-4d21-a0e2-6f5d439c454e\")>\n",
      "<selenium.webdriver.remote.webelement.WebElement (session=\"bfcbabb71dd7b1ec6954949325c79791\", element=\"cb9bce1a-b299-4d21-a0e2-6f5d439c454e\")>\n",
      "<selenium.webdriver.remote.webelement.WebElement (session=\"bfcbabb71dd7b1ec6954949325c79791\", element=\"cb9bce1a-b299-4d21-a0e2-6f5d439c454e\")>\n",
      "<selenium.webdriver.remote.webelement.WebElement (session=\"bfcbabb71dd7b1ec6954949325c79791\", element=\"cb9bce1a-b299-4d21-a0e2-6f5d439c454e\")>\n",
      "<selenium.webdriver.remote.webelement.WebElement (session=\"bfcbabb71dd7b1ec6954949325c79791\", element=\"cb9bce1a-b299-4d21-a0e2-6f5d439c454e\")>\n",
      "<selenium.webdriver.remote.webelement.WebElement (session=\"bfcbabb71dd7b1ec6954949325c79791\", element=\"cb9bce1a-b299-4d21-a0e2-6f5d439c454e\")>\n",
      "<selenium.webdriver.remote.webelement.WebElement (session=\"bfcbabb71dd7b1ec6954949325c79791\", element=\"cb9bce1a-b299-4d21-a0e2-6f5d439c454e\")>\n",
      "<selenium.webdriver.remote.webelement.WebElement (session=\"bfcbabb71dd7b1ec6954949325c79791\", element=\"cb9bce1a-b299-4d21-a0e2-6f5d439c454e\")>\n",
      "<selenium.webdriver.remote.webelement.WebElement (session=\"bfcbabb71dd7b1ec6954949325c79791\", element=\"cb9bce1a-b299-4d21-a0e2-6f5d439c454e\")>\n",
      "<selenium.webdriver.remote.webelement.WebElement (session=\"bfcbabb71dd7b1ec6954949325c79791\", element=\"cb9bce1a-b299-4d21-a0e2-6f5d439c454e\")>\n",
      "<selenium.webdriver.remote.webelement.WebElement (session=\"bfcbabb71dd7b1ec6954949325c79791\", element=\"cb9bce1a-b299-4d21-a0e2-6f5d439c454e\")>\n",
      "<selenium.webdriver.remote.webelement.WebElement (session=\"bfcbabb71dd7b1ec6954949325c79791\", element=\"cb9bce1a-b299-4d21-a0e2-6f5d439c454e\")>\n",
      "<selenium.webdriver.remote.webelement.WebElement (session=\"bfcbabb71dd7b1ec6954949325c79791\", element=\"cb9bce1a-b299-4d21-a0e2-6f5d439c454e\")>\n",
      "<selenium.webdriver.remote.webelement.WebElement (session=\"bfcbabb71dd7b1ec6954949325c79791\", element=\"cb9bce1a-b299-4d21-a0e2-6f5d439c454e\")>\n",
      "<selenium.webdriver.remote.webelement.WebElement (session=\"bfcbabb71dd7b1ec6954949325c79791\", element=\"cb9bce1a-b299-4d21-a0e2-6f5d439c454e\")>\n",
      "<selenium.webdriver.remote.webelement.WebElement (session=\"bfcbabb71dd7b1ec6954949325c79791\", element=\"cb9bce1a-b299-4d21-a0e2-6f5d439c454e\")>\n",
      "<selenium.webdriver.remote.webelement.WebElement (session=\"bfcbabb71dd7b1ec6954949325c79791\", element=\"cb9bce1a-b299-4d21-a0e2-6f5d439c454e\")>\n",
      "<selenium.webdriver.remote.webelement.WebElement (session=\"bfcbabb71dd7b1ec6954949325c79791\", element=\"cb9bce1a-b299-4d21-a0e2-6f5d439c454e\")>\n",
      "<selenium.webdriver.remote.webelement.WebElement (session=\"bfcbabb71dd7b1ec6954949325c79791\", element=\"cb9bce1a-b299-4d21-a0e2-6f5d439c454e\")>\n",
      "<selenium.webdriver.remote.webelement.WebElement (session=\"bfcbabb71dd7b1ec6954949325c79791\", element=\"cb9bce1a-b299-4d21-a0e2-6f5d439c454e\")>\n",
      "<selenium.webdriver.remote.webelement.WebElement (session=\"bfcbabb71dd7b1ec6954949325c79791\", element=\"cb9bce1a-b299-4d21-a0e2-6f5d439c454e\")>\n",
      "<selenium.webdriver.remote.webelement.WebElement (session=\"bfcbabb71dd7b1ec6954949325c79791\", element=\"cb9bce1a-b299-4d21-a0e2-6f5d439c454e\")>\n",
      "<selenium.webdriver.remote.webelement.WebElement (session=\"bfcbabb71dd7b1ec6954949325c79791\", element=\"cb9bce1a-b299-4d21-a0e2-6f5d439c454e\")>\n",
      "<selenium.webdriver.remote.webelement.WebElement (session=\"bfcbabb71dd7b1ec6954949325c79791\", element=\"cb9bce1a-b299-4d21-a0e2-6f5d439c454e\")>\n",
      "<selenium.webdriver.remote.webelement.WebElement (session=\"bfcbabb71dd7b1ec6954949325c79791\", element=\"cb9bce1a-b299-4d21-a0e2-6f5d439c454e\")>\n",
      "<selenium.webdriver.remote.webelement.WebElement (session=\"bfcbabb71dd7b1ec6954949325c79791\", element=\"cb9bce1a-b299-4d21-a0e2-6f5d439c454e\")>\n",
      "<selenium.webdriver.remote.webelement.WebElement (session=\"bfcbabb71dd7b1ec6954949325c79791\", element=\"cb9bce1a-b299-4d21-a0e2-6f5d439c454e\")>\n",
      "<selenium.webdriver.remote.webelement.WebElement (session=\"bfcbabb71dd7b1ec6954949325c79791\", element=\"cb9bce1a-b299-4d21-a0e2-6f5d439c454e\")>\n",
      "<selenium.webdriver.remote.webelement.WebElement (session=\"bfcbabb71dd7b1ec6954949325c79791\", element=\"cb9bce1a-b299-4d21-a0e2-6f5d439c454e\")>\n",
      "<selenium.webdriver.remote.webelement.WebElement (session=\"bfcbabb71dd7b1ec6954949325c79791\", element=\"cb9bce1a-b299-4d21-a0e2-6f5d439c454e\")>\n",
      "<selenium.webdriver.remote.webelement.WebElement (session=\"bfcbabb71dd7b1ec6954949325c79791\", element=\"cb9bce1a-b299-4d21-a0e2-6f5d439c454e\")>\n",
      "<selenium.webdriver.remote.webelement.WebElement (session=\"bfcbabb71dd7b1ec6954949325c79791\", element=\"cb9bce1a-b299-4d21-a0e2-6f5d439c454e\")>\n",
      "<selenium.webdriver.remote.webelement.WebElement (session=\"bfcbabb71dd7b1ec6954949325c79791\", element=\"cb9bce1a-b299-4d21-a0e2-6f5d439c454e\")>\n",
      "<selenium.webdriver.remote.webelement.WebElement (session=\"bfcbabb71dd7b1ec6954949325c79791\", element=\"cb9bce1a-b299-4d21-a0e2-6f5d439c454e\")>\n",
      "<selenium.webdriver.remote.webelement.WebElement (session=\"bfcbabb71dd7b1ec6954949325c79791\", element=\"cb9bce1a-b299-4d21-a0e2-6f5d439c454e\")>\n",
      "<selenium.webdriver.remote.webelement.WebElement (session=\"bfcbabb71dd7b1ec6954949325c79791\", element=\"cb9bce1a-b299-4d21-a0e2-6f5d439c454e\")>\n",
      "<selenium.webdriver.remote.webelement.WebElement (session=\"bfcbabb71dd7b1ec6954949325c79791\", element=\"cb9bce1a-b299-4d21-a0e2-6f5d439c454e\")>\n",
      "<selenium.webdriver.remote.webelement.WebElement (session=\"bfcbabb71dd7b1ec6954949325c79791\", element=\"cb9bce1a-b299-4d21-a0e2-6f5d439c454e\")>\n",
      "<selenium.webdriver.remote.webelement.WebElement (session=\"bfcbabb71dd7b1ec6954949325c79791\", element=\"cb9bce1a-b299-4d21-a0e2-6f5d439c454e\")>\n",
      "<selenium.webdriver.remote.webelement.WebElement (session=\"bfcbabb71dd7b1ec6954949325c79791\", element=\"cb9bce1a-b299-4d21-a0e2-6f5d439c454e\")>\n",
      "<selenium.webdriver.remote.webelement.WebElement (session=\"bfcbabb71dd7b1ec6954949325c79791\", element=\"cb9bce1a-b299-4d21-a0e2-6f5d439c454e\")>\n",
      "<selenium.webdriver.remote.webelement.WebElement (session=\"bfcbabb71dd7b1ec6954949325c79791\", element=\"cb9bce1a-b299-4d21-a0e2-6f5d439c454e\")>\n",
      "<selenium.webdriver.remote.webelement.WebElement (session=\"bfcbabb71dd7b1ec6954949325c79791\", element=\"cb9bce1a-b299-4d21-a0e2-6f5d439c454e\")>\n",
      "<selenium.webdriver.remote.webelement.WebElement (session=\"bfcbabb71dd7b1ec6954949325c79791\", element=\"cb9bce1a-b299-4d21-a0e2-6f5d439c454e\")>\n",
      "<selenium.webdriver.remote.webelement.WebElement (session=\"bfcbabb71dd7b1ec6954949325c79791\", element=\"cb9bce1a-b299-4d21-a0e2-6f5d439c454e\")>\n"
     ]
    },
    {
     "name": "stdout",
     "output_type": "stream",
     "text": [
      "<selenium.webdriver.remote.webelement.WebElement (session=\"bfcbabb71dd7b1ec6954949325c79791\", element=\"cb9bce1a-b299-4d21-a0e2-6f5d439c454e\")>\n",
      "<selenium.webdriver.remote.webelement.WebElement (session=\"bfcbabb71dd7b1ec6954949325c79791\", element=\"cb9bce1a-b299-4d21-a0e2-6f5d439c454e\")>\n",
      "<selenium.webdriver.remote.webelement.WebElement (session=\"bfcbabb71dd7b1ec6954949325c79791\", element=\"cb9bce1a-b299-4d21-a0e2-6f5d439c454e\")>\n",
      "<selenium.webdriver.remote.webelement.WebElement (session=\"bfcbabb71dd7b1ec6954949325c79791\", element=\"cb9bce1a-b299-4d21-a0e2-6f5d439c454e\")>\n",
      "<selenium.webdriver.remote.webelement.WebElement (session=\"bfcbabb71dd7b1ec6954949325c79791\", element=\"cb9bce1a-b299-4d21-a0e2-6f5d439c454e\")>\n",
      "<selenium.webdriver.remote.webelement.WebElement (session=\"bfcbabb71dd7b1ec6954949325c79791\", element=\"cb9bce1a-b299-4d21-a0e2-6f5d439c454e\")>\n",
      "<selenium.webdriver.remote.webelement.WebElement (session=\"bfcbabb71dd7b1ec6954949325c79791\", element=\"cb9bce1a-b299-4d21-a0e2-6f5d439c454e\")>\n",
      "<selenium.webdriver.remote.webelement.WebElement (session=\"bfcbabb71dd7b1ec6954949325c79791\", element=\"cb9bce1a-b299-4d21-a0e2-6f5d439c454e\")>\n",
      "<selenium.webdriver.remote.webelement.WebElement (session=\"bfcbabb71dd7b1ec6954949325c79791\", element=\"cb9bce1a-b299-4d21-a0e2-6f5d439c454e\")>\n",
      "<selenium.webdriver.remote.webelement.WebElement (session=\"bfcbabb71dd7b1ec6954949325c79791\", element=\"cb9bce1a-b299-4d21-a0e2-6f5d439c454e\")>\n",
      "<selenium.webdriver.remote.webelement.WebElement (session=\"bfcbabb71dd7b1ec6954949325c79791\", element=\"cb9bce1a-b299-4d21-a0e2-6f5d439c454e\")>\n",
      "<selenium.webdriver.remote.webelement.WebElement (session=\"bfcbabb71dd7b1ec6954949325c79791\", element=\"cb9bce1a-b299-4d21-a0e2-6f5d439c454e\")>\n",
      "<selenium.webdriver.remote.webelement.WebElement (session=\"bfcbabb71dd7b1ec6954949325c79791\", element=\"cb9bce1a-b299-4d21-a0e2-6f5d439c454e\")>\n",
      "<selenium.webdriver.remote.webelement.WebElement (session=\"bfcbabb71dd7b1ec6954949325c79791\", element=\"cb9bce1a-b299-4d21-a0e2-6f5d439c454e\")>\n",
      "<selenium.webdriver.remote.webelement.WebElement (session=\"bfcbabb71dd7b1ec6954949325c79791\", element=\"cb9bce1a-b299-4d21-a0e2-6f5d439c454e\")>\n",
      "<selenium.webdriver.remote.webelement.WebElement (session=\"bfcbabb71dd7b1ec6954949325c79791\", element=\"cb9bce1a-b299-4d21-a0e2-6f5d439c454e\")>\n",
      "<selenium.webdriver.remote.webelement.WebElement (session=\"bfcbabb71dd7b1ec6954949325c79791\", element=\"cb9bce1a-b299-4d21-a0e2-6f5d439c454e\")>\n",
      "<selenium.webdriver.remote.webelement.WebElement (session=\"bfcbabb71dd7b1ec6954949325c79791\", element=\"cb9bce1a-b299-4d21-a0e2-6f5d439c454e\")>\n",
      "<selenium.webdriver.remote.webelement.WebElement (session=\"bfcbabb71dd7b1ec6954949325c79791\", element=\"cb9bce1a-b299-4d21-a0e2-6f5d439c454e\")>\n",
      "<selenium.webdriver.remote.webelement.WebElement (session=\"bfcbabb71dd7b1ec6954949325c79791\", element=\"cb9bce1a-b299-4d21-a0e2-6f5d439c454e\")>\n",
      "<selenium.webdriver.remote.webelement.WebElement (session=\"bfcbabb71dd7b1ec6954949325c79791\", element=\"cb9bce1a-b299-4d21-a0e2-6f5d439c454e\")>\n",
      "<selenium.webdriver.remote.webelement.WebElement (session=\"bfcbabb71dd7b1ec6954949325c79791\", element=\"cb9bce1a-b299-4d21-a0e2-6f5d439c454e\")>\n",
      "<selenium.webdriver.remote.webelement.WebElement (session=\"bfcbabb71dd7b1ec6954949325c79791\", element=\"cb9bce1a-b299-4d21-a0e2-6f5d439c454e\")>\n",
      "<selenium.webdriver.remote.webelement.WebElement (session=\"bfcbabb71dd7b1ec6954949325c79791\", element=\"cb9bce1a-b299-4d21-a0e2-6f5d439c454e\")>\n",
      "<selenium.webdriver.remote.webelement.WebElement (session=\"bfcbabb71dd7b1ec6954949325c79791\", element=\"cb9bce1a-b299-4d21-a0e2-6f5d439c454e\")>\n",
      "<selenium.webdriver.remote.webelement.WebElement (session=\"bfcbabb71dd7b1ec6954949325c79791\", element=\"cb9bce1a-b299-4d21-a0e2-6f5d439c454e\")>\n",
      "<selenium.webdriver.remote.webelement.WebElement (session=\"bfcbabb71dd7b1ec6954949325c79791\", element=\"cb9bce1a-b299-4d21-a0e2-6f5d439c454e\")>\n",
      "<selenium.webdriver.remote.webelement.WebElement (session=\"bfcbabb71dd7b1ec6954949325c79791\", element=\"cb9bce1a-b299-4d21-a0e2-6f5d439c454e\")>\n",
      "<selenium.webdriver.remote.webelement.WebElement (session=\"bfcbabb71dd7b1ec6954949325c79791\", element=\"cb9bce1a-b299-4d21-a0e2-6f5d439c454e\")>\n",
      "<selenium.webdriver.remote.webelement.WebElement (session=\"bfcbabb71dd7b1ec6954949325c79791\", element=\"cb9bce1a-b299-4d21-a0e2-6f5d439c454e\")>\n",
      "<selenium.webdriver.remote.webelement.WebElement (session=\"bfcbabb71dd7b1ec6954949325c79791\", element=\"cb9bce1a-b299-4d21-a0e2-6f5d439c454e\")>\n",
      "<selenium.webdriver.remote.webelement.WebElement (session=\"bfcbabb71dd7b1ec6954949325c79791\", element=\"cb9bce1a-b299-4d21-a0e2-6f5d439c454e\")>\n",
      "<selenium.webdriver.remote.webelement.WebElement (session=\"bfcbabb71dd7b1ec6954949325c79791\", element=\"cb9bce1a-b299-4d21-a0e2-6f5d439c454e\")>\n",
      "<selenium.webdriver.remote.webelement.WebElement (session=\"bfcbabb71dd7b1ec6954949325c79791\", element=\"cb9bce1a-b299-4d21-a0e2-6f5d439c454e\")>\n",
      "<selenium.webdriver.remote.webelement.WebElement (session=\"bfcbabb71dd7b1ec6954949325c79791\", element=\"cb9bce1a-b299-4d21-a0e2-6f5d439c454e\")>\n",
      "<selenium.webdriver.remote.webelement.WebElement (session=\"bfcbabb71dd7b1ec6954949325c79791\", element=\"cb9bce1a-b299-4d21-a0e2-6f5d439c454e\")>\n",
      "<selenium.webdriver.remote.webelement.WebElement (session=\"bfcbabb71dd7b1ec6954949325c79791\", element=\"cb9bce1a-b299-4d21-a0e2-6f5d439c454e\")>\n",
      "<selenium.webdriver.remote.webelement.WebElement (session=\"bfcbabb71dd7b1ec6954949325c79791\", element=\"cb9bce1a-b299-4d21-a0e2-6f5d439c454e\")>\n",
      "<selenium.webdriver.remote.webelement.WebElement (session=\"bfcbabb71dd7b1ec6954949325c79791\", element=\"cb9bce1a-b299-4d21-a0e2-6f5d439c454e\")>\n",
      "<selenium.webdriver.remote.webelement.WebElement (session=\"bfcbabb71dd7b1ec6954949325c79791\", element=\"cb9bce1a-b299-4d21-a0e2-6f5d439c454e\")>\n",
      "<selenium.webdriver.remote.webelement.WebElement (session=\"bfcbabb71dd7b1ec6954949325c79791\", element=\"cb9bce1a-b299-4d21-a0e2-6f5d439c454e\")>\n",
      "<selenium.webdriver.remote.webelement.WebElement (session=\"bfcbabb71dd7b1ec6954949325c79791\", element=\"cb9bce1a-b299-4d21-a0e2-6f5d439c454e\")>\n",
      "<selenium.webdriver.remote.webelement.WebElement (session=\"bfcbabb71dd7b1ec6954949325c79791\", element=\"cb9bce1a-b299-4d21-a0e2-6f5d439c454e\")>\n",
      "<selenium.webdriver.remote.webelement.WebElement (session=\"bfcbabb71dd7b1ec6954949325c79791\", element=\"cb9bce1a-b299-4d21-a0e2-6f5d439c454e\")>\n",
      "<selenium.webdriver.remote.webelement.WebElement (session=\"bfcbabb71dd7b1ec6954949325c79791\", element=\"cb9bce1a-b299-4d21-a0e2-6f5d439c454e\")>\n",
      "<selenium.webdriver.remote.webelement.WebElement (session=\"bfcbabb71dd7b1ec6954949325c79791\", element=\"cb9bce1a-b299-4d21-a0e2-6f5d439c454e\")>\n",
      "<selenium.webdriver.remote.webelement.WebElement (session=\"bfcbabb71dd7b1ec6954949325c79791\", element=\"cb9bce1a-b299-4d21-a0e2-6f5d439c454e\")>\n",
      "<selenium.webdriver.remote.webelement.WebElement (session=\"bfcbabb71dd7b1ec6954949325c79791\", element=\"cb9bce1a-b299-4d21-a0e2-6f5d439c454e\")>\n",
      "<selenium.webdriver.remote.webelement.WebElement (session=\"bfcbabb71dd7b1ec6954949325c79791\", element=\"cb9bce1a-b299-4d21-a0e2-6f5d439c454e\")>\n",
      "<selenium.webdriver.remote.webelement.WebElement (session=\"bfcbabb71dd7b1ec6954949325c79791\", element=\"cb9bce1a-b299-4d21-a0e2-6f5d439c454e\")>\n",
      "<selenium.webdriver.remote.webelement.WebElement (session=\"bfcbabb71dd7b1ec6954949325c79791\", element=\"cb9bce1a-b299-4d21-a0e2-6f5d439c454e\")>\n",
      "<selenium.webdriver.remote.webelement.WebElement (session=\"bfcbabb71dd7b1ec6954949325c79791\", element=\"cb9bce1a-b299-4d21-a0e2-6f5d439c454e\")>\n",
      "<selenium.webdriver.remote.webelement.WebElement (session=\"bfcbabb71dd7b1ec6954949325c79791\", element=\"cb9bce1a-b299-4d21-a0e2-6f5d439c454e\")>\n",
      "<selenium.webdriver.remote.webelement.WebElement (session=\"bfcbabb71dd7b1ec6954949325c79791\", element=\"cb9bce1a-b299-4d21-a0e2-6f5d439c454e\")>\n",
      "<selenium.webdriver.remote.webelement.WebElement (session=\"bfcbabb71dd7b1ec6954949325c79791\", element=\"cb9bce1a-b299-4d21-a0e2-6f5d439c454e\")>\n",
      "<selenium.webdriver.remote.webelement.WebElement (session=\"bfcbabb71dd7b1ec6954949325c79791\", element=\"cb9bce1a-b299-4d21-a0e2-6f5d439c454e\")>\n",
      "<selenium.webdriver.remote.webelement.WebElement (session=\"bfcbabb71dd7b1ec6954949325c79791\", element=\"cb9bce1a-b299-4d21-a0e2-6f5d439c454e\")>\n",
      "<selenium.webdriver.remote.webelement.WebElement (session=\"bfcbabb71dd7b1ec6954949325c79791\", element=\"cb9bce1a-b299-4d21-a0e2-6f5d439c454e\")>\n"
     ]
    },
    {
     "name": "stdout",
     "output_type": "stream",
     "text": [
      "<selenium.webdriver.remote.webelement.WebElement (session=\"bfcbabb71dd7b1ec6954949325c79791\", element=\"cb9bce1a-b299-4d21-a0e2-6f5d439c454e\")>\n",
      "<selenium.webdriver.remote.webelement.WebElement (session=\"bfcbabb71dd7b1ec6954949325c79791\", element=\"cb9bce1a-b299-4d21-a0e2-6f5d439c454e\")>\n",
      "<selenium.webdriver.remote.webelement.WebElement (session=\"bfcbabb71dd7b1ec6954949325c79791\", element=\"cb9bce1a-b299-4d21-a0e2-6f5d439c454e\")>\n",
      "<selenium.webdriver.remote.webelement.WebElement (session=\"bfcbabb71dd7b1ec6954949325c79791\", element=\"cb9bce1a-b299-4d21-a0e2-6f5d439c454e\")>\n",
      "<selenium.webdriver.remote.webelement.WebElement (session=\"bfcbabb71dd7b1ec6954949325c79791\", element=\"cb9bce1a-b299-4d21-a0e2-6f5d439c454e\")>\n",
      "<selenium.webdriver.remote.webelement.WebElement (session=\"bfcbabb71dd7b1ec6954949325c79791\", element=\"cb9bce1a-b299-4d21-a0e2-6f5d439c454e\")>\n",
      "<selenium.webdriver.remote.webelement.WebElement (session=\"bfcbabb71dd7b1ec6954949325c79791\", element=\"cb9bce1a-b299-4d21-a0e2-6f5d439c454e\")>\n",
      "<selenium.webdriver.remote.webelement.WebElement (session=\"bfcbabb71dd7b1ec6954949325c79791\", element=\"cb9bce1a-b299-4d21-a0e2-6f5d439c454e\")>\n",
      "<selenium.webdriver.remote.webelement.WebElement (session=\"bfcbabb71dd7b1ec6954949325c79791\", element=\"cb9bce1a-b299-4d21-a0e2-6f5d439c454e\")>\n",
      "<selenium.webdriver.remote.webelement.WebElement (session=\"bfcbabb71dd7b1ec6954949325c79791\", element=\"cb9bce1a-b299-4d21-a0e2-6f5d439c454e\")>\n",
      "<selenium.webdriver.remote.webelement.WebElement (session=\"bfcbabb71dd7b1ec6954949325c79791\", element=\"cb9bce1a-b299-4d21-a0e2-6f5d439c454e\")>\n",
      "<selenium.webdriver.remote.webelement.WebElement (session=\"bfcbabb71dd7b1ec6954949325c79791\", element=\"cb9bce1a-b299-4d21-a0e2-6f5d439c454e\")>\n",
      "<selenium.webdriver.remote.webelement.WebElement (session=\"bfcbabb71dd7b1ec6954949325c79791\", element=\"cb9bce1a-b299-4d21-a0e2-6f5d439c454e\")>\n",
      "<selenium.webdriver.remote.webelement.WebElement (session=\"bfcbabb71dd7b1ec6954949325c79791\", element=\"cb9bce1a-b299-4d21-a0e2-6f5d439c454e\")>\n",
      "<selenium.webdriver.remote.webelement.WebElement (session=\"bfcbabb71dd7b1ec6954949325c79791\", element=\"cb9bce1a-b299-4d21-a0e2-6f5d439c454e\")>\n",
      "<selenium.webdriver.remote.webelement.WebElement (session=\"bfcbabb71dd7b1ec6954949325c79791\", element=\"cb9bce1a-b299-4d21-a0e2-6f5d439c454e\")>\n",
      "<selenium.webdriver.remote.webelement.WebElement (session=\"bfcbabb71dd7b1ec6954949325c79791\", element=\"cb9bce1a-b299-4d21-a0e2-6f5d439c454e\")>\n",
      "<selenium.webdriver.remote.webelement.WebElement (session=\"bfcbabb71dd7b1ec6954949325c79791\", element=\"cb9bce1a-b299-4d21-a0e2-6f5d439c454e\")>\n",
      "<selenium.webdriver.remote.webelement.WebElement (session=\"bfcbabb71dd7b1ec6954949325c79791\", element=\"cb9bce1a-b299-4d21-a0e2-6f5d439c454e\")>\n",
      "<selenium.webdriver.remote.webelement.WebElement (session=\"bfcbabb71dd7b1ec6954949325c79791\", element=\"cb9bce1a-b299-4d21-a0e2-6f5d439c454e\")>\n",
      "<selenium.webdriver.remote.webelement.WebElement (session=\"bfcbabb71dd7b1ec6954949325c79791\", element=\"cb9bce1a-b299-4d21-a0e2-6f5d439c454e\")>\n",
      "<selenium.webdriver.remote.webelement.WebElement (session=\"bfcbabb71dd7b1ec6954949325c79791\", element=\"cb9bce1a-b299-4d21-a0e2-6f5d439c454e\")>\n",
      "<selenium.webdriver.remote.webelement.WebElement (session=\"bfcbabb71dd7b1ec6954949325c79791\", element=\"cb9bce1a-b299-4d21-a0e2-6f5d439c454e\")>\n",
      "<selenium.webdriver.remote.webelement.WebElement (session=\"bfcbabb71dd7b1ec6954949325c79791\", element=\"cb9bce1a-b299-4d21-a0e2-6f5d439c454e\")>\n",
      "<selenium.webdriver.remote.webelement.WebElement (session=\"bfcbabb71dd7b1ec6954949325c79791\", element=\"cb9bce1a-b299-4d21-a0e2-6f5d439c454e\")>\n",
      "<selenium.webdriver.remote.webelement.WebElement (session=\"bfcbabb71dd7b1ec6954949325c79791\", element=\"cb9bce1a-b299-4d21-a0e2-6f5d439c454e\")>\n",
      "<selenium.webdriver.remote.webelement.WebElement (session=\"bfcbabb71dd7b1ec6954949325c79791\", element=\"cb9bce1a-b299-4d21-a0e2-6f5d439c454e\")>\n",
      "<selenium.webdriver.remote.webelement.WebElement (session=\"bfcbabb71dd7b1ec6954949325c79791\", element=\"cb9bce1a-b299-4d21-a0e2-6f5d439c454e\")>\n",
      "<selenium.webdriver.remote.webelement.WebElement (session=\"bfcbabb71dd7b1ec6954949325c79791\", element=\"cb9bce1a-b299-4d21-a0e2-6f5d439c454e\")>\n",
      "<selenium.webdriver.remote.webelement.WebElement (session=\"bfcbabb71dd7b1ec6954949325c79791\", element=\"cb9bce1a-b299-4d21-a0e2-6f5d439c454e\")>\n",
      "<selenium.webdriver.remote.webelement.WebElement (session=\"bfcbabb71dd7b1ec6954949325c79791\", element=\"cb9bce1a-b299-4d21-a0e2-6f5d439c454e\")>\n",
      "<selenium.webdriver.remote.webelement.WebElement (session=\"bfcbabb71dd7b1ec6954949325c79791\", element=\"cb9bce1a-b299-4d21-a0e2-6f5d439c454e\")>\n",
      "<selenium.webdriver.remote.webelement.WebElement (session=\"bfcbabb71dd7b1ec6954949325c79791\", element=\"cb9bce1a-b299-4d21-a0e2-6f5d439c454e\")>\n",
      "<selenium.webdriver.remote.webelement.WebElement (session=\"bfcbabb71dd7b1ec6954949325c79791\", element=\"cb9bce1a-b299-4d21-a0e2-6f5d439c454e\")>\n",
      "<selenium.webdriver.remote.webelement.WebElement (session=\"bfcbabb71dd7b1ec6954949325c79791\", element=\"cb9bce1a-b299-4d21-a0e2-6f5d439c454e\")>\n",
      "<selenium.webdriver.remote.webelement.WebElement (session=\"bfcbabb71dd7b1ec6954949325c79791\", element=\"cb9bce1a-b299-4d21-a0e2-6f5d439c454e\")>\n",
      "<selenium.webdriver.remote.webelement.WebElement (session=\"bfcbabb71dd7b1ec6954949325c79791\", element=\"cb9bce1a-b299-4d21-a0e2-6f5d439c454e\")>\n",
      "<selenium.webdriver.remote.webelement.WebElement (session=\"bfcbabb71dd7b1ec6954949325c79791\", element=\"cb9bce1a-b299-4d21-a0e2-6f5d439c454e\")>\n",
      "<selenium.webdriver.remote.webelement.WebElement (session=\"bfcbabb71dd7b1ec6954949325c79791\", element=\"cb9bce1a-b299-4d21-a0e2-6f5d439c454e\")>\n",
      "<selenium.webdriver.remote.webelement.WebElement (session=\"bfcbabb71dd7b1ec6954949325c79791\", element=\"cb9bce1a-b299-4d21-a0e2-6f5d439c454e\")>\n",
      "<selenium.webdriver.remote.webelement.WebElement (session=\"bfcbabb71dd7b1ec6954949325c79791\", element=\"cb9bce1a-b299-4d21-a0e2-6f5d439c454e\")>\n",
      "<selenium.webdriver.remote.webelement.WebElement (session=\"bfcbabb71dd7b1ec6954949325c79791\", element=\"cb9bce1a-b299-4d21-a0e2-6f5d439c454e\")>\n",
      "<selenium.webdriver.remote.webelement.WebElement (session=\"bfcbabb71dd7b1ec6954949325c79791\", element=\"cb9bce1a-b299-4d21-a0e2-6f5d439c454e\")>\n",
      "<selenium.webdriver.remote.webelement.WebElement (session=\"bfcbabb71dd7b1ec6954949325c79791\", element=\"cb9bce1a-b299-4d21-a0e2-6f5d439c454e\")>\n",
      "<selenium.webdriver.remote.webelement.WebElement (session=\"bfcbabb71dd7b1ec6954949325c79791\", element=\"cb9bce1a-b299-4d21-a0e2-6f5d439c454e\")>\n",
      "<selenium.webdriver.remote.webelement.WebElement (session=\"bfcbabb71dd7b1ec6954949325c79791\", element=\"cb9bce1a-b299-4d21-a0e2-6f5d439c454e\")>\n",
      "<selenium.webdriver.remote.webelement.WebElement (session=\"bfcbabb71dd7b1ec6954949325c79791\", element=\"cb9bce1a-b299-4d21-a0e2-6f5d439c454e\")>\n",
      "<selenium.webdriver.remote.webelement.WebElement (session=\"bfcbabb71dd7b1ec6954949325c79791\", element=\"cb9bce1a-b299-4d21-a0e2-6f5d439c454e\")>\n",
      "<selenium.webdriver.remote.webelement.WebElement (session=\"bfcbabb71dd7b1ec6954949325c79791\", element=\"cb9bce1a-b299-4d21-a0e2-6f5d439c454e\")>\n",
      "<selenium.webdriver.remote.webelement.WebElement (session=\"bfcbabb71dd7b1ec6954949325c79791\", element=\"cb9bce1a-b299-4d21-a0e2-6f5d439c454e\")>\n",
      "<selenium.webdriver.remote.webelement.WebElement (session=\"bfcbabb71dd7b1ec6954949325c79791\", element=\"cb9bce1a-b299-4d21-a0e2-6f5d439c454e\")>\n",
      "<selenium.webdriver.remote.webelement.WebElement (session=\"bfcbabb71dd7b1ec6954949325c79791\", element=\"cb9bce1a-b299-4d21-a0e2-6f5d439c454e\")>\n",
      "<selenium.webdriver.remote.webelement.WebElement (session=\"bfcbabb71dd7b1ec6954949325c79791\", element=\"cb9bce1a-b299-4d21-a0e2-6f5d439c454e\")>\n",
      "<selenium.webdriver.remote.webelement.WebElement (session=\"bfcbabb71dd7b1ec6954949325c79791\", element=\"cb9bce1a-b299-4d21-a0e2-6f5d439c454e\")>\n",
      "<selenium.webdriver.remote.webelement.WebElement (session=\"bfcbabb71dd7b1ec6954949325c79791\", element=\"cb9bce1a-b299-4d21-a0e2-6f5d439c454e\")>\n",
      "<selenium.webdriver.remote.webelement.WebElement (session=\"bfcbabb71dd7b1ec6954949325c79791\", element=\"cb9bce1a-b299-4d21-a0e2-6f5d439c454e\")>\n",
      "<selenium.webdriver.remote.webelement.WebElement (session=\"bfcbabb71dd7b1ec6954949325c79791\", element=\"cb9bce1a-b299-4d21-a0e2-6f5d439c454e\")>\n",
      "<selenium.webdriver.remote.webelement.WebElement (session=\"bfcbabb71dd7b1ec6954949325c79791\", element=\"cb9bce1a-b299-4d21-a0e2-6f5d439c454e\")>\n"
     ]
    },
    {
     "name": "stdout",
     "output_type": "stream",
     "text": [
      "<selenium.webdriver.remote.webelement.WebElement (session=\"bfcbabb71dd7b1ec6954949325c79791\", element=\"cb9bce1a-b299-4d21-a0e2-6f5d439c454e\")>\n",
      "<selenium.webdriver.remote.webelement.WebElement (session=\"bfcbabb71dd7b1ec6954949325c79791\", element=\"cb9bce1a-b299-4d21-a0e2-6f5d439c454e\")>\n",
      "<selenium.webdriver.remote.webelement.WebElement (session=\"bfcbabb71dd7b1ec6954949325c79791\", element=\"cb9bce1a-b299-4d21-a0e2-6f5d439c454e\")>\n",
      "<selenium.webdriver.remote.webelement.WebElement (session=\"bfcbabb71dd7b1ec6954949325c79791\", element=\"cb9bce1a-b299-4d21-a0e2-6f5d439c454e\")>\n",
      "<selenium.webdriver.remote.webelement.WebElement (session=\"bfcbabb71dd7b1ec6954949325c79791\", element=\"cb9bce1a-b299-4d21-a0e2-6f5d439c454e\")>\n",
      "<selenium.webdriver.remote.webelement.WebElement (session=\"bfcbabb71dd7b1ec6954949325c79791\", element=\"cb9bce1a-b299-4d21-a0e2-6f5d439c454e\")>\n",
      "<selenium.webdriver.remote.webelement.WebElement (session=\"bfcbabb71dd7b1ec6954949325c79791\", element=\"cb9bce1a-b299-4d21-a0e2-6f5d439c454e\")>\n",
      "<selenium.webdriver.remote.webelement.WebElement (session=\"bfcbabb71dd7b1ec6954949325c79791\", element=\"cb9bce1a-b299-4d21-a0e2-6f5d439c454e\")>\n",
      "<selenium.webdriver.remote.webelement.WebElement (session=\"bfcbabb71dd7b1ec6954949325c79791\", element=\"cb9bce1a-b299-4d21-a0e2-6f5d439c454e\")>\n"
     ]
    },
    {
     "ename": "KeyboardInterrupt",
     "evalue": "",
     "output_type": "error",
     "traceback": [
      "\u001b[1;31m---------------------------------------------------------------------------\u001b[0m",
      "\u001b[1;31mTypeError\u001b[0m                                 Traceback (most recent call last)",
      "\u001b[1;32mD:\\Anaconda2019\\lib\\site-packages\\urllib3\\connectionpool.py\u001b[0m in \u001b[0;36m_make_request\u001b[1;34m(self, conn, method, url, timeout, chunked, **httplib_request_kw)\u001b[0m\n\u001b[0;32m    376\u001b[0m             \u001b[1;32mtry\u001b[0m\u001b[1;33m:\u001b[0m  \u001b[1;31m# Python 2.7, use buffering of HTTP responses\u001b[0m\u001b[1;33m\u001b[0m\u001b[1;33m\u001b[0m\u001b[0m\n\u001b[1;32m--> 377\u001b[1;33m                 \u001b[0mhttplib_response\u001b[0m \u001b[1;33m=\u001b[0m \u001b[0mconn\u001b[0m\u001b[1;33m.\u001b[0m\u001b[0mgetresponse\u001b[0m\u001b[1;33m(\u001b[0m\u001b[0mbuffering\u001b[0m\u001b[1;33m=\u001b[0m\u001b[1;32mTrue\u001b[0m\u001b[1;33m)\u001b[0m\u001b[1;33m\u001b[0m\u001b[1;33m\u001b[0m\u001b[0m\n\u001b[0m\u001b[0;32m    378\u001b[0m             \u001b[1;32mexcept\u001b[0m \u001b[0mTypeError\u001b[0m\u001b[1;33m:\u001b[0m  \u001b[1;31m# Python 3\u001b[0m\u001b[1;33m\u001b[0m\u001b[1;33m\u001b[0m\u001b[0m\n",
      "\u001b[1;31mTypeError\u001b[0m: getresponse() got an unexpected keyword argument 'buffering'",
      "\nDuring handling of the above exception, another exception occurred:\n",
      "\u001b[1;31mKeyboardInterrupt\u001b[0m                         Traceback (most recent call last)",
      "\u001b[1;32m<ipython-input-83-205b88d7e1aa>\u001b[0m in \u001b[0;36m<module>\u001b[1;34m\u001b[0m\n\u001b[0;32m     20\u001b[0m         \u001b[0mtime\u001b[0m\u001b[1;33m.\u001b[0m\u001b[0msleep\u001b[0m\u001b[1;33m(\u001b[0m\u001b[1;36m1\u001b[0m\u001b[1;33m)\u001b[0m\u001b[1;33m\u001b[0m\u001b[1;33m\u001b[0m\u001b[0m\n\u001b[0;32m     21\u001b[0m \u001b[1;31m#         loadMoreButton.click()\u001b[0m\u001b[1;33m\u001b[0m\u001b[1;33m\u001b[0m\u001b[1;33m\u001b[0m\u001b[0m\n\u001b[1;32m---> 22\u001b[1;33m         \u001b[0mdriver\u001b[0m\u001b[1;33m.\u001b[0m\u001b[0mexecute_script\u001b[0m\u001b[1;33m(\u001b[0m\u001b[1;34m\"arguments[0].click();\"\u001b[0m\u001b[1;33m,\u001b[0m \u001b[0mloadMoreButton\u001b[0m\u001b[1;33m)\u001b[0m\u001b[1;33m\u001b[0m\u001b[1;33m\u001b[0m\u001b[0m\n\u001b[0m\u001b[0;32m     23\u001b[0m         \u001b[0mtime\u001b[0m\u001b[1;33m.\u001b[0m\u001b[0msleep\u001b[0m\u001b[1;33m(\u001b[0m\u001b[1;36m3\u001b[0m\u001b[1;33m)\u001b[0m\u001b[1;33m\u001b[0m\u001b[1;33m\u001b[0m\u001b[0m\n\u001b[0;32m     24\u001b[0m     \u001b[1;32mexcept\u001b[0m \u001b[0mException\u001b[0m \u001b[1;32mas\u001b[0m \u001b[0me\u001b[0m\u001b[1;33m:\u001b[0m\u001b[1;33m\u001b[0m\u001b[1;33m\u001b[0m\u001b[0m\n",
      "\u001b[1;32mD:\\Anaconda2019\\lib\\site-packages\\selenium\\webdriver\\remote\\webdriver.py\u001b[0m in \u001b[0;36mexecute_script\u001b[1;34m(self, script, *args)\u001b[0m\n\u001b[0;32m    634\u001b[0m         return self.execute(command, {\n\u001b[0;32m    635\u001b[0m             \u001b[1;34m'script'\u001b[0m\u001b[1;33m:\u001b[0m \u001b[0mscript\u001b[0m\u001b[1;33m,\u001b[0m\u001b[1;33m\u001b[0m\u001b[1;33m\u001b[0m\u001b[0m\n\u001b[1;32m--> 636\u001b[1;33m             'args': converted_args})['value']\n\u001b[0m\u001b[0;32m    637\u001b[0m \u001b[1;33m\u001b[0m\u001b[0m\n\u001b[0;32m    638\u001b[0m     \u001b[1;32mdef\u001b[0m \u001b[0mexecute_async_script\u001b[0m\u001b[1;33m(\u001b[0m\u001b[0mself\u001b[0m\u001b[1;33m,\u001b[0m \u001b[0mscript\u001b[0m\u001b[1;33m,\u001b[0m \u001b[1;33m*\u001b[0m\u001b[0margs\u001b[0m\u001b[1;33m)\u001b[0m\u001b[1;33m:\u001b[0m\u001b[1;33m\u001b[0m\u001b[1;33m\u001b[0m\u001b[0m\n",
      "\u001b[1;32mD:\\Anaconda2019\\lib\\site-packages\\selenium\\webdriver\\remote\\webdriver.py\u001b[0m in \u001b[0;36mexecute\u001b[1;34m(self, driver_command, params)\u001b[0m\n\u001b[0;32m    317\u001b[0m \u001b[1;33m\u001b[0m\u001b[0m\n\u001b[0;32m    318\u001b[0m         \u001b[0mparams\u001b[0m \u001b[1;33m=\u001b[0m \u001b[0mself\u001b[0m\u001b[1;33m.\u001b[0m\u001b[0m_wrap_value\u001b[0m\u001b[1;33m(\u001b[0m\u001b[0mparams\u001b[0m\u001b[1;33m)\u001b[0m\u001b[1;33m\u001b[0m\u001b[1;33m\u001b[0m\u001b[0m\n\u001b[1;32m--> 319\u001b[1;33m         \u001b[0mresponse\u001b[0m \u001b[1;33m=\u001b[0m \u001b[0mself\u001b[0m\u001b[1;33m.\u001b[0m\u001b[0mcommand_executor\u001b[0m\u001b[1;33m.\u001b[0m\u001b[0mexecute\u001b[0m\u001b[1;33m(\u001b[0m\u001b[0mdriver_command\u001b[0m\u001b[1;33m,\u001b[0m \u001b[0mparams\u001b[0m\u001b[1;33m)\u001b[0m\u001b[1;33m\u001b[0m\u001b[1;33m\u001b[0m\u001b[0m\n\u001b[0m\u001b[0;32m    320\u001b[0m         \u001b[1;32mif\u001b[0m \u001b[0mresponse\u001b[0m\u001b[1;33m:\u001b[0m\u001b[1;33m\u001b[0m\u001b[1;33m\u001b[0m\u001b[0m\n\u001b[0;32m    321\u001b[0m             \u001b[0mself\u001b[0m\u001b[1;33m.\u001b[0m\u001b[0merror_handler\u001b[0m\u001b[1;33m.\u001b[0m\u001b[0mcheck_response\u001b[0m\u001b[1;33m(\u001b[0m\u001b[0mresponse\u001b[0m\u001b[1;33m)\u001b[0m\u001b[1;33m\u001b[0m\u001b[1;33m\u001b[0m\u001b[0m\n",
      "\u001b[1;32mD:\\Anaconda2019\\lib\\site-packages\\selenium\\webdriver\\remote\\remote_connection.py\u001b[0m in \u001b[0;36mexecute\u001b[1;34m(self, command, params)\u001b[0m\n\u001b[0;32m    372\u001b[0m         \u001b[0mdata\u001b[0m \u001b[1;33m=\u001b[0m \u001b[0mutils\u001b[0m\u001b[1;33m.\u001b[0m\u001b[0mdump_json\u001b[0m\u001b[1;33m(\u001b[0m\u001b[0mparams\u001b[0m\u001b[1;33m)\u001b[0m\u001b[1;33m\u001b[0m\u001b[1;33m\u001b[0m\u001b[0m\n\u001b[0;32m    373\u001b[0m         \u001b[0murl\u001b[0m \u001b[1;33m=\u001b[0m \u001b[1;34m'%s%s'\u001b[0m \u001b[1;33m%\u001b[0m \u001b[1;33m(\u001b[0m\u001b[0mself\u001b[0m\u001b[1;33m.\u001b[0m\u001b[0m_url\u001b[0m\u001b[1;33m,\u001b[0m \u001b[0mpath\u001b[0m\u001b[1;33m)\u001b[0m\u001b[1;33m\u001b[0m\u001b[1;33m\u001b[0m\u001b[0m\n\u001b[1;32m--> 374\u001b[1;33m         \u001b[1;32mreturn\u001b[0m \u001b[0mself\u001b[0m\u001b[1;33m.\u001b[0m\u001b[0m_request\u001b[0m\u001b[1;33m(\u001b[0m\u001b[0mcommand_info\u001b[0m\u001b[1;33m[\u001b[0m\u001b[1;36m0\u001b[0m\u001b[1;33m]\u001b[0m\u001b[1;33m,\u001b[0m \u001b[0murl\u001b[0m\u001b[1;33m,\u001b[0m \u001b[0mbody\u001b[0m\u001b[1;33m=\u001b[0m\u001b[0mdata\u001b[0m\u001b[1;33m)\u001b[0m\u001b[1;33m\u001b[0m\u001b[1;33m\u001b[0m\u001b[0m\n\u001b[0m\u001b[0;32m    375\u001b[0m \u001b[1;33m\u001b[0m\u001b[0m\n\u001b[0;32m    376\u001b[0m     \u001b[1;32mdef\u001b[0m \u001b[0m_request\u001b[0m\u001b[1;33m(\u001b[0m\u001b[0mself\u001b[0m\u001b[1;33m,\u001b[0m \u001b[0mmethod\u001b[0m\u001b[1;33m,\u001b[0m \u001b[0murl\u001b[0m\u001b[1;33m,\u001b[0m \u001b[0mbody\u001b[0m\u001b[1;33m=\u001b[0m\u001b[1;32mNone\u001b[0m\u001b[1;33m)\u001b[0m\u001b[1;33m:\u001b[0m\u001b[1;33m\u001b[0m\u001b[1;33m\u001b[0m\u001b[0m\n",
      "\u001b[1;32mD:\\Anaconda2019\\lib\\site-packages\\selenium\\webdriver\\remote\\remote_connection.py\u001b[0m in \u001b[0;36m_request\u001b[1;34m(self, method, url, body)\u001b[0m\n\u001b[0;32m    395\u001b[0m \u001b[1;33m\u001b[0m\u001b[0m\n\u001b[0;32m    396\u001b[0m         \u001b[1;32mif\u001b[0m \u001b[0mself\u001b[0m\u001b[1;33m.\u001b[0m\u001b[0mkeep_alive\u001b[0m\u001b[1;33m:\u001b[0m\u001b[1;33m\u001b[0m\u001b[1;33m\u001b[0m\u001b[0m\n\u001b[1;32m--> 397\u001b[1;33m             \u001b[0mresp\u001b[0m \u001b[1;33m=\u001b[0m \u001b[0mself\u001b[0m\u001b[1;33m.\u001b[0m\u001b[0m_conn\u001b[0m\u001b[1;33m.\u001b[0m\u001b[0mrequest\u001b[0m\u001b[1;33m(\u001b[0m\u001b[0mmethod\u001b[0m\u001b[1;33m,\u001b[0m \u001b[0murl\u001b[0m\u001b[1;33m,\u001b[0m \u001b[0mbody\u001b[0m\u001b[1;33m=\u001b[0m\u001b[0mbody\u001b[0m\u001b[1;33m,\u001b[0m \u001b[0mheaders\u001b[0m\u001b[1;33m=\u001b[0m\u001b[0mheaders\u001b[0m\u001b[1;33m)\u001b[0m\u001b[1;33m\u001b[0m\u001b[1;33m\u001b[0m\u001b[0m\n\u001b[0m\u001b[0;32m    398\u001b[0m \u001b[1;33m\u001b[0m\u001b[0m\n\u001b[0;32m    399\u001b[0m             \u001b[0mstatuscode\u001b[0m \u001b[1;33m=\u001b[0m \u001b[0mresp\u001b[0m\u001b[1;33m.\u001b[0m\u001b[0mstatus\u001b[0m\u001b[1;33m\u001b[0m\u001b[1;33m\u001b[0m\u001b[0m\n",
      "\u001b[1;32mD:\\Anaconda2019\\lib\\site-packages\\urllib3\\request.py\u001b[0m in \u001b[0;36mrequest\u001b[1;34m(self, method, url, fields, headers, **urlopen_kw)\u001b[0m\n\u001b[0;32m     70\u001b[0m             return self.request_encode_body(method, url, fields=fields,\n\u001b[0;32m     71\u001b[0m                                             \u001b[0mheaders\u001b[0m\u001b[1;33m=\u001b[0m\u001b[0mheaders\u001b[0m\u001b[1;33m,\u001b[0m\u001b[1;33m\u001b[0m\u001b[1;33m\u001b[0m\u001b[0m\n\u001b[1;32m---> 72\u001b[1;33m                                             **urlopen_kw)\n\u001b[0m\u001b[0;32m     73\u001b[0m \u001b[1;33m\u001b[0m\u001b[0m\n\u001b[0;32m     74\u001b[0m     def request_encode_url(self, method, url, fields=None, headers=None,\n",
      "\u001b[1;32mD:\\Anaconda2019\\lib\\site-packages\\urllib3\\request.py\u001b[0m in \u001b[0;36mrequest_encode_body\u001b[1;34m(self, method, url, fields, headers, encode_multipart, multipart_boundary, **urlopen_kw)\u001b[0m\n\u001b[0;32m    148\u001b[0m         \u001b[0mextra_kw\u001b[0m\u001b[1;33m.\u001b[0m\u001b[0mupdate\u001b[0m\u001b[1;33m(\u001b[0m\u001b[0murlopen_kw\u001b[0m\u001b[1;33m)\u001b[0m\u001b[1;33m\u001b[0m\u001b[1;33m\u001b[0m\u001b[0m\n\u001b[0;32m    149\u001b[0m \u001b[1;33m\u001b[0m\u001b[0m\n\u001b[1;32m--> 150\u001b[1;33m         \u001b[1;32mreturn\u001b[0m \u001b[0mself\u001b[0m\u001b[1;33m.\u001b[0m\u001b[0murlopen\u001b[0m\u001b[1;33m(\u001b[0m\u001b[0mmethod\u001b[0m\u001b[1;33m,\u001b[0m \u001b[0murl\u001b[0m\u001b[1;33m,\u001b[0m \u001b[1;33m**\u001b[0m\u001b[0mextra_kw\u001b[0m\u001b[1;33m)\u001b[0m\u001b[1;33m\u001b[0m\u001b[1;33m\u001b[0m\u001b[0m\n\u001b[0m",
      "\u001b[1;32mD:\\Anaconda2019\\lib\\site-packages\\urllib3\\poolmanager.py\u001b[0m in \u001b[0;36murlopen\u001b[1;34m(self, method, url, redirect, **kw)\u001b[0m\n\u001b[0;32m    322\u001b[0m             \u001b[0mresponse\u001b[0m \u001b[1;33m=\u001b[0m \u001b[0mconn\u001b[0m\u001b[1;33m.\u001b[0m\u001b[0murlopen\u001b[0m\u001b[1;33m(\u001b[0m\u001b[0mmethod\u001b[0m\u001b[1;33m,\u001b[0m \u001b[0murl\u001b[0m\u001b[1;33m,\u001b[0m \u001b[1;33m**\u001b[0m\u001b[0mkw\u001b[0m\u001b[1;33m)\u001b[0m\u001b[1;33m\u001b[0m\u001b[1;33m\u001b[0m\u001b[0m\n\u001b[0;32m    323\u001b[0m         \u001b[1;32melse\u001b[0m\u001b[1;33m:\u001b[0m\u001b[1;33m\u001b[0m\u001b[1;33m\u001b[0m\u001b[0m\n\u001b[1;32m--> 324\u001b[1;33m             \u001b[0mresponse\u001b[0m \u001b[1;33m=\u001b[0m \u001b[0mconn\u001b[0m\u001b[1;33m.\u001b[0m\u001b[0murlopen\u001b[0m\u001b[1;33m(\u001b[0m\u001b[0mmethod\u001b[0m\u001b[1;33m,\u001b[0m \u001b[0mu\u001b[0m\u001b[1;33m.\u001b[0m\u001b[0mrequest_uri\u001b[0m\u001b[1;33m,\u001b[0m \u001b[1;33m**\u001b[0m\u001b[0mkw\u001b[0m\u001b[1;33m)\u001b[0m\u001b[1;33m\u001b[0m\u001b[1;33m\u001b[0m\u001b[0m\n\u001b[0m\u001b[0;32m    325\u001b[0m \u001b[1;33m\u001b[0m\u001b[0m\n\u001b[0;32m    326\u001b[0m         \u001b[0mredirect_location\u001b[0m \u001b[1;33m=\u001b[0m \u001b[0mredirect\u001b[0m \u001b[1;32mand\u001b[0m \u001b[0mresponse\u001b[0m\u001b[1;33m.\u001b[0m\u001b[0mget_redirect_location\u001b[0m\u001b[1;33m(\u001b[0m\u001b[1;33m)\u001b[0m\u001b[1;33m\u001b[0m\u001b[1;33m\u001b[0m\u001b[0m\n",
      "\u001b[1;32mD:\\Anaconda2019\\lib\\site-packages\\urllib3\\connectionpool.py\u001b[0m in \u001b[0;36murlopen\u001b[1;34m(self, method, url, body, headers, retries, redirect, assert_same_host, timeout, pool_timeout, release_conn, chunked, body_pos, **response_kw)\u001b[0m\n\u001b[0;32m    598\u001b[0m                                                   \u001b[0mtimeout\u001b[0m\u001b[1;33m=\u001b[0m\u001b[0mtimeout_obj\u001b[0m\u001b[1;33m,\u001b[0m\u001b[1;33m\u001b[0m\u001b[1;33m\u001b[0m\u001b[0m\n\u001b[0;32m    599\u001b[0m                                                   \u001b[0mbody\u001b[0m\u001b[1;33m=\u001b[0m\u001b[0mbody\u001b[0m\u001b[1;33m,\u001b[0m \u001b[0mheaders\u001b[0m\u001b[1;33m=\u001b[0m\u001b[0mheaders\u001b[0m\u001b[1;33m,\u001b[0m\u001b[1;33m\u001b[0m\u001b[1;33m\u001b[0m\u001b[0m\n\u001b[1;32m--> 600\u001b[1;33m                                                   chunked=chunked)\n\u001b[0m\u001b[0;32m    601\u001b[0m \u001b[1;33m\u001b[0m\u001b[0m\n\u001b[0;32m    602\u001b[0m             \u001b[1;31m# If we're going to release the connection in ``finally:``, then\u001b[0m\u001b[1;33m\u001b[0m\u001b[1;33m\u001b[0m\u001b[1;33m\u001b[0m\u001b[0m\n",
      "\u001b[1;32mD:\\Anaconda2019\\lib\\site-packages\\urllib3\\connectionpool.py\u001b[0m in \u001b[0;36m_make_request\u001b[1;34m(self, conn, method, url, timeout, chunked, **httplib_request_kw)\u001b[0m\n\u001b[0;32m    378\u001b[0m             \u001b[1;32mexcept\u001b[0m \u001b[0mTypeError\u001b[0m\u001b[1;33m:\u001b[0m  \u001b[1;31m# Python 3\u001b[0m\u001b[1;33m\u001b[0m\u001b[1;33m\u001b[0m\u001b[0m\n\u001b[0;32m    379\u001b[0m                 \u001b[1;32mtry\u001b[0m\u001b[1;33m:\u001b[0m\u001b[1;33m\u001b[0m\u001b[1;33m\u001b[0m\u001b[0m\n\u001b[1;32m--> 380\u001b[1;33m                     \u001b[0mhttplib_response\u001b[0m \u001b[1;33m=\u001b[0m \u001b[0mconn\u001b[0m\u001b[1;33m.\u001b[0m\u001b[0mgetresponse\u001b[0m\u001b[1;33m(\u001b[0m\u001b[1;33m)\u001b[0m\u001b[1;33m\u001b[0m\u001b[1;33m\u001b[0m\u001b[0m\n\u001b[0m\u001b[0;32m    381\u001b[0m                 \u001b[1;32mexcept\u001b[0m \u001b[0mException\u001b[0m \u001b[1;32mas\u001b[0m \u001b[0me\u001b[0m\u001b[1;33m:\u001b[0m\u001b[1;33m\u001b[0m\u001b[1;33m\u001b[0m\u001b[0m\n\u001b[0;32m    382\u001b[0m                     \u001b[1;31m# Remove the TypeError from the exception chain in Python 3;\u001b[0m\u001b[1;33m\u001b[0m\u001b[1;33m\u001b[0m\u001b[1;33m\u001b[0m\u001b[0m\n",
      "\u001b[1;32mD:\\Anaconda2019\\lib\\http\\client.py\u001b[0m in \u001b[0;36mgetresponse\u001b[1;34m(self)\u001b[0m\n\u001b[0;32m   1319\u001b[0m         \u001b[1;32mtry\u001b[0m\u001b[1;33m:\u001b[0m\u001b[1;33m\u001b[0m\u001b[1;33m\u001b[0m\u001b[0m\n\u001b[0;32m   1320\u001b[0m             \u001b[1;32mtry\u001b[0m\u001b[1;33m:\u001b[0m\u001b[1;33m\u001b[0m\u001b[1;33m\u001b[0m\u001b[0m\n\u001b[1;32m-> 1321\u001b[1;33m                 \u001b[0mresponse\u001b[0m\u001b[1;33m.\u001b[0m\u001b[0mbegin\u001b[0m\u001b[1;33m(\u001b[0m\u001b[1;33m)\u001b[0m\u001b[1;33m\u001b[0m\u001b[1;33m\u001b[0m\u001b[0m\n\u001b[0m\u001b[0;32m   1322\u001b[0m             \u001b[1;32mexcept\u001b[0m \u001b[0mConnectionError\u001b[0m\u001b[1;33m:\u001b[0m\u001b[1;33m\u001b[0m\u001b[1;33m\u001b[0m\u001b[0m\n\u001b[0;32m   1323\u001b[0m                 \u001b[0mself\u001b[0m\u001b[1;33m.\u001b[0m\u001b[0mclose\u001b[0m\u001b[1;33m(\u001b[0m\u001b[1;33m)\u001b[0m\u001b[1;33m\u001b[0m\u001b[1;33m\u001b[0m\u001b[0m\n",
      "\u001b[1;32mD:\\Anaconda2019\\lib\\http\\client.py\u001b[0m in \u001b[0;36mbegin\u001b[1;34m(self)\u001b[0m\n\u001b[0;32m    294\u001b[0m         \u001b[1;31m# read until we get a non-100 response\u001b[0m\u001b[1;33m\u001b[0m\u001b[1;33m\u001b[0m\u001b[1;33m\u001b[0m\u001b[0m\n\u001b[0;32m    295\u001b[0m         \u001b[1;32mwhile\u001b[0m \u001b[1;32mTrue\u001b[0m\u001b[1;33m:\u001b[0m\u001b[1;33m\u001b[0m\u001b[1;33m\u001b[0m\u001b[0m\n\u001b[1;32m--> 296\u001b[1;33m             \u001b[0mversion\u001b[0m\u001b[1;33m,\u001b[0m \u001b[0mstatus\u001b[0m\u001b[1;33m,\u001b[0m \u001b[0mreason\u001b[0m \u001b[1;33m=\u001b[0m \u001b[0mself\u001b[0m\u001b[1;33m.\u001b[0m\u001b[0m_read_status\u001b[0m\u001b[1;33m(\u001b[0m\u001b[1;33m)\u001b[0m\u001b[1;33m\u001b[0m\u001b[1;33m\u001b[0m\u001b[0m\n\u001b[0m\u001b[0;32m    297\u001b[0m             \u001b[1;32mif\u001b[0m \u001b[0mstatus\u001b[0m \u001b[1;33m!=\u001b[0m \u001b[0mCONTINUE\u001b[0m\u001b[1;33m:\u001b[0m\u001b[1;33m\u001b[0m\u001b[1;33m\u001b[0m\u001b[0m\n\u001b[0;32m    298\u001b[0m                 \u001b[1;32mbreak\u001b[0m\u001b[1;33m\u001b[0m\u001b[1;33m\u001b[0m\u001b[0m\n",
      "\u001b[1;32mD:\\Anaconda2019\\lib\\http\\client.py\u001b[0m in \u001b[0;36m_read_status\u001b[1;34m(self)\u001b[0m\n\u001b[0;32m    255\u001b[0m \u001b[1;33m\u001b[0m\u001b[0m\n\u001b[0;32m    256\u001b[0m     \u001b[1;32mdef\u001b[0m \u001b[0m_read_status\u001b[0m\u001b[1;33m(\u001b[0m\u001b[0mself\u001b[0m\u001b[1;33m)\u001b[0m\u001b[1;33m:\u001b[0m\u001b[1;33m\u001b[0m\u001b[1;33m\u001b[0m\u001b[0m\n\u001b[1;32m--> 257\u001b[1;33m         \u001b[0mline\u001b[0m \u001b[1;33m=\u001b[0m \u001b[0mstr\u001b[0m\u001b[1;33m(\u001b[0m\u001b[0mself\u001b[0m\u001b[1;33m.\u001b[0m\u001b[0mfp\u001b[0m\u001b[1;33m.\u001b[0m\u001b[0mreadline\u001b[0m\u001b[1;33m(\u001b[0m\u001b[0m_MAXLINE\u001b[0m \u001b[1;33m+\u001b[0m \u001b[1;36m1\u001b[0m\u001b[1;33m)\u001b[0m\u001b[1;33m,\u001b[0m \u001b[1;34m\"iso-8859-1\"\u001b[0m\u001b[1;33m)\u001b[0m\u001b[1;33m\u001b[0m\u001b[1;33m\u001b[0m\u001b[0m\n\u001b[0m\u001b[0;32m    258\u001b[0m         \u001b[1;32mif\u001b[0m \u001b[0mlen\u001b[0m\u001b[1;33m(\u001b[0m\u001b[0mline\u001b[0m\u001b[1;33m)\u001b[0m \u001b[1;33m>\u001b[0m \u001b[0m_MAXLINE\u001b[0m\u001b[1;33m:\u001b[0m\u001b[1;33m\u001b[0m\u001b[1;33m\u001b[0m\u001b[0m\n\u001b[0;32m    259\u001b[0m             \u001b[1;32mraise\u001b[0m \u001b[0mLineTooLong\u001b[0m\u001b[1;33m(\u001b[0m\u001b[1;34m\"status line\"\u001b[0m\u001b[1;33m)\u001b[0m\u001b[1;33m\u001b[0m\u001b[1;33m\u001b[0m\u001b[0m\n",
      "\u001b[1;32mD:\\Anaconda2019\\lib\\socket.py\u001b[0m in \u001b[0;36mreadinto\u001b[1;34m(self, b)\u001b[0m\n\u001b[0;32m    587\u001b[0m         \u001b[1;32mwhile\u001b[0m \u001b[1;32mTrue\u001b[0m\u001b[1;33m:\u001b[0m\u001b[1;33m\u001b[0m\u001b[1;33m\u001b[0m\u001b[0m\n\u001b[0;32m    588\u001b[0m             \u001b[1;32mtry\u001b[0m\u001b[1;33m:\u001b[0m\u001b[1;33m\u001b[0m\u001b[1;33m\u001b[0m\u001b[0m\n\u001b[1;32m--> 589\u001b[1;33m                 \u001b[1;32mreturn\u001b[0m \u001b[0mself\u001b[0m\u001b[1;33m.\u001b[0m\u001b[0m_sock\u001b[0m\u001b[1;33m.\u001b[0m\u001b[0mrecv_into\u001b[0m\u001b[1;33m(\u001b[0m\u001b[0mb\u001b[0m\u001b[1;33m)\u001b[0m\u001b[1;33m\u001b[0m\u001b[1;33m\u001b[0m\u001b[0m\n\u001b[0m\u001b[0;32m    590\u001b[0m             \u001b[1;32mexcept\u001b[0m \u001b[0mtimeout\u001b[0m\u001b[1;33m:\u001b[0m\u001b[1;33m\u001b[0m\u001b[1;33m\u001b[0m\u001b[0m\n\u001b[0;32m    591\u001b[0m                 \u001b[0mself\u001b[0m\u001b[1;33m.\u001b[0m\u001b[0m_timeout_occurred\u001b[0m \u001b[1;33m=\u001b[0m \u001b[1;32mTrue\u001b[0m\u001b[1;33m\u001b[0m\u001b[1;33m\u001b[0m\u001b[0m\n",
      "\u001b[1;31mKeyboardInterrupt\u001b[0m: "
     ]
    }
   ],
   "source": [
    "from selenium import webdriver      \n",
    "from selenium.common.exceptions import NoSuchElementException\n",
    "from selenium.webdriver.common.by import By\n",
    "from selenium.webdriver.support.ui import WebDriverWait\n",
    "from selenium.webdriver.support import expected_conditions as EC\n",
    "import time\n",
    "\n",
    "#browser = webdriver.Firefox()#Chrome('./chromedriver.exe')\n",
    "url = \"https://www.cermati.com/kartu-kredit/t/semua\"\n",
    "PATIENCE_TIME = 60\n",
    "\n",
    "driver = webdriver.Chrome('./chromedriver.exe')\n",
    "driver.get(url)\n",
    "\n",
    "while True:\n",
    "    try:\n",
    "#         loadMoreButton = driver.find_element_by_xpath(\"//button[contains(@aria-label,'Load more')]\")\n",
    "        loadMoreButton = driver.find_element_by_css_selector(\".btn.btn-lg.btn-xs-full.btn-load-more.margin-bottom-20\")\n",
    "        print(\"Loading additional content....\")\n",
    "        time.sleep(1)\n",
    "        driver.execute_script(\"arguments[0].click();\", loadMoreButton)\n",
    "        time.sleep(3)\n",
    "    except Exception as e:\n",
    "        print(e)\n",
    "        break\n",
    "print (\"Complete Loading All..\")\n",
    "time.sleep(10)"
   ]
  },
  {
   "cell_type": "markdown",
   "metadata": {},
   "source": [
    "After finishing loading all sources, parse the pages and get the data."
   ]
  },
  {
   "cell_type": "code",
   "execution_count": 84,
   "metadata": {
    "ExecuteTime": {
     "end_time": "2019-10-30T04:41:57.244000Z",
     "start_time": "2019-10-30T04:41:36.121000Z"
    }
   },
   "outputs": [],
   "source": [
    "soup = bs(driver.page_source, \"html.parser\")\n",
    "\n",
    "contents = soup.find(\"div\", {'class': 'nui-cards-listing'}).find_all('div', {'class': 'nui-card has-tag-layer'})\n",
    "    \n",
    "# Parse contents\n",
    "data = []\n",
    "for content in contents:\n",
    "    cc_name = content.find('a').text.strip()\n",
    "    features = [x.text.strip() for x in content.find_all('li', {'class': 'av'})]\n",
    "    rating = content.find('span', {'class': 'rating-score'}).text.strip()\n",
    "    biaya_admin = content.find('div', {'class': 'nui-text-focus'}).text.strip()\n",
    "    biaya_admin_term = content.find('span', {'class': 'nui-text-support'}).text.strip()\n",
    "    try:\n",
    "        promo = content.find('span', {'class': 'offer-label'}).text.strip()\n",
    "    except:\n",
    "        promo = ''\n",
    "\n",
    "    # Append content to data            \n",
    "    data.append([cc_name, features, rating, biaya_admin, biaya_admin_term, promo])"
   ]
  },
  {
   "cell_type": "code",
   "execution_count": 86,
   "metadata": {
    "ExecuteTime": {
     "end_time": "2019-10-30T04:43:20.145000Z",
     "start_time": "2019-10-30T04:43:20.127000Z"
    }
   },
   "outputs": [],
   "source": [
    "df = pd.DataFrame(data, columns=['cc_name', 'features', 'rating', 'biaya_admin', 'biaya_admin_term', 'promo'])"
   ]
  },
  {
   "cell_type": "code",
   "execution_count": 90,
   "metadata": {
    "ExecuteTime": {
     "end_time": "2019-10-30T04:44:31.196000Z",
     "start_time": "2019-10-30T04:44:31.184000Z"
    }
   },
   "outputs": [
    {
     "data": {
      "text/plain": [
       "(1506, 6)"
      ]
     },
     "execution_count": 90,
     "metadata": {},
     "output_type": "execute_result"
    }
   ],
   "source": [
    "df.shape"
   ]
  },
  {
   "cell_type": "code",
   "execution_count": 106,
   "metadata": {
    "ExecuteTime": {
     "end_time": "2019-10-30T04:59:14.378000Z",
     "start_time": "2019-10-30T04:59:14.342000Z"
    }
   },
   "outputs": [
    {
     "data": {
      "text/html": [
       "<div>\n",
       "<style scoped>\n",
       "    .dataframe tbody tr th:only-of-type {\n",
       "        vertical-align: middle;\n",
       "    }\n",
       "\n",
       "    .dataframe tbody tr th {\n",
       "        vertical-align: top;\n",
       "    }\n",
       "\n",
       "    .dataframe thead th {\n",
       "        text-align: right;\n",
       "    }\n",
       "</style>\n",
       "<table border=\"1\" class=\"dataframe\">\n",
       "  <thead>\n",
       "    <tr style=\"text-align: right;\">\n",
       "      <th></th>\n",
       "      <th>cc_name</th>\n",
       "      <th>features</th>\n",
       "      <th>rating</th>\n",
       "      <th>biaya_admin</th>\n",
       "      <th>biaya_admin_term</th>\n",
       "      <th>promo</th>\n",
       "    </tr>\n",
       "  </thead>\n",
       "  <tbody>\n",
       "    <tr>\n",
       "      <th>0</th>\n",
       "      <td>CIMB Niaga Wave n Go</td>\n",
       "      <td>[Reguler Card, Biaya Tahunan : free (Gratis iu...</td>\n",
       "      <td>4.90</td>\n",
       "      <td>Rp0*</td>\n",
       "      <td>Gratis seumur hidup</td>\n",
       "      <td>Welcome Cashback Rp50.000</td>\n",
       "    </tr>\n",
       "    <tr>\n",
       "      <th>1</th>\n",
       "      <td>CIMB Niaga MasterCard Gold</td>\n",
       "      <td>[Gratis Iuran Tahunan, Fasilitas Cicilan Tetap...</td>\n",
       "      <td>4.82</td>\n",
       "      <td>Rp0*</td>\n",
       "      <td>Gratis seumur hidup</td>\n",
       "      <td></td>\n",
       "    </tr>\n",
       "    <tr>\n",
       "      <th>2</th>\n",
       "      <td>HSBC Gold Card</td>\n",
       "      <td>[Travel Benefit, Akses Airport Lounge Domestik...</td>\n",
       "      <td>4.80</td>\n",
       "      <td>Rp300.000*</td>\n",
       "      <td>Gratis tahun pertama</td>\n",
       "      <td>Welcome Cashback Rp250.000</td>\n",
       "    </tr>\n",
       "    <tr>\n",
       "      <th>3</th>\n",
       "      <td>Mandiri Skyz Card</td>\n",
       "      <td>[Double Fiestapoin untuk Transaksi Luar Negeri...</td>\n",
       "      <td>4.80</td>\n",
       "      <td>Rp300.000*</td>\n",
       "      <td>Gratis 1 tahun pertama</td>\n",
       "      <td></td>\n",
       "    </tr>\n",
       "    <tr>\n",
       "      <th>4</th>\n",
       "      <td>BRI Touch Visa Gold</td>\n",
       "      <td>[Gratis Iuran Tahunan Seumur Hidup, Cicilan 0%...</td>\n",
       "      <td>4.76</td>\n",
       "      <td>Rp0*</td>\n",
       "      <td>Gratis seumur hidup</td>\n",
       "      <td></td>\n",
       "    </tr>\n",
       "  </tbody>\n",
       "</table>\n",
       "</div>"
      ],
      "text/plain": [
       "                      cc_name  \\\n",
       "0        CIMB Niaga Wave n Go   \n",
       "1  CIMB Niaga MasterCard Gold   \n",
       "2              HSBC Gold Card   \n",
       "3           Mandiri Skyz Card   \n",
       "4         BRI Touch Visa Gold   \n",
       "\n",
       "                                            features rating biaya_admin  \\\n",
       "0  [Reguler Card, Biaya Tahunan : free (Gratis iu...   4.90        Rp0*   \n",
       "1  [Gratis Iuran Tahunan, Fasilitas Cicilan Tetap...   4.82        Rp0*   \n",
       "2  [Travel Benefit, Akses Airport Lounge Domestik...   4.80  Rp300.000*   \n",
       "3  [Double Fiestapoin untuk Transaksi Luar Negeri...   4.80  Rp300.000*   \n",
       "4  [Gratis Iuran Tahunan Seumur Hidup, Cicilan 0%...   4.76        Rp0*   \n",
       "\n",
       "         biaya_admin_term                       promo  \n",
       "0     Gratis seumur hidup   Welcome Cashback Rp50.000  \n",
       "1     Gratis seumur hidup                              \n",
       "2    Gratis tahun pertama  Welcome Cashback Rp250.000  \n",
       "3  Gratis 1 tahun pertama                              \n",
       "4     Gratis seumur hidup                              "
      ]
     },
     "execution_count": 106,
     "metadata": {},
     "output_type": "execute_result"
    }
   ],
   "source": [
    "df.head()"
   ]
  },
  {
   "cell_type": "markdown",
   "metadata": {},
   "source": [
    "# Get Data from API\n",
    "\n",
    "Read stored API_KEY from configuration file."
   ]
  },
  {
   "cell_type": "code",
   "execution_count": 192,
   "metadata": {
    "ExecuteTime": {
     "end_time": "2019-10-30T08:40:43.708000Z",
     "start_time": "2019-10-30T08:40:43.677000Z"
    }
   },
   "outputs": [
    {
     "data": {
      "text/plain": [
       "['./config.ini']"
      ]
     },
     "execution_count": 192,
     "metadata": {},
     "output_type": "execute_result"
    }
   ],
   "source": [
    "config = configparser.ConfigParser()\n",
    "config.read('./config.ini')"
   ]
  },
  {
   "cell_type": "markdown",
   "metadata": {},
   "source": [
    "## Alpha Vantage\n",
    "\n",
    "We are proud to provide free API service for our global community of users and recommend that you make API requests sparingly **(up to 5 API requests per minute and 500 requests per day)** to achieve the best server-side performance. If you would like to target a larger API call volume, please visit [premium membership](https://www.alphavantage.co/premium/).\n",
    "\n",
    "Note: If you are a student or educator, chances are that your school already has a data partnership with Alpha Vantage. If not, please ask your school/library administrator to contact partnerships@alphavantage.co for a special partnership plan for educational institutions."
   ]
  },
  {
   "cell_type": "code",
   "execution_count": 136,
   "metadata": {
    "ExecuteTime": {
     "end_time": "2019-10-30T06:33:27.768000Z",
     "start_time": "2019-10-30T06:33:27.760000Z"
    }
   },
   "outputs": [],
   "source": [
    "API_KEY = config['alpha_vantage']['API_KEY']"
   ]
  },
  {
   "cell_type": "markdown",
   "metadata": {},
   "source": [
    "### Using `alpha_vantage` package"
   ]
  },
  {
   "cell_type": "code",
   "execution_count": 182,
   "metadata": {
    "ExecuteTime": {
     "end_time": "2019-10-30T07:00:52.456000Z",
     "start_time": "2019-10-30T07:00:47.333000Z"
    }
   },
   "outputs": [],
   "source": [
    "from alpha_vantage.timeseries import TimeSeries\n",
    "from alpha_vantage.techindicators import TechIndicators\n",
    "import plotly.graph_objects as go\n",
    "\n",
    "# Your key here\n",
    "# Chose your output format, or default to JSON (python dict)\n",
    "ts = TimeSeries(API_KEY, output_format='pandas')\n",
    "ti = TechIndicators(API_KEY)\n",
    "\n",
    "# Get the data, returns a tuple\n",
    "# aapl_data is a pandas dataframe, aapl_meta_data is a dict\n",
    "aapl_data, aapl_meta_data = ts.get_daily(symbol='GOOGL')\n",
    "# aapl_sma is a dict, aapl_meta_sma also a dict\n",
    "aapl_sma, aapl_meta_sma = ti.get_sma(symbol='GOOGL')"
   ]
  },
  {
   "cell_type": "code",
   "execution_count": 183,
   "metadata": {
    "ExecuteTime": {
     "end_time": "2019-10-30T07:00:53.478000Z",
     "start_time": "2019-10-30T07:00:53.300000Z"
    }
   },
   "outputs": [
    {
     "data": {
      "application/vnd.plotly.v1+json": {
       "config": {
        "plotlyServerURL": "https://plot.ly"
       },
       "data": [
        {
         "close": [
          1082.76,
          1081.04,
          1079.1,
          1091.01,
          1086.3,
          1093.89,
          1105.24,
          1104.51,
          1113.2,
          1125.37,
          1116.7,
          1087.58,
          1080.32,
          1076.63,
          1082.8,
          1100,
          1112.6,
          1122.99,
          1132.665,
          1116.79,
          1124.29,
          1140.91,
          1144.08,
          1145.34,
          1150.51,
          1153.46,
          1146.74,
          1147.24,
          1131.55,
          1139.21,
          1148.05,
          1139.73,
          1135.94,
          1245.22,
          1241.84,
          1228,
          1218.2,
          1211.78,
          1196.32,
          1154.75,
          1171.08,
          1175.91,
          1206.19,
          1188.9,
          1174.5,
          1196.73,
          1164.25,
          1169.32,
          1179.21,
          1200.4399,
          1183.53,
          1191.58,
          1191.52,
          1153.58,
          1171.1801,
          1170.8199,
          1173.75,
          1194.24,
          1190.53,
          1169.55,
          1182.27,
          1212.1899,
          1206.3199,
          1205.27,
          1205.7,
          1220,
          1234.97,
          1240.03,
          1231.63,
          1229.88,
          1232.65,
          1238.75,
          1229.84,
          1234.6899,
          1218.33,
          1245.9399,
          1242.29,
          1225.95,
          1221.14,
          1206,
          1177.92,
          1189.4301,
          1210.96,
          1208.25,
          1190.13,
          1202.4,
          1209.47,
          1215.71,
          1217.77,
          1242.24,
          1243,
          1252.8,
          1244.41,
          1244.28,
          1241.2,
          1257.63,
          1259.11,
          1264.3,
          1288.98,
          1260.66
         ],
         "high": [
          1094.84,
          1104.005,
          1082.52,
          1096.59,
          1094.7074,
          1101.28,
          1118.78,
          1109.43,
          1122.72,
          1126.57,
          1123.57,
          1115.7,
          1095.12,
          1088.465,
          1082.8,
          1108.59,
          1112.89,
          1127.9306,
          1134.65,
          1127.21,
          1127.86,
          1142.34,
          1153.1822,
          1147.5,
          1150.68,
          1158.58,
          1158.44,
          1148.1994,
          1151.58,
          1140.02,
          1148.86,
          1145.46,
          1143.59,
          1268.39,
          1248.99,
          1236.91,
          1234.91,
          1236.3,
          1209.5,
          1176.88,
          1181.4,
          1179.87,
          1206.28,
          1204.46,
          1185.61,
          1205.43,
          1182.79,
          1176.42,
          1183.84,
          1209.39,
          1198,
          1200.5601,
          1198.78,
          1195.67,
          1171.86,
          1185,
          1178.5,
          1199.1899,
          1200.35,
          1189.08,
          1184.88,
          1214,
          1212.95,
          1220.55,
          1210,
          1222.47,
          1242.42,
          1241.05,
          1239.02,
          1235,
          1236.24,
          1244.34,
          1242.8,
          1239.6801,
          1247.11,
          1248.02,
          1244.67,
          1244.99,
          1227.41,
          1232.86,
          1198.76,
          1191,
          1212.46,
          1218.91,
          1206.87,
          1208.46,
          1215.62,
          1228.75,
          1225.88,
          1247.13,
          1254.1899,
          1263.75,
          1258.11,
          1253.51,
          1248.73,
          1258.04,
          1262.9,
          1268,
          1299.24,
          1280.5
         ],
         "low": [
          1075.282,
          1079.57,
          1069.6,
          1082.57,
          1081.475,
          1088,
          1100.79,
          1096.0529,
          1107,
          1109.72,
          1113.31,
          1084.6,
          1073.687,
          1075.85,
          1073.8,
          1095.33,
          1099.67,
          1114.85,
          1117.5,
          1111.76,
          1107.15,
          1130.66,
          1139.53,
          1138.56,
          1140,
          1146.73,
          1146.62,
          1132.86,
          1131.25,
          1125.21,
          1132.8368,
          1128.51,
          1123.71,
          1227.8814,
          1230.2,
          1225.32,
          1208.18,
          1207,
          1190,
          1142.75,
          1161.53,
          1150.84,
          1173.9949,
          1184.89,
          1168.72,
          1172.995,
          1161.07,
          1163,
          1173,
          1190.4,
          1183.05,
          1187.92,
          1178.91,
          1150,
          1154.85,
          1164.5601,
          1160.25,
          1185.28,
          1185.72,
          1163.71,
          1171.53,
          1192.6899,
          1203.26,
          1193.17,
          1196.01,
          1202.28,
          1222.5601,
          1227.08,
          1225.1899,
          1223.35,
          1216.47,
          1232.3101,
          1223.58,
          1223.78,
          1210.64,
          1209.2,
          1231.8199,
          1215.2,
          1213.42,
          1205.55,
          1172.63,
          1163.14,
          1190.97,
          1204.36,
          1189.48,
          1198.12,
          1197.86,
          1213.64,
          1211.88,
          1220.92,
          1238.53,
          1249.87,
          1240.14,
          1239.99,
          1239.85,
          1240.21,
          1252.35,
          1249.15,
          1272.3101,
          1255.77
         ],
         "open": [
          1077,
          1096.99,
          1079.9064,
          1084.6873,
          1089.74,
          1089.1,
          1111.5,
          1107.24,
          1121.7,
          1109.86,
          1120,
          1115.08,
          1091,
          1086.75,
          1077.23,
          1101.04,
          1104.8285,
          1118.5,
          1119.37,
          1125.87,
          1110.32,
          1132.32,
          1146.16,
          1142.9536,
          1145.34,
          1146.73,
          1150.92,
          1142,
          1149.32,
          1135.47,
          1143.45,
          1132.62,
          1138.95,
          1228,
          1242.5,
          1227,
          1224.87,
          1217.63,
          1203,
          1172.97,
          1165.52,
          1157.8,
          1186.43,
          1199.995,
          1180,
          1174.35,
          1176.07,
          1168.43,
          1180.79,
          1191.83,
          1195.35,
          1195.8199,
          1193.8,
          1185.17,
          1159.45,
          1183,
          1164.87,
          1186.42,
          1200.35,
          1181.85,
          1179.45,
          1193.66,
          1209.14,
          1207.08,
          1196.09,
          1203.89,
          1223.47,
          1232.11,
          1230.4399,
          1231.63,
          1230.24,
          1232.3199,
          1233.64,
          1226.5699,
          1240,
          1216.01,
          1242.14,
          1242.83,
          1220.6,
          1222.49,
          1196.5,
          1183.34,
          1194.29,
          1207,
          1198.77,
          1201.33,
          1198.6,
          1224.03,
          1213.89,
          1221.5,
          1241.8101,
          1251.4,
          1254.6899,
          1248.7,
          1244.48,
          1240.21,
          1259.11,
          1252,
          1275,
          1276
         ],
         "type": "candlestick",
         "x": [
          "2019-06-10T00:00:00",
          "2019-06-11T00:00:00",
          "2019-06-12T00:00:00",
          "2019-06-13T00:00:00",
          "2019-06-14T00:00:00",
          "2019-06-17T00:00:00",
          "2019-06-18T00:00:00",
          "2019-06-19T00:00:00",
          "2019-06-20T00:00:00",
          "2019-06-21T00:00:00",
          "2019-06-24T00:00:00",
          "2019-06-25T00:00:00",
          "2019-06-26T00:00:00",
          "2019-06-27T00:00:00",
          "2019-06-28T00:00:00",
          "2019-07-01T00:00:00",
          "2019-07-02T00:00:00",
          "2019-07-03T00:00:00",
          "2019-07-05T00:00:00",
          "2019-07-08T00:00:00",
          "2019-07-09T00:00:00",
          "2019-07-10T00:00:00",
          "2019-07-11T00:00:00",
          "2019-07-12T00:00:00",
          "2019-07-15T00:00:00",
          "2019-07-16T00:00:00",
          "2019-07-17T00:00:00",
          "2019-07-18T00:00:00",
          "2019-07-19T00:00:00",
          "2019-07-22T00:00:00",
          "2019-07-23T00:00:00",
          "2019-07-24T00:00:00",
          "2019-07-25T00:00:00",
          "2019-07-26T00:00:00",
          "2019-07-29T00:00:00",
          "2019-07-30T00:00:00",
          "2019-07-31T00:00:00",
          "2019-08-01T00:00:00",
          "2019-08-02T00:00:00",
          "2019-08-05T00:00:00",
          "2019-08-06T00:00:00",
          "2019-08-07T00:00:00",
          "2019-08-08T00:00:00",
          "2019-08-09T00:00:00",
          "2019-08-12T00:00:00",
          "2019-08-13T00:00:00",
          "2019-08-14T00:00:00",
          "2019-08-15T00:00:00",
          "2019-08-16T00:00:00",
          "2019-08-19T00:00:00",
          "2019-08-20T00:00:00",
          "2019-08-21T00:00:00",
          "2019-08-22T00:00:00",
          "2019-08-23T00:00:00",
          "2019-08-26T00:00:00",
          "2019-08-27T00:00:00",
          "2019-08-28T00:00:00",
          "2019-08-29T00:00:00",
          "2019-08-30T00:00:00",
          "2019-09-03T00:00:00",
          "2019-09-04T00:00:00",
          "2019-09-05T00:00:00",
          "2019-09-06T00:00:00",
          "2019-09-09T00:00:00",
          "2019-09-10T00:00:00",
          "2019-09-11T00:00:00",
          "2019-09-12T00:00:00",
          "2019-09-13T00:00:00",
          "2019-09-16T00:00:00",
          "2019-09-17T00:00:00",
          "2019-09-18T00:00:00",
          "2019-09-19T00:00:00",
          "2019-09-20T00:00:00",
          "2019-09-23T00:00:00",
          "2019-09-24T00:00:00",
          "2019-09-25T00:00:00",
          "2019-09-26T00:00:00",
          "2019-09-27T00:00:00",
          "2019-09-30T00:00:00",
          "2019-10-01T00:00:00",
          "2019-10-02T00:00:00",
          "2019-10-03T00:00:00",
          "2019-10-04T00:00:00",
          "2019-10-07T00:00:00",
          "2019-10-08T00:00:00",
          "2019-10-09T00:00:00",
          "2019-10-10T00:00:00",
          "2019-10-11T00:00:00",
          "2019-10-14T00:00:00",
          "2019-10-15T00:00:00",
          "2019-10-16T00:00:00",
          "2019-10-17T00:00:00",
          "2019-10-18T00:00:00",
          "2019-10-21T00:00:00",
          "2019-10-22T00:00:00",
          "2019-10-23T00:00:00",
          "2019-10-24T00:00:00",
          "2019-10-25T00:00:00",
          "2019-10-28T00:00:00",
          "2019-10-29T00:00:00"
         ]
        }
       ],
       "layout": {
        "template": {
         "data": {
          "bar": [
           {
            "error_x": {
             "color": "#2a3f5f"
            },
            "error_y": {
             "color": "#2a3f5f"
            },
            "marker": {
             "line": {
              "color": "#E5ECF6",
              "width": 0.5
             }
            },
            "type": "bar"
           }
          ],
          "barpolar": [
           {
            "marker": {
             "line": {
              "color": "#E5ECF6",
              "width": 0.5
             }
            },
            "type": "barpolar"
           }
          ],
          "carpet": [
           {
            "aaxis": {
             "endlinecolor": "#2a3f5f",
             "gridcolor": "white",
             "linecolor": "white",
             "minorgridcolor": "white",
             "startlinecolor": "#2a3f5f"
            },
            "baxis": {
             "endlinecolor": "#2a3f5f",
             "gridcolor": "white",
             "linecolor": "white",
             "minorgridcolor": "white",
             "startlinecolor": "#2a3f5f"
            },
            "type": "carpet"
           }
          ],
          "choropleth": [
           {
            "colorbar": {
             "outlinewidth": 0,
             "ticks": ""
            },
            "type": "choropleth"
           }
          ],
          "contour": [
           {
            "colorbar": {
             "outlinewidth": 0,
             "ticks": ""
            },
            "colorscale": [
             [
              0,
              "#0d0887"
             ],
             [
              0.1111111111111111,
              "#46039f"
             ],
             [
              0.2222222222222222,
              "#7201a8"
             ],
             [
              0.3333333333333333,
              "#9c179e"
             ],
             [
              0.4444444444444444,
              "#bd3786"
             ],
             [
              0.5555555555555556,
              "#d8576b"
             ],
             [
              0.6666666666666666,
              "#ed7953"
             ],
             [
              0.7777777777777778,
              "#fb9f3a"
             ],
             [
              0.8888888888888888,
              "#fdca26"
             ],
             [
              1,
              "#f0f921"
             ]
            ],
            "type": "contour"
           }
          ],
          "contourcarpet": [
           {
            "colorbar": {
             "outlinewidth": 0,
             "ticks": ""
            },
            "type": "contourcarpet"
           }
          ],
          "heatmap": [
           {
            "colorbar": {
             "outlinewidth": 0,
             "ticks": ""
            },
            "colorscale": [
             [
              0,
              "#0d0887"
             ],
             [
              0.1111111111111111,
              "#46039f"
             ],
             [
              0.2222222222222222,
              "#7201a8"
             ],
             [
              0.3333333333333333,
              "#9c179e"
             ],
             [
              0.4444444444444444,
              "#bd3786"
             ],
             [
              0.5555555555555556,
              "#d8576b"
             ],
             [
              0.6666666666666666,
              "#ed7953"
             ],
             [
              0.7777777777777778,
              "#fb9f3a"
             ],
             [
              0.8888888888888888,
              "#fdca26"
             ],
             [
              1,
              "#f0f921"
             ]
            ],
            "type": "heatmap"
           }
          ],
          "heatmapgl": [
           {
            "colorbar": {
             "outlinewidth": 0,
             "ticks": ""
            },
            "colorscale": [
             [
              0,
              "#0d0887"
             ],
             [
              0.1111111111111111,
              "#46039f"
             ],
             [
              0.2222222222222222,
              "#7201a8"
             ],
             [
              0.3333333333333333,
              "#9c179e"
             ],
             [
              0.4444444444444444,
              "#bd3786"
             ],
             [
              0.5555555555555556,
              "#d8576b"
             ],
             [
              0.6666666666666666,
              "#ed7953"
             ],
             [
              0.7777777777777778,
              "#fb9f3a"
             ],
             [
              0.8888888888888888,
              "#fdca26"
             ],
             [
              1,
              "#f0f921"
             ]
            ],
            "type": "heatmapgl"
           }
          ],
          "histogram": [
           {
            "marker": {
             "colorbar": {
              "outlinewidth": 0,
              "ticks": ""
             }
            },
            "type": "histogram"
           }
          ],
          "histogram2d": [
           {
            "colorbar": {
             "outlinewidth": 0,
             "ticks": ""
            },
            "colorscale": [
             [
              0,
              "#0d0887"
             ],
             [
              0.1111111111111111,
              "#46039f"
             ],
             [
              0.2222222222222222,
              "#7201a8"
             ],
             [
              0.3333333333333333,
              "#9c179e"
             ],
             [
              0.4444444444444444,
              "#bd3786"
             ],
             [
              0.5555555555555556,
              "#d8576b"
             ],
             [
              0.6666666666666666,
              "#ed7953"
             ],
             [
              0.7777777777777778,
              "#fb9f3a"
             ],
             [
              0.8888888888888888,
              "#fdca26"
             ],
             [
              1,
              "#f0f921"
             ]
            ],
            "type": "histogram2d"
           }
          ],
          "histogram2dcontour": [
           {
            "colorbar": {
             "outlinewidth": 0,
             "ticks": ""
            },
            "colorscale": [
             [
              0,
              "#0d0887"
             ],
             [
              0.1111111111111111,
              "#46039f"
             ],
             [
              0.2222222222222222,
              "#7201a8"
             ],
             [
              0.3333333333333333,
              "#9c179e"
             ],
             [
              0.4444444444444444,
              "#bd3786"
             ],
             [
              0.5555555555555556,
              "#d8576b"
             ],
             [
              0.6666666666666666,
              "#ed7953"
             ],
             [
              0.7777777777777778,
              "#fb9f3a"
             ],
             [
              0.8888888888888888,
              "#fdca26"
             ],
             [
              1,
              "#f0f921"
             ]
            ],
            "type": "histogram2dcontour"
           }
          ],
          "mesh3d": [
           {
            "colorbar": {
             "outlinewidth": 0,
             "ticks": ""
            },
            "type": "mesh3d"
           }
          ],
          "parcoords": [
           {
            "line": {
             "colorbar": {
              "outlinewidth": 0,
              "ticks": ""
             }
            },
            "type": "parcoords"
           }
          ],
          "scatter": [
           {
            "marker": {
             "colorbar": {
              "outlinewidth": 0,
              "ticks": ""
             }
            },
            "type": "scatter"
           }
          ],
          "scatter3d": [
           {
            "line": {
             "colorbar": {
              "outlinewidth": 0,
              "ticks": ""
             }
            },
            "marker": {
             "colorbar": {
              "outlinewidth": 0,
              "ticks": ""
             }
            },
            "type": "scatter3d"
           }
          ],
          "scattercarpet": [
           {
            "marker": {
             "colorbar": {
              "outlinewidth": 0,
              "ticks": ""
             }
            },
            "type": "scattercarpet"
           }
          ],
          "scattergeo": [
           {
            "marker": {
             "colorbar": {
              "outlinewidth": 0,
              "ticks": ""
             }
            },
            "type": "scattergeo"
           }
          ],
          "scattergl": [
           {
            "marker": {
             "colorbar": {
              "outlinewidth": 0,
              "ticks": ""
             }
            },
            "type": "scattergl"
           }
          ],
          "scattermapbox": [
           {
            "marker": {
             "colorbar": {
              "outlinewidth": 0,
              "ticks": ""
             }
            },
            "type": "scattermapbox"
           }
          ],
          "scatterpolar": [
           {
            "marker": {
             "colorbar": {
              "outlinewidth": 0,
              "ticks": ""
             }
            },
            "type": "scatterpolar"
           }
          ],
          "scatterpolargl": [
           {
            "marker": {
             "colorbar": {
              "outlinewidth": 0,
              "ticks": ""
             }
            },
            "type": "scatterpolargl"
           }
          ],
          "scatterternary": [
           {
            "marker": {
             "colorbar": {
              "outlinewidth": 0,
              "ticks": ""
             }
            },
            "type": "scatterternary"
           }
          ],
          "surface": [
           {
            "colorbar": {
             "outlinewidth": 0,
             "ticks": ""
            },
            "colorscale": [
             [
              0,
              "#0d0887"
             ],
             [
              0.1111111111111111,
              "#46039f"
             ],
             [
              0.2222222222222222,
              "#7201a8"
             ],
             [
              0.3333333333333333,
              "#9c179e"
             ],
             [
              0.4444444444444444,
              "#bd3786"
             ],
             [
              0.5555555555555556,
              "#d8576b"
             ],
             [
              0.6666666666666666,
              "#ed7953"
             ],
             [
              0.7777777777777778,
              "#fb9f3a"
             ],
             [
              0.8888888888888888,
              "#fdca26"
             ],
             [
              1,
              "#f0f921"
             ]
            ],
            "type": "surface"
           }
          ],
          "table": [
           {
            "cells": {
             "fill": {
              "color": "#EBF0F8"
             },
             "line": {
              "color": "white"
             }
            },
            "header": {
             "fill": {
              "color": "#C8D4E3"
             },
             "line": {
              "color": "white"
             }
            },
            "type": "table"
           }
          ]
         },
         "layout": {
          "annotationdefaults": {
           "arrowcolor": "#2a3f5f",
           "arrowhead": 0,
           "arrowwidth": 1
          },
          "colorscale": {
           "diverging": [
            [
             0,
             "#8e0152"
            ],
            [
             0.1,
             "#c51b7d"
            ],
            [
             0.2,
             "#de77ae"
            ],
            [
             0.3,
             "#f1b6da"
            ],
            [
             0.4,
             "#fde0ef"
            ],
            [
             0.5,
             "#f7f7f7"
            ],
            [
             0.6,
             "#e6f5d0"
            ],
            [
             0.7,
             "#b8e186"
            ],
            [
             0.8,
             "#7fbc41"
            ],
            [
             0.9,
             "#4d9221"
            ],
            [
             1,
             "#276419"
            ]
           ],
           "sequential": [
            [
             0,
             "#0d0887"
            ],
            [
             0.1111111111111111,
             "#46039f"
            ],
            [
             0.2222222222222222,
             "#7201a8"
            ],
            [
             0.3333333333333333,
             "#9c179e"
            ],
            [
             0.4444444444444444,
             "#bd3786"
            ],
            [
             0.5555555555555556,
             "#d8576b"
            ],
            [
             0.6666666666666666,
             "#ed7953"
            ],
            [
             0.7777777777777778,
             "#fb9f3a"
            ],
            [
             0.8888888888888888,
             "#fdca26"
            ],
            [
             1,
             "#f0f921"
            ]
           ],
           "sequentialminus": [
            [
             0,
             "#0d0887"
            ],
            [
             0.1111111111111111,
             "#46039f"
            ],
            [
             0.2222222222222222,
             "#7201a8"
            ],
            [
             0.3333333333333333,
             "#9c179e"
            ],
            [
             0.4444444444444444,
             "#bd3786"
            ],
            [
             0.5555555555555556,
             "#d8576b"
            ],
            [
             0.6666666666666666,
             "#ed7953"
            ],
            [
             0.7777777777777778,
             "#fb9f3a"
            ],
            [
             0.8888888888888888,
             "#fdca26"
            ],
            [
             1,
             "#f0f921"
            ]
           ]
          },
          "colorway": [
           "#636efa",
           "#EF553B",
           "#00cc96",
           "#ab63fa",
           "#FFA15A",
           "#19d3f3",
           "#FF6692",
           "#B6E880",
           "#FF97FF",
           "#FECB52"
          ],
          "font": {
           "color": "#2a3f5f"
          },
          "geo": {
           "bgcolor": "white",
           "lakecolor": "white",
           "landcolor": "#E5ECF6",
           "showlakes": true,
           "showland": true,
           "subunitcolor": "white"
          },
          "hoverlabel": {
           "align": "left"
          },
          "hovermode": "closest",
          "mapbox": {
           "style": "light"
          },
          "paper_bgcolor": "white",
          "plot_bgcolor": "#E5ECF6",
          "polar": {
           "angularaxis": {
            "gridcolor": "white",
            "linecolor": "white",
            "ticks": ""
           },
           "bgcolor": "#E5ECF6",
           "radialaxis": {
            "gridcolor": "white",
            "linecolor": "white",
            "ticks": ""
           }
          },
          "scene": {
           "xaxis": {
            "backgroundcolor": "#E5ECF6",
            "gridcolor": "white",
            "gridwidth": 2,
            "linecolor": "white",
            "showbackground": true,
            "ticks": "",
            "zerolinecolor": "white"
           },
           "yaxis": {
            "backgroundcolor": "#E5ECF6",
            "gridcolor": "white",
            "gridwidth": 2,
            "linecolor": "white",
            "showbackground": true,
            "ticks": "",
            "zerolinecolor": "white"
           },
           "zaxis": {
            "backgroundcolor": "#E5ECF6",
            "gridcolor": "white",
            "gridwidth": 2,
            "linecolor": "white",
            "showbackground": true,
            "ticks": "",
            "zerolinecolor": "white"
           }
          },
          "shapedefaults": {
           "line": {
            "color": "#2a3f5f"
           }
          },
          "ternary": {
           "aaxis": {
            "gridcolor": "white",
            "linecolor": "white",
            "ticks": ""
           },
           "baxis": {
            "gridcolor": "white",
            "linecolor": "white",
            "ticks": ""
           },
           "bgcolor": "#E5ECF6",
           "caxis": {
            "gridcolor": "white",
            "linecolor": "white",
            "ticks": ""
           }
          },
          "title": {
           "x": 0.05
          },
          "xaxis": {
           "automargin": true,
           "gridcolor": "white",
           "linecolor": "white",
           "ticks": "",
           "zerolinecolor": "white",
           "zerolinewidth": 2
          },
          "yaxis": {
           "automargin": true,
           "gridcolor": "white",
           "linecolor": "white",
           "ticks": "",
           "zerolinecolor": "white",
           "zerolinewidth": 2
          }
         }
        },
        "title": {
         "text": "GOOGL Stock Price"
        },
        "xaxis": {
         "rangeslider": {
          "visible": false
         }
        }
       }
      },
      "text/html": [
       "<div>\n",
       "        \n",
       "        \n",
       "            <div id=\"0b54fcbc-0e02-4efc-94dc-3528c8007e6b\" class=\"plotly-graph-div\" style=\"height:525px; width:100%;\"></div>\n",
       "            <script type=\"text/javascript\">\n",
       "                require([\"plotly\"], function(Plotly) {\n",
       "                    window.PLOTLYENV=window.PLOTLYENV || {};\n",
       "                    \n",
       "                if (document.getElementById(\"0b54fcbc-0e02-4efc-94dc-3528c8007e6b\")) {\n",
       "                    Plotly.newPlot(\n",
       "                        '0b54fcbc-0e02-4efc-94dc-3528c8007e6b',\n",
       "                        [{\"close\": [1082.76, 1081.04, 1079.1, 1091.01, 1086.3, 1093.89, 1105.24, 1104.51, 1113.2, 1125.37, 1116.7, 1087.58, 1080.32, 1076.63, 1082.8, 1100.0, 1112.6, 1122.99, 1132.665, 1116.79, 1124.29, 1140.91, 1144.08, 1145.34, 1150.51, 1153.46, 1146.74, 1147.24, 1131.55, 1139.21, 1148.05, 1139.73, 1135.94, 1245.22, 1241.84, 1228.0, 1218.2, 1211.78, 1196.32, 1154.75, 1171.08, 1175.91, 1206.19, 1188.9, 1174.5, 1196.73, 1164.25, 1169.32, 1179.21, 1200.4399, 1183.53, 1191.58, 1191.52, 1153.58, 1171.1801, 1170.8199, 1173.75, 1194.24, 1190.53, 1169.55, 1182.27, 1212.1899, 1206.3199, 1205.27, 1205.7, 1220.0, 1234.97, 1240.03, 1231.63, 1229.88, 1232.65, 1238.75, 1229.84, 1234.6899, 1218.33, 1245.9399, 1242.29, 1225.95, 1221.14, 1206.0, 1177.92, 1189.4301, 1210.96, 1208.25, 1190.13, 1202.4, 1209.47, 1215.71, 1217.77, 1242.24, 1243.0, 1252.8, 1244.41, 1244.28, 1241.2, 1257.63, 1259.11, 1264.3, 1288.98, 1260.66], \"high\": [1094.84, 1104.005, 1082.52, 1096.59, 1094.7074, 1101.28, 1118.78, 1109.43, 1122.72, 1126.57, 1123.57, 1115.7, 1095.12, 1088.465, 1082.8, 1108.59, 1112.89, 1127.9306, 1134.65, 1127.21, 1127.86, 1142.34, 1153.1822, 1147.5, 1150.68, 1158.58, 1158.44, 1148.1994, 1151.58, 1140.02, 1148.86, 1145.46, 1143.59, 1268.39, 1248.99, 1236.91, 1234.91, 1236.3, 1209.5, 1176.88, 1181.4, 1179.87, 1206.28, 1204.46, 1185.61, 1205.43, 1182.79, 1176.42, 1183.84, 1209.39, 1198.0, 1200.5601, 1198.78, 1195.67, 1171.86, 1185.0, 1178.5, 1199.1899, 1200.35, 1189.08, 1184.88, 1214.0, 1212.95, 1220.55, 1210.0, 1222.47, 1242.42, 1241.05, 1239.02, 1235.0, 1236.24, 1244.34, 1242.8, 1239.6801, 1247.11, 1248.02, 1244.67, 1244.99, 1227.41, 1232.86, 1198.76, 1191.0, 1212.46, 1218.91, 1206.87, 1208.46, 1215.62, 1228.75, 1225.88, 1247.13, 1254.1899, 1263.75, 1258.11, 1253.51, 1248.73, 1258.04, 1262.9, 1268.0, 1299.24, 1280.5], \"low\": [1075.282, 1079.57, 1069.6, 1082.57, 1081.475, 1088.0, 1100.79, 1096.0529, 1107.0, 1109.72, 1113.31, 1084.6, 1073.687, 1075.85, 1073.8, 1095.33, 1099.67, 1114.85, 1117.5, 1111.76, 1107.15, 1130.66, 1139.53, 1138.56, 1140.0, 1146.73, 1146.62, 1132.86, 1131.25, 1125.21, 1132.8368, 1128.51, 1123.71, 1227.8814, 1230.2, 1225.32, 1208.18, 1207.0, 1190.0, 1142.75, 1161.53, 1150.84, 1173.9949, 1184.89, 1168.72, 1172.995, 1161.07, 1163.0, 1173.0, 1190.4, 1183.05, 1187.92, 1178.91, 1150.0, 1154.85, 1164.5601, 1160.25, 1185.28, 1185.72, 1163.71, 1171.53, 1192.6899, 1203.26, 1193.17, 1196.01, 1202.28, 1222.5601, 1227.08, 1225.1899, 1223.35, 1216.47, 1232.3101, 1223.58, 1223.78, 1210.64, 1209.2, 1231.8199, 1215.2, 1213.42, 1205.55, 1172.63, 1163.14, 1190.97, 1204.36, 1189.48, 1198.12, 1197.86, 1213.64, 1211.88, 1220.92, 1238.53, 1249.87, 1240.14, 1239.99, 1239.85, 1240.21, 1252.35, 1249.15, 1272.3101, 1255.77], \"open\": [1077.0, 1096.99, 1079.9064, 1084.6873, 1089.74, 1089.1, 1111.5, 1107.24, 1121.7, 1109.86, 1120.0, 1115.08, 1091.0, 1086.75, 1077.23, 1101.04, 1104.8285, 1118.5, 1119.37, 1125.87, 1110.32, 1132.32, 1146.16, 1142.9536, 1145.34, 1146.73, 1150.92, 1142.0, 1149.32, 1135.47, 1143.45, 1132.62, 1138.95, 1228.0, 1242.5, 1227.0, 1224.87, 1217.63, 1203.0, 1172.97, 1165.52, 1157.8, 1186.43, 1199.995, 1180.0, 1174.35, 1176.07, 1168.43, 1180.79, 1191.83, 1195.35, 1195.8199, 1193.8, 1185.17, 1159.45, 1183.0, 1164.87, 1186.42, 1200.35, 1181.85, 1179.45, 1193.66, 1209.14, 1207.08, 1196.09, 1203.89, 1223.47, 1232.11, 1230.4399, 1231.63, 1230.24, 1232.3199, 1233.64, 1226.5699, 1240.0, 1216.01, 1242.14, 1242.83, 1220.6, 1222.49, 1196.5, 1183.34, 1194.29, 1207.0, 1198.77, 1201.33, 1198.6, 1224.03, 1213.89, 1221.5, 1241.8101, 1251.4, 1254.6899, 1248.7, 1244.48, 1240.21, 1259.11, 1252.0, 1275.0, 1276.0], \"type\": \"candlestick\", \"x\": [\"2019-06-10T00:00:00\", \"2019-06-11T00:00:00\", \"2019-06-12T00:00:00\", \"2019-06-13T00:00:00\", \"2019-06-14T00:00:00\", \"2019-06-17T00:00:00\", \"2019-06-18T00:00:00\", \"2019-06-19T00:00:00\", \"2019-06-20T00:00:00\", \"2019-06-21T00:00:00\", \"2019-06-24T00:00:00\", \"2019-06-25T00:00:00\", \"2019-06-26T00:00:00\", \"2019-06-27T00:00:00\", \"2019-06-28T00:00:00\", \"2019-07-01T00:00:00\", \"2019-07-02T00:00:00\", \"2019-07-03T00:00:00\", \"2019-07-05T00:00:00\", \"2019-07-08T00:00:00\", \"2019-07-09T00:00:00\", \"2019-07-10T00:00:00\", \"2019-07-11T00:00:00\", \"2019-07-12T00:00:00\", \"2019-07-15T00:00:00\", \"2019-07-16T00:00:00\", \"2019-07-17T00:00:00\", \"2019-07-18T00:00:00\", \"2019-07-19T00:00:00\", \"2019-07-22T00:00:00\", \"2019-07-23T00:00:00\", \"2019-07-24T00:00:00\", \"2019-07-25T00:00:00\", \"2019-07-26T00:00:00\", \"2019-07-29T00:00:00\", \"2019-07-30T00:00:00\", \"2019-07-31T00:00:00\", \"2019-08-01T00:00:00\", \"2019-08-02T00:00:00\", \"2019-08-05T00:00:00\", \"2019-08-06T00:00:00\", \"2019-08-07T00:00:00\", \"2019-08-08T00:00:00\", \"2019-08-09T00:00:00\", \"2019-08-12T00:00:00\", \"2019-08-13T00:00:00\", \"2019-08-14T00:00:00\", \"2019-08-15T00:00:00\", \"2019-08-16T00:00:00\", \"2019-08-19T00:00:00\", \"2019-08-20T00:00:00\", \"2019-08-21T00:00:00\", \"2019-08-22T00:00:00\", \"2019-08-23T00:00:00\", \"2019-08-26T00:00:00\", \"2019-08-27T00:00:00\", \"2019-08-28T00:00:00\", \"2019-08-29T00:00:00\", \"2019-08-30T00:00:00\", \"2019-09-03T00:00:00\", \"2019-09-04T00:00:00\", \"2019-09-05T00:00:00\", \"2019-09-06T00:00:00\", \"2019-09-09T00:00:00\", \"2019-09-10T00:00:00\", \"2019-09-11T00:00:00\", \"2019-09-12T00:00:00\", \"2019-09-13T00:00:00\", \"2019-09-16T00:00:00\", \"2019-09-17T00:00:00\", \"2019-09-18T00:00:00\", \"2019-09-19T00:00:00\", \"2019-09-20T00:00:00\", \"2019-09-23T00:00:00\", \"2019-09-24T00:00:00\", \"2019-09-25T00:00:00\", \"2019-09-26T00:00:00\", \"2019-09-27T00:00:00\", \"2019-09-30T00:00:00\", \"2019-10-01T00:00:00\", \"2019-10-02T00:00:00\", \"2019-10-03T00:00:00\", \"2019-10-04T00:00:00\", \"2019-10-07T00:00:00\", \"2019-10-08T00:00:00\", \"2019-10-09T00:00:00\", \"2019-10-10T00:00:00\", \"2019-10-11T00:00:00\", \"2019-10-14T00:00:00\", \"2019-10-15T00:00:00\", \"2019-10-16T00:00:00\", \"2019-10-17T00:00:00\", \"2019-10-18T00:00:00\", \"2019-10-21T00:00:00\", \"2019-10-22T00:00:00\", \"2019-10-23T00:00:00\", \"2019-10-24T00:00:00\", \"2019-10-25T00:00:00\", \"2019-10-28T00:00:00\", \"2019-10-29T00:00:00\"]}],\n",
       "                        {\"template\": {\"data\": {\"bar\": [{\"error_x\": {\"color\": \"#2a3f5f\"}, \"error_y\": {\"color\": \"#2a3f5f\"}, \"marker\": {\"line\": {\"color\": \"#E5ECF6\", \"width\": 0.5}}, \"type\": \"bar\"}], \"barpolar\": [{\"marker\": {\"line\": {\"color\": \"#E5ECF6\", \"width\": 0.5}}, \"type\": \"barpolar\"}], \"carpet\": [{\"aaxis\": {\"endlinecolor\": \"#2a3f5f\", \"gridcolor\": \"white\", \"linecolor\": \"white\", \"minorgridcolor\": \"white\", \"startlinecolor\": \"#2a3f5f\"}, \"baxis\": {\"endlinecolor\": \"#2a3f5f\", \"gridcolor\": \"white\", \"linecolor\": \"white\", \"minorgridcolor\": \"white\", \"startlinecolor\": \"#2a3f5f\"}, \"type\": \"carpet\"}], \"choropleth\": [{\"colorbar\": {\"outlinewidth\": 0, \"ticks\": \"\"}, \"type\": \"choropleth\"}], \"contour\": [{\"colorbar\": {\"outlinewidth\": 0, \"ticks\": \"\"}, \"colorscale\": [[0.0, \"#0d0887\"], [0.1111111111111111, \"#46039f\"], [0.2222222222222222, \"#7201a8\"], [0.3333333333333333, \"#9c179e\"], [0.4444444444444444, \"#bd3786\"], [0.5555555555555556, \"#d8576b\"], [0.6666666666666666, \"#ed7953\"], [0.7777777777777778, \"#fb9f3a\"], [0.8888888888888888, \"#fdca26\"], [1.0, \"#f0f921\"]], \"type\": \"contour\"}], \"contourcarpet\": [{\"colorbar\": {\"outlinewidth\": 0, \"ticks\": \"\"}, \"type\": \"contourcarpet\"}], \"heatmap\": [{\"colorbar\": {\"outlinewidth\": 0, \"ticks\": \"\"}, \"colorscale\": [[0.0, \"#0d0887\"], [0.1111111111111111, \"#46039f\"], [0.2222222222222222, \"#7201a8\"], [0.3333333333333333, \"#9c179e\"], [0.4444444444444444, \"#bd3786\"], [0.5555555555555556, \"#d8576b\"], [0.6666666666666666, \"#ed7953\"], [0.7777777777777778, \"#fb9f3a\"], [0.8888888888888888, \"#fdca26\"], [1.0, \"#f0f921\"]], \"type\": \"heatmap\"}], \"heatmapgl\": [{\"colorbar\": {\"outlinewidth\": 0, \"ticks\": \"\"}, \"colorscale\": [[0.0, \"#0d0887\"], [0.1111111111111111, \"#46039f\"], [0.2222222222222222, \"#7201a8\"], [0.3333333333333333, \"#9c179e\"], [0.4444444444444444, \"#bd3786\"], [0.5555555555555556, \"#d8576b\"], [0.6666666666666666, \"#ed7953\"], [0.7777777777777778, \"#fb9f3a\"], [0.8888888888888888, \"#fdca26\"], [1.0, \"#f0f921\"]], \"type\": \"heatmapgl\"}], \"histogram\": [{\"marker\": {\"colorbar\": {\"outlinewidth\": 0, \"ticks\": \"\"}}, \"type\": \"histogram\"}], \"histogram2d\": [{\"colorbar\": {\"outlinewidth\": 0, \"ticks\": \"\"}, \"colorscale\": [[0.0, \"#0d0887\"], [0.1111111111111111, \"#46039f\"], [0.2222222222222222, \"#7201a8\"], [0.3333333333333333, \"#9c179e\"], [0.4444444444444444, \"#bd3786\"], [0.5555555555555556, \"#d8576b\"], [0.6666666666666666, \"#ed7953\"], [0.7777777777777778, \"#fb9f3a\"], [0.8888888888888888, \"#fdca26\"], [1.0, \"#f0f921\"]], \"type\": \"histogram2d\"}], \"histogram2dcontour\": [{\"colorbar\": {\"outlinewidth\": 0, \"ticks\": \"\"}, \"colorscale\": [[0.0, \"#0d0887\"], [0.1111111111111111, \"#46039f\"], [0.2222222222222222, \"#7201a8\"], [0.3333333333333333, \"#9c179e\"], [0.4444444444444444, \"#bd3786\"], [0.5555555555555556, \"#d8576b\"], [0.6666666666666666, \"#ed7953\"], [0.7777777777777778, \"#fb9f3a\"], [0.8888888888888888, \"#fdca26\"], [1.0, \"#f0f921\"]], \"type\": \"histogram2dcontour\"}], \"mesh3d\": [{\"colorbar\": {\"outlinewidth\": 0, \"ticks\": \"\"}, \"type\": \"mesh3d\"}], \"parcoords\": [{\"line\": {\"colorbar\": {\"outlinewidth\": 0, \"ticks\": \"\"}}, \"type\": \"parcoords\"}], \"scatter\": [{\"marker\": {\"colorbar\": {\"outlinewidth\": 0, \"ticks\": \"\"}}, \"type\": \"scatter\"}], \"scatter3d\": [{\"line\": {\"colorbar\": {\"outlinewidth\": 0, \"ticks\": \"\"}}, \"marker\": {\"colorbar\": {\"outlinewidth\": 0, \"ticks\": \"\"}}, \"type\": \"scatter3d\"}], \"scattercarpet\": [{\"marker\": {\"colorbar\": {\"outlinewidth\": 0, \"ticks\": \"\"}}, \"type\": \"scattercarpet\"}], \"scattergeo\": [{\"marker\": {\"colorbar\": {\"outlinewidth\": 0, \"ticks\": \"\"}}, \"type\": \"scattergeo\"}], \"scattergl\": [{\"marker\": {\"colorbar\": {\"outlinewidth\": 0, \"ticks\": \"\"}}, \"type\": \"scattergl\"}], \"scattermapbox\": [{\"marker\": {\"colorbar\": {\"outlinewidth\": 0, \"ticks\": \"\"}}, \"type\": \"scattermapbox\"}], \"scatterpolar\": [{\"marker\": {\"colorbar\": {\"outlinewidth\": 0, \"ticks\": \"\"}}, \"type\": \"scatterpolar\"}], \"scatterpolargl\": [{\"marker\": {\"colorbar\": {\"outlinewidth\": 0, \"ticks\": \"\"}}, \"type\": \"scatterpolargl\"}], \"scatterternary\": [{\"marker\": {\"colorbar\": {\"outlinewidth\": 0, \"ticks\": \"\"}}, \"type\": \"scatterternary\"}], \"surface\": [{\"colorbar\": {\"outlinewidth\": 0, \"ticks\": \"\"}, \"colorscale\": [[0.0, \"#0d0887\"], [0.1111111111111111, \"#46039f\"], [0.2222222222222222, \"#7201a8\"], [0.3333333333333333, \"#9c179e\"], [0.4444444444444444, \"#bd3786\"], [0.5555555555555556, \"#d8576b\"], [0.6666666666666666, \"#ed7953\"], [0.7777777777777778, \"#fb9f3a\"], [0.8888888888888888, \"#fdca26\"], [1.0, \"#f0f921\"]], \"type\": \"surface\"}], \"table\": [{\"cells\": {\"fill\": {\"color\": \"#EBF0F8\"}, \"line\": {\"color\": \"white\"}}, \"header\": {\"fill\": {\"color\": \"#C8D4E3\"}, \"line\": {\"color\": \"white\"}}, \"type\": \"table\"}]}, \"layout\": {\"annotationdefaults\": {\"arrowcolor\": \"#2a3f5f\", \"arrowhead\": 0, \"arrowwidth\": 1}, \"colorscale\": {\"diverging\": [[0, \"#8e0152\"], [0.1, \"#c51b7d\"], [0.2, \"#de77ae\"], [0.3, \"#f1b6da\"], [0.4, \"#fde0ef\"], [0.5, \"#f7f7f7\"], [0.6, \"#e6f5d0\"], [0.7, \"#b8e186\"], [0.8, \"#7fbc41\"], [0.9, \"#4d9221\"], [1, \"#276419\"]], \"sequential\": [[0.0, \"#0d0887\"], [0.1111111111111111, \"#46039f\"], [0.2222222222222222, \"#7201a8\"], [0.3333333333333333, \"#9c179e\"], [0.4444444444444444, \"#bd3786\"], [0.5555555555555556, \"#d8576b\"], [0.6666666666666666, \"#ed7953\"], [0.7777777777777778, \"#fb9f3a\"], [0.8888888888888888, \"#fdca26\"], [1.0, \"#f0f921\"]], \"sequentialminus\": [[0.0, \"#0d0887\"], [0.1111111111111111, \"#46039f\"], [0.2222222222222222, \"#7201a8\"], [0.3333333333333333, \"#9c179e\"], [0.4444444444444444, \"#bd3786\"], [0.5555555555555556, \"#d8576b\"], [0.6666666666666666, \"#ed7953\"], [0.7777777777777778, \"#fb9f3a\"], [0.8888888888888888, \"#fdca26\"], [1.0, \"#f0f921\"]]}, \"colorway\": [\"#636efa\", \"#EF553B\", \"#00cc96\", \"#ab63fa\", \"#FFA15A\", \"#19d3f3\", \"#FF6692\", \"#B6E880\", \"#FF97FF\", \"#FECB52\"], \"font\": {\"color\": \"#2a3f5f\"}, \"geo\": {\"bgcolor\": \"white\", \"lakecolor\": \"white\", \"landcolor\": \"#E5ECF6\", \"showlakes\": true, \"showland\": true, \"subunitcolor\": \"white\"}, \"hoverlabel\": {\"align\": \"left\"}, \"hovermode\": \"closest\", \"mapbox\": {\"style\": \"light\"}, \"paper_bgcolor\": \"white\", \"plot_bgcolor\": \"#E5ECF6\", \"polar\": {\"angularaxis\": {\"gridcolor\": \"white\", \"linecolor\": \"white\", \"ticks\": \"\"}, \"bgcolor\": \"#E5ECF6\", \"radialaxis\": {\"gridcolor\": \"white\", \"linecolor\": \"white\", \"ticks\": \"\"}}, \"scene\": {\"xaxis\": {\"backgroundcolor\": \"#E5ECF6\", \"gridcolor\": \"white\", \"gridwidth\": 2, \"linecolor\": \"white\", \"showbackground\": true, \"ticks\": \"\", \"zerolinecolor\": \"white\"}, \"yaxis\": {\"backgroundcolor\": \"#E5ECF6\", \"gridcolor\": \"white\", \"gridwidth\": 2, \"linecolor\": \"white\", \"showbackground\": true, \"ticks\": \"\", \"zerolinecolor\": \"white\"}, \"zaxis\": {\"backgroundcolor\": \"#E5ECF6\", \"gridcolor\": \"white\", \"gridwidth\": 2, \"linecolor\": \"white\", \"showbackground\": true, \"ticks\": \"\", \"zerolinecolor\": \"white\"}}, \"shapedefaults\": {\"line\": {\"color\": \"#2a3f5f\"}}, \"ternary\": {\"aaxis\": {\"gridcolor\": \"white\", \"linecolor\": \"white\", \"ticks\": \"\"}, \"baxis\": {\"gridcolor\": \"white\", \"linecolor\": \"white\", \"ticks\": \"\"}, \"bgcolor\": \"#E5ECF6\", \"caxis\": {\"gridcolor\": \"white\", \"linecolor\": \"white\", \"ticks\": \"\"}}, \"title\": {\"x\": 0.05}, \"xaxis\": {\"automargin\": true, \"gridcolor\": \"white\", \"linecolor\": \"white\", \"ticks\": \"\", \"zerolinecolor\": \"white\", \"zerolinewidth\": 2}, \"yaxis\": {\"automargin\": true, \"gridcolor\": \"white\", \"linecolor\": \"white\", \"ticks\": \"\", \"zerolinecolor\": \"white\", \"zerolinewidth\": 2}}}, \"title\": {\"text\": \"GOOGL Stock Price\"}, \"xaxis\": {\"rangeslider\": {\"visible\": false}}},\n",
       "                        {\"responsive\": true}\n",
       "                    ).then(function(){\n",
       "                            \n",
       "var gd = document.getElementById('0b54fcbc-0e02-4efc-94dc-3528c8007e6b');\n",
       "var x = new MutationObserver(function (mutations, observer) {{\n",
       "        var display = window.getComputedStyle(gd).display;\n",
       "        if (!display || display === 'none') {{\n",
       "            console.log([gd, 'removed!']);\n",
       "            Plotly.purge(gd);\n",
       "            observer.disconnect();\n",
       "        }}\n",
       "}});\n",
       "\n",
       "// Listen for the removal of the full notebook cells\n",
       "var notebookContainer = gd.closest('#notebook-container');\n",
       "if (notebookContainer) {{\n",
       "    x.observe(notebookContainer, {childList: true});\n",
       "}}\n",
       "\n",
       "// Listen for the clearing of the current output cell\n",
       "var outputEl = gd.closest('.output');\n",
       "if (outputEl) {{\n",
       "    x.observe(outputEl, {childList: true});\n",
       "}}\n",
       "\n",
       "                        })\n",
       "                };\n",
       "                });\n",
       "            </script>\n",
       "        </div>"
      ]
     },
     "metadata": {},
     "output_type": "display_data"
    }
   ],
   "source": [
    "fig = go.Figure(data=[go.Candlestick(x=aapl_data.index,\n",
    "                open=aapl_data['1. open'],\n",
    "                high=aapl_data['2. high'],\n",
    "                low=aapl_data['3. low'],\n",
    "                close=aapl_data['4. close'])])\n",
    "fig.update_layout(\n",
    "    xaxis_rangeslider_visible=False,\n",
    "    title_text='GOOGL Stock Price',\n",
    ")\n",
    "fig.show()"
   ]
  },
  {
   "cell_type": "markdown",
   "metadata": {},
   "source": [
    "### Using `requests` package"
   ]
  },
  {
   "cell_type": "code",
   "execution_count": 176,
   "metadata": {
    "ExecuteTime": {
     "end_time": "2019-10-30T06:50:26.391000Z",
     "start_time": "2019-10-30T06:50:26.384000Z"
    }
   },
   "outputs": [],
   "source": [
    "# define the link\n",
    "API_URL = 'https://www.alphavantage.co/query'"
   ]
  },
  {
   "cell_type": "code",
   "execution_count": 177,
   "metadata": {
    "ExecuteTime": {
     "end_time": "2019-10-30T06:50:27.708000Z",
     "start_time": "2019-10-30T06:50:27.692000Z"
    }
   },
   "outputs": [],
   "source": [
    "# create function to automatically extract the data\n",
    "def extract_data(symbol, interval, API_URL, api_key):\n",
    "    # define all parameters that are needed\n",
    "    params = {'function' : 'TIME_SERIES_INTRADAY',\n",
    "            'symbol' : symbol,\n",
    "            'interval' : interval,\n",
    "            'datatype' : 'json',\n",
    "            'apikey' : api_key}\n",
    "    \n",
    "    # call the api and store into json format\n",
    "    response = requests.get(API_URL, params)\n",
    "    data = response.json()\n",
    "    metadata = data['Meta Data']\n",
    "    data = data['Time Series (%s)' % (interval)]\n",
    "    \n",
    "    # store into dataframe\n",
    "    df = pd.DataFrame.from_dict(data, orient = 'index').astype('float')\n",
    "    return df, metadata"
   ]
  },
  {
   "cell_type": "markdown",
   "metadata": {},
   "source": [
    "Example for reading **APPLE** stock in **30 min interval.**"
   ]
  },
  {
   "cell_type": "code",
   "execution_count": 184,
   "metadata": {
    "ExecuteTime": {
     "end_time": "2019-10-30T07:54:56.076000Z",
     "start_time": "2019-10-30T07:54:54.524000Z"
    }
   },
   "outputs": [],
   "source": [
    "aapl_data, aapl_meta_data = extract_data('AAPL', '30min', API_URL, API_KEY)"
   ]
  },
  {
   "cell_type": "code",
   "execution_count": 185,
   "metadata": {
    "ExecuteTime": {
     "end_time": "2019-10-30T07:55:08.664000Z",
     "start_time": "2019-10-30T07:55:07.993000Z"
    }
   },
   "outputs": [
    {
     "data": {
      "application/vnd.plotly.v1+json": {
       "config": {
        "plotlyServerURL": "https://plot.ly"
       },
       "data": [
        {
         "close": [
          235.14,
          234.6094,
          235.24,
          235.74,
          236.11,
          236.25,
          236.71,
          237.07,
          236.28,
          239.7,
          239.5,
          239.92,
          240.65,
          240.73,
          240.63,
          240.58,
          240.81,
          240.8,
          240.6287,
          240.69,
          240.5,
          240.53,
          241.03,
          241.5264,
          241.56,
          241.1,
          241.19,
          241.72,
          241.94,
          241.5637,
          241.94,
          241.8985,
          240.75,
          240.8378,
          239.97,
          241.85,
          241.8847,
          242.62,
          242.52,
          242.51,
          242.4787,
          242.67,
          242.461,
          242.64,
          242.2959,
          242.47,
          242.5101,
          243.17,
          242.61,
          242.7691,
          242.45,
          243.2601,
          243.28,
          242.734,
          243.01,
          243.0277,
          242.41,
          242.8818,
          243,
          243.13,
          243.6,
          243.48,
          244.5588,
          244.53,
          245.53,
          245.37,
          245.5201,
          245.26,
          245.3148,
          245.26,
          245.2718,
          245.41,
          245.65,
          246.58,
          248.03,
          248.2956,
          248.14,
          248.47,
          248.56,
          248.5679,
          248.49,
          248.54,
          248.41,
          248.35,
          248.5,
          248.95,
          249.04,
          247.91,
          246.3157,
          245.5,
          243.9017,
          243.17,
          244.42,
          243.57,
          243.7164,
          243.67,
          243.7348,
          242.68,
          243.72,
          243.29
         ],
         "high": [
          236.14,
          235.45,
          235.24,
          235.801,
          236.59,
          236.35,
          236.71,
          237.51,
          237.32,
          239.96,
          239.96,
          239.92,
          240.73,
          240.855,
          240.83,
          240.925,
          240.85,
          240.905,
          240.915,
          240.74,
          240.728,
          240.64,
          241.82,
          241.7941,
          241.762,
          241.675,
          241.55,
          241.7484,
          241.96,
          242.2048,
          241.94,
          242.14,
          242.05,
          240.842,
          240.94,
          242.91,
          242.12,
          242.75,
          242.87,
          242.8,
          242.53,
          242.71,
          242.685,
          242.68,
          242.8861,
          242.48,
          242.61,
          243.25,
          244.81,
          242.932,
          242.81,
          243.278,
          243.43,
          243.338,
          243.286,
          243.06,
          243.09,
          242.8818,
          243.206,
          243.22,
          243.66,
          243.955,
          244.7772,
          244.683,
          245.7,
          245.611,
          245.638,
          245.61,
          245.36,
          245.516,
          245.3,
          245.44,
          245.82,
          246.75,
          248.192,
          248.57,
          248.6,
          248.73,
          248.623,
          248.964,
          248.65,
          248.67,
          248.66,
          248.48,
          248.6,
          248.98,
          249.04,
          249.61,
          248.02,
          246.8,
          245.68,
          244.17,
          244.73,
          244.71,
          243.945,
          243.83,
          243.84,
          243.76,
          244.39,
          243.97
         ],
         "low": [
          235.02,
          234.5,
          234.574,
          235.25,
          235.72,
          235.958,
          236.09,
          236.706,
          236.27,
          237.89,
          239.25,
          239.39,
          239.89,
          240.135,
          240.6,
          240.58,
          240.495,
          240.69,
          240.625,
          240.557,
          240.4,
          240.07,
          240.43,
          240.9332,
          241.51,
          241.1,
          240.975,
          241.0475,
          241.58,
          241.5547,
          241.54,
          241.79,
          240.37,
          240.24,
          239.712,
          241.45,
          241.265,
          241.4,
          242.47,
          242.401,
          242.05,
          242.406,
          242.14,
          242.385,
          242.0553,
          242.22,
          242.27,
          242.47,
          242.22,
          242.08,
          241.82,
          242.33,
          242.85,
          242.275,
          242.626,
          242.748,
          242.34,
          242.35,
          242.86,
          242.99,
          243.073,
          243.225,
          243.466,
          243.899,
          244.4,
          245.22,
          245.146,
          245.1,
          245.134,
          245.25,
          244.758,
          245.115,
          245.34,
          245.59,
          246.82,
          247.845,
          247.75,
          248,
          248.2,
          248.4735,
          248.42,
          248.452,
          248.387,
          248.32,
          248.34,
          248.49,
          248.81,
          247.909,
          246.175,
          245.464,
          243.773,
          242.86,
          242.92,
          243.57,
          243.34,
          243.124,
          243.335,
          242.65,
          242.6531,
          243.19
         ],
         "open": [
          236.02,
          235.1494,
          234.61,
          235.25,
          235.75,
          236.11,
          236.25,
          236.72,
          237.07,
          238,
          239.68,
          239.5,
          239.92,
          240.66,
          240.73,
          240.66,
          240.61,
          240.81,
          240.81,
          240.63,
          240.6985,
          240.5,
          241.16,
          241.0463,
          241.51,
          241.57,
          241.1,
          241.1941,
          241.72,
          241.9387,
          241.55,
          241.93,
          241.93,
          240.7578,
          240.82,
          242.1,
          241.8547,
          241.92,
          242.61,
          242.52,
          242.5087,
          242.47,
          242.664,
          242.48,
          242.6578,
          242.28,
          242.4801,
          242.5,
          244.51,
          242.6391,
          242.76,
          242.46,
          243.28,
          243.264,
          242.71,
          243.0178,
          243.02,
          242.42,
          242.87,
          243.01,
          243.14,
          243.71,
          243.4688,
          244.55,
          244.53,
          245.52,
          245.3812,
          245.55,
          245.2807,
          245.32,
          245.2798,
          245.26,
          245.39,
          245.66,
          247.48,
          248.02,
          248.29,
          248,
          248.48,
          248.5779,
          248.56,
          248.48,
          248.54,
          248.4069,
          248.34,
          248.495,
          248.94,
          249.08,
          247.8954,
          246.32,
          245.5378,
          243.9,
          243.11,
          244.45,
          243.5764,
          243.72,
          243.6548,
          243.73,
          242.67,
          243.72
         ],
         "type": "candlestick",
         "x": [
          "2019-10-18 12:00:00",
          "2019-10-18 12:30:00",
          "2019-10-18 13:00:00",
          "2019-10-18 13:30:00",
          "2019-10-18 14:00:00",
          "2019-10-18 14:30:00",
          "2019-10-18 15:00:00",
          "2019-10-18 15:30:00",
          "2019-10-18 16:00:00",
          "2019-10-21 10:00:00",
          "2019-10-21 10:30:00",
          "2019-10-21 11:00:00",
          "2019-10-21 11:30:00",
          "2019-10-21 12:00:00",
          "2019-10-21 12:30:00",
          "2019-10-21 13:00:00",
          "2019-10-21 13:30:00",
          "2019-10-21 14:00:00",
          "2019-10-21 14:30:00",
          "2019-10-21 15:00:00",
          "2019-10-21 15:30:00",
          "2019-10-21 16:00:00",
          "2019-10-22 10:00:00",
          "2019-10-22 10:30:00",
          "2019-10-22 11:00:00",
          "2019-10-22 11:30:00",
          "2019-10-22 12:00:00",
          "2019-10-22 12:30:00",
          "2019-10-22 13:00:00",
          "2019-10-22 13:30:00",
          "2019-10-22 14:00:00",
          "2019-10-22 14:30:00",
          "2019-10-22 15:00:00",
          "2019-10-22 15:30:00",
          "2019-10-22 16:00:00",
          "2019-10-23 10:00:00",
          "2019-10-23 10:30:00",
          "2019-10-23 11:00:00",
          "2019-10-23 11:30:00",
          "2019-10-23 12:00:00",
          "2019-10-23 12:30:00",
          "2019-10-23 13:00:00",
          "2019-10-23 13:30:00",
          "2019-10-23 14:00:00",
          "2019-10-23 14:30:00",
          "2019-10-23 15:00:00",
          "2019-10-23 15:30:00",
          "2019-10-23 16:00:00",
          "2019-10-24 10:00:00",
          "2019-10-24 10:30:00",
          "2019-10-24 11:00:00",
          "2019-10-24 11:30:00",
          "2019-10-24 12:00:00",
          "2019-10-24 12:30:00",
          "2019-10-24 13:00:00",
          "2019-10-24 13:30:00",
          "2019-10-24 14:00:00",
          "2019-10-24 14:30:00",
          "2019-10-24 15:00:00",
          "2019-10-24 15:30:00",
          "2019-10-24 16:00:00",
          "2019-10-25 10:00:00",
          "2019-10-25 10:30:00",
          "2019-10-25 11:00:00",
          "2019-10-25 11:30:00",
          "2019-10-25 12:00:00",
          "2019-10-25 12:30:00",
          "2019-10-25 13:00:00",
          "2019-10-25 13:30:00",
          "2019-10-25 14:00:00",
          "2019-10-25 14:30:00",
          "2019-10-25 15:00:00",
          "2019-10-25 15:30:00",
          "2019-10-25 16:00:00",
          "2019-10-28 10:00:00",
          "2019-10-28 10:30:00",
          "2019-10-28 11:00:00",
          "2019-10-28 11:30:00",
          "2019-10-28 12:00:00",
          "2019-10-28 12:30:00",
          "2019-10-28 13:00:00",
          "2019-10-28 13:30:00",
          "2019-10-28 14:00:00",
          "2019-10-28 14:30:00",
          "2019-10-28 15:00:00",
          "2019-10-28 15:30:00",
          "2019-10-28 16:00:00",
          "2019-10-29 10:00:00",
          "2019-10-29 10:30:00",
          "2019-10-29 11:00:00",
          "2019-10-29 11:30:00",
          "2019-10-29 12:00:00",
          "2019-10-29 12:30:00",
          "2019-10-29 13:00:00",
          "2019-10-29 13:30:00",
          "2019-10-29 14:00:00",
          "2019-10-29 14:30:00",
          "2019-10-29 15:00:00",
          "2019-10-29 15:30:00",
          "2019-10-29 16:00:00"
         ]
        }
       ],
       "layout": {
        "template": {
         "data": {
          "bar": [
           {
            "error_x": {
             "color": "#2a3f5f"
            },
            "error_y": {
             "color": "#2a3f5f"
            },
            "marker": {
             "line": {
              "color": "#E5ECF6",
              "width": 0.5
             }
            },
            "type": "bar"
           }
          ],
          "barpolar": [
           {
            "marker": {
             "line": {
              "color": "#E5ECF6",
              "width": 0.5
             }
            },
            "type": "barpolar"
           }
          ],
          "carpet": [
           {
            "aaxis": {
             "endlinecolor": "#2a3f5f",
             "gridcolor": "white",
             "linecolor": "white",
             "minorgridcolor": "white",
             "startlinecolor": "#2a3f5f"
            },
            "baxis": {
             "endlinecolor": "#2a3f5f",
             "gridcolor": "white",
             "linecolor": "white",
             "minorgridcolor": "white",
             "startlinecolor": "#2a3f5f"
            },
            "type": "carpet"
           }
          ],
          "choropleth": [
           {
            "colorbar": {
             "outlinewidth": 0,
             "ticks": ""
            },
            "type": "choropleth"
           }
          ],
          "contour": [
           {
            "colorbar": {
             "outlinewidth": 0,
             "ticks": ""
            },
            "colorscale": [
             [
              0,
              "#0d0887"
             ],
             [
              0.1111111111111111,
              "#46039f"
             ],
             [
              0.2222222222222222,
              "#7201a8"
             ],
             [
              0.3333333333333333,
              "#9c179e"
             ],
             [
              0.4444444444444444,
              "#bd3786"
             ],
             [
              0.5555555555555556,
              "#d8576b"
             ],
             [
              0.6666666666666666,
              "#ed7953"
             ],
             [
              0.7777777777777778,
              "#fb9f3a"
             ],
             [
              0.8888888888888888,
              "#fdca26"
             ],
             [
              1,
              "#f0f921"
             ]
            ],
            "type": "contour"
           }
          ],
          "contourcarpet": [
           {
            "colorbar": {
             "outlinewidth": 0,
             "ticks": ""
            },
            "type": "contourcarpet"
           }
          ],
          "heatmap": [
           {
            "colorbar": {
             "outlinewidth": 0,
             "ticks": ""
            },
            "colorscale": [
             [
              0,
              "#0d0887"
             ],
             [
              0.1111111111111111,
              "#46039f"
             ],
             [
              0.2222222222222222,
              "#7201a8"
             ],
             [
              0.3333333333333333,
              "#9c179e"
             ],
             [
              0.4444444444444444,
              "#bd3786"
             ],
             [
              0.5555555555555556,
              "#d8576b"
             ],
             [
              0.6666666666666666,
              "#ed7953"
             ],
             [
              0.7777777777777778,
              "#fb9f3a"
             ],
             [
              0.8888888888888888,
              "#fdca26"
             ],
             [
              1,
              "#f0f921"
             ]
            ],
            "type": "heatmap"
           }
          ],
          "heatmapgl": [
           {
            "colorbar": {
             "outlinewidth": 0,
             "ticks": ""
            },
            "colorscale": [
             [
              0,
              "#0d0887"
             ],
             [
              0.1111111111111111,
              "#46039f"
             ],
             [
              0.2222222222222222,
              "#7201a8"
             ],
             [
              0.3333333333333333,
              "#9c179e"
             ],
             [
              0.4444444444444444,
              "#bd3786"
             ],
             [
              0.5555555555555556,
              "#d8576b"
             ],
             [
              0.6666666666666666,
              "#ed7953"
             ],
             [
              0.7777777777777778,
              "#fb9f3a"
             ],
             [
              0.8888888888888888,
              "#fdca26"
             ],
             [
              1,
              "#f0f921"
             ]
            ],
            "type": "heatmapgl"
           }
          ],
          "histogram": [
           {
            "marker": {
             "colorbar": {
              "outlinewidth": 0,
              "ticks": ""
             }
            },
            "type": "histogram"
           }
          ],
          "histogram2d": [
           {
            "colorbar": {
             "outlinewidth": 0,
             "ticks": ""
            },
            "colorscale": [
             [
              0,
              "#0d0887"
             ],
             [
              0.1111111111111111,
              "#46039f"
             ],
             [
              0.2222222222222222,
              "#7201a8"
             ],
             [
              0.3333333333333333,
              "#9c179e"
             ],
             [
              0.4444444444444444,
              "#bd3786"
             ],
             [
              0.5555555555555556,
              "#d8576b"
             ],
             [
              0.6666666666666666,
              "#ed7953"
             ],
             [
              0.7777777777777778,
              "#fb9f3a"
             ],
             [
              0.8888888888888888,
              "#fdca26"
             ],
             [
              1,
              "#f0f921"
             ]
            ],
            "type": "histogram2d"
           }
          ],
          "histogram2dcontour": [
           {
            "colorbar": {
             "outlinewidth": 0,
             "ticks": ""
            },
            "colorscale": [
             [
              0,
              "#0d0887"
             ],
             [
              0.1111111111111111,
              "#46039f"
             ],
             [
              0.2222222222222222,
              "#7201a8"
             ],
             [
              0.3333333333333333,
              "#9c179e"
             ],
             [
              0.4444444444444444,
              "#bd3786"
             ],
             [
              0.5555555555555556,
              "#d8576b"
             ],
             [
              0.6666666666666666,
              "#ed7953"
             ],
             [
              0.7777777777777778,
              "#fb9f3a"
             ],
             [
              0.8888888888888888,
              "#fdca26"
             ],
             [
              1,
              "#f0f921"
             ]
            ],
            "type": "histogram2dcontour"
           }
          ],
          "mesh3d": [
           {
            "colorbar": {
             "outlinewidth": 0,
             "ticks": ""
            },
            "type": "mesh3d"
           }
          ],
          "parcoords": [
           {
            "line": {
             "colorbar": {
              "outlinewidth": 0,
              "ticks": ""
             }
            },
            "type": "parcoords"
           }
          ],
          "scatter": [
           {
            "marker": {
             "colorbar": {
              "outlinewidth": 0,
              "ticks": ""
             }
            },
            "type": "scatter"
           }
          ],
          "scatter3d": [
           {
            "line": {
             "colorbar": {
              "outlinewidth": 0,
              "ticks": ""
             }
            },
            "marker": {
             "colorbar": {
              "outlinewidth": 0,
              "ticks": ""
             }
            },
            "type": "scatter3d"
           }
          ],
          "scattercarpet": [
           {
            "marker": {
             "colorbar": {
              "outlinewidth": 0,
              "ticks": ""
             }
            },
            "type": "scattercarpet"
           }
          ],
          "scattergeo": [
           {
            "marker": {
             "colorbar": {
              "outlinewidth": 0,
              "ticks": ""
             }
            },
            "type": "scattergeo"
           }
          ],
          "scattergl": [
           {
            "marker": {
             "colorbar": {
              "outlinewidth": 0,
              "ticks": ""
             }
            },
            "type": "scattergl"
           }
          ],
          "scattermapbox": [
           {
            "marker": {
             "colorbar": {
              "outlinewidth": 0,
              "ticks": ""
             }
            },
            "type": "scattermapbox"
           }
          ],
          "scatterpolar": [
           {
            "marker": {
             "colorbar": {
              "outlinewidth": 0,
              "ticks": ""
             }
            },
            "type": "scatterpolar"
           }
          ],
          "scatterpolargl": [
           {
            "marker": {
             "colorbar": {
              "outlinewidth": 0,
              "ticks": ""
             }
            },
            "type": "scatterpolargl"
           }
          ],
          "scatterternary": [
           {
            "marker": {
             "colorbar": {
              "outlinewidth": 0,
              "ticks": ""
             }
            },
            "type": "scatterternary"
           }
          ],
          "surface": [
           {
            "colorbar": {
             "outlinewidth": 0,
             "ticks": ""
            },
            "colorscale": [
             [
              0,
              "#0d0887"
             ],
             [
              0.1111111111111111,
              "#46039f"
             ],
             [
              0.2222222222222222,
              "#7201a8"
             ],
             [
              0.3333333333333333,
              "#9c179e"
             ],
             [
              0.4444444444444444,
              "#bd3786"
             ],
             [
              0.5555555555555556,
              "#d8576b"
             ],
             [
              0.6666666666666666,
              "#ed7953"
             ],
             [
              0.7777777777777778,
              "#fb9f3a"
             ],
             [
              0.8888888888888888,
              "#fdca26"
             ],
             [
              1,
              "#f0f921"
             ]
            ],
            "type": "surface"
           }
          ],
          "table": [
           {
            "cells": {
             "fill": {
              "color": "#EBF0F8"
             },
             "line": {
              "color": "white"
             }
            },
            "header": {
             "fill": {
              "color": "#C8D4E3"
             },
             "line": {
              "color": "white"
             }
            },
            "type": "table"
           }
          ]
         },
         "layout": {
          "annotationdefaults": {
           "arrowcolor": "#2a3f5f",
           "arrowhead": 0,
           "arrowwidth": 1
          },
          "colorscale": {
           "diverging": [
            [
             0,
             "#8e0152"
            ],
            [
             0.1,
             "#c51b7d"
            ],
            [
             0.2,
             "#de77ae"
            ],
            [
             0.3,
             "#f1b6da"
            ],
            [
             0.4,
             "#fde0ef"
            ],
            [
             0.5,
             "#f7f7f7"
            ],
            [
             0.6,
             "#e6f5d0"
            ],
            [
             0.7,
             "#b8e186"
            ],
            [
             0.8,
             "#7fbc41"
            ],
            [
             0.9,
             "#4d9221"
            ],
            [
             1,
             "#276419"
            ]
           ],
           "sequential": [
            [
             0,
             "#0d0887"
            ],
            [
             0.1111111111111111,
             "#46039f"
            ],
            [
             0.2222222222222222,
             "#7201a8"
            ],
            [
             0.3333333333333333,
             "#9c179e"
            ],
            [
             0.4444444444444444,
             "#bd3786"
            ],
            [
             0.5555555555555556,
             "#d8576b"
            ],
            [
             0.6666666666666666,
             "#ed7953"
            ],
            [
             0.7777777777777778,
             "#fb9f3a"
            ],
            [
             0.8888888888888888,
             "#fdca26"
            ],
            [
             1,
             "#f0f921"
            ]
           ],
           "sequentialminus": [
            [
             0,
             "#0d0887"
            ],
            [
             0.1111111111111111,
             "#46039f"
            ],
            [
             0.2222222222222222,
             "#7201a8"
            ],
            [
             0.3333333333333333,
             "#9c179e"
            ],
            [
             0.4444444444444444,
             "#bd3786"
            ],
            [
             0.5555555555555556,
             "#d8576b"
            ],
            [
             0.6666666666666666,
             "#ed7953"
            ],
            [
             0.7777777777777778,
             "#fb9f3a"
            ],
            [
             0.8888888888888888,
             "#fdca26"
            ],
            [
             1,
             "#f0f921"
            ]
           ]
          },
          "colorway": [
           "#636efa",
           "#EF553B",
           "#00cc96",
           "#ab63fa",
           "#FFA15A",
           "#19d3f3",
           "#FF6692",
           "#B6E880",
           "#FF97FF",
           "#FECB52"
          ],
          "font": {
           "color": "#2a3f5f"
          },
          "geo": {
           "bgcolor": "white",
           "lakecolor": "white",
           "landcolor": "#E5ECF6",
           "showlakes": true,
           "showland": true,
           "subunitcolor": "white"
          },
          "hoverlabel": {
           "align": "left"
          },
          "hovermode": "closest",
          "mapbox": {
           "style": "light"
          },
          "paper_bgcolor": "white",
          "plot_bgcolor": "#E5ECF6",
          "polar": {
           "angularaxis": {
            "gridcolor": "white",
            "linecolor": "white",
            "ticks": ""
           },
           "bgcolor": "#E5ECF6",
           "radialaxis": {
            "gridcolor": "white",
            "linecolor": "white",
            "ticks": ""
           }
          },
          "scene": {
           "xaxis": {
            "backgroundcolor": "#E5ECF6",
            "gridcolor": "white",
            "gridwidth": 2,
            "linecolor": "white",
            "showbackground": true,
            "ticks": "",
            "zerolinecolor": "white"
           },
           "yaxis": {
            "backgroundcolor": "#E5ECF6",
            "gridcolor": "white",
            "gridwidth": 2,
            "linecolor": "white",
            "showbackground": true,
            "ticks": "",
            "zerolinecolor": "white"
           },
           "zaxis": {
            "backgroundcolor": "#E5ECF6",
            "gridcolor": "white",
            "gridwidth": 2,
            "linecolor": "white",
            "showbackground": true,
            "ticks": "",
            "zerolinecolor": "white"
           }
          },
          "shapedefaults": {
           "line": {
            "color": "#2a3f5f"
           }
          },
          "ternary": {
           "aaxis": {
            "gridcolor": "white",
            "linecolor": "white",
            "ticks": ""
           },
           "baxis": {
            "gridcolor": "white",
            "linecolor": "white",
            "ticks": ""
           },
           "bgcolor": "#E5ECF6",
           "caxis": {
            "gridcolor": "white",
            "linecolor": "white",
            "ticks": ""
           }
          },
          "title": {
           "x": 0.05
          },
          "xaxis": {
           "automargin": true,
           "gridcolor": "white",
           "linecolor": "white",
           "ticks": "",
           "zerolinecolor": "white",
           "zerolinewidth": 2
          },
          "yaxis": {
           "automargin": true,
           "gridcolor": "white",
           "linecolor": "white",
           "ticks": "",
           "zerolinecolor": "white",
           "zerolinewidth": 2
          }
         }
        },
        "title": {
         "text": "GOOGL Stock Price"
        },
        "xaxis": {
         "rangeslider": {
          "visible": false
         }
        }
       }
      },
      "text/html": [
       "<div>\n",
       "        \n",
       "        \n",
       "            <div id=\"e491b336-a950-47b1-b0b4-f355f41026b5\" class=\"plotly-graph-div\" style=\"height:525px; width:100%;\"></div>\n",
       "            <script type=\"text/javascript\">\n",
       "                require([\"plotly\"], function(Plotly) {\n",
       "                    window.PLOTLYENV=window.PLOTLYENV || {};\n",
       "                    \n",
       "                if (document.getElementById(\"e491b336-a950-47b1-b0b4-f355f41026b5\")) {\n",
       "                    Plotly.newPlot(\n",
       "                        'e491b336-a950-47b1-b0b4-f355f41026b5',\n",
       "                        [{\"close\": [235.14, 234.6094, 235.24, 235.74, 236.11, 236.25, 236.71, 237.07, 236.28, 239.7, 239.5, 239.92, 240.65, 240.73, 240.63, 240.58, 240.81, 240.8, 240.6287, 240.69, 240.5, 240.53, 241.03, 241.5264, 241.56, 241.1, 241.19, 241.72, 241.94, 241.5637, 241.94, 241.8985, 240.75, 240.8378, 239.97, 241.85, 241.8847, 242.62, 242.52, 242.51, 242.4787, 242.67, 242.461, 242.64, 242.2959, 242.47, 242.5101, 243.17, 242.61, 242.7691, 242.45, 243.2601, 243.28, 242.734, 243.01, 243.0277, 242.41, 242.8818, 243.0, 243.13, 243.6, 243.48, 244.5588, 244.53, 245.53, 245.37, 245.5201, 245.26, 245.3148, 245.26, 245.2718, 245.41, 245.65, 246.58, 248.03, 248.2956, 248.14, 248.47, 248.56, 248.5679, 248.49, 248.54, 248.41, 248.35, 248.5, 248.95, 249.04, 247.91, 246.3157, 245.5, 243.9017, 243.17, 244.42, 243.57, 243.7164, 243.67, 243.7348, 242.68, 243.72, 243.29], \"high\": [236.14, 235.45, 235.24, 235.801, 236.59, 236.35, 236.71, 237.51, 237.32, 239.96, 239.96, 239.92, 240.73, 240.855, 240.83, 240.925, 240.85, 240.905, 240.915, 240.74, 240.728, 240.64, 241.82, 241.7941, 241.762, 241.675, 241.55, 241.7484, 241.96, 242.2048, 241.94, 242.14, 242.05, 240.842, 240.94, 242.91, 242.12, 242.75, 242.87, 242.8, 242.53, 242.71, 242.685, 242.68, 242.8861, 242.48, 242.61, 243.25, 244.81, 242.932, 242.81, 243.278, 243.43, 243.338, 243.286, 243.06, 243.09, 242.8818, 243.206, 243.22, 243.66, 243.955, 244.7772, 244.683, 245.7, 245.611, 245.638, 245.61, 245.36, 245.516, 245.3, 245.44, 245.82, 246.75, 248.192, 248.57, 248.6, 248.73, 248.623, 248.964, 248.65, 248.67, 248.66, 248.48, 248.6, 248.98, 249.04, 249.61, 248.02, 246.8, 245.68, 244.17, 244.73, 244.71, 243.945, 243.83, 243.84, 243.76, 244.39, 243.97], \"low\": [235.02, 234.5, 234.574, 235.25, 235.72, 235.958, 236.09, 236.706, 236.27, 237.89, 239.25, 239.39, 239.89, 240.135, 240.6, 240.58, 240.495, 240.69, 240.625, 240.557, 240.4, 240.07, 240.43, 240.9332, 241.51, 241.1, 240.975, 241.0475, 241.58, 241.5547, 241.54, 241.79, 240.37, 240.24, 239.712, 241.45, 241.265, 241.4, 242.47, 242.401, 242.05, 242.406, 242.14, 242.385, 242.0553, 242.22, 242.27, 242.47, 242.22, 242.08, 241.82, 242.33, 242.85, 242.275, 242.626, 242.748, 242.34, 242.35, 242.86, 242.99, 243.073, 243.225, 243.466, 243.899, 244.4, 245.22, 245.146, 245.1, 245.134, 245.25, 244.758, 245.115, 245.34, 245.59, 246.82, 247.845, 247.75, 248.0, 248.2, 248.4735, 248.42, 248.452, 248.387, 248.32, 248.34, 248.49, 248.81, 247.909, 246.175, 245.464, 243.773, 242.86, 242.92, 243.57, 243.34, 243.124, 243.335, 242.65, 242.6531, 243.19], \"open\": [236.02, 235.1494, 234.61, 235.25, 235.75, 236.11, 236.25, 236.72, 237.07, 238.0, 239.68, 239.5, 239.92, 240.66, 240.73, 240.66, 240.61, 240.81, 240.81, 240.63, 240.6985, 240.5, 241.16, 241.0463, 241.51, 241.57, 241.1, 241.1941, 241.72, 241.9387, 241.55, 241.93, 241.93, 240.7578, 240.82, 242.1, 241.8547, 241.92, 242.61, 242.52, 242.5087, 242.47, 242.664, 242.48, 242.6578, 242.28, 242.4801, 242.5, 244.51, 242.6391, 242.76, 242.46, 243.28, 243.264, 242.71, 243.0178, 243.02, 242.42, 242.87, 243.01, 243.14, 243.71, 243.4688, 244.55, 244.53, 245.52, 245.3812, 245.55, 245.2807, 245.32, 245.2798, 245.26, 245.39, 245.66, 247.48, 248.02, 248.29, 248.0, 248.48, 248.5779, 248.56, 248.48, 248.54, 248.4069, 248.34, 248.495, 248.94, 249.08, 247.8954, 246.32, 245.5378, 243.9, 243.11, 244.45, 243.5764, 243.72, 243.6548, 243.73, 242.67, 243.72], \"type\": \"candlestick\", \"x\": [\"2019-10-18 12:00:00\", \"2019-10-18 12:30:00\", \"2019-10-18 13:00:00\", \"2019-10-18 13:30:00\", \"2019-10-18 14:00:00\", \"2019-10-18 14:30:00\", \"2019-10-18 15:00:00\", \"2019-10-18 15:30:00\", \"2019-10-18 16:00:00\", \"2019-10-21 10:00:00\", \"2019-10-21 10:30:00\", \"2019-10-21 11:00:00\", \"2019-10-21 11:30:00\", \"2019-10-21 12:00:00\", \"2019-10-21 12:30:00\", \"2019-10-21 13:00:00\", \"2019-10-21 13:30:00\", \"2019-10-21 14:00:00\", \"2019-10-21 14:30:00\", \"2019-10-21 15:00:00\", \"2019-10-21 15:30:00\", \"2019-10-21 16:00:00\", \"2019-10-22 10:00:00\", \"2019-10-22 10:30:00\", \"2019-10-22 11:00:00\", \"2019-10-22 11:30:00\", \"2019-10-22 12:00:00\", \"2019-10-22 12:30:00\", \"2019-10-22 13:00:00\", \"2019-10-22 13:30:00\", \"2019-10-22 14:00:00\", \"2019-10-22 14:30:00\", \"2019-10-22 15:00:00\", \"2019-10-22 15:30:00\", \"2019-10-22 16:00:00\", \"2019-10-23 10:00:00\", \"2019-10-23 10:30:00\", \"2019-10-23 11:00:00\", \"2019-10-23 11:30:00\", \"2019-10-23 12:00:00\", \"2019-10-23 12:30:00\", \"2019-10-23 13:00:00\", \"2019-10-23 13:30:00\", \"2019-10-23 14:00:00\", \"2019-10-23 14:30:00\", \"2019-10-23 15:00:00\", \"2019-10-23 15:30:00\", \"2019-10-23 16:00:00\", \"2019-10-24 10:00:00\", \"2019-10-24 10:30:00\", \"2019-10-24 11:00:00\", \"2019-10-24 11:30:00\", \"2019-10-24 12:00:00\", \"2019-10-24 12:30:00\", \"2019-10-24 13:00:00\", \"2019-10-24 13:30:00\", \"2019-10-24 14:00:00\", \"2019-10-24 14:30:00\", \"2019-10-24 15:00:00\", \"2019-10-24 15:30:00\", \"2019-10-24 16:00:00\", \"2019-10-25 10:00:00\", \"2019-10-25 10:30:00\", \"2019-10-25 11:00:00\", \"2019-10-25 11:30:00\", \"2019-10-25 12:00:00\", \"2019-10-25 12:30:00\", \"2019-10-25 13:00:00\", \"2019-10-25 13:30:00\", \"2019-10-25 14:00:00\", \"2019-10-25 14:30:00\", \"2019-10-25 15:00:00\", \"2019-10-25 15:30:00\", \"2019-10-25 16:00:00\", \"2019-10-28 10:00:00\", \"2019-10-28 10:30:00\", \"2019-10-28 11:00:00\", \"2019-10-28 11:30:00\", \"2019-10-28 12:00:00\", \"2019-10-28 12:30:00\", \"2019-10-28 13:00:00\", \"2019-10-28 13:30:00\", \"2019-10-28 14:00:00\", \"2019-10-28 14:30:00\", \"2019-10-28 15:00:00\", \"2019-10-28 15:30:00\", \"2019-10-28 16:00:00\", \"2019-10-29 10:00:00\", \"2019-10-29 10:30:00\", \"2019-10-29 11:00:00\", \"2019-10-29 11:30:00\", \"2019-10-29 12:00:00\", \"2019-10-29 12:30:00\", \"2019-10-29 13:00:00\", \"2019-10-29 13:30:00\", \"2019-10-29 14:00:00\", \"2019-10-29 14:30:00\", \"2019-10-29 15:00:00\", \"2019-10-29 15:30:00\", \"2019-10-29 16:00:00\"]}],\n",
       "                        {\"template\": {\"data\": {\"bar\": [{\"error_x\": {\"color\": \"#2a3f5f\"}, \"error_y\": {\"color\": \"#2a3f5f\"}, \"marker\": {\"line\": {\"color\": \"#E5ECF6\", \"width\": 0.5}}, \"type\": \"bar\"}], \"barpolar\": [{\"marker\": {\"line\": {\"color\": \"#E5ECF6\", \"width\": 0.5}}, \"type\": \"barpolar\"}], \"carpet\": [{\"aaxis\": {\"endlinecolor\": \"#2a3f5f\", \"gridcolor\": \"white\", \"linecolor\": \"white\", \"minorgridcolor\": \"white\", \"startlinecolor\": \"#2a3f5f\"}, \"baxis\": {\"endlinecolor\": \"#2a3f5f\", \"gridcolor\": \"white\", \"linecolor\": \"white\", \"minorgridcolor\": \"white\", \"startlinecolor\": \"#2a3f5f\"}, \"type\": \"carpet\"}], \"choropleth\": [{\"colorbar\": {\"outlinewidth\": 0, \"ticks\": \"\"}, \"type\": \"choropleth\"}], \"contour\": [{\"colorbar\": {\"outlinewidth\": 0, \"ticks\": \"\"}, \"colorscale\": [[0.0, \"#0d0887\"], [0.1111111111111111, \"#46039f\"], [0.2222222222222222, \"#7201a8\"], [0.3333333333333333, \"#9c179e\"], [0.4444444444444444, \"#bd3786\"], [0.5555555555555556, \"#d8576b\"], [0.6666666666666666, \"#ed7953\"], [0.7777777777777778, \"#fb9f3a\"], [0.8888888888888888, \"#fdca26\"], [1.0, \"#f0f921\"]], \"type\": \"contour\"}], \"contourcarpet\": [{\"colorbar\": {\"outlinewidth\": 0, \"ticks\": \"\"}, \"type\": \"contourcarpet\"}], \"heatmap\": [{\"colorbar\": {\"outlinewidth\": 0, \"ticks\": \"\"}, \"colorscale\": [[0.0, \"#0d0887\"], [0.1111111111111111, \"#46039f\"], [0.2222222222222222, \"#7201a8\"], [0.3333333333333333, \"#9c179e\"], [0.4444444444444444, \"#bd3786\"], [0.5555555555555556, \"#d8576b\"], [0.6666666666666666, \"#ed7953\"], [0.7777777777777778, \"#fb9f3a\"], [0.8888888888888888, \"#fdca26\"], [1.0, \"#f0f921\"]], \"type\": \"heatmap\"}], \"heatmapgl\": [{\"colorbar\": {\"outlinewidth\": 0, \"ticks\": \"\"}, \"colorscale\": [[0.0, \"#0d0887\"], [0.1111111111111111, \"#46039f\"], [0.2222222222222222, \"#7201a8\"], [0.3333333333333333, \"#9c179e\"], [0.4444444444444444, \"#bd3786\"], [0.5555555555555556, \"#d8576b\"], [0.6666666666666666, \"#ed7953\"], [0.7777777777777778, \"#fb9f3a\"], [0.8888888888888888, \"#fdca26\"], [1.0, \"#f0f921\"]], \"type\": \"heatmapgl\"}], \"histogram\": [{\"marker\": {\"colorbar\": {\"outlinewidth\": 0, \"ticks\": \"\"}}, \"type\": \"histogram\"}], \"histogram2d\": [{\"colorbar\": {\"outlinewidth\": 0, \"ticks\": \"\"}, \"colorscale\": [[0.0, \"#0d0887\"], [0.1111111111111111, \"#46039f\"], [0.2222222222222222, \"#7201a8\"], [0.3333333333333333, \"#9c179e\"], [0.4444444444444444, \"#bd3786\"], [0.5555555555555556, \"#d8576b\"], [0.6666666666666666, \"#ed7953\"], [0.7777777777777778, \"#fb9f3a\"], [0.8888888888888888, \"#fdca26\"], [1.0, \"#f0f921\"]], \"type\": \"histogram2d\"}], \"histogram2dcontour\": [{\"colorbar\": {\"outlinewidth\": 0, \"ticks\": \"\"}, \"colorscale\": [[0.0, \"#0d0887\"], [0.1111111111111111, \"#46039f\"], [0.2222222222222222, \"#7201a8\"], [0.3333333333333333, \"#9c179e\"], [0.4444444444444444, \"#bd3786\"], [0.5555555555555556, \"#d8576b\"], [0.6666666666666666, \"#ed7953\"], [0.7777777777777778, \"#fb9f3a\"], [0.8888888888888888, \"#fdca26\"], [1.0, \"#f0f921\"]], \"type\": \"histogram2dcontour\"}], \"mesh3d\": [{\"colorbar\": {\"outlinewidth\": 0, \"ticks\": \"\"}, \"type\": \"mesh3d\"}], \"parcoords\": [{\"line\": {\"colorbar\": {\"outlinewidth\": 0, \"ticks\": \"\"}}, \"type\": \"parcoords\"}], \"scatter\": [{\"marker\": {\"colorbar\": {\"outlinewidth\": 0, \"ticks\": \"\"}}, \"type\": \"scatter\"}], \"scatter3d\": [{\"line\": {\"colorbar\": {\"outlinewidth\": 0, \"ticks\": \"\"}}, \"marker\": {\"colorbar\": {\"outlinewidth\": 0, \"ticks\": \"\"}}, \"type\": \"scatter3d\"}], \"scattercarpet\": [{\"marker\": {\"colorbar\": {\"outlinewidth\": 0, \"ticks\": \"\"}}, \"type\": \"scattercarpet\"}], \"scattergeo\": [{\"marker\": {\"colorbar\": {\"outlinewidth\": 0, \"ticks\": \"\"}}, \"type\": \"scattergeo\"}], \"scattergl\": [{\"marker\": {\"colorbar\": {\"outlinewidth\": 0, \"ticks\": \"\"}}, \"type\": \"scattergl\"}], \"scattermapbox\": [{\"marker\": {\"colorbar\": {\"outlinewidth\": 0, \"ticks\": \"\"}}, \"type\": \"scattermapbox\"}], \"scatterpolar\": [{\"marker\": {\"colorbar\": {\"outlinewidth\": 0, \"ticks\": \"\"}}, \"type\": \"scatterpolar\"}], \"scatterpolargl\": [{\"marker\": {\"colorbar\": {\"outlinewidth\": 0, \"ticks\": \"\"}}, \"type\": \"scatterpolargl\"}], \"scatterternary\": [{\"marker\": {\"colorbar\": {\"outlinewidth\": 0, \"ticks\": \"\"}}, \"type\": \"scatterternary\"}], \"surface\": [{\"colorbar\": {\"outlinewidth\": 0, \"ticks\": \"\"}, \"colorscale\": [[0.0, \"#0d0887\"], [0.1111111111111111, \"#46039f\"], [0.2222222222222222, \"#7201a8\"], [0.3333333333333333, \"#9c179e\"], [0.4444444444444444, \"#bd3786\"], [0.5555555555555556, \"#d8576b\"], [0.6666666666666666, \"#ed7953\"], [0.7777777777777778, \"#fb9f3a\"], [0.8888888888888888, \"#fdca26\"], [1.0, \"#f0f921\"]], \"type\": \"surface\"}], \"table\": [{\"cells\": {\"fill\": {\"color\": \"#EBF0F8\"}, \"line\": {\"color\": \"white\"}}, \"header\": {\"fill\": {\"color\": \"#C8D4E3\"}, \"line\": {\"color\": \"white\"}}, \"type\": \"table\"}]}, \"layout\": {\"annotationdefaults\": {\"arrowcolor\": \"#2a3f5f\", \"arrowhead\": 0, \"arrowwidth\": 1}, \"colorscale\": {\"diverging\": [[0, \"#8e0152\"], [0.1, \"#c51b7d\"], [0.2, \"#de77ae\"], [0.3, \"#f1b6da\"], [0.4, \"#fde0ef\"], [0.5, \"#f7f7f7\"], [0.6, \"#e6f5d0\"], [0.7, \"#b8e186\"], [0.8, \"#7fbc41\"], [0.9, \"#4d9221\"], [1, \"#276419\"]], \"sequential\": [[0.0, \"#0d0887\"], [0.1111111111111111, \"#46039f\"], [0.2222222222222222, \"#7201a8\"], [0.3333333333333333, \"#9c179e\"], [0.4444444444444444, \"#bd3786\"], [0.5555555555555556, \"#d8576b\"], [0.6666666666666666, \"#ed7953\"], [0.7777777777777778, \"#fb9f3a\"], [0.8888888888888888, \"#fdca26\"], [1.0, \"#f0f921\"]], \"sequentialminus\": [[0.0, \"#0d0887\"], [0.1111111111111111, \"#46039f\"], [0.2222222222222222, \"#7201a8\"], [0.3333333333333333, \"#9c179e\"], [0.4444444444444444, \"#bd3786\"], [0.5555555555555556, \"#d8576b\"], [0.6666666666666666, \"#ed7953\"], [0.7777777777777778, \"#fb9f3a\"], [0.8888888888888888, \"#fdca26\"], [1.0, \"#f0f921\"]]}, \"colorway\": [\"#636efa\", \"#EF553B\", \"#00cc96\", \"#ab63fa\", \"#FFA15A\", \"#19d3f3\", \"#FF6692\", \"#B6E880\", \"#FF97FF\", \"#FECB52\"], \"font\": {\"color\": \"#2a3f5f\"}, \"geo\": {\"bgcolor\": \"white\", \"lakecolor\": \"white\", \"landcolor\": \"#E5ECF6\", \"showlakes\": true, \"showland\": true, \"subunitcolor\": \"white\"}, \"hoverlabel\": {\"align\": \"left\"}, \"hovermode\": \"closest\", \"mapbox\": {\"style\": \"light\"}, \"paper_bgcolor\": \"white\", \"plot_bgcolor\": \"#E5ECF6\", \"polar\": {\"angularaxis\": {\"gridcolor\": \"white\", \"linecolor\": \"white\", \"ticks\": \"\"}, \"bgcolor\": \"#E5ECF6\", \"radialaxis\": {\"gridcolor\": \"white\", \"linecolor\": \"white\", \"ticks\": \"\"}}, \"scene\": {\"xaxis\": {\"backgroundcolor\": \"#E5ECF6\", \"gridcolor\": \"white\", \"gridwidth\": 2, \"linecolor\": \"white\", \"showbackground\": true, \"ticks\": \"\", \"zerolinecolor\": \"white\"}, \"yaxis\": {\"backgroundcolor\": \"#E5ECF6\", \"gridcolor\": \"white\", \"gridwidth\": 2, \"linecolor\": \"white\", \"showbackground\": true, \"ticks\": \"\", \"zerolinecolor\": \"white\"}, \"zaxis\": {\"backgroundcolor\": \"#E5ECF6\", \"gridcolor\": \"white\", \"gridwidth\": 2, \"linecolor\": \"white\", \"showbackground\": true, \"ticks\": \"\", \"zerolinecolor\": \"white\"}}, \"shapedefaults\": {\"line\": {\"color\": \"#2a3f5f\"}}, \"ternary\": {\"aaxis\": {\"gridcolor\": \"white\", \"linecolor\": \"white\", \"ticks\": \"\"}, \"baxis\": {\"gridcolor\": \"white\", \"linecolor\": \"white\", \"ticks\": \"\"}, \"bgcolor\": \"#E5ECF6\", \"caxis\": {\"gridcolor\": \"white\", \"linecolor\": \"white\", \"ticks\": \"\"}}, \"title\": {\"x\": 0.05}, \"xaxis\": {\"automargin\": true, \"gridcolor\": \"white\", \"linecolor\": \"white\", \"ticks\": \"\", \"zerolinecolor\": \"white\", \"zerolinewidth\": 2}, \"yaxis\": {\"automargin\": true, \"gridcolor\": \"white\", \"linecolor\": \"white\", \"ticks\": \"\", \"zerolinecolor\": \"white\", \"zerolinewidth\": 2}}}, \"title\": {\"text\": \"GOOGL Stock Price\"}, \"xaxis\": {\"rangeslider\": {\"visible\": false}}},\n",
       "                        {\"responsive\": true}\n",
       "                    ).then(function(){\n",
       "                            \n",
       "var gd = document.getElementById('e491b336-a950-47b1-b0b4-f355f41026b5');\n",
       "var x = new MutationObserver(function (mutations, observer) {{\n",
       "        var display = window.getComputedStyle(gd).display;\n",
       "        if (!display || display === 'none') {{\n",
       "            console.log([gd, 'removed!']);\n",
       "            Plotly.purge(gd);\n",
       "            observer.disconnect();\n",
       "        }}\n",
       "}});\n",
       "\n",
       "// Listen for the removal of the full notebook cells\n",
       "var notebookContainer = gd.closest('#notebook-container');\n",
       "if (notebookContainer) {{\n",
       "    x.observe(notebookContainer, {childList: true});\n",
       "}}\n",
       "\n",
       "// Listen for the clearing of the current output cell\n",
       "var outputEl = gd.closest('.output');\n",
       "if (outputEl) {{\n",
       "    x.observe(outputEl, {childList: true});\n",
       "}}\n",
       "\n",
       "                        })\n",
       "                };\n",
       "                });\n",
       "            </script>\n",
       "        </div>"
      ]
     },
     "metadata": {},
     "output_type": "display_data"
    }
   ],
   "source": [
    "fig = go.Figure(data=[go.Candlestick(x=aapl_data.index,\n",
    "                open=aapl_data['1. open'],\n",
    "                high=aapl_data['2. high'],\n",
    "                low=aapl_data['3. low'],\n",
    "                close=aapl_data['4. close'])])\n",
    "fig.update_layout(\n",
    "    xaxis_rangeslider_visible=False,\n",
    "    title_text='GOOGL Stock Price',\n",
    ")\n",
    "fig.show()"
   ]
  },
  {
   "cell_type": "markdown",
   "metadata": {},
   "source": [
    "Note that the total number of data is only 100, the default number of data we can get for 'compact' argument."
   ]
  },
  {
   "cell_type": "markdown",
   "metadata": {},
   "source": [
    "## Twitter\n",
    "\n",
    "Will use `tweepy` [docs](https://tweepy.readthedocs.io/en/latest/) to get data from twitter API. Source of the analysis done is from [Analytics Vidhya](https://www.analyticsvidhya.com/blog/2018/02/the-different-methods-deal-text-data-predictive-python)"
   ]
  },
  {
   "cell_type": "code",
   "execution_count": 191,
   "metadata": {
    "ExecuteTime": {
     "end_time": "2019-10-30T08:40:13.407000Z",
     "start_time": "2019-10-30T08:40:10.825000Z"
    }
   },
   "outputs": [
    {
     "name": "stderr",
     "output_type": "stream",
     "text": [
      "[nltk_data] Downloading package stopwords to\n",
      "[nltk_data]     C:\\Users\\gunawan.gaol\\AppData\\Roaming\\nltk_data...\n",
      "[nltk_data]   Unzipping corpora\\stopwords.zip.\n"
     ]
    }
   ],
   "source": [
    "import pandas as pd \n",
    "import numpy as np\n",
    "import tweepy as tp\n",
    "\n",
    "import re\n",
    "import nltk\n",
    "nltk.download('stopwords')\n",
    "from nltk.corpus import stopwords\n",
    "from nltk.stem import PorterStemmer\n",
    "from textblob import TextBlob\n",
    "\n",
    "import matplotlib.pyplot as plt\n",
    "import seaborn as sns \n",
    "%matplotlib inline "
   ]
  },
  {
   "cell_type": "markdown",
   "metadata": {},
   "source": [
    "### SECTION A: Data Preparation"
   ]
  },
  {
   "cell_type": "markdown",
   "metadata": {},
   "source": [
    "Initialize api instance and authentication."
   ]
  },
  {
   "cell_type": "code",
   "execution_count": 255,
   "metadata": {
    "ExecuteTime": {
     "end_time": "2019-10-30T09:12:05.118000Z",
     "start_time": "2019-10-30T09:12:05.100000Z"
    }
   },
   "outputs": [],
   "source": [
    "# initialize api instance\n",
    "consumer_key = config['twitter']['API_KEY']\n",
    "consumer_secret = config['twitter']['API_SECRET_KEY']\n",
    "access_token = config['twitter']['TOKEN']\n",
    "access_token_secret = config['twitter']['TOKEN_SECRET']\n",
    "\n",
    "#Authentication\n",
    "auth = tp.OAuthHandler(consumer_key, consumer_secret)\n",
    "auth.set_access_token(access_token, access_token_secret)\n",
    "api = tp.API(auth)"
   ]
  },
  {
   "cell_type": "markdown",
   "metadata": {},
   "source": [
    "Search related topic in tweets, limit the number of returned results of 500."
   ]
  },
  {
   "cell_type": "code",
   "execution_count": 256,
   "metadata": {
    "ExecuteTime": {
     "end_time": "2019-10-30T09:12:22.803000Z",
     "start_time": "2019-10-30T09:12:06.043000Z"
    }
   },
   "outputs": [],
   "source": [
    "topic = 'OJOL'\n",
    "tweets = tp.Cursor(api.search,q=\"topic\",lang=\"in\").items(500)\n",
    "result = []\n",
    "for tweet in  tweets:\n",
    "    result.append(tweet)"
   ]
  },
  {
   "cell_type": "markdown",
   "metadata": {},
   "source": [
    "Convert the responds to a pandas dataframe."
   ]
  },
  {
   "cell_type": "code",
   "execution_count": 257,
   "metadata": {
    "ExecuteTime": {
     "end_time": "2019-10-30T09:12:22.826000Z",
     "start_time": "2019-10-30T09:12:22.810000Z"
    }
   },
   "outputs": [],
   "source": [
    "# extract tweet to the pandas dataframe\n",
    "def tweets_df(results):\n",
    "    res = []\n",
    "    for tweet in results:\n",
    "        res.append([\n",
    "            tweet.id,\n",
    "            tweet.text,\n",
    "            tweet.created_at,\n",
    "            tweet.retweet_count,\n",
    "            tweet.author.screen_name,\n",
    "            tweet.author.followers_count,\n",
    "            tweet.author.location,\n",
    "            tweet.entities.get('hashtags')\n",
    "        ])\n",
    "        \n",
    "    df = pd.DataFrame(res, columns=['id', \n",
    "                                    'text', \n",
    "                                    'created_at', \n",
    "                                    'retweet_count', \n",
    "                                    'user_screen_name', \n",
    "                                    'user_followers_count',\n",
    "                                    'user_location',\n",
    "                                    'hastags'\n",
    "                                   ])\n",
    "    return df"
   ]
  },
  {
   "cell_type": "code",
   "execution_count": 264,
   "metadata": {
    "ExecuteTime": {
     "end_time": "2019-10-30T09:13:13.020000Z",
     "start_time": "2019-10-30T09:13:12.992000Z"
    }
   },
   "outputs": [],
   "source": [
    "df = tweets_df(result)\n",
    "df = df.drop_duplicates(subset=['text']).reset_index(drop=True)"
   ]
  },
  {
   "cell_type": "code",
   "execution_count": 265,
   "metadata": {
    "ExecuteTime": {
     "end_time": "2019-10-30T09:13:13.156000Z",
     "start_time": "2019-10-30T09:13:13.149000Z"
    }
   },
   "outputs": [
    {
     "data": {
      "text/plain": [
       "(272, 8)"
      ]
     },
     "execution_count": 265,
     "metadata": {},
     "output_type": "execute_result"
    }
   ],
   "source": [
    "df.shape"
   ]
  },
  {
   "cell_type": "markdown",
   "metadata": {},
   "source": [
    "Since we want to analyze the text only, we filter the dataframe to only 'text' column."
   ]
  },
  {
   "cell_type": "code",
   "execution_count": 266,
   "metadata": {
    "ExecuteTime": {
     "end_time": "2019-10-30T09:13:13.737000Z",
     "start_time": "2019-10-30T09:13:13.722000Z"
    }
   },
   "outputs": [],
   "source": [
    "df = df[['text']]"
   ]
  },
  {
   "cell_type": "code",
   "execution_count": 267,
   "metadata": {
    "ExecuteTime": {
     "end_time": "2019-10-30T09:13:14.121000Z",
     "start_time": "2019-10-30T09:13:14.098000Z"
    }
   },
   "outputs": [
    {
     "data": {
      "text/html": [
       "<div>\n",
       "<style scoped>\n",
       "    .dataframe tbody tr th:only-of-type {\n",
       "        vertical-align: middle;\n",
       "    }\n",
       "\n",
       "    .dataframe tbody tr th {\n",
       "        vertical-align: top;\n",
       "    }\n",
       "\n",
       "    .dataframe thead th {\n",
       "        text-align: right;\n",
       "    }\n",
       "</style>\n",
       "<table border=\"1\" class=\"dataframe\">\n",
       "  <thead>\n",
       "    <tr style=\"text-align: right;\">\n",
       "      <th></th>\n",
       "      <th>text</th>\n",
       "    </tr>\n",
       "  </thead>\n",
       "  <tbody>\n",
       "    <tr>\n",
       "      <th>0</th>\n",
       "      <td>@bbcswahili Hata sisi tunao, vyuo ndio hatuna....</td>\n",
       "    </tr>\n",
       "    <tr>\n",
       "      <th>1</th>\n",
       "      <td>RT @pakzhinyong: Trending topic nya mengarah @...</td>\n",
       "    </tr>\n",
       "    <tr>\n",
       "      <th>2</th>\n",
       "      <td>@RunFarisRun thankies!!! my topic semua entert...</td>\n",
       "    </tr>\n",
       "    <tr>\n",
       "      <th>3</th>\n",
       "      <td>Ini kenapa gua jadi trending topic https://t.c...</td>\n",
       "    </tr>\n",
       "    <tr>\n",
       "      <th>4</th>\n",
       "      <td>Seakan-akan dia suka cari topic yg hillarious ...</td>\n",
       "    </tr>\n",
       "  </tbody>\n",
       "</table>\n",
       "</div>"
      ],
      "text/plain": [
       "                                                text\n",
       "0  @bbcswahili Hata sisi tunao, vyuo ndio hatuna....\n",
       "1  RT @pakzhinyong: Trending topic nya mengarah @...\n",
       "2  @RunFarisRun thankies!!! my topic semua entert...\n",
       "3  Ini kenapa gua jadi trending topic https://t.c...\n",
       "4  Seakan-akan dia suka cari topic yg hillarious ..."
      ]
     },
     "execution_count": 267,
     "metadata": {},
     "output_type": "execute_result"
    }
   ],
   "source": [
    "df.head()"
   ]
  },
  {
   "cell_type": "markdown",
   "metadata": {},
   "source": [
    "### Data Preprocessing"
   ]
  },
  {
   "cell_type": "markdown",
   "metadata": {},
   "source": [
    "#### Basic Text Preprocessing"
   ]
  },
  {
   "cell_type": "markdown",
   "metadata": {},
   "source": [
    "##### 1. Lower Casing"
   ]
  },
  {
   "cell_type": "code",
   "execution_count": 268,
   "metadata": {
    "ExecuteTime": {
     "end_time": "2019-10-30T09:13:16.232000Z",
     "start_time": "2019-10-30T09:13:15.716000Z"
    }
   },
   "outputs": [
    {
     "data": {
      "text/plain": [
       "0    @bbcswahili hata sisi tunao, vyuo ndio hatuna....\n",
       "1    rt @pakzhinyong: trending topic nya mengarah @...\n",
       "2    @runfarisrun thankies!!! my topic semua entert...\n",
       "3    ini kenapa gua jadi trending topic https://t.c...\n",
       "4    seakan-akan dia suka cari topic yg hillarious ...\n",
       "Name: text, dtype: object"
      ]
     },
     "execution_count": 268,
     "metadata": {},
     "output_type": "execute_result"
    }
   ],
   "source": [
    "df['text'] = df['text'].str.lower()\n",
    "df['text'].head()"
   ]
  },
  {
   "cell_type": "markdown",
   "metadata": {},
   "source": [
    "##### 2. Punctuation removal"
   ]
  },
  {
   "cell_type": "code",
   "execution_count": 269,
   "metadata": {
    "ExecuteTime": {
     "end_time": "2019-10-30T09:13:16.768000Z",
     "start_time": "2019-10-30T09:13:16.741000Z"
    }
   },
   "outputs": [
    {
     "data": {
      "text/plain": [
       "0    bbcswahili hata sisi tunao vyuo ndio hatuna\\nt...\n",
       "1    rt pakzhinyong trending topic nya mengarah jac...\n",
       "2    runfarisrun thankies my topic semua entertainm...\n",
       "3    ini kenapa gua jadi trending topic httpstcoody...\n",
       "4    seakanakan dia suka cari topic yg hillarious k...\n",
       "Name: text, dtype: object"
      ]
     },
     "execution_count": 269,
     "metadata": {},
     "output_type": "execute_result"
    }
   ],
   "source": [
    "# pat1 = r'@[A-Za-z0-9_]+'\n",
    "# pat2 = r'https?://[^ ]+'\n",
    "# combined_pat = r'|'.join((pat1, pat2))\n",
    "# dataframe['text'] = dataframe['text'].str.replace(combined_pat,'')\n",
    "df['text'] = df['text'].str.replace('[^\\w\\s]','')\n",
    "df['text'].head()"
   ]
  },
  {
   "cell_type": "markdown",
   "metadata": {},
   "source": [
    "##### 3. Stopwords removal"
   ]
  },
  {
   "cell_type": "code",
   "execution_count": 270,
   "metadata": {
    "ExecuteTime": {
     "end_time": "2019-10-30T09:13:17.899000Z",
     "start_time": "2019-10-30T09:13:17.808000Z"
    }
   },
   "outputs": [
    {
     "data": {
      "text/plain": [
       "0    bbcswahili hata sisi tunao vyuo ndio hatuna tu...\n",
       "1    rt pakzhinyong trending topic nya mengarah jac...\n",
       "2    runfarisrun thankies my topic entertainment re...\n",
       "3                gua trending topic httpstcoodyllchk9e\n",
       "4    seakanakan suka cari topic yg hillarious yg ga...\n",
       "5    rt nksthi nggak suka ya hashtag 1 trending top...\n",
       "6            sub topic assignment aq stop so nk niiiii\n",
       "7    ubuntu distributionskernel 530 httpstcon9qlmeaayp\n",
       "8    thedk9999 human863 ee topic varaku thanu evarn...\n",
       "9    gingirikanimlfm lindivamac ericvaseni topic an...\n",
       "Name: text, dtype: object"
      ]
     },
     "execution_count": 270,
     "metadata": {},
     "output_type": "execute_result"
    }
   ],
   "source": [
    "stop = stopwords.words('indonesian')\n",
    "df['text'] = df['text'].apply(lambda x: \" \".join(x for x in x.split() if x not in stop))\n",
    "df['text'].head(10)"
   ]
  },
  {
   "cell_type": "markdown",
   "metadata": {},
   "source": [
    "##### 4. Frequent words removal"
   ]
  },
  {
   "cell_type": "code",
   "execution_count": 271,
   "metadata": {
    "ExecuteTime": {
     "end_time": "2019-10-30T09:13:17.990000Z",
     "start_time": "2019-10-30T09:13:17.976000Z"
    }
   },
   "outputs": [
    {
     "data": {
      "text/plain": [
       "topic       141\n",
       "trending     60\n",
       "RT           42\n",
       "aku          37\n",
       "jadi         26\n",
       "Topic        25\n",
       "di           24\n",
       "Trending     23\n",
       "dan          22\n",
       "ini          20\n",
       "dtype: int64"
      ]
     },
     "execution_count": 271,
     "metadata": {},
     "output_type": "execute_result"
    }
   ],
   "source": [
    "freq = pd.Series(' '.join(dataframe['text']).split()).value_counts()[:10]\n",
    "freq"
   ]
  },
  {
   "cell_type": "code",
   "execution_count": 272,
   "metadata": {
    "ExecuteTime": {
     "end_time": "2019-10-30T09:13:18.089000Z",
     "start_time": "2019-10-30T09:13:18.076000Z"
    }
   },
   "outputs": [
    {
     "data": {
      "text/plain": [
       "0    bbcswahili hata sisi tunao vyuo ndio hatuna tu...\n",
       "1    rt pakzhinyong nya mengarah jacksenwarg httpst...\n",
       "2    runfarisrun thankies my entertainment related ...\n",
       "3                               gua httpstcoodyllchk9e\n",
       "4    seakanakan suka cari yg hillarious yg ga beber...\n",
       "Name: text, dtype: object"
      ]
     },
     "execution_count": 272,
     "metadata": {},
     "output_type": "execute_result"
    }
   ],
   "source": [
    "freq = list(freq.index)\n",
    "df['text'] = df['text'].apply(lambda x: \" \".join(x for x in x.split() if x not in freq))\n",
    "df['text'].head()"
   ]
  },
  {
   "cell_type": "markdown",
   "metadata": {},
   "source": [
    "##### 5. Rare words removal"
   ]
  },
  {
   "cell_type": "code",
   "execution_count": 273,
   "metadata": {
    "ExecuteTime": {
     "end_time": "2019-10-30T09:13:18.271000Z",
     "start_time": "2019-10-30T09:13:18.257000Z"
    }
   },
   "outputs": [
    {
     "data": {
      "text/plain": [
       "https://t.co/NgfpAv0XI8    1\n",
       "TOPIC                      1\n",
       "CERITA                     1\n",
       "Model                      1\n",
       "https://t.co/NHtK1ZngXU    1\n",
       "ha                         1\n",
       "k…                         1\n",
       "\"waduh                     1\n",
       "But                        1\n",
       "topic”                     1\n",
       "dtype: int64"
      ]
     },
     "execution_count": 273,
     "metadata": {},
     "output_type": "execute_result"
    }
   ],
   "source": [
    "rare_word = pd.Series(' '.join(dataframe['text']).split()).value_counts()[-10:]\n",
    "rare_word"
   ]
  },
  {
   "cell_type": "code",
   "execution_count": 274,
   "metadata": {
    "ExecuteTime": {
     "end_time": "2019-10-30T09:13:18.372000Z",
     "start_time": "2019-10-30T09:13:18.358000Z"
    }
   },
   "outputs": [
    {
     "data": {
      "text/plain": [
       "0    bbcswahili hata sisi tunao vyuo ndio hatuna tu...\n",
       "1    rt pakzhinyong nya mengarah jacksenwarg httpst...\n",
       "2    runfarisrun thankies my entertainment related ...\n",
       "3                               gua httpstcoodyllchk9e\n",
       "4    seakanakan suka cari yg hillarious yg ga beber...\n",
       "Name: text, dtype: object"
      ]
     },
     "execution_count": 274,
     "metadata": {},
     "output_type": "execute_result"
    }
   ],
   "source": [
    "rare_word = list(rare_word.index)\n",
    "df['text'] = df['text'].apply(lambda x: \" \".join(x for x in x.split() if x not in freq))\n",
    "df['text'].head()"
   ]
  },
  {
   "cell_type": "markdown",
   "metadata": {},
   "source": [
    "##### 6. Spelling correction\n",
    "\n",
    "Since we doesn't have available correction in Indonesian language, we skip this step. Below is example using `textblob` package with Engligh language."
   ]
  },
  {
   "cell_type": "code",
   "execution_count": 275,
   "metadata": {
    "ExecuteTime": {
     "end_time": "2019-10-30T09:13:30.601000Z",
     "start_time": "2019-10-30T09:13:18.592000Z"
    }
   },
   "outputs": [
    {
     "data": {
      "text/plain": [
       "0    bbcswahili hata his tune you dio havana tunapo...\n",
       "1    it pakzhinyong nay mengarah jacksenwarg httpst...\n",
       "2    runfarisrun thanks my entertainment related so...\n",
       "3                               gun httpstcoodyllchk9e\n",
       "4    seakanakan such care g hillarious g ga beberap...\n",
       "Name: text, dtype: object"
      ]
     },
     "execution_count": 275,
     "metadata": {},
     "output_type": "execute_result"
    }
   ],
   "source": [
    "df['text'][:5].apply(lambda x: str(TextBlob(x).correct()))"
   ]
  },
  {
   "cell_type": "markdown",
   "metadata": {},
   "source": [
    "##### 7. Tokenization\n",
    "\n",
    "We still can use `textblob` package if we provide the Indonesian language corpora."
   ]
  },
  {
   "cell_type": "code",
   "execution_count": 276,
   "metadata": {
    "ExecuteTime": {
     "end_time": "2019-10-30T09:13:30.615000Z",
     "start_time": "2019-10-30T09:13:30.606000Z"
    }
   },
   "outputs": [
    {
     "data": {
      "text/plain": [
       "WordList(['Engineering', 'math', 'ni', 'okay', 'je', 'bila', 'sampai', 'topic', 'linear', 'programming', 'ni', 'dia', 'terciduk', 'sikit'])"
      ]
     },
     "execution_count": 276,
     "metadata": {},
     "output_type": "execute_result"
    }
   ],
   "source": [
    "TextBlob(dataframe['text'][1]).words"
   ]
  },
  {
   "cell_type": "markdown",
   "metadata": {},
   "source": [
    "##### 8. Stemming"
   ]
  },
  {
   "cell_type": "code",
   "execution_count": 277,
   "metadata": {
    "ExecuteTime": {
     "end_time": "2019-10-30T09:13:30.690000Z",
     "start_time": "2019-10-30T09:13:30.621000Z"
    }
   },
   "outputs": [
    {
     "data": {
      "text/plain": [
       "0    bbcswahili hata sisi tunao vyuo ndio hatuna tu...\n",
       "1    rt pakzhinyong nya mengarah jacksenwarg httpst...\n",
       "2    runfarisrun thanki my entertain relat so in sh...\n",
       "3                                gua httpstcoodyllchk9\n",
       "4    seakanakan suka cari yg hillari yg ga beberap ...\n",
       "Name: text, dtype: object"
      ]
     },
     "execution_count": 277,
     "metadata": {},
     "output_type": "execute_result"
    }
   ],
   "source": [
    "st = PorterStemmer()\n",
    "df['text'][:5].apply(lambda x: \" \".join([st.stem(word) for word in x.split()]))"
   ]
  },
  {
   "cell_type": "markdown",
   "metadata": {},
   "source": [
    "##### 9. Lematization"
   ]
  },
  {
   "cell_type": "code",
   "execution_count": 278,
   "metadata": {
    "ExecuteTime": {
     "end_time": "2019-10-30T09:16:06.132000Z",
     "start_time": "2019-10-30T09:16:06.120000Z"
    }
   },
   "outputs": [
    {
     "data": {
      "text/plain": [
       "0    bbcswahili hata sisi tunao vyuo ndio hatuna tu...\n",
       "1    rt pakzhinyong nya mengarah jacksenwarg httpst...\n",
       "2    runfarisrun thankies my entertainment related ...\n",
       "3                               gua httpstcoodyllchk9e\n",
       "4    seakanakan suka cari yg hillarious yg ga beber...\n",
       "Name: text, dtype: object"
      ]
     },
     "execution_count": 278,
     "metadata": {},
     "output_type": "execute_result"
    }
   ],
   "source": [
    "from textblob import Word\n",
    "df['text'][:5].apply(lambda x: \" \".join([Word(word).lemmatize() for word in x.split()]))"
   ]
  },
  {
   "cell_type": "markdown",
   "metadata": {},
   "source": [
    "### SECTION B: Data Exploration"
   ]
  },
  {
   "cell_type": "markdown",
   "metadata": {},
   "source": [
    "#### Feature Extraction"
   ]
  },
  {
   "cell_type": "markdown",
   "metadata": {},
   "source": [
    "##### 1. Number of Words"
   ]
  },
  {
   "cell_type": "code",
   "execution_count": 279,
   "metadata": {
    "ExecuteTime": {
     "end_time": "2019-10-30T09:16:08.575000Z",
     "start_time": "2019-10-30T09:16:08.544000Z"
    }
   },
   "outputs": [
    {
     "data": {
      "text/html": [
       "<div>\n",
       "<style scoped>\n",
       "    .dataframe tbody tr th:only-of-type {\n",
       "        vertical-align: middle;\n",
       "    }\n",
       "\n",
       "    .dataframe tbody tr th {\n",
       "        vertical-align: top;\n",
       "    }\n",
       "\n",
       "    .dataframe thead th {\n",
       "        text-align: right;\n",
       "    }\n",
       "</style>\n",
       "<table border=\"1\" class=\"dataframe\">\n",
       "  <thead>\n",
       "    <tr style=\"text-align: right;\">\n",
       "      <th></th>\n",
       "      <th>text</th>\n",
       "      <th>word_count</th>\n",
       "    </tr>\n",
       "  </thead>\n",
       "  <tbody>\n",
       "    <tr>\n",
       "      <th>0</th>\n",
       "      <td>bbcswahili hata sisi tunao vyuo ndio hatuna tu...</td>\n",
       "      <td>17</td>\n",
       "    </tr>\n",
       "    <tr>\n",
       "      <th>1</th>\n",
       "      <td>rt pakzhinyong nya mengarah jacksenwarg httpst...</td>\n",
       "      <td>6</td>\n",
       "    </tr>\n",
       "    <tr>\n",
       "      <th>2</th>\n",
       "      <td>runfarisrun thankies my entertainment related ...</td>\n",
       "      <td>15</td>\n",
       "    </tr>\n",
       "    <tr>\n",
       "      <th>3</th>\n",
       "      <td>gua httpstcoodyllchk9e</td>\n",
       "      <td>2</td>\n",
       "    </tr>\n",
       "    <tr>\n",
       "      <th>4</th>\n",
       "      <td>seakanakan suka cari yg hillarious yg ga beber...</td>\n",
       "      <td>9</td>\n",
       "    </tr>\n",
       "  </tbody>\n",
       "</table>\n",
       "</div>"
      ],
      "text/plain": [
       "                                                text  word_count\n",
       "0  bbcswahili hata sisi tunao vyuo ndio hatuna tu...          17\n",
       "1  rt pakzhinyong nya mengarah jacksenwarg httpst...           6\n",
       "2  runfarisrun thankies my entertainment related ...          15\n",
       "3                             gua httpstcoodyllchk9e           2\n",
       "4  seakanakan suka cari yg hillarious yg ga beber...           9"
      ]
     },
     "execution_count": 279,
     "metadata": {},
     "output_type": "execute_result"
    }
   ],
   "source": [
    "df['word_count'] = df['text'].apply(lambda x: len(str(x).split(\" \")))\n",
    "df.head()"
   ]
  },
  {
   "cell_type": "markdown",
   "metadata": {},
   "source": [
    "##### 2. Number of Characters"
   ]
  },
  {
   "cell_type": "code",
   "execution_count": 280,
   "metadata": {
    "ExecuteTime": {
     "end_time": "2019-10-30T09:16:09.571000Z",
     "start_time": "2019-10-30T09:16:09.541000Z"
    }
   },
   "outputs": [
    {
     "data": {
      "text/html": [
       "<div>\n",
       "<style scoped>\n",
       "    .dataframe tbody tr th:only-of-type {\n",
       "        vertical-align: middle;\n",
       "    }\n",
       "\n",
       "    .dataframe tbody tr th {\n",
       "        vertical-align: top;\n",
       "    }\n",
       "\n",
       "    .dataframe thead th {\n",
       "        text-align: right;\n",
       "    }\n",
       "</style>\n",
       "<table border=\"1\" class=\"dataframe\">\n",
       "  <thead>\n",
       "    <tr style=\"text-align: right;\">\n",
       "      <th></th>\n",
       "      <th>text</th>\n",
       "      <th>word_count</th>\n",
       "      <th>char_count</th>\n",
       "    </tr>\n",
       "  </thead>\n",
       "  <tbody>\n",
       "    <tr>\n",
       "      <th>0</th>\n",
       "      <td>bbcswahili hata sisi tunao vyuo ndio hatuna tu...</td>\n",
       "      <td>17</td>\n",
       "      <td>131</td>\n",
       "    </tr>\n",
       "    <tr>\n",
       "      <th>1</th>\n",
       "      <td>rt pakzhinyong nya mengarah jacksenwarg httpst...</td>\n",
       "      <td>6</td>\n",
       "      <td>58</td>\n",
       "    </tr>\n",
       "    <tr>\n",
       "      <th>2</th>\n",
       "      <td>runfarisrun thankies my entertainment related ...</td>\n",
       "      <td>15</td>\n",
       "      <td>100</td>\n",
       "    </tr>\n",
       "    <tr>\n",
       "      <th>3</th>\n",
       "      <td>gua httpstcoodyllchk9e</td>\n",
       "      <td>2</td>\n",
       "      <td>22</td>\n",
       "    </tr>\n",
       "    <tr>\n",
       "      <th>4</th>\n",
       "      <td>seakanakan suka cari yg hillarious yg ga beber...</td>\n",
       "      <td>9</td>\n",
       "      <td>67</td>\n",
       "    </tr>\n",
       "  </tbody>\n",
       "</table>\n",
       "</div>"
      ],
      "text/plain": [
       "                                                text  word_count  char_count\n",
       "0  bbcswahili hata sisi tunao vyuo ndio hatuna tu...          17         131\n",
       "1  rt pakzhinyong nya mengarah jacksenwarg httpst...           6          58\n",
       "2  runfarisrun thankies my entertainment related ...          15         100\n",
       "3                             gua httpstcoodyllchk9e           2          22\n",
       "4  seakanakan suka cari yg hillarious yg ga beber...           9          67"
      ]
     },
     "execution_count": 280,
     "metadata": {},
     "output_type": "execute_result"
    }
   ],
   "source": [
    "df['char_count'] = df['text'].str.len()\n",
    "df.head()"
   ]
  },
  {
   "cell_type": "markdown",
   "metadata": {},
   "source": [
    "##### 3. Number of Stopwords"
   ]
  },
  {
   "cell_type": "code",
   "execution_count": 281,
   "metadata": {
    "ExecuteTime": {
     "end_time": "2019-10-30T09:16:10.444000Z",
     "start_time": "2019-10-30T09:16:10.350000Z"
    }
   },
   "outputs": [
    {
     "data": {
      "text/html": [
       "<div>\n",
       "<style scoped>\n",
       "    .dataframe tbody tr th:only-of-type {\n",
       "        vertical-align: middle;\n",
       "    }\n",
       "\n",
       "    .dataframe tbody tr th {\n",
       "        vertical-align: top;\n",
       "    }\n",
       "\n",
       "    .dataframe thead th {\n",
       "        text-align: right;\n",
       "    }\n",
       "</style>\n",
       "<table border=\"1\" class=\"dataframe\">\n",
       "  <thead>\n",
       "    <tr style=\"text-align: right;\">\n",
       "      <th></th>\n",
       "      <th>text</th>\n",
       "      <th>word_count</th>\n",
       "      <th>char_count</th>\n",
       "      <th>stopwords</th>\n",
       "    </tr>\n",
       "  </thead>\n",
       "  <tbody>\n",
       "    <tr>\n",
       "      <th>0</th>\n",
       "      <td>bbcswahili hata sisi tunao vyuo ndio hatuna tu...</td>\n",
       "      <td>17</td>\n",
       "      <td>131</td>\n",
       "      <td>0</td>\n",
       "    </tr>\n",
       "    <tr>\n",
       "      <th>1</th>\n",
       "      <td>rt pakzhinyong nya mengarah jacksenwarg httpst...</td>\n",
       "      <td>6</td>\n",
       "      <td>58</td>\n",
       "      <td>0</td>\n",
       "    </tr>\n",
       "    <tr>\n",
       "      <th>2</th>\n",
       "      <td>runfarisrun thankies my entertainment related ...</td>\n",
       "      <td>15</td>\n",
       "      <td>100</td>\n",
       "      <td>0</td>\n",
       "    </tr>\n",
       "    <tr>\n",
       "      <th>3</th>\n",
       "      <td>gua httpstcoodyllchk9e</td>\n",
       "      <td>2</td>\n",
       "      <td>22</td>\n",
       "      <td>0</td>\n",
       "    </tr>\n",
       "    <tr>\n",
       "      <th>4</th>\n",
       "      <td>seakanakan suka cari yg hillarious yg ga beber...</td>\n",
       "      <td>9</td>\n",
       "      <td>67</td>\n",
       "      <td>0</td>\n",
       "    </tr>\n",
       "  </tbody>\n",
       "</table>\n",
       "</div>"
      ],
      "text/plain": [
       "                                                text  word_count  char_count  \\\n",
       "0  bbcswahili hata sisi tunao vyuo ndio hatuna tu...          17         131   \n",
       "1  rt pakzhinyong nya mengarah jacksenwarg httpst...           6          58   \n",
       "2  runfarisrun thankies my entertainment related ...          15         100   \n",
       "3                             gua httpstcoodyllchk9e           2          22   \n",
       "4  seakanakan suka cari yg hillarious yg ga beber...           9          67   \n",
       "\n",
       "   stopwords  \n",
       "0          0  \n",
       "1          0  \n",
       "2          0  \n",
       "3          0  \n",
       "4          0  "
      ]
     },
     "execution_count": 281,
     "metadata": {},
     "output_type": "execute_result"
    }
   ],
   "source": [
    "stop = stopwords.words('indonesian')\n",
    "df['stopwords'] = df['text'].apply(lambda x: len([x for x in x.split() if x in stop]))\n",
    "df.head()"
   ]
  },
  {
   "cell_type": "markdown",
   "metadata": {},
   "source": [
    "##### 4. Number of Special Characters"
   ]
  },
  {
   "cell_type": "code",
   "execution_count": 282,
   "metadata": {
    "ExecuteTime": {
     "end_time": "2019-10-30T09:16:11.419000Z",
     "start_time": "2019-10-30T09:16:11.380000Z"
    }
   },
   "outputs": [
    {
     "data": {
      "text/html": [
       "<div>\n",
       "<style scoped>\n",
       "    .dataframe tbody tr th:only-of-type {\n",
       "        vertical-align: middle;\n",
       "    }\n",
       "\n",
       "    .dataframe tbody tr th {\n",
       "        vertical-align: top;\n",
       "    }\n",
       "\n",
       "    .dataframe thead th {\n",
       "        text-align: right;\n",
       "    }\n",
       "</style>\n",
       "<table border=\"1\" class=\"dataframe\">\n",
       "  <thead>\n",
       "    <tr style=\"text-align: right;\">\n",
       "      <th></th>\n",
       "      <th>text</th>\n",
       "      <th>word_count</th>\n",
       "      <th>char_count</th>\n",
       "      <th>stopwords</th>\n",
       "      <th>hastags</th>\n",
       "    </tr>\n",
       "  </thead>\n",
       "  <tbody>\n",
       "    <tr>\n",
       "      <th>0</th>\n",
       "      <td>bbcswahili hata sisi tunao vyuo ndio hatuna tu...</td>\n",
       "      <td>17</td>\n",
       "      <td>131</td>\n",
       "      <td>0</td>\n",
       "      <td>0</td>\n",
       "    </tr>\n",
       "    <tr>\n",
       "      <th>1</th>\n",
       "      <td>rt pakzhinyong nya mengarah jacksenwarg httpst...</td>\n",
       "      <td>6</td>\n",
       "      <td>58</td>\n",
       "      <td>0</td>\n",
       "      <td>0</td>\n",
       "    </tr>\n",
       "    <tr>\n",
       "      <th>2</th>\n",
       "      <td>runfarisrun thankies my entertainment related ...</td>\n",
       "      <td>15</td>\n",
       "      <td>100</td>\n",
       "      <td>0</td>\n",
       "      <td>0</td>\n",
       "    </tr>\n",
       "    <tr>\n",
       "      <th>3</th>\n",
       "      <td>gua httpstcoodyllchk9e</td>\n",
       "      <td>2</td>\n",
       "      <td>22</td>\n",
       "      <td>0</td>\n",
       "      <td>0</td>\n",
       "    </tr>\n",
       "    <tr>\n",
       "      <th>4</th>\n",
       "      <td>seakanakan suka cari yg hillarious yg ga beber...</td>\n",
       "      <td>9</td>\n",
       "      <td>67</td>\n",
       "      <td>0</td>\n",
       "      <td>0</td>\n",
       "    </tr>\n",
       "  </tbody>\n",
       "</table>\n",
       "</div>"
      ],
      "text/plain": [
       "                                                text  word_count  char_count  \\\n",
       "0  bbcswahili hata sisi tunao vyuo ndio hatuna tu...          17         131   \n",
       "1  rt pakzhinyong nya mengarah jacksenwarg httpst...           6          58   \n",
       "2  runfarisrun thankies my entertainment related ...          15         100   \n",
       "3                             gua httpstcoodyllchk9e           2          22   \n",
       "4  seakanakan suka cari yg hillarious yg ga beber...           9          67   \n",
       "\n",
       "   stopwords  hastags  \n",
       "0          0        0  \n",
       "1          0        0  \n",
       "2          0        0  \n",
       "3          0        0  \n",
       "4          0        0  "
      ]
     },
     "execution_count": 282,
     "metadata": {},
     "output_type": "execute_result"
    }
   ],
   "source": [
    "df['hastags'] = df['text'].apply(lambda x: len([x for x in x.split() if x.startswith('#')]))\n",
    "df.head()"
   ]
  },
  {
   "cell_type": "markdown",
   "metadata": {},
   "source": [
    "#### Labelling Using Polarity"
   ]
  },
  {
   "cell_type": "markdown",
   "metadata": {},
   "source": [
    "##### 1. New Dataframe"
   ]
  },
  {
   "cell_type": "code",
   "execution_count": 284,
   "metadata": {
    "ExecuteTime": {
     "end_time": "2019-10-30T09:17:38.079000Z",
     "start_time": "2019-10-30T09:17:38.057000Z"
    }
   },
   "outputs": [
    {
     "data": {
      "text/html": [
       "<div>\n",
       "<style scoped>\n",
       "    .dataframe tbody tr th:only-of-type {\n",
       "        vertical-align: middle;\n",
       "    }\n",
       "\n",
       "    .dataframe tbody tr th {\n",
       "        vertical-align: top;\n",
       "    }\n",
       "\n",
       "    .dataframe thead th {\n",
       "        text-align: right;\n",
       "    }\n",
       "</style>\n",
       "<table border=\"1\" class=\"dataframe\">\n",
       "  <thead>\n",
       "    <tr style=\"text-align: right;\">\n",
       "      <th></th>\n",
       "      <th>text</th>\n",
       "      <th>word_count</th>\n",
       "      <th>char_count</th>\n",
       "      <th>stopwords</th>\n",
       "      <th>hastags</th>\n",
       "    </tr>\n",
       "  </thead>\n",
       "  <tbody>\n",
       "    <tr>\n",
       "      <th>0</th>\n",
       "      <td>bbcswahili hata sisi tunao vyuo ndio hatuna tu...</td>\n",
       "      <td>17</td>\n",
       "      <td>131</td>\n",
       "      <td>0</td>\n",
       "      <td>0</td>\n",
       "    </tr>\n",
       "    <tr>\n",
       "      <th>1</th>\n",
       "      <td>rt pakzhinyong nya mengarah jacksenwarg httpst...</td>\n",
       "      <td>6</td>\n",
       "      <td>58</td>\n",
       "      <td>0</td>\n",
       "      <td>0</td>\n",
       "    </tr>\n",
       "    <tr>\n",
       "      <th>2</th>\n",
       "      <td>runfarisrun thankies my entertainment related ...</td>\n",
       "      <td>15</td>\n",
       "      <td>100</td>\n",
       "      <td>0</td>\n",
       "      <td>0</td>\n",
       "    </tr>\n",
       "    <tr>\n",
       "      <th>3</th>\n",
       "      <td>gua httpstcoodyllchk9e</td>\n",
       "      <td>2</td>\n",
       "      <td>22</td>\n",
       "      <td>0</td>\n",
       "      <td>0</td>\n",
       "    </tr>\n",
       "    <tr>\n",
       "      <th>4</th>\n",
       "      <td>seakanakan suka cari yg hillarious yg ga beber...</td>\n",
       "      <td>9</td>\n",
       "      <td>67</td>\n",
       "      <td>0</td>\n",
       "      <td>0</td>\n",
       "    </tr>\n",
       "  </tbody>\n",
       "</table>\n",
       "</div>"
      ],
      "text/plain": [
       "                                                text  word_count  char_count  \\\n",
       "0  bbcswahili hata sisi tunao vyuo ndio hatuna tu...          17         131   \n",
       "1  rt pakzhinyong nya mengarah jacksenwarg httpst...           6          58   \n",
       "2  runfarisrun thankies my entertainment related ...          15         100   \n",
       "3                             gua httpstcoodyllchk9e           2          22   \n",
       "4  seakanakan suka cari yg hillarious yg ga beber...           9          67   \n",
       "\n",
       "   stopwords  hastags  \n",
       "0          0        0  \n",
       "1          0        0  \n",
       "2          0        0  \n",
       "3          0        0  \n",
       "4          0        0  "
      ]
     },
     "execution_count": 284,
     "metadata": {},
     "output_type": "execute_result"
    }
   ],
   "source": [
    "#new df after removed duplicate text\n",
    "new_df = df.copy()\n",
    "new_df.head()"
   ]
  },
  {
   "cell_type": "code",
   "execution_count": 285,
   "metadata": {
    "ExecuteTime": {
     "end_time": "2019-10-30T09:17:40.010000Z",
     "start_time": "2019-10-30T09:17:39.994000Z"
    }
   },
   "outputs": [],
   "source": [
    "#sentiment labeling \n",
    "text = new_df.text"
   ]
  },
  {
   "cell_type": "markdown",
   "metadata": {},
   "source": [
    "##### 2. Labeling "
   ]
  },
  {
   "cell_type": "code",
   "execution_count": 286,
   "metadata": {
    "ExecuteTime": {
     "end_time": "2019-10-30T09:18:27.825000Z",
     "start_time": "2019-10-30T09:18:27.587000Z"
    }
   },
   "outputs": [
    {
     "name": "stderr",
     "output_type": "stream",
     "text": [
      "D:\\Anaconda2019\\lib\\site-packages\\ipykernel_launcher.py:5: FutureWarning:\n",
      "\n",
      "set_value is deprecated and will be removed in a future release. Please use .at[] or .iat[] accessors instead\n",
      "\n",
      "D:\\Anaconda2019\\lib\\site-packages\\ipykernel_launcher.py:14: FutureWarning:\n",
      "\n",
      "set_value is deprecated and will be removed in a future release. Please use .at[] or .iat[] accessors instead\n",
      "\n",
      "D:\\Anaconda2019\\lib\\site-packages\\ipykernel_launcher.py:8: FutureWarning:\n",
      "\n",
      "set_value is deprecated and will be removed in a future release. Please use .at[] or .iat[] accessors instead\n",
      "\n",
      "D:\\Anaconda2019\\lib\\site-packages\\ipykernel_launcher.py:11: FutureWarning:\n",
      "\n",
      "set_value is deprecated and will be removed in a future release. Please use .at[] or .iat[] accessors instead\n",
      "\n"
     ]
    }
   ],
   "source": [
    "#looping \n",
    "for i in range(0,len(text)):\n",
    "    textB = TextBlob(text[i])\n",
    "    sentiment = textB.sentiment.polarity\n",
    "    new_df.set_value(i,'sentiment', sentiment)\n",
    "    if sentiment < 0.00 :\n",
    "        sentimentclass = 'Negative'\n",
    "        new_df.set_value(i, 'sentimentclass', sentimentclass)\n",
    "    elif sentiment > 0.00 :\n",
    "        sentimentclass = 'Positive'\n",
    "        new_df.set_value(i, 'sentimentclass', sentimentclass)\n",
    "    else :\n",
    "        sentimentclass = ' Netral'\n",
    "        new_df.set_value(i, 'sentimentclass', sentimentclass)"
   ]
  },
  {
   "cell_type": "code",
   "execution_count": 287,
   "metadata": {
    "ExecuteTime": {
     "end_time": "2019-10-30T09:18:34.767000Z",
     "start_time": "2019-10-30T09:18:34.751000Z"
    }
   },
   "outputs": [],
   "source": [
    "new_df = new_df[['text','sentiment','sentimentclass']]"
   ]
  },
  {
   "cell_type": "code",
   "execution_count": 289,
   "metadata": {
    "ExecuteTime": {
     "end_time": "2019-10-30T09:18:46.021000Z",
     "start_time": "2019-10-30T09:18:45.994000Z"
    }
   },
   "outputs": [
    {
     "data": {
      "text/html": [
       "<div>\n",
       "<style scoped>\n",
       "    .dataframe tbody tr th:only-of-type {\n",
       "        vertical-align: middle;\n",
       "    }\n",
       "\n",
       "    .dataframe tbody tr th {\n",
       "        vertical-align: top;\n",
       "    }\n",
       "\n",
       "    .dataframe thead th {\n",
       "        text-align: right;\n",
       "    }\n",
       "</style>\n",
       "<table border=\"1\" class=\"dataframe\">\n",
       "  <thead>\n",
       "    <tr style=\"text-align: right;\">\n",
       "      <th></th>\n",
       "      <th>text</th>\n",
       "      <th>sentiment</th>\n",
       "      <th>sentimentclass</th>\n",
       "    </tr>\n",
       "  </thead>\n",
       "  <tbody>\n",
       "    <tr>\n",
       "      <th>0</th>\n",
       "      <td>bbcswahili hata sisi tunao vyuo ndio hatuna tu...</td>\n",
       "      <td>0.0</td>\n",
       "      <td>Netral</td>\n",
       "    </tr>\n",
       "    <tr>\n",
       "      <th>1</th>\n",
       "      <td>rt pakzhinyong nya mengarah jacksenwarg httpst...</td>\n",
       "      <td>0.0</td>\n",
       "      <td>Netral</td>\n",
       "    </tr>\n",
       "    <tr>\n",
       "      <th>2</th>\n",
       "      <td>runfarisrun thankies my entertainment related ...</td>\n",
       "      <td>0.0</td>\n",
       "      <td>Netral</td>\n",
       "    </tr>\n",
       "    <tr>\n",
       "      <th>3</th>\n",
       "      <td>gua httpstcoodyllchk9e</td>\n",
       "      <td>0.0</td>\n",
       "      <td>Netral</td>\n",
       "    </tr>\n",
       "    <tr>\n",
       "      <th>4</th>\n",
       "      <td>seakanakan suka cari yg hillarious yg ga beber...</td>\n",
       "      <td>0.0</td>\n",
       "      <td>Netral</td>\n",
       "    </tr>\n",
       "  </tbody>\n",
       "</table>\n",
       "</div>"
      ],
      "text/plain": [
       "                                                text  sentiment sentimentclass\n",
       "0  bbcswahili hata sisi tunao vyuo ndio hatuna tu...        0.0         Netral\n",
       "1  rt pakzhinyong nya mengarah jacksenwarg httpst...        0.0         Netral\n",
       "2  runfarisrun thankies my entertainment related ...        0.0         Netral\n",
       "3                             gua httpstcoodyllchk9e        0.0         Netral\n",
       "4  seakanakan suka cari yg hillarious yg ga beber...        0.0         Netral"
      ]
     },
     "execution_count": 289,
     "metadata": {},
     "output_type": "execute_result"
    }
   ],
   "source": [
    "new_df.head()"
   ]
  },
  {
   "cell_type": "markdown",
   "metadata": {},
   "source": [
    "##### 3. Aggregation Sentimentclass"
   ]
  },
  {
   "cell_type": "code",
   "execution_count": 290,
   "metadata": {
    "ExecuteTime": {
     "end_time": "2019-10-30T09:18:57.965000Z",
     "start_time": "2019-10-30T09:18:57.899000Z"
    }
   },
   "outputs": [
    {
     "data": {
      "text/html": [
       "<div>\n",
       "<style scoped>\n",
       "    .dataframe tbody tr th:only-of-type {\n",
       "        vertical-align: middle;\n",
       "    }\n",
       "\n",
       "    .dataframe tbody tr th {\n",
       "        vertical-align: top;\n",
       "    }\n",
       "\n",
       "    .dataframe thead th {\n",
       "        text-align: right;\n",
       "    }\n",
       "</style>\n",
       "<table border=\"1\" class=\"dataframe\">\n",
       "  <thead>\n",
       "    <tr style=\"text-align: right;\">\n",
       "      <th></th>\n",
       "      <th>sentimentclass</th>\n",
       "      <th>tweet_count</th>\n",
       "      <th>percent</th>\n",
       "    </tr>\n",
       "  </thead>\n",
       "  <tbody>\n",
       "    <tr>\n",
       "      <th>0</th>\n",
       "      <td>Netral</td>\n",
       "      <td>229</td>\n",
       "      <td>0.841912</td>\n",
       "    </tr>\n",
       "    <tr>\n",
       "      <th>1</th>\n",
       "      <td>Negative</td>\n",
       "      <td>14</td>\n",
       "      <td>0.051471</td>\n",
       "    </tr>\n",
       "    <tr>\n",
       "      <th>2</th>\n",
       "      <td>Positive</td>\n",
       "      <td>29</td>\n",
       "      <td>0.106618</td>\n",
       "    </tr>\n",
       "  </tbody>\n",
       "</table>\n",
       "</div>"
      ],
      "text/plain": [
       "  sentimentclass  tweet_count   percent\n",
       "0         Netral          229  0.841912\n",
       "1       Negative           14  0.051471\n",
       "2       Positive           29  0.106618"
      ]
     },
     "execution_count": 290,
     "metadata": {},
     "output_type": "execute_result"
    }
   ],
   "source": [
    "#count sentiment \n",
    "sentiment = new_df.groupby(['sentimentclass'])['sentimentclass'].count()\n",
    "\n",
    "#make dataframe that will be created a chart \n",
    "chart = pd.DataFrame(sentiment)\n",
    "chart['tweet_count'] = chart['sentimentclass']\n",
    "chart.drop(['sentimentclass'], axis = 1, inplace = True )\n",
    "chart = chart.reset_index()\n",
    "\n",
    "#make a proportion of the number of tweet of each sentiment \n",
    "chart['percent'] = chart['tweet_count']/chart['tweet_count'].sum()\n",
    "chart"
   ]
  },
  {
   "cell_type": "markdown",
   "metadata": {},
   "source": [
    "##### 4. Visualization"
   ]
  },
  {
   "cell_type": "code",
   "execution_count": 291,
   "metadata": {
    "ExecuteTime": {
     "end_time": "2019-10-30T09:19:44.017000Z",
     "start_time": "2019-10-30T09:19:43.838000Z"
    }
   },
   "outputs": [
    {
     "data": {
      "image/png": "[encoded data removed]",
      "text/plain": [
       "<Figure size 432x288 with 1 Axes>"
      ]
     },
     "metadata": {
      "needs_background": "light"
     },
     "output_type": "display_data"
    }
   ],
   "source": [
    "#make a barchar\n",
    "ax = sns.barplot(x= 'sentimentclass', y='tweet_count', data=chart)\n",
    "ax = ax.set_title('The number of sentiment for each class') "
   ]
  },
  {
   "cell_type": "code",
   "execution_count": 292,
   "metadata": {
    "ExecuteTime": {
     "end_time": "2019-10-30T09:19:48.724000Z",
     "start_time": "2019-10-30T09:19:48.568000Z"
    }
   },
   "outputs": [
    {
     "data": {
      "text/plain": [
       "(-1.1038597938940853,\n",
       " 1.1063904730174194,\n",
       " -1.114241695098989,\n",
       " 1.311461570022441)"
      ]
     },
     "execution_count": 292,
     "metadata": {},
     "output_type": "execute_result"
    },
    {
     "data": {
      "image/png": "[encoded data removed]",
      "text/plain": [
       "<Figure size 720x432 with 1 Axes>"
      ]
     },
     "metadata": {},
     "output_type": "display_data"
    }
   ],
   "source": [
    "colors = [ 'lightskyblue','red','yellowgreen']\n",
    "explode = (0, 0.2, 0)  # explode 1st slice\n",
    "# Plot\n",
    "figure = plt.figure(figsize= (10,6))\n",
    "plt.pie(chart['tweet_count'], explode=explode, labels=chart['sentimentclass'], colors=colors,\n",
    "autopct='%1.1f%%', shadow=True, startangle=140)\n",
    "plt.axis('equal')"
   ]
  }
 ],
 "metadata": {
  "hide_input": false,
  "kernelspec": {
   "display_name": "Python 3",
   "language": "python",
   "name": "python3"
  },
  "language_info": {
   "codemirror_mode": {
    "name": "ipython",
    "version": 3
   },
   "file_extension": ".py",
   "mimetype": "text/x-python",
   "name": "python",
   "nbconvert_exporter": "python",
   "pygments_lexer": "ipython3",
   "version": "3.7.3"
  },
  "toc": {
   "base_numbering": 1,
   "nav_menu": {},
   "number_sections": true,
   "sideBar": true,
   "skip_h1_title": false,
   "title_cell": "Table of Contents",
   "title_sidebar": "Contents",
   "toc_cell": false,
   "toc_position": {
    "height": "calc(100% - 180px)",
    "left": "10px",
    "top": "150px",
    "width": "341.484px"
   },
   "toc_section_display": true,
   "toc_window_display": true
  }
 },
 "nbformat": 4,
 "nbformat_minor": 2
}
