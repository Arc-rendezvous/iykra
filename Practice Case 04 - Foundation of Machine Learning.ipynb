{
 "cells": [
  {
   "cell_type": "markdown",
   "metadata": {},
   "source": [
    "<span style=\"font-size:42px\"><b>Practise Case 03</b></span><br><br>\n",
    "<span style=\"font-size:36px\">Foundation of Machine Learning</span>\n",
    "\n",
    "Copyright 2019 Gunawan Lumban Gaol\n",
    "\n",
    "Licensed under the Apache License, Version 2.0 (the \"License\"); you may not use this file except in compliance with the License. You may obtain a copy of the License at http://www.apache.org/licenses/LICENSE-2.0\n",
    "\n",
    "Unless required by applicable law or agreed to in writing, software distributed under the License is distributed on an \"AS IS\" BASIS, WITHOUT WARRANTIES OR CONDITIONS OF ANY KIND, either express or implied. See the License for the specific language overning permissions and limitations under the License."
   ]
  },
  {
   "cell_type": "markdown",
   "metadata": {},
   "source": [
    "**Tasks**\n",
    "1. Provide travel recommendation to passenger (best time to take a flight or best airline), so they will\n",
    "not get caught in delay. Each recommendation has to be supported by at least 1 graph\n",
    "2. Create a model to estimate the delay duration ( Linear Regression )\n",
    "3. Create a model to predict delay > 60 min ( Logistic regression and another supervised model you\n",
    "choosing )\n",
    "4. Did you do some feature engineering on the dataset ? if yes, please give the reason for each\n",
    "feature you created\n",
    "5. Using those models predict delay that will happened in December for delay >60"
   ]
  },
  {
   "cell_type": "markdown",
   "metadata": {},
   "source": [
    "# Import Packages"
   ]
  },
  {
   "cell_type": "code",
   "execution_count": 84,
   "metadata": {
    "ExecuteTime": {
     "end_time": "2019-11-04T15:42:03.555434Z",
     "start_time": "2019-11-04T15:42:03.547434Z"
    }
   },
   "outputs": [],
   "source": [
    "import pandas as pd\n",
    "import numpy as np\n",
    "import matplotlib.pyplot as plt\n",
    "import seaborn as sns\n",
    "from configparser import ConfigParser\n",
    "\n",
    "from edapy.edapy import transformation\n",
    "from edapy.edapy import plotting\n",
    "from edapy.edapy import utils"
   ]
  },
  {
   "cell_type": "code",
   "execution_count": 85,
   "metadata": {
    "ExecuteTime": {
     "end_time": "2019-11-04T15:42:03.566434Z",
     "start_time": "2019-11-04T15:42:03.557434Z"
    }
   },
   "outputs": [
    {
     "data": {
      "text/plain": [
       "['./config.ini']"
      ]
     },
     "execution_count": 85,
     "metadata": {},
     "output_type": "execute_result"
    }
   ],
   "source": [
    "config = ConfigParser()\n",
    "config.read('./config.ini')"
   ]
  },
  {
   "cell_type": "markdown",
   "metadata": {},
   "source": [
    "# Import Data\n",
    "\n",
    "Dataset is a historical flight data in Malaysia from Oct 2018 – Nov 2018\n",
    "Data consist of information of flight such as:\n",
    "1. Date of flight\n",
    "2. Date of arrival\n",
    "3. Departure Delay\n",
    "4. Tail Number\n",
    "5. Airline Name\n",
    "6. Departure Location\n",
    "7. Arrival Location\n",
    "8. Flight Number\n",
    "9. Delay"
   ]
  },
  {
   "cell_type": "code",
   "execution_count": 86,
   "metadata": {
    "ExecuteTime": {
     "end_time": "2019-11-04T15:42:04.491434Z",
     "start_time": "2019-11-04T15:42:03.569434Z"
    }
   },
   "outputs": [],
   "source": [
    "data_train = pd.read_csv('csv/training_dataset.csv')\n",
    "data_test = pd.read_csv('csv/test_dataset.csv')"
   ]
  },
  {
   "cell_type": "code",
   "execution_count": 87,
   "metadata": {
    "ExecuteTime": {
     "end_time": "2019-11-04T15:42:04.499434Z",
     "start_time": "2019-11-04T15:42:04.494434Z"
    }
   },
   "outputs": [
    {
     "name": "stdout",
     "output_type": "stream",
     "text": [
      "(111068, 26)\n",
      "(41557, 26)\n"
     ]
    }
   ],
   "source": [
    "print(data_train.shape)\n",
    "print(data_test.shape)"
   ]
  },
  {
   "cell_type": "code",
   "execution_count": 88,
   "metadata": {
    "ExecuteTime": {
     "end_time": "2019-11-04T15:42:04.555434Z",
     "start_time": "2019-11-04T15:42:04.502434Z"
    }
   },
   "outputs": [
    {
     "data": {
      "text/html": [
       "<div>\n",
       "<style scoped>\n",
       "    .dataframe tbody tr th:only-of-type {\n",
       "        vertical-align: middle;\n",
       "    }\n",
       "\n",
       "    .dataframe tbody tr th {\n",
       "        vertical-align: top;\n",
       "    }\n",
       "\n",
       "    .dataframe thead th {\n",
       "        text-align: right;\n",
       "    }\n",
       "</style>\n",
       "<table border=\"1\" class=\"dataframe\">\n",
       "  <thead>\n",
       "    <tr style=\"text-align: right;\">\n",
       "      <th></th>\n",
       "      <th>id</th>\n",
       "      <th>number</th>\n",
       "      <th>airline</th>\n",
       "      <th>airline_name</th>\n",
       "      <th>scheduled_departure_time</th>\n",
       "      <th>scheduled_arrival_time</th>\n",
       "      <th>departure_airport_city</th>\n",
       "      <th>departure_airport_code</th>\n",
       "      <th>departure_airport_country</th>\n",
       "      <th>departure_airport_gate</th>\n",
       "      <th>...</th>\n",
       "      <th>arrival_airport_country</th>\n",
       "      <th>arrival_airport_gate</th>\n",
       "      <th>arrival_airport_name</th>\n",
       "      <th>arrival_airport_region</th>\n",
       "      <th>arrival_airport_terminal</th>\n",
       "      <th>arrival_airport_timezone</th>\n",
       "      <th>flight_equipment_iata</th>\n",
       "      <th>flight_equipment_name</th>\n",
       "      <th>flight_duration</th>\n",
       "      <th>delay</th>\n",
       "    </tr>\n",
       "  </thead>\n",
       "  <tbody>\n",
       "    <tr>\n",
       "      <th>0</th>\n",
       "      <td>1</td>\n",
       "      <td>AK6430</td>\n",
       "      <td>AK</td>\n",
       "      <td>AirAsia</td>\n",
       "      <td>2018-10-05 22:00:00</td>\n",
       "      <td>2018-10-05 23:05:00</td>\n",
       "      <td>Kuala Lumpur</td>\n",
       "      <td>KUL</td>\n",
       "      <td>MY</td>\n",
       "      <td>J15</td>\n",
       "      <td>...</td>\n",
       "      <td>MY</td>\n",
       "      <td>2</td>\n",
       "      <td>Sultan Ismail Petra Airport</td>\n",
       "      <td>Asia</td>\n",
       "      <td>NaN</td>\n",
       "      <td>Asia/Kuala_Lumpur</td>\n",
       "      <td>32S</td>\n",
       "      <td>Airbus A318 / A319 / A320 / A321</td>\n",
       "      <td>58m</td>\n",
       "      <td>2</td>\n",
       "    </tr>\n",
       "    <tr>\n",
       "      <th>1</th>\n",
       "      <td>2</td>\n",
       "      <td>ID*7164</td>\n",
       "      <td>ID*</td>\n",
       "      <td>Batik Air</td>\n",
       "      <td>2018-10-05 22:00:00</td>\n",
       "      <td>2018-10-05 23:55:00</td>\n",
       "      <td>Kuala Lumpur</td>\n",
       "      <td>KUL</td>\n",
       "      <td>MY</td>\n",
       "      <td>C33</td>\n",
       "      <td>...</td>\n",
       "      <td>ID</td>\n",
       "      <td>5</td>\n",
       "      <td>Soekarno-Hatta International Airport</td>\n",
       "      <td>Asia</td>\n",
       "      <td>2</td>\n",
       "      <td>Asia/Jakarta</td>\n",
       "      <td>32S</td>\n",
       "      <td>Airbus A318 / A319 / A320 / A321</td>\n",
       "      <td>1h 55m</td>\n",
       "      <td>8</td>\n",
       "    </tr>\n",
       "    <tr>\n",
       "      <th>2</th>\n",
       "      <td>3</td>\n",
       "      <td>MXD9116</td>\n",
       "      <td>MXD</td>\n",
       "      <td>Malindo Air</td>\n",
       "      <td>2018-10-05 22:00:00</td>\n",
       "      <td>2018-10-05 23:55:00</td>\n",
       "      <td>Kuala Lumpur</td>\n",
       "      <td>KUL</td>\n",
       "      <td>MY</td>\n",
       "      <td>C33</td>\n",
       "      <td>...</td>\n",
       "      <td>ID</td>\n",
       "      <td>5</td>\n",
       "      <td>Soekarno-Hatta International Airport</td>\n",
       "      <td>Asia</td>\n",
       "      <td>2</td>\n",
       "      <td>Asia/Jakarta</td>\n",
       "      <td>32S</td>\n",
       "      <td>Airbus A318 / A319 / A320 / A321</td>\n",
       "      <td>1h 55m</td>\n",
       "      <td>8</td>\n",
       "    </tr>\n",
       "    <tr>\n",
       "      <th>3</th>\n",
       "      <td>4</td>\n",
       "      <td>AK5198</td>\n",
       "      <td>AK</td>\n",
       "      <td>AirAsia</td>\n",
       "      <td>2018-10-05 22:05:00</td>\n",
       "      <td>2018-10-06 01:00:00</td>\n",
       "      <td>Kuala Lumpur</td>\n",
       "      <td>KUL</td>\n",
       "      <td>MY</td>\n",
       "      <td>J9</td>\n",
       "      <td>...</td>\n",
       "      <td>MY</td>\n",
       "      <td>INT</td>\n",
       "      <td>Sandakan Airport</td>\n",
       "      <td>Asia</td>\n",
       "      <td>NaN</td>\n",
       "      <td>Asia/Kuala_Lumpur</td>\n",
       "      <td>32S</td>\n",
       "      <td>Airbus A318 / A319 / A320 / A321</td>\n",
       "      <td>2h 54m</td>\n",
       "      <td>0</td>\n",
       "    </tr>\n",
       "    <tr>\n",
       "      <th>4</th>\n",
       "      <td>5</td>\n",
       "      <td>AK516</td>\n",
       "      <td>AK</td>\n",
       "      <td>AirAsia</td>\n",
       "      <td>2018-10-05 22:10:00</td>\n",
       "      <td>2018-10-06 01:25:00</td>\n",
       "      <td>Kuala Lumpur</td>\n",
       "      <td>KUL</td>\n",
       "      <td>MY</td>\n",
       "      <td>P1</td>\n",
       "      <td>...</td>\n",
       "      <td>VN</td>\n",
       "      <td>NaN</td>\n",
       "      <td>Noi Bai International Airport</td>\n",
       "      <td>Asia</td>\n",
       "      <td>T2</td>\n",
       "      <td>Asia/Ho_Chi_Minh</td>\n",
       "      <td>32S</td>\n",
       "      <td>Airbus A318 / A319 / A320 / A321</td>\n",
       "      <td>3h 17m</td>\n",
       "      <td>0</td>\n",
       "    </tr>\n",
       "  </tbody>\n",
       "</table>\n",
       "<p>5 rows × 26 columns</p>\n",
       "</div>"
      ],
      "text/plain": [
       "   id   number airline airline_name scheduled_departure_time  \\\n",
       "0   1   AK6430      AK      AirAsia      2018-10-05 22:00:00   \n",
       "1   2  ID*7164     ID*    Batik Air      2018-10-05 22:00:00   \n",
       "2   3  MXD9116     MXD  Malindo Air      2018-10-05 22:00:00   \n",
       "3   4   AK5198      AK      AirAsia      2018-10-05 22:05:00   \n",
       "4   5    AK516      AK      AirAsia      2018-10-05 22:10:00   \n",
       "\n",
       "  scheduled_arrival_time departure_airport_city departure_airport_code  \\\n",
       "0    2018-10-05 23:05:00           Kuala Lumpur                    KUL   \n",
       "1    2018-10-05 23:55:00           Kuala Lumpur                    KUL   \n",
       "2    2018-10-05 23:55:00           Kuala Lumpur                    KUL   \n",
       "3    2018-10-06 01:00:00           Kuala Lumpur                    KUL   \n",
       "4    2018-10-06 01:25:00           Kuala Lumpur                    KUL   \n",
       "\n",
       "  departure_airport_country departure_airport_gate  ...  \\\n",
       "0                        MY                    J15  ...   \n",
       "1                        MY                    C33  ...   \n",
       "2                        MY                    C33  ...   \n",
       "3                        MY                     J9  ...   \n",
       "4                        MY                     P1  ...   \n",
       "\n",
       "  arrival_airport_country arrival_airport_gate  \\\n",
       "0                      MY                    2   \n",
       "1                      ID                    5   \n",
       "2                      ID                    5   \n",
       "3                      MY                  INT   \n",
       "4                      VN                  NaN   \n",
       "\n",
       "                   arrival_airport_name arrival_airport_region  \\\n",
       "0           Sultan Ismail Petra Airport                   Asia   \n",
       "1  Soekarno-Hatta International Airport                   Asia   \n",
       "2  Soekarno-Hatta International Airport                   Asia   \n",
       "3                      Sandakan Airport                   Asia   \n",
       "4         Noi Bai International Airport                   Asia   \n",
       "\n",
       "  arrival_airport_terminal arrival_airport_timezone flight_equipment_iata  \\\n",
       "0                      NaN        Asia/Kuala_Lumpur                   32S   \n",
       "1                        2             Asia/Jakarta                   32S   \n",
       "2                        2             Asia/Jakarta                   32S   \n",
       "3                      NaN        Asia/Kuala_Lumpur                   32S   \n",
       "4                       T2         Asia/Ho_Chi_Minh                   32S   \n",
       "\n",
       "              flight_equipment_name flight_duration delay  \n",
       "0  Airbus A318 / A319 / A320 / A321             58m     2  \n",
       "1  Airbus A318 / A319 / A320 / A321          1h 55m     8  \n",
       "2  Airbus A318 / A319 / A320 / A321          1h 55m     8  \n",
       "3  Airbus A318 / A319 / A320 / A321          2h 54m     0  \n",
       "4  Airbus A318 / A319 / A320 / A321          3h 17m     0  \n",
       "\n",
       "[5 rows x 26 columns]"
      ]
     },
     "execution_count": 88,
     "metadata": {},
     "output_type": "execute_result"
    }
   ],
   "source": [
    "data_train.head()"
   ]
  },
  {
   "cell_type": "markdown",
   "metadata": {},
   "source": [
    "See if all attributes in train dataset is present in the test datasets."
   ]
  },
  {
   "cell_type": "code",
   "execution_count": 89,
   "metadata": {
    "ExecuteTime": {
     "end_time": "2019-11-04T15:42:04.569434Z",
     "start_time": "2019-11-04T15:42:04.559434Z"
    }
   },
   "outputs": [
    {
     "data": {
      "text/plain": [
       "array([ True,  True,  True,  True,  True,  True,  True,  True,  True,\n",
       "        True,  True,  True,  True,  True,  True,  True,  True,  True,\n",
       "        True,  True,  True,  True,  True,  True,  True,  True])"
      ]
     },
     "execution_count": 89,
     "metadata": {},
     "output_type": "execute_result"
    }
   ],
   "source": [
    "data_train.columns == data_test.columns"
   ]
  },
  {
   "cell_type": "code",
   "execution_count": 90,
   "metadata": {
    "ExecuteTime": {
     "end_time": "2019-11-04T15:42:04.579434Z",
     "start_time": "2019-11-04T15:42:04.572434Z"
    }
   },
   "outputs": [
    {
     "data": {
      "text/plain": [
       "Index(['id', 'number', 'airline', 'airline_name', 'scheduled_departure_time',\n",
       "       'scheduled_arrival_time', 'departure_airport_city',\n",
       "       'departure_airport_code', 'departure_airport_country',\n",
       "       'departure_airport_gate', 'departure_airport_name',\n",
       "       'departure_airport_region', 'departure_airport_terminal',\n",
       "       'departure_airport_timezone', 'arrival_airport_city',\n",
       "       'arrival_airport_code', 'arrival_airport_country',\n",
       "       'arrival_airport_gate', 'arrival_airport_name',\n",
       "       'arrival_airport_region', 'arrival_airport_terminal',\n",
       "       'arrival_airport_timezone', 'flight_equipment_iata',\n",
       "       'flight_equipment_name', 'flight_duration', 'delay'],\n",
       "      dtype='object')"
      ]
     },
     "execution_count": 90,
     "metadata": {},
     "output_type": "execute_result"
    }
   ],
   "source": [
    "data_train.columns"
   ]
  },
  {
   "cell_type": "markdown",
   "metadata": {},
   "source": [
    "# Data Cleansing\n",
    "\n",
    "Inspect each column in the data, perform cleaning steps as required.\n",
    "* Combine training and testing data for EDA purpose\n",
    "* Convert column containing time to datetime dtype\n",
    "* Convert numerical column stored as str dtype back to numerical dtype\n",
    "* Drop column which has only 1 unique values\n",
    "\n",
    "Before proceed, set 'col_id' and 'col_target' from the data."
   ]
  },
  {
   "cell_type": "code",
   "execution_count": 91,
   "metadata": {
    "ExecuteTime": {
     "end_time": "2019-11-04T15:42:04.587434Z",
     "start_time": "2019-11-04T15:42:04.582434Z"
    }
   },
   "outputs": [],
   "source": [
    "col_ID = 'id'\n",
    "col_target = 'delay'"
   ]
  },
  {
   "cell_type": "markdown",
   "metadata": {},
   "source": [
    "## Data Combining\n",
    "\n",
    "Combine the train and test dataset for EDA purpose."
   ]
  },
  {
   "cell_type": "code",
   "execution_count": 92,
   "metadata": {
    "ExecuteTime": {
     "end_time": "2019-11-04T15:42:04.649434Z",
     "start_time": "2019-11-04T15:42:04.590434Z"
    }
   },
   "outputs": [],
   "source": [
    "data = pd.concat([data_train, data_test])"
   ]
  },
  {
   "cell_type": "markdown",
   "metadata": {},
   "source": [
    "If 'col_id' is not unique, consider doing reset index on the dataframe or remove such duplicated data."
   ]
  },
  {
   "cell_type": "code",
   "execution_count": 93,
   "metadata": {
    "ExecuteTime": {
     "end_time": "2019-11-04T15:42:04.703434Z",
     "start_time": "2019-11-04T15:42:04.655434Z"
    }
   },
   "outputs": [],
   "source": [
    "data = data.set_index(col_ID)"
   ]
  },
  {
   "cell_type": "markdown",
   "metadata": {},
   "source": [
    "## Datetime Column"
   ]
  },
  {
   "cell_type": "code",
   "execution_count": 94,
   "metadata": {
    "ExecuteTime": {
     "end_time": "2019-11-04T15:42:09.439434Z",
     "start_time": "2019-11-04T15:42:04.707434Z"
    }
   },
   "outputs": [],
   "source": [
    "data['scheduled_departure_time'] = utils.lookup_date(data['scheduled_departure_time'])\n",
    "data['scheduled_arrival_time'] = utils.lookup_date(data['scheduled_arrival_time'])"
   ]
  },
  {
   "cell_type": "markdown",
   "metadata": {},
   "source": [
    "Use departure time for col_date."
   ]
  },
  {
   "cell_type": "code",
   "execution_count": 95,
   "metadata": {
    "ExecuteTime": {
     "end_time": "2019-11-04T15:42:09.444434Z",
     "start_time": "2019-11-04T15:42:09.441434Z"
    }
   },
   "outputs": [],
   "source": [
    "col_date = 'scheduled_departure_time'"
   ]
  },
  {
   "cell_type": "markdown",
   "metadata": {},
   "source": [
    "Add common datetime column features."
   ]
  },
  {
   "cell_type": "code",
   "execution_count": 96,
   "metadata": {
    "ExecuteTime": {
     "end_time": "2019-11-04T15:42:11.811434Z",
     "start_time": "2019-11-04T15:42:09.445434Z"
    }
   },
   "outputs": [],
   "source": [
    "# Date\n",
    "data['days']  = data[col_date].dt.strftime('%Y%m%d')\n",
    "data['months'] = data[col_date].dt.strftime('%Y%m')\n",
    "data['days_of_week'] = data[col_date].dt.day_name()\n",
    "data['is_weekend'] = (data[col_date].dt.dayofweek >= 5).astype('int')\n",
    "\n",
    "# Time\n",
    "data['is_daytime'] = ((data[col_date].dt.hour >= 6) & (data[col_date].dt.hour < 18)).astype('int')"
   ]
  },
  {
   "cell_type": "markdown",
   "metadata": {},
   "source": [
    "## String to Numerical Columns\n",
    "\n",
    "Deal with attributes stored in string but actually is numerical."
   ]
  },
  {
   "cell_type": "code",
   "execution_count": 97,
   "metadata": {
    "ExecuteTime": {
     "end_time": "2019-11-04T15:42:12.380434Z",
     "start_time": "2019-11-04T15:42:11.813434Z"
    }
   },
   "outputs": [],
   "source": [
    "temp = []\n",
    "for duration in data['flight_duration'].str.replace('h|m', '').str.split():\n",
    "    try:\n",
    "        if (len(duration) == 1): # m format\n",
    "            temp.append(int(duration[0]))\n",
    "        else: # h m format\n",
    "            minutes = int(duration[0]) * 60 + int(duration[1])\n",
    "            temp.append(minutes)        \n",
    "    except Exception as e: # null values\n",
    "        temp.append(duration)\n",
    "\n",
    "data['flight_duration'] = temp"
   ]
  },
  {
   "cell_type": "markdown",
   "metadata": {},
   "source": [
    "## One Unique Value Column Data\n",
    "\n",
    "Drop column which only has one unique value. Store in a dataframe. A column with one unique value may actually be the description of the whole data."
   ]
  },
  {
   "cell_type": "code",
   "execution_count": 98,
   "metadata": {
    "ExecuteTime": {
     "end_time": "2019-11-04T15:42:12.390434Z",
     "start_time": "2019-11-04T15:42:12.382434Z"
    }
   },
   "outputs": [],
   "source": [
    "def get_one_unique(df):\n",
    "    l = []\n",
    "    for col in df.columns:\n",
    "        if (df[col].nunique() == 1):\n",
    "            l.append([col, df[col].unique()[0]])\n",
    "    res = pd.DataFrame(l, columns=['attributes', 'values'])\n",
    "    return res"
   ]
  },
  {
   "cell_type": "code",
   "execution_count": 99,
   "metadata": {
    "ExecuteTime": {
     "end_time": "2019-11-04T15:42:12.695434Z",
     "start_time": "2019-11-04T15:42:12.394434Z"
    }
   },
   "outputs": [
    {
     "data": {
      "text/html": [
       "<div>\n",
       "<style scoped>\n",
       "    .dataframe tbody tr th:only-of-type {\n",
       "        vertical-align: middle;\n",
       "    }\n",
       "\n",
       "    .dataframe tbody tr th {\n",
       "        vertical-align: top;\n",
       "    }\n",
       "\n",
       "    .dataframe thead th {\n",
       "        text-align: right;\n",
       "    }\n",
       "</style>\n",
       "<table border=\"1\" class=\"dataframe\">\n",
       "  <thead>\n",
       "    <tr style=\"text-align: right;\">\n",
       "      <th></th>\n",
       "      <th>attributes</th>\n",
       "      <th>values</th>\n",
       "    </tr>\n",
       "  </thead>\n",
       "  <tbody>\n",
       "    <tr>\n",
       "      <th>0</th>\n",
       "      <td>departure_airport_country</td>\n",
       "      <td>MY</td>\n",
       "    </tr>\n",
       "    <tr>\n",
       "      <th>1</th>\n",
       "      <td>departure_airport_region</td>\n",
       "      <td>Asia</td>\n",
       "    </tr>\n",
       "    <tr>\n",
       "      <th>2</th>\n",
       "      <td>departure_airport_timezone</td>\n",
       "      <td>Asia/Kuala_Lumpur</td>\n",
       "    </tr>\n",
       "  </tbody>\n",
       "</table>\n",
       "</div>"
      ],
      "text/plain": [
       "                   attributes             values\n",
       "0   departure_airport_country                 MY\n",
       "1    departure_airport_region               Asia\n",
       "2  departure_airport_timezone  Asia/Kuala_Lumpur"
      ]
     },
     "execution_count": 99,
     "metadata": {},
     "output_type": "execute_result"
    }
   ],
   "source": [
    "df_one_unique = get_one_unique(data)\n",
    "df_one_unique"
   ]
  },
  {
   "cell_type": "code",
   "execution_count": 100,
   "metadata": {
    "ExecuteTime": {
     "end_time": "2019-11-04T15:42:12.849434Z",
     "start_time": "2019-11-04T15:42:12.697434Z"
    }
   },
   "outputs": [],
   "source": [
    "data = data.drop(df_one_unique['attributes'], axis=1)"
   ]
  },
  {
   "cell_type": "markdown",
   "metadata": {},
   "source": [
    "# Data Preprocessing\n",
    "\n",
    "Perform common preprocessing steps:\n",
    "* Check missing & null data, remove them if necessary\n",
    "* Check infinite values data, remove or convert to null if necessary\n",
    "* Check duplicated data, remove them if necessary\n",
    "* Split numerical and categorical column"
   ]
  },
  {
   "cell_type": "markdown",
   "metadata": {},
   "source": [
    "## Infinite Values Data"
   ]
  },
  {
   "cell_type": "code",
   "execution_count": 101,
   "metadata": {
    "ExecuteTime": {
     "end_time": "2019-11-04T15:42:14.845434Z",
     "start_time": "2019-11-04T15:42:12.852434Z"
    }
   },
   "outputs": [],
   "source": [
    "data = data.replace([np.inf, -np.inf], np.nan)"
   ]
  },
  {
   "cell_type": "markdown",
   "metadata": {},
   "source": [
    "## Duplicated Data"
   ]
  },
  {
   "cell_type": "code",
   "execution_count": 102,
   "metadata": {
    "ExecuteTime": {
     "end_time": "2019-11-04T15:42:15.583434Z",
     "start_time": "2019-11-04T15:42:14.847434Z"
    }
   },
   "outputs": [
    {
     "name": "stdout",
     "output_type": "stream",
     "text": [
      "Total number of duplicated data:  11708\n",
      "In percentage:  7.67 %\n"
     ]
    }
   ],
   "source": [
    "print(\"Total number of duplicated data: \", data.duplicated(subset=list(set(data.columns) - set(col_target))).sum())\n",
    "print(\"In percentage: \", round(data.duplicated(subset=list(set(data.columns) - set(col_target))).sum()/data.shape[0]*100, 2), '%')"
   ]
  },
  {
   "cell_type": "markdown",
   "metadata": {},
   "source": [
    "## Missing & Null Data"
   ]
  },
  {
   "cell_type": "code",
   "execution_count": 103,
   "metadata": {
    "ExecuteTime": {
     "end_time": "2019-11-04T15:42:15.593434Z",
     "start_time": "2019-11-04T15:42:15.586434Z"
    }
   },
   "outputs": [],
   "source": [
    "def get_missing(data):    \n",
    "    missing_df = data.isnull().sum(axis=0).reset_index()\n",
    "    missing_df.columns = ['variable', 'missing values']\n",
    "    missing_df['filling factor (%)'] = (data.shape[0] - missing_df['missing values'])/data.shape[0]*100\n",
    "    missing_df = missing_df.sort_values('filling factor (%)').reset_index(drop = True)\n",
    "    \n",
    "    return missing_df"
   ]
  },
  {
   "cell_type": "code",
   "execution_count": 104,
   "metadata": {
    "ExecuteTime": {
     "end_time": "2019-11-04T15:42:15.820434Z",
     "start_time": "2019-11-04T15:42:15.596434Z"
    }
   },
   "outputs": [
    {
     "data": {
      "text/html": [
       "<div>\n",
       "<style scoped>\n",
       "    .dataframe tbody tr th:only-of-type {\n",
       "        vertical-align: middle;\n",
       "    }\n",
       "\n",
       "    .dataframe tbody tr th {\n",
       "        vertical-align: top;\n",
       "    }\n",
       "\n",
       "    .dataframe thead th {\n",
       "        text-align: right;\n",
       "    }\n",
       "</style>\n",
       "<table border=\"1\" class=\"dataframe\">\n",
       "  <thead>\n",
       "    <tr style=\"text-align: right;\">\n",
       "      <th></th>\n",
       "      <th>variable</th>\n",
       "      <th>missing values</th>\n",
       "      <th>filling factor (%)</th>\n",
       "    </tr>\n",
       "  </thead>\n",
       "  <tbody>\n",
       "    <tr>\n",
       "      <th>0</th>\n",
       "      <td>arrival_airport_gate</td>\n",
       "      <td>137275</td>\n",
       "      <td>10.057330</td>\n",
       "    </tr>\n",
       "    <tr>\n",
       "      <th>1</th>\n",
       "      <td>arrival_airport_terminal</td>\n",
       "      <td>79410</td>\n",
       "      <td>47.970516</td>\n",
       "    </tr>\n",
       "    <tr>\n",
       "      <th>2</th>\n",
       "      <td>departure_airport_gate</td>\n",
       "      <td>60619</td>\n",
       "      <td>60.282391</td>\n",
       "    </tr>\n",
       "    <tr>\n",
       "      <th>3</th>\n",
       "      <td>departure_airport_terminal</td>\n",
       "      <td>56588</td>\n",
       "      <td>62.923505</td>\n",
       "    </tr>\n",
       "    <tr>\n",
       "      <th>4</th>\n",
       "      <td>flight_equipment_name</td>\n",
       "      <td>22</td>\n",
       "      <td>99.985586</td>\n",
       "    </tr>\n",
       "    <tr>\n",
       "      <th>5</th>\n",
       "      <td>flight_equipment_iata</td>\n",
       "      <td>22</td>\n",
       "      <td>99.985586</td>\n",
       "    </tr>\n",
       "    <tr>\n",
       "      <th>6</th>\n",
       "      <td>scheduled_arrival_time</td>\n",
       "      <td>7</td>\n",
       "      <td>99.995414</td>\n",
       "    </tr>\n",
       "    <tr>\n",
       "      <th>7</th>\n",
       "      <td>flight_duration</td>\n",
       "      <td>5</td>\n",
       "      <td>99.996724</td>\n",
       "    </tr>\n",
       "    <tr>\n",
       "      <th>8</th>\n",
       "      <td>days_of_week</td>\n",
       "      <td>0</td>\n",
       "      <td>100.000000</td>\n",
       "    </tr>\n",
       "    <tr>\n",
       "      <th>9</th>\n",
       "      <td>months</td>\n",
       "      <td>0</td>\n",
       "      <td>100.000000</td>\n",
       "    </tr>\n",
       "    <tr>\n",
       "      <th>10</th>\n",
       "      <td>days</td>\n",
       "      <td>0</td>\n",
       "      <td>100.000000</td>\n",
       "    </tr>\n",
       "    <tr>\n",
       "      <th>11</th>\n",
       "      <td>delay</td>\n",
       "      <td>0</td>\n",
       "      <td>100.000000</td>\n",
       "    </tr>\n",
       "    <tr>\n",
       "      <th>12</th>\n",
       "      <td>arrival_airport_timezone</td>\n",
       "      <td>0</td>\n",
       "      <td>100.000000</td>\n",
       "    </tr>\n",
       "    <tr>\n",
       "      <th>13</th>\n",
       "      <td>arrival_airport_region</td>\n",
       "      <td>0</td>\n",
       "      <td>100.000000</td>\n",
       "    </tr>\n",
       "    <tr>\n",
       "      <th>14</th>\n",
       "      <td>number</td>\n",
       "      <td>0</td>\n",
       "      <td>100.000000</td>\n",
       "    </tr>\n",
       "    <tr>\n",
       "      <th>15</th>\n",
       "      <td>is_weekend</td>\n",
       "      <td>0</td>\n",
       "      <td>100.000000</td>\n",
       "    </tr>\n",
       "    <tr>\n",
       "      <th>16</th>\n",
       "      <td>arrival_airport_country</td>\n",
       "      <td>0</td>\n",
       "      <td>100.000000</td>\n",
       "    </tr>\n",
       "    <tr>\n",
       "      <th>17</th>\n",
       "      <td>arrival_airport_code</td>\n",
       "      <td>0</td>\n",
       "      <td>100.000000</td>\n",
       "    </tr>\n",
       "    <tr>\n",
       "      <th>18</th>\n",
       "      <td>arrival_airport_city</td>\n",
       "      <td>0</td>\n",
       "      <td>100.000000</td>\n",
       "    </tr>\n",
       "    <tr>\n",
       "      <th>19</th>\n",
       "      <td>departure_airport_name</td>\n",
       "      <td>0</td>\n",
       "      <td>100.000000</td>\n",
       "    </tr>\n",
       "    <tr>\n",
       "      <th>20</th>\n",
       "      <td>departure_airport_code</td>\n",
       "      <td>0</td>\n",
       "      <td>100.000000</td>\n",
       "    </tr>\n",
       "    <tr>\n",
       "      <th>21</th>\n",
       "      <td>departure_airport_city</td>\n",
       "      <td>0</td>\n",
       "      <td>100.000000</td>\n",
       "    </tr>\n",
       "    <tr>\n",
       "      <th>22</th>\n",
       "      <td>scheduled_departure_time</td>\n",
       "      <td>0</td>\n",
       "      <td>100.000000</td>\n",
       "    </tr>\n",
       "    <tr>\n",
       "      <th>23</th>\n",
       "      <td>airline_name</td>\n",
       "      <td>0</td>\n",
       "      <td>100.000000</td>\n",
       "    </tr>\n",
       "    <tr>\n",
       "      <th>24</th>\n",
       "      <td>airline</td>\n",
       "      <td>0</td>\n",
       "      <td>100.000000</td>\n",
       "    </tr>\n",
       "    <tr>\n",
       "      <th>25</th>\n",
       "      <td>arrival_airport_name</td>\n",
       "      <td>0</td>\n",
       "      <td>100.000000</td>\n",
       "    </tr>\n",
       "    <tr>\n",
       "      <th>26</th>\n",
       "      <td>is_daytime</td>\n",
       "      <td>0</td>\n",
       "      <td>100.000000</td>\n",
       "    </tr>\n",
       "  </tbody>\n",
       "</table>\n",
       "</div>"
      ],
      "text/plain": [
       "                      variable  missing values  filling factor (%)\n",
       "0         arrival_airport_gate          137275           10.057330\n",
       "1     arrival_airport_terminal           79410           47.970516\n",
       "2       departure_airport_gate           60619           60.282391\n",
       "3   departure_airport_terminal           56588           62.923505\n",
       "4        flight_equipment_name              22           99.985586\n",
       "5        flight_equipment_iata              22           99.985586\n",
       "6       scheduled_arrival_time               7           99.995414\n",
       "7              flight_duration               5           99.996724\n",
       "8                 days_of_week               0          100.000000\n",
       "9                       months               0          100.000000\n",
       "10                        days               0          100.000000\n",
       "11                       delay               0          100.000000\n",
       "12    arrival_airport_timezone               0          100.000000\n",
       "13      arrival_airport_region               0          100.000000\n",
       "14                      number               0          100.000000\n",
       "15                  is_weekend               0          100.000000\n",
       "16     arrival_airport_country               0          100.000000\n",
       "17        arrival_airport_code               0          100.000000\n",
       "18        arrival_airport_city               0          100.000000\n",
       "19      departure_airport_name               0          100.000000\n",
       "20      departure_airport_code               0          100.000000\n",
       "21      departure_airport_city               0          100.000000\n",
       "22    scheduled_departure_time               0          100.000000\n",
       "23                airline_name               0          100.000000\n",
       "24                     airline               0          100.000000\n",
       "25        arrival_airport_name               0          100.000000\n",
       "26                  is_daytime               0          100.000000"
      ]
     },
     "execution_count": 104,
     "metadata": {},
     "output_type": "execute_result"
    }
   ],
   "source": [
    "missing_df = get_missing(data)\n",
    "missing_df"
   ]
  },
  {
   "cell_type": "markdown",
   "metadata": {},
   "source": [
    "Some of columns that has at least 30% of missing values:\n",
    "* `arrival_airport_terminal`\n",
    "* `arrival_airpot_gate`\n",
    "* `departure_airport_gate`\n",
    "* `departure_airport_terminal`\n",
    "\n",
    "Choose to delete these attributes for now, and explore later if there is enough time. "
   ]
  },
  {
   "cell_type": "code",
   "execution_count": 105,
   "metadata": {
    "ExecuteTime": {
     "end_time": "2019-11-04T15:42:15.880434Z",
     "start_time": "2019-11-04T15:42:15.823434Z"
    }
   },
   "outputs": [],
   "source": [
    "data = data.drop(missing_df[missing_df['filling factor (%)'] < 70.0]['variable'], axis=1)"
   ]
  },
  {
   "cell_type": "markdown",
   "metadata": {},
   "source": [
    "Drop rows with missing values."
   ]
  },
  {
   "cell_type": "code",
   "execution_count": 106,
   "metadata": {
    "ExecuteTime": {
     "end_time": "2019-11-04T15:42:15.909434Z",
     "start_time": "2019-11-04T15:42:15.882434Z"
    }
   },
   "outputs": [],
   "source": [
    "def dropna(data):\n",
    "    n_before = data.shape[0]\n",
    "    data = data.dropna()\n",
    "    n_after = data.shape[0]\n",
    "    print(\"Dropped {:.2f}% of data\".format((n_before-n_after)/n_before*100))\n",
    "    return data"
   ]
  },
  {
   "cell_type": "code",
   "execution_count": 107,
   "metadata": {
    "ExecuteTime": {
     "end_time": "2019-11-04T15:42:16.126434Z",
     "start_time": "2019-11-04T15:42:15.911434Z"
    }
   },
   "outputs": [
    {
     "name": "stdout",
     "output_type": "stream",
     "text": [
      "Dropped 0.02% of data\n"
     ]
    }
   ],
   "source": [
    "data = dropna(data)"
   ]
  },
  {
   "cell_type": "markdown",
   "metadata": {},
   "source": [
    "## Split Numerical & Categorical Data\n",
    "\n",
    "* Create numerical & categorical column list."
   ]
  },
  {
   "cell_type": "code",
   "execution_count": 108,
   "metadata": {
    "ExecuteTime": {
     "end_time": "2019-11-04T15:42:23.722434Z",
     "start_time": "2019-11-04T15:42:23.014434Z"
    }
   },
   "outputs": [
    {
     "name": "stdout",
     "output_type": "stream",
     "text": [
      "Column airline casted to categorical\n",
      "Column airline_name casted to categorical\n",
      "Column departure_airport_city casted to categorical\n",
      "Column departure_airport_code casted to categorical\n",
      "Column departure_airport_name casted to categorical\n",
      "Column arrival_airport_city casted to categorical\n",
      "Column arrival_airport_code casted to categorical\n",
      "Column arrival_airport_country casted to categorical\n",
      "Column arrival_airport_name casted to categorical\n",
      "Column arrival_airport_region casted to categorical\n",
      "Column arrival_airport_timezone casted to categorical\n",
      "Column flight_equipment_iata casted to categorical\n",
      "Column flight_equipment_name casted to categorical\n",
      "Column days casted to categorical\n",
      "Column months casted to categorical\n",
      "Column days_of_week casted to categorical\n",
      "Column is_weekend casted to categorical\n",
      "Column is_daytime casted to categorical\n"
     ]
    }
   ],
   "source": [
    "transformation.convert_to_categorical(data, 200)"
   ]
  },
  {
   "cell_type": "code",
   "execution_count": 109,
   "metadata": {
    "ExecuteTime": {
     "end_time": "2019-11-04T15:42:24.137434Z",
     "start_time": "2019-11-04T15:42:24.094434Z"
    }
   },
   "outputs": [],
   "source": [
    "if (data[col_target].nunique() == 2):\n",
    "    cols_num = list(set(data.select_dtypes(include=[np.number]).columns) - set([col_ID]))\n",
    "    cols_cat = list(set(data.select_dtypes(exclude=[np.number]).columns) - set([col_target]))\n",
    "else:\n",
    "    cols_num = list(set(data.select_dtypes(include=[np.number]).columns) - set([col_ID, col_target]))\n",
    "    cols_cat = list(set(data.select_dtypes(exclude=[np.number]).columns))"
   ]
  },
  {
   "cell_type": "markdown",
   "metadata": {},
   "source": [
    "# Task 1: Travel Recommendation\n",
    "\n",
    "This task gives recommendation on best flight or best time to avoid having delays. Before proceeding with the analysis, it is nice to know the reasons behind a flight delays. From [claimcompass.eu](https://www.claimcompass.eu/blog/why-is-my-flight-delayed/), we can see probable reasons behind a flight delays.\n",
    "\n",
    "From 15 most common reasons listed there, it is worth a notice that a flight delays can be caused by a `knock-on effect`, in which when a flight is delayed because of the late arrival of an aircraft. This may alter the prediction (which will be done later) for flights which delays can't actually be predicted from the available attributes in the data. **For this analysis, it will now be assumed that all delays in the data is not caused by such effect.**"
   ]
  },
  {
   "cell_type": "markdown",
   "metadata": {},
   "source": [
    "## Airline Recommendation\n",
    "\n",
    "Rank the best airline based on its probability of a delay. Some notes to be keep in mind while doing the analysis:\n",
    "* To accurately recommend the best airline based on its delay, we must make sure that the delay is not caused by external factor such as weather condition, bird migration, etc. as these factors are out of control of the airline.\n",
    "* We must also consider the number of flights of each airlines, wouldn't trus too much on small airlines do we?"
   ]
  },
  {
   "cell_type": "markdown",
   "metadata": {},
   "source": [
    "## Time Recommendation\n",
    "\n",
    "Differing from previous sub task, in this task we must keep in mind only:\n",
    "\n",
    "* The number of flights in each time interval which we will define."
   ]
  },
  {
   "cell_type": "markdown",
   "metadata": {},
   "source": [
    "# Task 2: Model Estimating Delay Duration\n",
    "\n",
    "Before doing linear regression, we must see if the assumption is true.\n",
    "\n",
    "* Relation between dependant variable and independant variable is linear\n",
    "* Error or residual of the model need to be normally distributed\n",
    "* There is no multicollinearity"
   ]
  },
  {
   "cell_type": "markdown",
   "metadata": {},
   "source": [
    "See the target attribute distribution between train and test dataset."
   ]
  },
  {
   "cell_type": "code",
   "execution_count": 149,
   "metadata": {
    "ExecuteTime": {
     "end_time": "2019-11-04T16:10:35.026240Z",
     "start_time": "2019-11-04T16:10:34.573040Z"
    }
   },
   "outputs": [
    {
     "data": {
      "image/png": "[encoded data removed]",
      "text/plain": [
       "<Figure size 1008x432 with 1 Axes>"
      ]
     },
     "metadata": {
      "needs_background": "light"
     },
     "output_type": "display_data"
    }
   ],
   "source": [
    "fig, ax = plt.subplots(figsize=(14, 6))\n",
    "sns.distplot(data_train[col_target], ax=ax)\n",
    "sns.distplot(data_test[col_target], ax=ax)\n",
    "ax.legend(['Train', 'Test'])\n",
    "ax.set_title('Distribution of Delays (in minutes)')\n",
    "plt.show()"
   ]
  },
  {
   "cell_type": "markdown",
   "metadata": {},
   "source": [
    "See the difference in data date between train and test dataset."
   ]
  },
  {
   "cell_type": "code",
   "execution_count": 151,
   "metadata": {
    "ExecuteTime": {
     "end_time": "2019-11-04T16:11:37.527441Z",
     "start_time": "2019-11-04T16:11:37.452241Z"
    }
   },
   "outputs": [
    {
     "name": "stdout",
     "output_type": "stream",
     "text": [
      "2018-10-04 22:00:00 2018-11-30 23:55:00\n",
      "2018-12-01 00:00:00 2018-12-20 15:59:00\n"
     ]
    }
   ],
   "source": [
    "print(min(data_train['scheduled_departure_time']), max(data_train['scheduled_departure_time']))\n",
    "print(min(data_test['scheduled_departure_time']), max(data_test['scheduled_departure_time']))"
   ]
  },
  {
   "cell_type": "markdown",
   "metadata": {},
   "source": [
    "The test dataset cotains data only twenty days from December month while the train dataset doesn't contain any time in December month. We should expect some error in prediction regarding this difference in time."
   ]
  },
  {
   "cell_type": "markdown",
   "metadata": {},
   "source": [
    "## Linear Regression"
   ]
  },
  {
   "cell_type": "markdown",
   "metadata": {},
   "source": [
    "# Task 3: Model Predict Delay > 60"
   ]
  },
  {
   "cell_type": "code",
   "execution_count": null,
   "metadata": {},
   "outputs": [],
   "source": []
  },
  {
   "cell_type": "markdown",
   "metadata": {},
   "source": [
    "# Task 4: Feature Engineering Reasoning"
   ]
  },
  {
   "cell_type": "code",
   "execution_count": null,
   "metadata": {},
   "outputs": [],
   "source": []
  },
  {
   "cell_type": "markdown",
   "metadata": {},
   "source": [
    "# Task 5: Predict Delay that will Happened in December for Delay >60"
   ]
  },
  {
   "cell_type": "code",
   "execution_count": null,
   "metadata": {},
   "outputs": [],
   "source": []
  }
 ],
 "metadata": {
  "hide_input": false,
  "kernelspec": {
   "display_name": "Python 3",
   "language": "python",
   "name": "python3"
  },
  "language_info": {
   "codemirror_mode": {
    "name": "ipython",
    "version": 3
   },
   "file_extension": ".py",
   "mimetype": "text/x-python",
   "name": "python",
   "nbconvert_exporter": "python",
   "pygments_lexer": "ipython3",
   "version": "3.7.3"
  },
  "toc": {
   "base_numbering": 1,
   "nav_menu": {},
   "number_sections": true,
   "sideBar": true,
   "skip_h1_title": false,
   "title_cell": "Table of Contents",
   "title_sidebar": "Contents",
   "toc_cell": false,
   "toc_position": {},
   "toc_section_display": true,
   "toc_window_display": true
  }
 },
 "nbformat": 4,
 "nbformat_minor": 2
}
