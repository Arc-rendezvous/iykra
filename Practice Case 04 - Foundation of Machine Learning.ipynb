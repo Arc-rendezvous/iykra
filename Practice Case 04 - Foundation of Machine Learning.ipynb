{
 "cells": [
  {
   "cell_type": "markdown",
   "metadata": {},
   "source": [
    "<span style=\"font-size:42px\"><b>Practise Case 03</b></span><br><br>\n",
    "<span style=\"font-size:36px\">Foundation of Machine Learning</span>\n",
    "\n",
    "Copyright 2019 Gunawan Lumban Gaol\n",
    "\n",
    "Licensed under the Apache License, Version 2.0 (the \"License\"); you may not use this file except in compliance with the License. You may obtain a copy of the License at http://www.apache.org/licenses/LICENSE-2.0\n",
    "\n",
    "Unless required by applicable law or agreed to in writing, software distributed under the License is distributed on an \"AS IS\" BASIS, WITHOUT WARRANTIES OR CONDITIONS OF ANY KIND, either express or implied. See the License for the specific language overning permissions and limitations under the License."
   ]
  },
  {
   "cell_type": "markdown",
   "metadata": {},
   "source": [
    "Tasks\n",
    "1. Provide travel recommendation to passenger (best time to take a flight or best airline), so they will\n",
    "not get caught in delay. Each recommendation has to be supported by at least 1 graph\n",
    "2. Create a model to estimate the delay duration ( Linear Regression )\n",
    "3. Create a model to predict delay > 60 min ( Logistic regression and another supervised model you\n",
    "choosing )\n",
    "4. Did you do some feature engineering on the dataset ? if yes, please give the reason for each\n",
    "feature you created\n",
    "5. Using those models predict delay that will happened in December for delay >60"
   ]
  },
  {
   "cell_type": "markdown",
   "metadata": {},
   "source": [
    "# Import Packages"
   ]
  },
  {
   "cell_type": "code",
   "execution_count": 2,
   "metadata": {
    "ExecuteTime": {
     "end_time": "2019-11-04T06:49:08.671609Z",
     "start_time": "2019-11-04T06:49:07.348409Z"
    }
   },
   "outputs": [],
   "source": [
    "import pandas as pd\n",
    "import numpy as np\n",
    "import matplotlib.pyplot as plt\n",
    "import seaborn as sns\n",
    "from configparser import ConfigParser\n",
    "\n",
    "from edapy.edapy import transformation\n",
    "from edapy.edapy import plotting"
   ]
  },
  {
   "cell_type": "code",
   "execution_count": 3,
   "metadata": {
    "ExecuteTime": {
     "end_time": "2019-11-04T06:49:08.686609Z",
     "start_time": "2019-11-04T06:49:08.674609Z"
    }
   },
   "outputs": [
    {
     "data": {
      "text/plain": [
       "['./config.ini']"
      ]
     },
     "execution_count": 3,
     "metadata": {},
     "output_type": "execute_result"
    }
   ],
   "source": [
    "config = ConfigParser()\n",
    "config.read('./config.ini')"
   ]
  },
  {
   "cell_type": "markdown",
   "metadata": {},
   "source": [
    "# Import Data\n",
    "\n",
    "Dataset is a historical flight data in Malaysia from Oct 2018 – Nov 2018\n",
    "Data consist of information of flight such as:\n",
    "1. Date of flight\n",
    "2. Date of arrival\n",
    "3. Departure Delay\n",
    "4. Tail Number\n",
    "5. Airline Name\n",
    "6. Departure Location\n",
    "7. Arrival Location\n",
    "8. Flight Number\n",
    "9. Delay"
   ]
  },
  {
   "cell_type": "code",
   "execution_count": 4,
   "metadata": {
    "ExecuteTime": {
     "end_time": "2019-11-04T06:49:09.645009Z",
     "start_time": "2019-11-04T06:49:08.691609Z"
    }
   },
   "outputs": [],
   "source": [
    "data_train = pd.read_csv('csv/training_dataset.csv')\n",
    "data_test = pd.read_csv('csv/test_dataset.csv')"
   ]
  },
  {
   "cell_type": "code",
   "execution_count": 5,
   "metadata": {
    "ExecuteTime": {
     "end_time": "2019-11-04T06:49:09.662009Z",
     "start_time": "2019-11-04T06:49:09.647009Z"
    }
   },
   "outputs": [
    {
     "name": "stdout",
     "output_type": "stream",
     "text": [
      "(111068, 26)\n",
      "(41557, 26)\n"
     ]
    }
   ],
   "source": [
    "print(data_train.shape)\n",
    "print(data_test.shape)"
   ]
  },
  {
   "cell_type": "code",
   "execution_count": 6,
   "metadata": {
    "ExecuteTime": {
     "end_time": "2019-11-04T06:49:09.715009Z",
     "start_time": "2019-11-04T06:49:09.665009Z"
    }
   },
   "outputs": [
    {
     "data": {
      "text/html": [
       "<div>\n",
       "<style scoped>\n",
       "    .dataframe tbody tr th:only-of-type {\n",
       "        vertical-align: middle;\n",
       "    }\n",
       "\n",
       "    .dataframe tbody tr th {\n",
       "        vertical-align: top;\n",
       "    }\n",
       "\n",
       "    .dataframe thead th {\n",
       "        text-align: right;\n",
       "    }\n",
       "</style>\n",
       "<table border=\"1\" class=\"dataframe\">\n",
       "  <thead>\n",
       "    <tr style=\"text-align: right;\">\n",
       "      <th></th>\n",
       "      <th>id</th>\n",
       "      <th>number</th>\n",
       "      <th>airline</th>\n",
       "      <th>airline_name</th>\n",
       "      <th>scheduled_departure_time</th>\n",
       "      <th>scheduled_arrival_time</th>\n",
       "      <th>departure_airport_city</th>\n",
       "      <th>departure_airport_code</th>\n",
       "      <th>departure_airport_country</th>\n",
       "      <th>departure_airport_gate</th>\n",
       "      <th>...</th>\n",
       "      <th>arrival_airport_country</th>\n",
       "      <th>arrival_airport_gate</th>\n",
       "      <th>arrival_airport_name</th>\n",
       "      <th>arrival_airport_region</th>\n",
       "      <th>arrival_airport_terminal</th>\n",
       "      <th>arrival_airport_timezone</th>\n",
       "      <th>flight_equipment_iata</th>\n",
       "      <th>flight_equipment_name</th>\n",
       "      <th>flight_duration</th>\n",
       "      <th>delay</th>\n",
       "    </tr>\n",
       "  </thead>\n",
       "  <tbody>\n",
       "    <tr>\n",
       "      <th>0</th>\n",
       "      <td>1</td>\n",
       "      <td>AK6430</td>\n",
       "      <td>AK</td>\n",
       "      <td>AirAsia</td>\n",
       "      <td>2018-10-05 22:00:00</td>\n",
       "      <td>2018-10-05 23:05:00</td>\n",
       "      <td>Kuala Lumpur</td>\n",
       "      <td>KUL</td>\n",
       "      <td>MY</td>\n",
       "      <td>J15</td>\n",
       "      <td>...</td>\n",
       "      <td>MY</td>\n",
       "      <td>2</td>\n",
       "      <td>Sultan Ismail Petra Airport</td>\n",
       "      <td>Asia</td>\n",
       "      <td>NaN</td>\n",
       "      <td>Asia/Kuala_Lumpur</td>\n",
       "      <td>32S</td>\n",
       "      <td>Airbus A318 / A319 / A320 / A321</td>\n",
       "      <td>58m</td>\n",
       "      <td>2</td>\n",
       "    </tr>\n",
       "    <tr>\n",
       "      <th>1</th>\n",
       "      <td>2</td>\n",
       "      <td>ID*7164</td>\n",
       "      <td>ID*</td>\n",
       "      <td>Batik Air</td>\n",
       "      <td>2018-10-05 22:00:00</td>\n",
       "      <td>2018-10-05 23:55:00</td>\n",
       "      <td>Kuala Lumpur</td>\n",
       "      <td>KUL</td>\n",
       "      <td>MY</td>\n",
       "      <td>C33</td>\n",
       "      <td>...</td>\n",
       "      <td>ID</td>\n",
       "      <td>5</td>\n",
       "      <td>Soekarno-Hatta International Airport</td>\n",
       "      <td>Asia</td>\n",
       "      <td>2</td>\n",
       "      <td>Asia/Jakarta</td>\n",
       "      <td>32S</td>\n",
       "      <td>Airbus A318 / A319 / A320 / A321</td>\n",
       "      <td>1h 55m</td>\n",
       "      <td>8</td>\n",
       "    </tr>\n",
       "    <tr>\n",
       "      <th>2</th>\n",
       "      <td>3</td>\n",
       "      <td>MXD9116</td>\n",
       "      <td>MXD</td>\n",
       "      <td>Malindo Air</td>\n",
       "      <td>2018-10-05 22:00:00</td>\n",
       "      <td>2018-10-05 23:55:00</td>\n",
       "      <td>Kuala Lumpur</td>\n",
       "      <td>KUL</td>\n",
       "      <td>MY</td>\n",
       "      <td>C33</td>\n",
       "      <td>...</td>\n",
       "      <td>ID</td>\n",
       "      <td>5</td>\n",
       "      <td>Soekarno-Hatta International Airport</td>\n",
       "      <td>Asia</td>\n",
       "      <td>2</td>\n",
       "      <td>Asia/Jakarta</td>\n",
       "      <td>32S</td>\n",
       "      <td>Airbus A318 / A319 / A320 / A321</td>\n",
       "      <td>1h 55m</td>\n",
       "      <td>8</td>\n",
       "    </tr>\n",
       "    <tr>\n",
       "      <th>3</th>\n",
       "      <td>4</td>\n",
       "      <td>AK5198</td>\n",
       "      <td>AK</td>\n",
       "      <td>AirAsia</td>\n",
       "      <td>2018-10-05 22:05:00</td>\n",
       "      <td>2018-10-06 01:00:00</td>\n",
       "      <td>Kuala Lumpur</td>\n",
       "      <td>KUL</td>\n",
       "      <td>MY</td>\n",
       "      <td>J9</td>\n",
       "      <td>...</td>\n",
       "      <td>MY</td>\n",
       "      <td>INT</td>\n",
       "      <td>Sandakan Airport</td>\n",
       "      <td>Asia</td>\n",
       "      <td>NaN</td>\n",
       "      <td>Asia/Kuala_Lumpur</td>\n",
       "      <td>32S</td>\n",
       "      <td>Airbus A318 / A319 / A320 / A321</td>\n",
       "      <td>2h 54m</td>\n",
       "      <td>0</td>\n",
       "    </tr>\n",
       "    <tr>\n",
       "      <th>4</th>\n",
       "      <td>5</td>\n",
       "      <td>AK516</td>\n",
       "      <td>AK</td>\n",
       "      <td>AirAsia</td>\n",
       "      <td>2018-10-05 22:10:00</td>\n",
       "      <td>2018-10-06 01:25:00</td>\n",
       "      <td>Kuala Lumpur</td>\n",
       "      <td>KUL</td>\n",
       "      <td>MY</td>\n",
       "      <td>P1</td>\n",
       "      <td>...</td>\n",
       "      <td>VN</td>\n",
       "      <td>NaN</td>\n",
       "      <td>Noi Bai International Airport</td>\n",
       "      <td>Asia</td>\n",
       "      <td>T2</td>\n",
       "      <td>Asia/Ho_Chi_Minh</td>\n",
       "      <td>32S</td>\n",
       "      <td>Airbus A318 / A319 / A320 / A321</td>\n",
       "      <td>3h 17m</td>\n",
       "      <td>0</td>\n",
       "    </tr>\n",
       "  </tbody>\n",
       "</table>\n",
       "<p>5 rows × 26 columns</p>\n",
       "</div>"
      ],
      "text/plain": [
       "   id   number airline airline_name scheduled_departure_time  \\\n",
       "0   1   AK6430      AK      AirAsia      2018-10-05 22:00:00   \n",
       "1   2  ID*7164     ID*    Batik Air      2018-10-05 22:00:00   \n",
       "2   3  MXD9116     MXD  Malindo Air      2018-10-05 22:00:00   \n",
       "3   4   AK5198      AK      AirAsia      2018-10-05 22:05:00   \n",
       "4   5    AK516      AK      AirAsia      2018-10-05 22:10:00   \n",
       "\n",
       "  scheduled_arrival_time departure_airport_city departure_airport_code  \\\n",
       "0    2018-10-05 23:05:00           Kuala Lumpur                    KUL   \n",
       "1    2018-10-05 23:55:00           Kuala Lumpur                    KUL   \n",
       "2    2018-10-05 23:55:00           Kuala Lumpur                    KUL   \n",
       "3    2018-10-06 01:00:00           Kuala Lumpur                    KUL   \n",
       "4    2018-10-06 01:25:00           Kuala Lumpur                    KUL   \n",
       "\n",
       "  departure_airport_country departure_airport_gate  ...  \\\n",
       "0                        MY                    J15  ...   \n",
       "1                        MY                    C33  ...   \n",
       "2                        MY                    C33  ...   \n",
       "3                        MY                     J9  ...   \n",
       "4                        MY                     P1  ...   \n",
       "\n",
       "  arrival_airport_country arrival_airport_gate  \\\n",
       "0                      MY                    2   \n",
       "1                      ID                    5   \n",
       "2                      ID                    5   \n",
       "3                      MY                  INT   \n",
       "4                      VN                  NaN   \n",
       "\n",
       "                   arrival_airport_name arrival_airport_region  \\\n",
       "0           Sultan Ismail Petra Airport                   Asia   \n",
       "1  Soekarno-Hatta International Airport                   Asia   \n",
       "2  Soekarno-Hatta International Airport                   Asia   \n",
       "3                      Sandakan Airport                   Asia   \n",
       "4         Noi Bai International Airport                   Asia   \n",
       "\n",
       "  arrival_airport_terminal arrival_airport_timezone flight_equipment_iata  \\\n",
       "0                      NaN        Asia/Kuala_Lumpur                   32S   \n",
       "1                        2             Asia/Jakarta                   32S   \n",
       "2                        2             Asia/Jakarta                   32S   \n",
       "3                      NaN        Asia/Kuala_Lumpur                   32S   \n",
       "4                       T2         Asia/Ho_Chi_Minh                   32S   \n",
       "\n",
       "              flight_equipment_name flight_duration delay  \n",
       "0  Airbus A318 / A319 / A320 / A321             58m     2  \n",
       "1  Airbus A318 / A319 / A320 / A321          1h 55m     8  \n",
       "2  Airbus A318 / A319 / A320 / A321          1h 55m     8  \n",
       "3  Airbus A318 / A319 / A320 / A321          2h 54m     0  \n",
       "4  Airbus A318 / A319 / A320 / A321          3h 17m     0  \n",
       "\n",
       "[5 rows x 26 columns]"
      ]
     },
     "execution_count": 6,
     "metadata": {},
     "output_type": "execute_result"
    }
   ],
   "source": [
    "data_train.head()"
   ]
  },
  {
   "cell_type": "code",
   "execution_count": 7,
   "metadata": {
    "ExecuteTime": {
     "end_time": "2019-11-04T06:49:09.742009Z",
     "start_time": "2019-11-04T06:49:09.719009Z"
    }
   },
   "outputs": [
    {
     "data": {
      "text/plain": [
       "Index(['id', 'number', 'airline', 'airline_name', 'scheduled_departure_time',\n",
       "       'scheduled_arrival_time', 'departure_airport_city',\n",
       "       'departure_airport_code', 'departure_airport_country',\n",
       "       'departure_airport_gate', 'departure_airport_name',\n",
       "       'departure_airport_region', 'departure_airport_terminal',\n",
       "       'departure_airport_timezone', 'arrival_airport_city',\n",
       "       'arrival_airport_code', 'arrival_airport_country',\n",
       "       'arrival_airport_gate', 'arrival_airport_name',\n",
       "       'arrival_airport_region', 'arrival_airport_terminal',\n",
       "       'arrival_airport_timezone', 'flight_equipment_iata',\n",
       "       'flight_equipment_name', 'flight_duration', 'delay'],\n",
       "      dtype='object')"
      ]
     },
     "execution_count": 7,
     "metadata": {},
     "output_type": "execute_result"
    }
   ],
   "source": [
    "data_train.columns"
   ]
  },
  {
   "cell_type": "markdown",
   "metadata": {},
   "source": [
    "Combine the train and test dataset for EDA purpose."
   ]
  },
  {
   "cell_type": "code",
   "execution_count": 9,
   "metadata": {
    "ExecuteTime": {
     "end_time": "2019-11-04T06:49:21.621009Z",
     "start_time": "2019-11-04T06:49:21.573009Z"
    }
   },
   "outputs": [],
   "source": [
    "data = pd.concat([data_train, data_test])"
   ]
  },
  {
   "cell_type": "markdown",
   "metadata": {},
   "source": [
    "# Data Preprocessing\n",
    "\n",
    "* Check missing & null data, remove them if necessary\n",
    "* Check infinite values data, remove or convert to null if necessary\n",
    "* Check duplicated data, remove them if necessary\n",
    "* Split numerical and categorical column\n",
    "\n",
    "Before proceed, set 'col_id' and 'col_target' from the data."
   ]
  },
  {
   "cell_type": "code",
   "execution_count": 10,
   "metadata": {
    "ExecuteTime": {
     "end_time": "2019-11-04T06:49:25.080009Z",
     "start_time": "2019-11-04T06:49:25.067009Z"
    }
   },
   "outputs": [],
   "source": [
    "col_ID = ''\n",
    "col_target = 'delay'"
   ]
  },
  {
   "cell_type": "markdown",
   "metadata": {},
   "source": [
    "## Infinite Values Data"
   ]
  },
  {
   "cell_type": "code",
   "execution_count": 11,
   "metadata": {
    "ExecuteTime": {
     "end_time": "2019-11-04T06:49:26.450009Z",
     "start_time": "2019-11-04T06:49:25.935409Z"
    }
   },
   "outputs": [],
   "source": [
    "data = data.replace([np.inf, -np.inf], np.nan)"
   ]
  },
  {
   "cell_type": "markdown",
   "metadata": {},
   "source": [
    "## Duplicated Data"
   ]
  },
  {
   "cell_type": "code",
   "execution_count": 12,
   "metadata": {
    "ExecuteTime": {
     "end_time": "2019-11-04T06:49:27.559609Z",
     "start_time": "2019-11-04T06:49:27.068009Z"
    }
   },
   "outputs": [
    {
     "data": {
      "text/plain": [
       "0"
      ]
     },
     "execution_count": 12,
     "metadata": {},
     "output_type": "execute_result"
    }
   ],
   "source": [
    "data.duplicated(subset=list(set(data.columns) - set(col_target))).sum()"
   ]
  },
  {
   "cell_type": "markdown",
   "metadata": {},
   "source": [
    "## Missing & Null Data"
   ]
  },
  {
   "cell_type": "code",
   "execution_count": 13,
   "metadata": {
    "ExecuteTime": {
     "end_time": "2019-11-04T06:49:28.529209Z",
     "start_time": "2019-11-04T06:49:28.255009Z"
    }
   },
   "outputs": [
    {
     "data": {
      "text/html": [
       "<div>\n",
       "<style scoped>\n",
       "    .dataframe tbody tr th:only-of-type {\n",
       "        vertical-align: middle;\n",
       "    }\n",
       "\n",
       "    .dataframe tbody tr th {\n",
       "        vertical-align: top;\n",
       "    }\n",
       "\n",
       "    .dataframe thead th {\n",
       "        text-align: right;\n",
       "    }\n",
       "</style>\n",
       "<table border=\"1\" class=\"dataframe\">\n",
       "  <thead>\n",
       "    <tr style=\"text-align: right;\">\n",
       "      <th></th>\n",
       "      <th>variable</th>\n",
       "      <th>missing values</th>\n",
       "      <th>filling factor (%)</th>\n",
       "    </tr>\n",
       "  </thead>\n",
       "  <tbody>\n",
       "    <tr>\n",
       "      <th>0</th>\n",
       "      <td>arrival_airport_gate</td>\n",
       "      <td>137275</td>\n",
       "      <td>10.057330</td>\n",
       "    </tr>\n",
       "    <tr>\n",
       "      <th>1</th>\n",
       "      <td>arrival_airport_terminal</td>\n",
       "      <td>79410</td>\n",
       "      <td>47.970516</td>\n",
       "    </tr>\n",
       "    <tr>\n",
       "      <th>2</th>\n",
       "      <td>departure_airport_gate</td>\n",
       "      <td>60619</td>\n",
       "      <td>60.282391</td>\n",
       "    </tr>\n",
       "    <tr>\n",
       "      <th>3</th>\n",
       "      <td>departure_airport_terminal</td>\n",
       "      <td>56588</td>\n",
       "      <td>62.923505</td>\n",
       "    </tr>\n",
       "    <tr>\n",
       "      <th>4</th>\n",
       "      <td>flight_equipment_name</td>\n",
       "      <td>22</td>\n",
       "      <td>99.985586</td>\n",
       "    </tr>\n",
       "    <tr>\n",
       "      <th>5</th>\n",
       "      <td>flight_equipment_iata</td>\n",
       "      <td>22</td>\n",
       "      <td>99.985586</td>\n",
       "    </tr>\n",
       "    <tr>\n",
       "      <th>6</th>\n",
       "      <td>scheduled_arrival_time</td>\n",
       "      <td>7</td>\n",
       "      <td>99.995414</td>\n",
       "    </tr>\n",
       "    <tr>\n",
       "      <th>7</th>\n",
       "      <td>flight_duration</td>\n",
       "      <td>5</td>\n",
       "      <td>99.996724</td>\n",
       "    </tr>\n",
       "    <tr>\n",
       "      <th>8</th>\n",
       "      <td>arrival_airport_timezone</td>\n",
       "      <td>0</td>\n",
       "      <td>100.000000</td>\n",
       "    </tr>\n",
       "    <tr>\n",
       "      <th>9</th>\n",
       "      <td>arrival_airport_region</td>\n",
       "      <td>0</td>\n",
       "      <td>100.000000</td>\n",
       "    </tr>\n",
       "    <tr>\n",
       "      <th>10</th>\n",
       "      <td>arrival_airport_name</td>\n",
       "      <td>0</td>\n",
       "      <td>100.000000</td>\n",
       "    </tr>\n",
       "    <tr>\n",
       "      <th>11</th>\n",
       "      <td>arrival_airport_country</td>\n",
       "      <td>0</td>\n",
       "      <td>100.000000</td>\n",
       "    </tr>\n",
       "    <tr>\n",
       "      <th>12</th>\n",
       "      <td>arrival_airport_code</td>\n",
       "      <td>0</td>\n",
       "      <td>100.000000</td>\n",
       "    </tr>\n",
       "    <tr>\n",
       "      <th>13</th>\n",
       "      <td>arrival_airport_city</td>\n",
       "      <td>0</td>\n",
       "      <td>100.000000</td>\n",
       "    </tr>\n",
       "    <tr>\n",
       "      <th>14</th>\n",
       "      <td>id</td>\n",
       "      <td>0</td>\n",
       "      <td>100.000000</td>\n",
       "    </tr>\n",
       "    <tr>\n",
       "      <th>15</th>\n",
       "      <td>departure_airport_region</td>\n",
       "      <td>0</td>\n",
       "      <td>100.000000</td>\n",
       "    </tr>\n",
       "    <tr>\n",
       "      <th>16</th>\n",
       "      <td>departure_airport_name</td>\n",
       "      <td>0</td>\n",
       "      <td>100.000000</td>\n",
       "    </tr>\n",
       "    <tr>\n",
       "      <th>17</th>\n",
       "      <td>departure_airport_country</td>\n",
       "      <td>0</td>\n",
       "      <td>100.000000</td>\n",
       "    </tr>\n",
       "    <tr>\n",
       "      <th>18</th>\n",
       "      <td>departure_airport_code</td>\n",
       "      <td>0</td>\n",
       "      <td>100.000000</td>\n",
       "    </tr>\n",
       "    <tr>\n",
       "      <th>19</th>\n",
       "      <td>departure_airport_city</td>\n",
       "      <td>0</td>\n",
       "      <td>100.000000</td>\n",
       "    </tr>\n",
       "    <tr>\n",
       "      <th>20</th>\n",
       "      <td>scheduled_departure_time</td>\n",
       "      <td>0</td>\n",
       "      <td>100.000000</td>\n",
       "    </tr>\n",
       "    <tr>\n",
       "      <th>21</th>\n",
       "      <td>airline_name</td>\n",
       "      <td>0</td>\n",
       "      <td>100.000000</td>\n",
       "    </tr>\n",
       "    <tr>\n",
       "      <th>22</th>\n",
       "      <td>airline</td>\n",
       "      <td>0</td>\n",
       "      <td>100.000000</td>\n",
       "    </tr>\n",
       "    <tr>\n",
       "      <th>23</th>\n",
       "      <td>number</td>\n",
       "      <td>0</td>\n",
       "      <td>100.000000</td>\n",
       "    </tr>\n",
       "    <tr>\n",
       "      <th>24</th>\n",
       "      <td>departure_airport_timezone</td>\n",
       "      <td>0</td>\n",
       "      <td>100.000000</td>\n",
       "    </tr>\n",
       "    <tr>\n",
       "      <th>25</th>\n",
       "      <td>delay</td>\n",
       "      <td>0</td>\n",
       "      <td>100.000000</td>\n",
       "    </tr>\n",
       "  </tbody>\n",
       "</table>\n",
       "</div>"
      ],
      "text/plain": [
       "                      variable  missing values  filling factor (%)\n",
       "0         arrival_airport_gate          137275           10.057330\n",
       "1     arrival_airport_terminal           79410           47.970516\n",
       "2       departure_airport_gate           60619           60.282391\n",
       "3   departure_airport_terminal           56588           62.923505\n",
       "4        flight_equipment_name              22           99.985586\n",
       "5        flight_equipment_iata              22           99.985586\n",
       "6       scheduled_arrival_time               7           99.995414\n",
       "7              flight_duration               5           99.996724\n",
       "8     arrival_airport_timezone               0          100.000000\n",
       "9       arrival_airport_region               0          100.000000\n",
       "10        arrival_airport_name               0          100.000000\n",
       "11     arrival_airport_country               0          100.000000\n",
       "12        arrival_airport_code               0          100.000000\n",
       "13        arrival_airport_city               0          100.000000\n",
       "14                          id               0          100.000000\n",
       "15    departure_airport_region               0          100.000000\n",
       "16      departure_airport_name               0          100.000000\n",
       "17   departure_airport_country               0          100.000000\n",
       "18      departure_airport_code               0          100.000000\n",
       "19      departure_airport_city               0          100.000000\n",
       "20    scheduled_departure_time               0          100.000000\n",
       "21                airline_name               0          100.000000\n",
       "22                     airline               0          100.000000\n",
       "23                      number               0          100.000000\n",
       "24  departure_airport_timezone               0          100.000000\n",
       "25                       delay               0          100.000000"
      ]
     },
     "execution_count": 13,
     "metadata": {},
     "output_type": "execute_result"
    }
   ],
   "source": [
    "missing_df = data.isnull().sum(axis=0).reset_index()\n",
    "missing_df.columns = ['variable', 'missing values']\n",
    "missing_df['filling factor (%)']=(data.shape[0]-missing_df['missing values'])/data.shape[0]*100\n",
    "missing_df.sort_values('filling factor (%)').reset_index(drop = True)"
   ]
  },
  {
   "cell_type": "markdown",
   "metadata": {},
   "source": [
    "Some of data that has at least 30% of missing values:\n",
    "* `arrival_airport_terminal`\n",
    "* `arrival_airpot_gate`\n",
    "* `departure_airport_gate`\n",
    "* `departure_airport_terminal`\n",
    "\n",
    "Choose to delete these attributes for now, and explore later if there is enough time. "
   ]
  },
  {
   "cell_type": "code",
   "execution_count": 20,
   "metadata": {
    "ExecuteTime": {
     "end_time": "2019-11-04T07:13:26.800814Z",
     "start_time": "2019-11-04T07:13:26.751814Z"
    }
   },
   "outputs": [],
   "source": [
    "data = data.drop(['arrival_airport_terminal', 'arrival_airport_gate', 'departure_airport_gate', 'departure_airport_terminal'], axis=1)"
   ]
  },
  {
   "cell_type": "markdown",
   "metadata": {},
   "source": [
    "## Split Numerical & Categorical Data\n",
    "\n",
    "* Create numerical & categorical column list."
   ]
  },
  {
   "cell_type": "code",
   "execution_count": 22,
   "metadata": {
    "ExecuteTime": {
     "end_time": "2019-11-04T07:13:41.190814Z",
     "start_time": "2019-11-04T07:13:40.453614Z"
    }
   },
   "outputs": [
    {
     "name": "stdout",
     "output_type": "stream",
     "text": [
      "Column airline casted to categorical\n",
      "Column airline_name casted to categorical\n",
      "Column departure_airport_city casted to categorical\n",
      "Column departure_airport_code casted to categorical\n",
      "Column departure_airport_country casted to categorical\n",
      "Column departure_airport_name casted to categorical\n",
      "Column departure_airport_region casted to categorical\n",
      "Column departure_airport_timezone casted to categorical\n",
      "Column arrival_airport_city casted to categorical\n",
      "Column arrival_airport_code casted to categorical\n",
      "Column arrival_airport_country casted to categorical\n",
      "Column arrival_airport_name casted to categorical\n",
      "Column arrival_airport_region casted to categorical\n",
      "Column arrival_airport_timezone casted to categorical\n",
      "Column flight_equipment_iata casted to categorical\n",
      "Column flight_equipment_name casted to categorical\n"
     ]
    }
   ],
   "source": [
    "transformation.convert_to_categorical(data, 200)"
   ]
  },
  {
   "cell_type": "code",
   "execution_count": 24,
   "metadata": {
    "ExecuteTime": {
     "end_time": "2019-11-04T07:13:50.422414Z",
     "start_time": "2019-11-04T07:13:50.360214Z"
    }
   },
   "outputs": [],
   "source": [
    "if (data[col_target].nunique() == 2):\n",
    "    cols_num = list(set(data.select_dtypes(include=[np.number]).columns) - set([col_ID]))\n",
    "    cols_cat = list(set(data.select_dtypes(exclude=[np.number]).columns) - set([col_target]))\n",
    "else:\n",
    "    cols_num = list(set(data.select_dtypes(include=[np.number]).columns) - set([col_ID, col_target]))\n",
    "    cols_cat = list(set(data.select_dtypes(exclude=[np.number]).columns))"
   ]
  },
  {
   "cell_type": "markdown",
   "metadata": {},
   "source": [
    "# Task 1: Travel Recommendation\n",
    "\n",
    "This task gives recommendation on best flight or best time to avoid having delays. Before proceeding with the analysis, it is nice to know the reasons behind a flight delays. From [claimcompass.eu](https://www.claimcompass.eu/blog/why-is-my-flight-delayed/), we can see probable reasons behind a flight delays.\n",
    "\n",
    "From 15 most common reasons listed there, it is worth a notice that a flight delays can be caused by a `Knock-on effect`, in which when a flight is delayed because of the late arrival of an aircraft. This may alter the prediction, which will be done later, for flights which delays can't actually be predicted from the available attributes in the data. For this analysis, it will now be assumed that all delays in the data is not caused by such effect."
   ]
  },
  {
   "cell_type": "markdown",
   "metadata": {},
   "source": [
    "# Task 2: Model Estimating Delay Duration"
   ]
  },
  {
   "cell_type": "markdown",
   "metadata": {},
   "source": [
    "# Task 3: Model Predict Delay > 60"
   ]
  },
  {
   "cell_type": "markdown",
   "metadata": {},
   "source": [
    "# Task 4: Predict Delay that will Happened in December for Delay >60"
   ]
  },
  {
   "cell_type": "code",
   "execution_count": null,
   "metadata": {},
   "outputs": [],
   "source": []
  }
 ],
 "metadata": {
  "hide_input": false,
  "kernelspec": {
   "display_name": "Python 3",
   "language": "python",
   "name": "python3"
  },
  "language_info": {
   "codemirror_mode": {
    "name": "ipython",
    "version": 3
   },
   "file_extension": ".py",
   "mimetype": "text/x-python",
   "name": "python",
   "nbconvert_exporter": "python",
   "pygments_lexer": "ipython3",
   "version": "3.7.3"
  },
  "toc": {
   "base_numbering": 1,
   "nav_menu": {},
   "number_sections": true,
   "sideBar": true,
   "skip_h1_title": false,
   "title_cell": "Table of Contents",
   "title_sidebar": "Contents",
   "toc_cell": false,
   "toc_position": {},
   "toc_section_display": true,
   "toc_window_display": true
  }
 },
 "nbformat": 4,
 "nbformat_minor": 2
}
