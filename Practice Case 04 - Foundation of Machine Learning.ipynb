{
 "cells": [
  {
   "cell_type": "markdown",
   "metadata": {},
   "source": [
    "<span style=\"font-size:42px\"><b>Practise Case 04</b></span><br><br>\n",
    "<span style=\"font-size:36px\">Foundation of Machine Learning</span>\n",
    "\n",
    "Copyright 2019 Gunawan Lumban Gaol\n",
    "\n",
    "Licensed under the Apache License, Version 2.0 (the \"License\"); you may not use this file except in compliance with the License. You may obtain a copy of the License at http://www.apache.org/licenses/LICENSE-2.0\n",
    "\n",
    "Unless required by applicable law or agreed to in writing, software distributed under the License is distributed on an \"AS IS\" BASIS, WITHOUT WARRANTIES OR CONDITIONS OF ANY KIND, either express or implied. See the License for the specific language overning permissions and limitations under the License."
   ]
  },
  {
   "cell_type": "markdown",
   "metadata": {},
   "source": [
    "**Tasks**\n",
    "1. Provide travel recommendation to passenger (best time to take a flight or best airline), so they will\n",
    "not get caught in delay. Each recommendation has to be supported by at least 1 graph\n",
    "2. Create a model to estimate the delay duration ( Linear Regression )\n",
    "3. Create a model to predict delay > 60 min ( Logistic regression and another supervised model you\n",
    "choosing )\n",
    "4. Did you do some feature engineering on the dataset ? if yes, please give the reason for each\n",
    "feature you created\n",
    "5. Using those models predict delay that will happened in December for delay >60"
   ]
  },
  {
   "cell_type": "markdown",
   "metadata": {},
   "source": [
    "# Import Packages"
   ]
  },
  {
   "cell_type": "code",
   "execution_count": 1,
   "metadata": {
    "ExecuteTime": {
     "end_time": "2019-11-06T07:04:55.003500Z",
     "start_time": "2019-11-06T07:04:53.583500Z"
    }
   },
   "outputs": [],
   "source": [
    "import pandas as pd\n",
    "import numpy as np\n",
    "import matplotlib.pyplot as plt\n",
    "import seaborn as sns\n",
    "from configparser import ConfigParser\n",
    "\n",
    "from edapy.edapy import transformation\n",
    "from edapy.edapy import plotting\n",
    "from edapy.edapy import utils"
   ]
  },
  {
   "cell_type": "code",
   "execution_count": 2,
   "metadata": {
    "ExecuteTime": {
     "end_time": "2019-11-06T07:04:55.018500Z",
     "start_time": "2019-11-06T07:04:55.006000Z"
    }
   },
   "outputs": [
    {
     "data": {
      "text/plain": [
       "['./config.ini']"
      ]
     },
     "execution_count": 2,
     "metadata": {},
     "output_type": "execute_result"
    }
   ],
   "source": [
    "config = ConfigParser()\n",
    "config.read('./config.ini')"
   ]
  },
  {
   "cell_type": "markdown",
   "metadata": {},
   "source": [
    "# Import Data\n",
    "\n",
    "Dataset is a historical flight data in Malaysia from Oct 2018 – Nov 2018\n",
    "Data consist of information of flight such as:\n",
    "1. Date of flight\n",
    "2. Date of arrival\n",
    "3. Departure Delay\n",
    "4. Tail Number\n",
    "5. Airline Name\n",
    "6. Departure Location\n",
    "7. Arrival Location\n",
    "8. Flight Number\n",
    "9. Delay"
   ]
  },
  {
   "cell_type": "code",
   "execution_count": 3,
   "metadata": {
    "ExecuteTime": {
     "end_time": "2019-11-06T07:04:56.023500Z",
     "start_time": "2019-11-06T07:04:55.023500Z"
    }
   },
   "outputs": [],
   "source": [
    "data_train = pd.read_csv('csv/training_dataset.csv')\n",
    "data_test = pd.read_csv('csv/test_dataset.csv')"
   ]
  },
  {
   "cell_type": "code",
   "execution_count": 4,
   "metadata": {
    "ExecuteTime": {
     "end_time": "2019-11-06T07:04:56.041000Z",
     "start_time": "2019-11-06T07:04:56.026000Z"
    }
   },
   "outputs": [
    {
     "name": "stdout",
     "output_type": "stream",
     "text": [
      "(111068, 26)\n",
      "(41557, 26)\n"
     ]
    }
   ],
   "source": [
    "print(data_train.shape)\n",
    "print(data_test.shape)"
   ]
  },
  {
   "cell_type": "code",
   "execution_count": 5,
   "metadata": {
    "ExecuteTime": {
     "end_time": "2019-11-06T07:04:56.101000Z",
     "start_time": "2019-11-06T07:04:56.046000Z"
    }
   },
   "outputs": [
    {
     "data": {
      "text/html": [
       "<div>\n",
       "<style scoped>\n",
       "    .dataframe tbody tr th:only-of-type {\n",
       "        vertical-align: middle;\n",
       "    }\n",
       "\n",
       "    .dataframe tbody tr th {\n",
       "        vertical-align: top;\n",
       "    }\n",
       "\n",
       "    .dataframe thead th {\n",
       "        text-align: right;\n",
       "    }\n",
       "</style>\n",
       "<table border=\"1\" class=\"dataframe\">\n",
       "  <thead>\n",
       "    <tr style=\"text-align: right;\">\n",
       "      <th></th>\n",
       "      <th>id</th>\n",
       "      <th>number</th>\n",
       "      <th>airline</th>\n",
       "      <th>airline_name</th>\n",
       "      <th>scheduled_departure_time</th>\n",
       "      <th>scheduled_arrival_time</th>\n",
       "      <th>departure_airport_city</th>\n",
       "      <th>departure_airport_code</th>\n",
       "      <th>departure_airport_country</th>\n",
       "      <th>departure_airport_gate</th>\n",
       "      <th>...</th>\n",
       "      <th>arrival_airport_country</th>\n",
       "      <th>arrival_airport_gate</th>\n",
       "      <th>arrival_airport_name</th>\n",
       "      <th>arrival_airport_region</th>\n",
       "      <th>arrival_airport_terminal</th>\n",
       "      <th>arrival_airport_timezone</th>\n",
       "      <th>flight_equipment_iata</th>\n",
       "      <th>flight_equipment_name</th>\n",
       "      <th>flight_duration</th>\n",
       "      <th>delay</th>\n",
       "    </tr>\n",
       "  </thead>\n",
       "  <tbody>\n",
       "    <tr>\n",
       "      <th>0</th>\n",
       "      <td>1</td>\n",
       "      <td>AK6430</td>\n",
       "      <td>AK</td>\n",
       "      <td>AirAsia</td>\n",
       "      <td>2018-10-05 22:00:00</td>\n",
       "      <td>2018-10-05 23:05:00</td>\n",
       "      <td>Kuala Lumpur</td>\n",
       "      <td>KUL</td>\n",
       "      <td>MY</td>\n",
       "      <td>J15</td>\n",
       "      <td>...</td>\n",
       "      <td>MY</td>\n",
       "      <td>2</td>\n",
       "      <td>Sultan Ismail Petra Airport</td>\n",
       "      <td>Asia</td>\n",
       "      <td>NaN</td>\n",
       "      <td>Asia/Kuala_Lumpur</td>\n",
       "      <td>32S</td>\n",
       "      <td>Airbus A318 / A319 / A320 / A321</td>\n",
       "      <td>58m</td>\n",
       "      <td>2</td>\n",
       "    </tr>\n",
       "    <tr>\n",
       "      <th>1</th>\n",
       "      <td>2</td>\n",
       "      <td>ID*7164</td>\n",
       "      <td>ID*</td>\n",
       "      <td>Batik Air</td>\n",
       "      <td>2018-10-05 22:00:00</td>\n",
       "      <td>2018-10-05 23:55:00</td>\n",
       "      <td>Kuala Lumpur</td>\n",
       "      <td>KUL</td>\n",
       "      <td>MY</td>\n",
       "      <td>C33</td>\n",
       "      <td>...</td>\n",
       "      <td>ID</td>\n",
       "      <td>5</td>\n",
       "      <td>Soekarno-Hatta International Airport</td>\n",
       "      <td>Asia</td>\n",
       "      <td>2</td>\n",
       "      <td>Asia/Jakarta</td>\n",
       "      <td>32S</td>\n",
       "      <td>Airbus A318 / A319 / A320 / A321</td>\n",
       "      <td>1h 55m</td>\n",
       "      <td>8</td>\n",
       "    </tr>\n",
       "    <tr>\n",
       "      <th>2</th>\n",
       "      <td>3</td>\n",
       "      <td>MXD9116</td>\n",
       "      <td>MXD</td>\n",
       "      <td>Malindo Air</td>\n",
       "      <td>2018-10-05 22:00:00</td>\n",
       "      <td>2018-10-05 23:55:00</td>\n",
       "      <td>Kuala Lumpur</td>\n",
       "      <td>KUL</td>\n",
       "      <td>MY</td>\n",
       "      <td>C33</td>\n",
       "      <td>...</td>\n",
       "      <td>ID</td>\n",
       "      <td>5</td>\n",
       "      <td>Soekarno-Hatta International Airport</td>\n",
       "      <td>Asia</td>\n",
       "      <td>2</td>\n",
       "      <td>Asia/Jakarta</td>\n",
       "      <td>32S</td>\n",
       "      <td>Airbus A318 / A319 / A320 / A321</td>\n",
       "      <td>1h 55m</td>\n",
       "      <td>8</td>\n",
       "    </tr>\n",
       "    <tr>\n",
       "      <th>3</th>\n",
       "      <td>4</td>\n",
       "      <td>AK5198</td>\n",
       "      <td>AK</td>\n",
       "      <td>AirAsia</td>\n",
       "      <td>2018-10-05 22:05:00</td>\n",
       "      <td>2018-10-06 01:00:00</td>\n",
       "      <td>Kuala Lumpur</td>\n",
       "      <td>KUL</td>\n",
       "      <td>MY</td>\n",
       "      <td>J9</td>\n",
       "      <td>...</td>\n",
       "      <td>MY</td>\n",
       "      <td>INT</td>\n",
       "      <td>Sandakan Airport</td>\n",
       "      <td>Asia</td>\n",
       "      <td>NaN</td>\n",
       "      <td>Asia/Kuala_Lumpur</td>\n",
       "      <td>32S</td>\n",
       "      <td>Airbus A318 / A319 / A320 / A321</td>\n",
       "      <td>2h 54m</td>\n",
       "      <td>0</td>\n",
       "    </tr>\n",
       "    <tr>\n",
       "      <th>4</th>\n",
       "      <td>5</td>\n",
       "      <td>AK516</td>\n",
       "      <td>AK</td>\n",
       "      <td>AirAsia</td>\n",
       "      <td>2018-10-05 22:10:00</td>\n",
       "      <td>2018-10-06 01:25:00</td>\n",
       "      <td>Kuala Lumpur</td>\n",
       "      <td>KUL</td>\n",
       "      <td>MY</td>\n",
       "      <td>P1</td>\n",
       "      <td>...</td>\n",
       "      <td>VN</td>\n",
       "      <td>NaN</td>\n",
       "      <td>Noi Bai International Airport</td>\n",
       "      <td>Asia</td>\n",
       "      <td>T2</td>\n",
       "      <td>Asia/Ho_Chi_Minh</td>\n",
       "      <td>32S</td>\n",
       "      <td>Airbus A318 / A319 / A320 / A321</td>\n",
       "      <td>3h 17m</td>\n",
       "      <td>0</td>\n",
       "    </tr>\n",
       "  </tbody>\n",
       "</table>\n",
       "<p>5 rows × 26 columns</p>\n",
       "</div>"
      ],
      "text/plain": [
       "   id   number airline airline_name scheduled_departure_time  \\\n",
       "0   1   AK6430      AK      AirAsia      2018-10-05 22:00:00   \n",
       "1   2  ID*7164     ID*    Batik Air      2018-10-05 22:00:00   \n",
       "2   3  MXD9116     MXD  Malindo Air      2018-10-05 22:00:00   \n",
       "3   4   AK5198      AK      AirAsia      2018-10-05 22:05:00   \n",
       "4   5    AK516      AK      AirAsia      2018-10-05 22:10:00   \n",
       "\n",
       "  scheduled_arrival_time departure_airport_city departure_airport_code  \\\n",
       "0    2018-10-05 23:05:00           Kuala Lumpur                    KUL   \n",
       "1    2018-10-05 23:55:00           Kuala Lumpur                    KUL   \n",
       "2    2018-10-05 23:55:00           Kuala Lumpur                    KUL   \n",
       "3    2018-10-06 01:00:00           Kuala Lumpur                    KUL   \n",
       "4    2018-10-06 01:25:00           Kuala Lumpur                    KUL   \n",
       "\n",
       "  departure_airport_country departure_airport_gate  ...  \\\n",
       "0                        MY                    J15  ...   \n",
       "1                        MY                    C33  ...   \n",
       "2                        MY                    C33  ...   \n",
       "3                        MY                     J9  ...   \n",
       "4                        MY                     P1  ...   \n",
       "\n",
       "  arrival_airport_country arrival_airport_gate  \\\n",
       "0                      MY                    2   \n",
       "1                      ID                    5   \n",
       "2                      ID                    5   \n",
       "3                      MY                  INT   \n",
       "4                      VN                  NaN   \n",
       "\n",
       "                   arrival_airport_name arrival_airport_region  \\\n",
       "0           Sultan Ismail Petra Airport                   Asia   \n",
       "1  Soekarno-Hatta International Airport                   Asia   \n",
       "2  Soekarno-Hatta International Airport                   Asia   \n",
       "3                      Sandakan Airport                   Asia   \n",
       "4         Noi Bai International Airport                   Asia   \n",
       "\n",
       "  arrival_airport_terminal arrival_airport_timezone flight_equipment_iata  \\\n",
       "0                      NaN        Asia/Kuala_Lumpur                   32S   \n",
       "1                        2             Asia/Jakarta                   32S   \n",
       "2                        2             Asia/Jakarta                   32S   \n",
       "3                      NaN        Asia/Kuala_Lumpur                   32S   \n",
       "4                       T2         Asia/Ho_Chi_Minh                   32S   \n",
       "\n",
       "              flight_equipment_name flight_duration delay  \n",
       "0  Airbus A318 / A319 / A320 / A321             58m     2  \n",
       "1  Airbus A318 / A319 / A320 / A321          1h 55m     8  \n",
       "2  Airbus A318 / A319 / A320 / A321          1h 55m     8  \n",
       "3  Airbus A318 / A319 / A320 / A321          2h 54m     0  \n",
       "4  Airbus A318 / A319 / A320 / A321          3h 17m     0  \n",
       "\n",
       "[5 rows x 26 columns]"
      ]
     },
     "execution_count": 5,
     "metadata": {},
     "output_type": "execute_result"
    }
   ],
   "source": [
    "data_train.head()"
   ]
  },
  {
   "cell_type": "markdown",
   "metadata": {},
   "source": [
    "See if all attributes in train dataset is present in the test datasets."
   ]
  },
  {
   "cell_type": "code",
   "execution_count": 6,
   "metadata": {
    "ExecuteTime": {
     "end_time": "2019-11-06T07:04:56.116000Z",
     "start_time": "2019-11-06T07:04:56.103500Z"
    }
   },
   "outputs": [
    {
     "data": {
      "text/plain": [
       "array([ True,  True,  True,  True,  True,  True,  True,  True,  True,\n",
       "        True,  True,  True,  True,  True,  True,  True,  True,  True,\n",
       "        True,  True,  True,  True,  True,  True,  True,  True])"
      ]
     },
     "execution_count": 6,
     "metadata": {},
     "output_type": "execute_result"
    }
   ],
   "source": [
    "data_train.columns == data_test.columns"
   ]
  },
  {
   "cell_type": "code",
   "execution_count": 7,
   "metadata": {
    "ExecuteTime": {
     "end_time": "2019-11-06T07:04:56.128500Z",
     "start_time": "2019-11-06T07:04:56.118500Z"
    }
   },
   "outputs": [
    {
     "data": {
      "text/plain": [
       "Index(['id', 'number', 'airline', 'airline_name', 'scheduled_departure_time',\n",
       "       'scheduled_arrival_time', 'departure_airport_city',\n",
       "       'departure_airport_code', 'departure_airport_country',\n",
       "       'departure_airport_gate', 'departure_airport_name',\n",
       "       'departure_airport_region', 'departure_airport_terminal',\n",
       "       'departure_airport_timezone', 'arrival_airport_city',\n",
       "       'arrival_airport_code', 'arrival_airport_country',\n",
       "       'arrival_airport_gate', 'arrival_airport_name',\n",
       "       'arrival_airport_region', 'arrival_airport_terminal',\n",
       "       'arrival_airport_timezone', 'flight_equipment_iata',\n",
       "       'flight_equipment_name', 'flight_duration', 'delay'],\n",
       "      dtype='object')"
      ]
     },
     "execution_count": 7,
     "metadata": {},
     "output_type": "execute_result"
    }
   ],
   "source": [
    "data_train.columns"
   ]
  },
  {
   "cell_type": "markdown",
   "metadata": {},
   "source": [
    "# Data Cleansing\n",
    "\n",
    "Inspect each column in the data, perform cleaning steps as required.\n",
    "* Combine training and testing data for EDA purpose\n",
    "* Convert column containing time to datetime dtype\n",
    "* Convert numerical column stored as str dtype back to numerical dtype\n",
    "* Drop column which has only 1 unique values\n",
    "\n",
    "Before proceed, set 'col_id' and 'col_target' from the data."
   ]
  },
  {
   "cell_type": "code",
   "execution_count": 8,
   "metadata": {
    "ExecuteTime": {
     "end_time": "2019-11-06T07:04:56.141000Z",
     "start_time": "2019-11-06T07:04:56.131000Z"
    }
   },
   "outputs": [],
   "source": [
    "col_ID = 'id'\n",
    "col_target = 'delay'"
   ]
  },
  {
   "cell_type": "markdown",
   "metadata": {},
   "source": [
    "## Data Combining\n",
    "\n",
    "Combine the train and test dataset for EDA purpose."
   ]
  },
  {
   "cell_type": "code",
   "execution_count": 9,
   "metadata": {
    "ExecuteTime": {
     "end_time": "2019-11-06T07:04:56.193500Z",
     "start_time": "2019-11-06T07:04:56.146000Z"
    }
   },
   "outputs": [],
   "source": [
    "data = pd.concat([data_train, data_test])"
   ]
  },
  {
   "cell_type": "markdown",
   "metadata": {},
   "source": [
    "If 'col_id' is not unique, consider doing reset index on the dataframe or remove such duplicated data."
   ]
  },
  {
   "cell_type": "code",
   "execution_count": 10,
   "metadata": {
    "ExecuteTime": {
     "end_time": "2019-11-06T07:04:56.246000Z",
     "start_time": "2019-11-06T07:04:56.193500Z"
    }
   },
   "outputs": [],
   "source": [
    "data = data.set_index(col_ID)"
   ]
  },
  {
   "cell_type": "markdown",
   "metadata": {},
   "source": [
    "## Datetime Column"
   ]
  },
  {
   "cell_type": "code",
   "execution_count": 11,
   "metadata": {
    "ExecuteTime": {
     "end_time": "2019-11-06T07:05:00.743500Z",
     "start_time": "2019-11-06T07:04:56.248500Z"
    }
   },
   "outputs": [],
   "source": [
    "data['scheduled_departure_time'] = utils.lookup_date(data['scheduled_departure_time'])\n",
    "data['scheduled_arrival_time'] = utils.lookup_date(data['scheduled_arrival_time'])"
   ]
  },
  {
   "cell_type": "markdown",
   "metadata": {},
   "source": [
    "Use departure time for col_date."
   ]
  },
  {
   "cell_type": "code",
   "execution_count": 12,
   "metadata": {
    "ExecuteTime": {
     "end_time": "2019-11-06T07:05:00.751000Z",
     "start_time": "2019-11-06T07:05:00.746000Z"
    }
   },
   "outputs": [],
   "source": [
    "col_date = 'scheduled_departure_time'"
   ]
  },
  {
   "cell_type": "markdown",
   "metadata": {},
   "source": [
    "Add common datetime column features."
   ]
  },
  {
   "cell_type": "code",
   "execution_count": 13,
   "metadata": {
    "ExecuteTime": {
     "end_time": "2019-11-06T07:05:03.176000Z",
     "start_time": "2019-11-06T07:05:00.753500Z"
    }
   },
   "outputs": [],
   "source": [
    "# Date\n",
    "data['days']  = data[col_date].dt.strftime('%Y%m%d')\n",
    "data['months'] = data[col_date].dt.strftime('%Y%m')\n",
    "data['days_of_week'] = data[col_date].dt.day_name()\n",
    "data['is_weekend'] = (data[col_date].dt.dayofweek >= 5).astype('int')\n",
    "\n",
    "# Time\n",
    "data['is_daytime'] = ((data[col_date].dt.hour >= 6) & (data[col_date].dt.hour < 18)).astype('int')"
   ]
  },
  {
   "cell_type": "markdown",
   "metadata": {},
   "source": [
    "## String to Numerical Columns\n",
    "\n",
    "Deal with attributes stored in string but actually is numerical."
   ]
  },
  {
   "cell_type": "code",
   "execution_count": 14,
   "metadata": {
    "ExecuteTime": {
     "end_time": "2019-11-06T07:05:03.556000Z",
     "start_time": "2019-11-06T07:05:03.178500Z"
    }
   },
   "outputs": [],
   "source": [
    "temp = []\n",
    "for duration in data['flight_duration'].str.split():\n",
    "    try:\n",
    "        if (len(duration) == 1):\n",
    "            if (duration[0][-1] == 'm'):\n",
    "                temp.append(int(duration[0][:-1]))\n",
    "            else:\n",
    "                temp.append(int(duration[0][:-1])*60)\n",
    "        else:\n",
    "            minutes = int(duration[0][:-1]) * 60 + int(duration[1][:-1])\n",
    "            temp.append(minutes)\n",
    "    except Exception as e: # null values\n",
    "        temp.append(duration)"
   ]
  },
  {
   "cell_type": "code",
   "execution_count": 15,
   "metadata": {
    "ExecuteTime": {
     "end_time": "2019-11-06T07:05:03.631000Z",
     "start_time": "2019-11-06T07:05:03.558500Z"
    }
   },
   "outputs": [],
   "source": [
    "data['flight_duration'] = temp"
   ]
  },
  {
   "cell_type": "markdown",
   "metadata": {},
   "source": [
    "## One Unique Value Column Data\n",
    "\n",
    "Drop column which only has one unique value. Store in a dataframe. A column with one unique value may actually be the description of the whole data."
   ]
  },
  {
   "cell_type": "code",
   "execution_count": 16,
   "metadata": {
    "ExecuteTime": {
     "end_time": "2019-11-06T07:05:03.661000Z",
     "start_time": "2019-11-06T07:05:03.633500Z"
    }
   },
   "outputs": [],
   "source": [
    "def get_one_unique(df):\n",
    "    l = []\n",
    "    for col in df.columns:\n",
    "        if (df[col].nunique() == 1):\n",
    "            l.append([col, df[col].unique()[0]])\n",
    "    res = pd.DataFrame(l, columns=['attributes', 'values'])\n",
    "    return res"
   ]
  },
  {
   "cell_type": "code",
   "execution_count": 17,
   "metadata": {
    "ExecuteTime": {
     "end_time": "2019-11-06T07:05:03.963500Z",
     "start_time": "2019-11-06T07:05:03.666000Z"
    }
   },
   "outputs": [
    {
     "data": {
      "text/html": [
       "<div>\n",
       "<style scoped>\n",
       "    .dataframe tbody tr th:only-of-type {\n",
       "        vertical-align: middle;\n",
       "    }\n",
       "\n",
       "    .dataframe tbody tr th {\n",
       "        vertical-align: top;\n",
       "    }\n",
       "\n",
       "    .dataframe thead th {\n",
       "        text-align: right;\n",
       "    }\n",
       "</style>\n",
       "<table border=\"1\" class=\"dataframe\">\n",
       "  <thead>\n",
       "    <tr style=\"text-align: right;\">\n",
       "      <th></th>\n",
       "      <th>attributes</th>\n",
       "      <th>values</th>\n",
       "    </tr>\n",
       "  </thead>\n",
       "  <tbody>\n",
       "    <tr>\n",
       "      <th>0</th>\n",
       "      <td>departure_airport_country</td>\n",
       "      <td>MY</td>\n",
       "    </tr>\n",
       "    <tr>\n",
       "      <th>1</th>\n",
       "      <td>departure_airport_region</td>\n",
       "      <td>Asia</td>\n",
       "    </tr>\n",
       "    <tr>\n",
       "      <th>2</th>\n",
       "      <td>departure_airport_timezone</td>\n",
       "      <td>Asia/Kuala_Lumpur</td>\n",
       "    </tr>\n",
       "  </tbody>\n",
       "</table>\n",
       "</div>"
      ],
      "text/plain": [
       "                   attributes             values\n",
       "0   departure_airport_country                 MY\n",
       "1    departure_airport_region               Asia\n",
       "2  departure_airport_timezone  Asia/Kuala_Lumpur"
      ]
     },
     "execution_count": 17,
     "metadata": {},
     "output_type": "execute_result"
    }
   ],
   "source": [
    "df_one_unique = get_one_unique(data)\n",
    "df_one_unique"
   ]
  },
  {
   "cell_type": "code",
   "execution_count": 18,
   "metadata": {
    "ExecuteTime": {
     "end_time": "2019-11-06T07:05:04.123500Z",
     "start_time": "2019-11-06T07:05:03.966000Z"
    }
   },
   "outputs": [],
   "source": [
    "data = data.drop(df_one_unique['attributes'], axis=1)"
   ]
  },
  {
   "cell_type": "markdown",
   "metadata": {},
   "source": [
    "# Data Preprocessing\n",
    "\n",
    "Perform common preprocessing steps:\n",
    "* Check missing & null data, remove them if necessary\n",
    "* Check infinite values data, remove or convert to null if necessary\n",
    "* Check duplicated data, remove them if necessary\n",
    "* Split numerical and categorical column"
   ]
  },
  {
   "cell_type": "markdown",
   "metadata": {},
   "source": [
    "## Infinite Values Data"
   ]
  },
  {
   "cell_type": "code",
   "execution_count": 19,
   "metadata": {
    "ExecuteTime": {
     "end_time": "2019-11-06T07:05:05.988500Z",
     "start_time": "2019-11-06T07:05:04.126000Z"
    }
   },
   "outputs": [],
   "source": [
    "data = data.replace([np.inf, -np.inf], np.nan)"
   ]
  },
  {
   "cell_type": "markdown",
   "metadata": {},
   "source": [
    "## Duplicated Data"
   ]
  },
  {
   "cell_type": "code",
   "execution_count": 20,
   "metadata": {
    "ExecuteTime": {
     "end_time": "2019-11-06T07:05:06.763500Z",
     "start_time": "2019-11-06T07:05:05.988500Z"
    }
   },
   "outputs": [
    {
     "name": "stdout",
     "output_type": "stream",
     "text": [
      "Total number of duplicated data:  11708\n",
      "In percentage:  7.67 %\n"
     ]
    }
   ],
   "source": [
    "print(\"Total number of duplicated data: \", data.duplicated(subset=list(set(data.columns) - set(col_target))).sum())\n",
    "print(\"In percentage: \", round(data.duplicated(subset=list(set(data.columns) - set(col_target))).sum()/data.shape[0]*100, 2), '%')"
   ]
  },
  {
   "cell_type": "markdown",
   "metadata": {},
   "source": [
    "## Missing & Null Data"
   ]
  },
  {
   "cell_type": "code",
   "execution_count": 21,
   "metadata": {
    "ExecuteTime": {
     "end_time": "2019-11-06T07:05:06.776000Z",
     "start_time": "2019-11-06T07:05:06.766000Z"
    }
   },
   "outputs": [],
   "source": [
    "def get_missing(data):    \n",
    "    missing_df = data.isnull().sum(axis=0).reset_index()\n",
    "    missing_df.columns = ['variable', 'missing values']\n",
    "    missing_df['filling factor (%)'] = (data.shape[0] - missing_df['missing values'])/data.shape[0]*100\n",
    "    missing_df = missing_df.sort_values('filling factor (%)').reset_index(drop = True)\n",
    "    \n",
    "    return missing_df"
   ]
  },
  {
   "cell_type": "code",
   "execution_count": 22,
   "metadata": {
    "ExecuteTime": {
     "end_time": "2019-11-06T07:05:07.046000Z",
     "start_time": "2019-11-06T07:05:06.778500Z"
    }
   },
   "outputs": [
    {
     "data": {
      "text/html": [
       "<div>\n",
       "<style scoped>\n",
       "    .dataframe tbody tr th:only-of-type {\n",
       "        vertical-align: middle;\n",
       "    }\n",
       "\n",
       "    .dataframe tbody tr th {\n",
       "        vertical-align: top;\n",
       "    }\n",
       "\n",
       "    .dataframe thead th {\n",
       "        text-align: right;\n",
       "    }\n",
       "</style>\n",
       "<table border=\"1\" class=\"dataframe\">\n",
       "  <thead>\n",
       "    <tr style=\"text-align: right;\">\n",
       "      <th></th>\n",
       "      <th>variable</th>\n",
       "      <th>missing values</th>\n",
       "      <th>filling factor (%)</th>\n",
       "    </tr>\n",
       "  </thead>\n",
       "  <tbody>\n",
       "    <tr>\n",
       "      <th>0</th>\n",
       "      <td>arrival_airport_gate</td>\n",
       "      <td>137275</td>\n",
       "      <td>10.057330</td>\n",
       "    </tr>\n",
       "    <tr>\n",
       "      <th>1</th>\n",
       "      <td>arrival_airport_terminal</td>\n",
       "      <td>79410</td>\n",
       "      <td>47.970516</td>\n",
       "    </tr>\n",
       "    <tr>\n",
       "      <th>2</th>\n",
       "      <td>departure_airport_gate</td>\n",
       "      <td>60619</td>\n",
       "      <td>60.282391</td>\n",
       "    </tr>\n",
       "    <tr>\n",
       "      <th>3</th>\n",
       "      <td>departure_airport_terminal</td>\n",
       "      <td>56588</td>\n",
       "      <td>62.923505</td>\n",
       "    </tr>\n",
       "    <tr>\n",
       "      <th>4</th>\n",
       "      <td>flight_equipment_name</td>\n",
       "      <td>22</td>\n",
       "      <td>99.985586</td>\n",
       "    </tr>\n",
       "    <tr>\n",
       "      <th>5</th>\n",
       "      <td>flight_equipment_iata</td>\n",
       "      <td>22</td>\n",
       "      <td>99.985586</td>\n",
       "    </tr>\n",
       "    <tr>\n",
       "      <th>6</th>\n",
       "      <td>scheduled_arrival_time</td>\n",
       "      <td>7</td>\n",
       "      <td>99.995414</td>\n",
       "    </tr>\n",
       "    <tr>\n",
       "      <th>7</th>\n",
       "      <td>flight_duration</td>\n",
       "      <td>5</td>\n",
       "      <td>99.996724</td>\n",
       "    </tr>\n",
       "    <tr>\n",
       "      <th>8</th>\n",
       "      <td>days_of_week</td>\n",
       "      <td>0</td>\n",
       "      <td>100.000000</td>\n",
       "    </tr>\n",
       "    <tr>\n",
       "      <th>9</th>\n",
       "      <td>months</td>\n",
       "      <td>0</td>\n",
       "      <td>100.000000</td>\n",
       "    </tr>\n",
       "    <tr>\n",
       "      <th>10</th>\n",
       "      <td>days</td>\n",
       "      <td>0</td>\n",
       "      <td>100.000000</td>\n",
       "    </tr>\n",
       "    <tr>\n",
       "      <th>11</th>\n",
       "      <td>delay</td>\n",
       "      <td>0</td>\n",
       "      <td>100.000000</td>\n",
       "    </tr>\n",
       "    <tr>\n",
       "      <th>12</th>\n",
       "      <td>arrival_airport_timezone</td>\n",
       "      <td>0</td>\n",
       "      <td>100.000000</td>\n",
       "    </tr>\n",
       "    <tr>\n",
       "      <th>13</th>\n",
       "      <td>arrival_airport_region</td>\n",
       "      <td>0</td>\n",
       "      <td>100.000000</td>\n",
       "    </tr>\n",
       "    <tr>\n",
       "      <th>14</th>\n",
       "      <td>number</td>\n",
       "      <td>0</td>\n",
       "      <td>100.000000</td>\n",
       "    </tr>\n",
       "    <tr>\n",
       "      <th>15</th>\n",
       "      <td>is_weekend</td>\n",
       "      <td>0</td>\n",
       "      <td>100.000000</td>\n",
       "    </tr>\n",
       "    <tr>\n",
       "      <th>16</th>\n",
       "      <td>arrival_airport_country</td>\n",
       "      <td>0</td>\n",
       "      <td>100.000000</td>\n",
       "    </tr>\n",
       "    <tr>\n",
       "      <th>17</th>\n",
       "      <td>arrival_airport_code</td>\n",
       "      <td>0</td>\n",
       "      <td>100.000000</td>\n",
       "    </tr>\n",
       "    <tr>\n",
       "      <th>18</th>\n",
       "      <td>arrival_airport_city</td>\n",
       "      <td>0</td>\n",
       "      <td>100.000000</td>\n",
       "    </tr>\n",
       "    <tr>\n",
       "      <th>19</th>\n",
       "      <td>departure_airport_name</td>\n",
       "      <td>0</td>\n",
       "      <td>100.000000</td>\n",
       "    </tr>\n",
       "    <tr>\n",
       "      <th>20</th>\n",
       "      <td>departure_airport_code</td>\n",
       "      <td>0</td>\n",
       "      <td>100.000000</td>\n",
       "    </tr>\n",
       "    <tr>\n",
       "      <th>21</th>\n",
       "      <td>departure_airport_city</td>\n",
       "      <td>0</td>\n",
       "      <td>100.000000</td>\n",
       "    </tr>\n",
       "    <tr>\n",
       "      <th>22</th>\n",
       "      <td>scheduled_departure_time</td>\n",
       "      <td>0</td>\n",
       "      <td>100.000000</td>\n",
       "    </tr>\n",
       "    <tr>\n",
       "      <th>23</th>\n",
       "      <td>airline_name</td>\n",
       "      <td>0</td>\n",
       "      <td>100.000000</td>\n",
       "    </tr>\n",
       "    <tr>\n",
       "      <th>24</th>\n",
       "      <td>airline</td>\n",
       "      <td>0</td>\n",
       "      <td>100.000000</td>\n",
       "    </tr>\n",
       "    <tr>\n",
       "      <th>25</th>\n",
       "      <td>arrival_airport_name</td>\n",
       "      <td>0</td>\n",
       "      <td>100.000000</td>\n",
       "    </tr>\n",
       "    <tr>\n",
       "      <th>26</th>\n",
       "      <td>is_daytime</td>\n",
       "      <td>0</td>\n",
       "      <td>100.000000</td>\n",
       "    </tr>\n",
       "  </tbody>\n",
       "</table>\n",
       "</div>"
      ],
      "text/plain": [
       "                      variable  missing values  filling factor (%)\n",
       "0         arrival_airport_gate          137275           10.057330\n",
       "1     arrival_airport_terminal           79410           47.970516\n",
       "2       departure_airport_gate           60619           60.282391\n",
       "3   departure_airport_terminal           56588           62.923505\n",
       "4        flight_equipment_name              22           99.985586\n",
       "5        flight_equipment_iata              22           99.985586\n",
       "6       scheduled_arrival_time               7           99.995414\n",
       "7              flight_duration               5           99.996724\n",
       "8                 days_of_week               0          100.000000\n",
       "9                       months               0          100.000000\n",
       "10                        days               0          100.000000\n",
       "11                       delay               0          100.000000\n",
       "12    arrival_airport_timezone               0          100.000000\n",
       "13      arrival_airport_region               0          100.000000\n",
       "14                      number               0          100.000000\n",
       "15                  is_weekend               0          100.000000\n",
       "16     arrival_airport_country               0          100.000000\n",
       "17        arrival_airport_code               0          100.000000\n",
       "18        arrival_airport_city               0          100.000000\n",
       "19      departure_airport_name               0          100.000000\n",
       "20      departure_airport_code               0          100.000000\n",
       "21      departure_airport_city               0          100.000000\n",
       "22    scheduled_departure_time               0          100.000000\n",
       "23                airline_name               0          100.000000\n",
       "24                     airline               0          100.000000\n",
       "25        arrival_airport_name               0          100.000000\n",
       "26                  is_daytime               0          100.000000"
      ]
     },
     "execution_count": 22,
     "metadata": {},
     "output_type": "execute_result"
    }
   ],
   "source": [
    "missing_df = get_missing(data)\n",
    "missing_df"
   ]
  },
  {
   "cell_type": "markdown",
   "metadata": {},
   "source": [
    "Some of columns that has at least 30% of missing values:\n",
    "* `arrival_airport_terminal`\n",
    "* `arrival_airpot_gate`\n",
    "* `departure_airport_gate`\n",
    "* `departure_airport_terminal`\n",
    "\n",
    "Choose to delete these attributes for now, and explore later if there is enough time. "
   ]
  },
  {
   "cell_type": "code",
   "execution_count": 23,
   "metadata": {
    "ExecuteTime": {
     "end_time": "2019-11-06T07:05:07.108500Z",
     "start_time": "2019-11-06T07:05:07.051000Z"
    }
   },
   "outputs": [],
   "source": [
    "data = data.drop(missing_df[missing_df['filling factor (%)'] < 70.0]['variable'], axis=1)"
   ]
  },
  {
   "cell_type": "markdown",
   "metadata": {},
   "source": [
    "Drop rows with missing values."
   ]
  },
  {
   "cell_type": "code",
   "execution_count": 24,
   "metadata": {
    "ExecuteTime": {
     "end_time": "2019-11-06T07:05:07.133500Z",
     "start_time": "2019-11-06T07:05:07.113500Z"
    }
   },
   "outputs": [],
   "source": [
    "def dropna(data):\n",
    "    n_before = data.shape[0]\n",
    "    data = data.dropna()\n",
    "    n_after = data.shape[0]\n",
    "    print(\"Dropped {:.2f}% of data\".format((n_before-n_after)/n_before*100))\n",
    "    return data"
   ]
  },
  {
   "cell_type": "code",
   "execution_count": 25,
   "metadata": {
    "ExecuteTime": {
     "end_time": "2019-11-06T07:05:07.366000Z",
     "start_time": "2019-11-06T07:05:07.136000Z"
    }
   },
   "outputs": [
    {
     "name": "stdout",
     "output_type": "stream",
     "text": [
      "Dropped 0.02% of data\n"
     ]
    }
   ],
   "source": [
    "data = dropna(data)"
   ]
  },
  {
   "cell_type": "markdown",
   "metadata": {},
   "source": [
    "## Split Numerical & Categorical Data\n",
    "\n",
    "* Create numerical & categorical column list."
   ]
  },
  {
   "cell_type": "code",
   "execution_count": 26,
   "metadata": {
    "ExecuteTime": {
     "end_time": "2019-11-06T07:05:08.126000Z",
     "start_time": "2019-11-06T07:05:07.368500Z"
    }
   },
   "outputs": [
    {
     "name": "stdout",
     "output_type": "stream",
     "text": [
      "Column airline casted to categorical\n",
      "Column airline_name casted to categorical\n",
      "Column departure_airport_city casted to categorical\n",
      "Column departure_airport_code casted to categorical\n",
      "Column departure_airport_name casted to categorical\n",
      "Column arrival_airport_city casted to categorical\n",
      "Column arrival_airport_code casted to categorical\n",
      "Column arrival_airport_country casted to categorical\n",
      "Column arrival_airport_name casted to categorical\n",
      "Column arrival_airport_region casted to categorical\n",
      "Column arrival_airport_timezone casted to categorical\n",
      "Column flight_equipment_iata casted to categorical\n",
      "Column flight_equipment_name casted to categorical\n",
      "Column days casted to categorical\n",
      "Column months casted to categorical\n",
      "Column days_of_week casted to categorical\n",
      "Column is_weekend casted to categorical\n",
      "Column is_daytime casted to categorical\n"
     ]
    }
   ],
   "source": [
    "transformation.convert_to_categorical(data, 200)"
   ]
  },
  {
   "cell_type": "code",
   "execution_count": 27,
   "metadata": {
    "ExecuteTime": {
     "end_time": "2019-11-06T07:05:08.176000Z",
     "start_time": "2019-11-06T07:05:08.131000Z"
    }
   },
   "outputs": [],
   "source": [
    "if (data[col_target].nunique() == 2):\n",
    "    cols_num = list(set(data.select_dtypes(include=[np.number]).columns) - set([col_ID]))\n",
    "    cols_cat = list(set(data.select_dtypes(exclude=[np.number]).columns) - set([col_target]))\n",
    "else:\n",
    "    cols_num = list(set(data.select_dtypes(include=[np.number]).columns) - set([col_ID, col_target]))\n",
    "    cols_cat = list(set(data.select_dtypes(exclude=[np.number]).columns))"
   ]
  },
  {
   "cell_type": "markdown",
   "metadata": {},
   "source": [
    "Filter `days` and `months` column."
   ]
  },
  {
   "cell_type": "code",
   "execution_count": 28,
   "metadata": {
    "ExecuteTime": {
     "end_time": "2019-11-06T07:05:08.198500Z",
     "start_time": "2019-11-06T07:05:08.181000Z"
    }
   },
   "outputs": [],
   "source": [
    "cols_cat = list(set(cols_cat) - set(['days', 'months', 'scheduled_departure_time', 'scheduled_arrival_time']))"
   ]
  },
  {
   "cell_type": "markdown",
   "metadata": {},
   "source": [
    "# Task 1: Travel Recommendation\n",
    "\n",
    "This task gives recommendation on best flight or best time to avoid having delays. Before proceeding with the analysis, it is nice to know the reasons behind a flight delays. From [claimcompass.eu](https://www.claimcompass.eu/blog/why-is-my-flight-delayed/), we can see probable reasons behind a flight delays.\n",
    "\n",
    "From 15 most common reasons listed there, it is worth a notice that a flight delays can be caused by a `knock-on effect`, in which when a flight is delayed because of the late arrival of an aircraft. This may alter the prediction (which will be done later) for flights which delays can't actually be predicted from the available attributes in the data. **For this analysis, it will now be assumed that all delays in the data is not caused by such effect.**"
   ]
  },
  {
   "cell_type": "markdown",
   "metadata": {},
   "source": [
    "## Airline Recommendation\n",
    "\n",
    "Rank the best airline based on its probability of a delay. Some notes to be keep in mind while doing the analysis:\n",
    "* To accurately recommend the best airline based on its delay, we must make sure that the delay is not caused by external factor such as weather condition, bird migration, etc. as these factors are out of control of the airline.\n",
    "* We must also consider the number of flights of each airlines, wouldn't trus too much on small airlines do we?\n",
    "* Available flight destination. Does the airlines serves all routes?\n",
    "* Available flight schedule. Does the airlines serves at all times during the day?"
   ]
  },
  {
   "cell_type": "code",
   "execution_count": 29,
   "metadata": {
    "ExecuteTime": {
     "end_time": "2019-11-06T07:05:09.281000Z",
     "start_time": "2019-11-06T07:05:08.201000Z"
    }
   },
   "outputs": [
    {
     "data": {
      "image/png": "[encoded data removed]",
      "text/plain": [
       "<Figure size 1080x432 with 2 Axes>"
      ]
     },
     "metadata": {
      "needs_background": "light"
     },
     "output_type": "display_data"
    }
   ],
   "source": [
    "fig, ax = plt.subplots(figsize=(15, 6))\n",
    "delays_mean = data.groupby('airline_name')[col_target].mean().sort_values()[:50]\n",
    "delays_mean.plot(ax=ax, alpha=0.5, color='r', marker='o')\n",
    "ax2 = ax.twinx()\n",
    "data.groupby('airline_name')[col_target].count().reindex(delays_mean.index)[:50].plot.bar(ax=ax2, alpha=0.5, )\n",
    "ax.set_ylim(0)\n",
    "ax.set_ylabel('mean delays (min)')\n",
    "ax2.set_ylabel('total flights')\n",
    "lines, labels = ax.get_legend_handles_labels()\n",
    "lines2, labels2 = ax2.get_legend_handles_labels()\n",
    "ax2.legend(lines + lines2, ['mean delays (min)', 'total flights'], loc=0)\n",
    "for tick in ax.get_xticklabels():\n",
    "    tick.set_rotation(90)\n",
    "# plt.title(\" \\n\", loc='left')\n",
    "plt.suptitle('Mean Delays vs Total Flights Top 50 Airlines',fontsize=20, ha='left', x=0.125)\n",
    "plt.title('Top 5 airlines have zero delays mean',fontsize=14, loc='left')\n",
    "plt.show()"
   ]
  },
  {
   "cell_type": "markdown",
   "metadata": {},
   "source": [
    "From figure above, there are 5 airlines with 0 delays mean, but only 1 out of those 5 airlines have a considerable amount of total flights. If decision is made here, we would choose `Firefly` as our recommended airline.\n",
    "\n",
    "Next we will rank airlines based on the coverage of destination and times. The destination is from `arrival_airport_country` columns and the schedule coverage is from `scheduled_arrival_time`."
   ]
  },
  {
   "cell_type": "code",
   "execution_count": 30,
   "metadata": {
    "ExecuteTime": {
     "end_time": "2019-11-06T07:05:09.311000Z",
     "start_time": "2019-11-06T07:05:09.283500Z"
    }
   },
   "outputs": [],
   "source": [
    "data['hours'] = data['scheduled_arrival_time'].dt.hour"
   ]
  },
  {
   "cell_type": "markdown",
   "metadata": {},
   "source": [
    "Create pivot dataframe. Index of this dataframe will be sorted according to the delays_mean plot dataframe."
   ]
  },
  {
   "cell_type": "code",
   "execution_count": 31,
   "metadata": {
    "ExecuteTime": {
     "end_time": "2019-11-06T07:05:09.326000Z",
     "start_time": "2019-11-06T07:05:09.313500Z"
    }
   },
   "outputs": [],
   "source": [
    "def create_pivot(data, x, y):\n",
    "    g = data.groupby([y, x], as_index=False).size().reset_index(name='count')\n",
    "    df = g.pivot(columns=x, index=y, values=\"count\")\n",
    "    df.fillna(0, inplace=True)\n",
    "    df = df.reindex(delays_mean.index)[:5]\n",
    "    df = df[::-1]\n",
    "    return df"
   ]
  },
  {
   "cell_type": "code",
   "execution_count": 32,
   "metadata": {
    "ExecuteTime": {
     "end_time": "2019-11-06T07:05:09.416000Z",
     "start_time": "2019-11-06T07:05:09.328500Z"
    }
   },
   "outputs": [],
   "source": [
    "df_pivot_destination = create_pivot(data, 'arrival_airport_country', 'airline_name')\n",
    "df_pivot_time = create_pivot(data, 'hours', 'airline_name')"
   ]
  },
  {
   "cell_type": "code",
   "execution_count": 33,
   "metadata": {
    "ExecuteTime": {
     "end_time": "2019-11-06T07:05:09.713500Z",
     "start_time": "2019-11-06T07:05:09.418500Z"
    }
   },
   "outputs": [
    {
     "data": {
      "image/png": "[encoded data removed]",
      "text/plain": [
       "<Figure size 1008x201.6 with 1 Axes>"
      ]
     },
     "metadata": {
      "needs_background": "light"
     },
     "output_type": "display_data"
    }
   ],
   "source": [
    "plotting.waffle_chart(df_pivot_destination, suptitle='Top 5 Airlines Available Schedule Destination', title='Firefly airline covers only 4 out of 38 destinations', figsize=(14, 2.8))"
   ]
  },
  {
   "cell_type": "code",
   "execution_count": 34,
   "metadata": {
    "ExecuteTime": {
     "end_time": "2019-11-06T07:05:09.956000Z",
     "start_time": "2019-11-06T07:05:09.716000Z"
    }
   },
   "outputs": [
    {
     "data": {
      "image/png": "[encoded data removed]",
      "text/plain": [
       "<Figure size 1008x259.2 with 1 Axes>"
      ]
     },
     "metadata": {
      "needs_background": "light"
     },
     "output_type": "display_data"
    }
   ],
   "source": [
    "plotting.waffle_chart(df_pivot_time, suptitle='Top 5 Airlines Available Schedule Time', title='Firefly airline does not have arrival schedule between 15:00 to 22:59', figsize=(14, 3.6))"
   ]
  },
  {
   "cell_type": "markdown",
   "metadata": {},
   "source": [
    "Based on the results from above 2 plots, we can recommend using `Firefly` only if we want to fly to 'ID', 'MY', 'SG', and 'TH' or if we want to arrive at the destination excluding 15:00 to 22:59.\n",
    "\n",
    "We can explore further for domestic flights (in Malaysia) or combination of schedule and country, but we will skip that for now."
   ]
  },
  {
   "cell_type": "markdown",
   "metadata": {},
   "source": [
    "## Time Recommendation\n",
    "\n",
    "Differing from previous sub task, in this task we must keep in mind only:\n",
    "\n",
    "* The number of flights in each time interval which we will define."
   ]
  },
  {
   "cell_type": "code",
   "execution_count": 35,
   "metadata": {
    "ExecuteTime": {
     "end_time": "2019-11-06T07:05:10.471000Z",
     "start_time": "2019-11-06T07:05:09.958500Z"
    }
   },
   "outputs": [
    {
     "data": {
      "image/png": "[encoded data removed]",
      "text/plain": [
       "<Figure size 1080x432 with 2 Axes>"
      ]
     },
     "metadata": {
      "needs_background": "light"
     },
     "output_type": "display_data"
    }
   ],
   "source": [
    "fig, ax = plt.subplots(figsize=(15, 6))\n",
    "delays_mean = data.groupby('hours')[col_target].mean()\n",
    "delays_mean.plot(ax=ax, alpha=0.5, color='r', marker='o')\n",
    "data.groupby('hours')[col_target].median().plot(ax=ax, alpha=0.5, color='k', marker='o')\n",
    "ax2 = ax.twinx()\n",
    "data.groupby('hours')[col_target].count().reindex(delays_mean.index)[:50].plot.bar(ax=ax2, alpha=0.5, )\n",
    "ax.set_ylim(0)\n",
    "ax.set_ylabel('mean/median delays (min)')\n",
    "ax2.set_ylabel('total flights')\n",
    "lines, labels = ax.get_legend_handles_labels()\n",
    "lines2, labels2 = ax2.get_legend_handles_labels()\n",
    "ax2.legend(lines + lines2, ['mean delays (min)', 'median delays (min)', 'total flights'], loc=0)\n",
    "for tick in ax.get_xticklabels():\n",
    "    tick.set_rotation(90)\n",
    "# plt.title(\" \\n\", loc='left')\n",
    "plt.suptitle('Mean/Median Delays vs Hours Interval',fontsize=20, ha='left', x=0.125)\n",
    "plt.title('Lower mean and median delays in the morning (00:00 - 06:00)',fontsize=14, loc='left')\n",
    "plt.show()"
   ]
  },
  {
   "cell_type": "markdown",
   "metadata": {},
   "source": [
    "Without looking at the airlines or destination, the best time to book a flight with **mininum delays is during dusktime, from 00:00 - 06:00.**"
   ]
  },
  {
   "cell_type": "markdown",
   "metadata": {},
   "source": [
    "# Data Preparation\n",
    "\n",
    "Preparation of train and test before modelling."
   ]
  },
  {
   "cell_type": "code",
   "execution_count": 36,
   "metadata": {
    "ExecuteTime": {
     "end_time": "2019-11-06T07:05:10.496000Z",
     "start_time": "2019-11-06T07:05:10.476000Z"
    }
   },
   "outputs": [],
   "source": [
    "def prepare_data(df):\n",
    "    data = df.copy()\n",
    "    \n",
    "    # Convert to datetime\n",
    "    data['scheduled_departure_time'] = utils.lookup_date(data['scheduled_departure_time'])\n",
    "    data['scheduled_arrival_time'] = utils.lookup_date(data['scheduled_arrival_time'])\n",
    "    \n",
    "    # Set col date\n",
    "    col_date = 'scheduled_departure_time'\n",
    "    \n",
    "    # Date\n",
    "    data['days']  = data[col_date].dt.strftime('%Y%m%d')\n",
    "    data['months'] = data[col_date].dt.strftime('%Y%m')\n",
    "    data['days_of_week'] = data[col_date].dt.day_name()\n",
    "    data['is_weekend'] = (data[col_date].dt.dayofweek >= 5).astype('int')\n",
    "\n",
    "    # Time\n",
    "    data['is_daytime'] = ((data[col_date].dt.hour >= 6) & (data[col_date].dt.hour < 18)).astype('int')\n",
    "    \n",
    "    # Flight duration\n",
    "    temp = []\n",
    "    for duration in data['flight_duration'].str.split():\n",
    "        try:\n",
    "            if (len(duration) == 1):\n",
    "                if (duration[0][-1] == 'm'):\n",
    "                    temp.append(int(duration[0][:-1]))\n",
    "                else:\n",
    "                    temp.append(int(duration[0][:-1])*60)\n",
    "            else:\n",
    "                minutes = int(duration[0][:-1]) * 60 + int(duration[1][:-1])\n",
    "                temp.append(minutes)\n",
    "        except Exception as e: # null values\n",
    "            temp.append(duration)\n",
    "    data['flight_duration'] = temp\n",
    "    \n",
    "    # Drop one unique value column\n",
    "    df_one_unique = get_one_unique(data)\n",
    "    data = data.drop(df_one_unique['attributes'], axis=1)\n",
    "    \n",
    "    # Infinite values\n",
    "    data = data.replace([np.inf, -np.inf], np.nan)\n",
    "    \n",
    "    # Missing & null data\n",
    "    missing_df = get_missing(data)\n",
    "    data = data.drop(missing_df[missing_df['filling factor (%)'] < 70.0]['variable'], axis=1)\n",
    "    data = dropna(data)\n",
    "    \n",
    "    return data, df_one_unique, missing_df"
   ]
  },
  {
   "cell_type": "code",
   "execution_count": 37,
   "metadata": {
    "ExecuteTime": {
     "end_time": "2019-11-06T07:05:20.443500Z",
     "start_time": "2019-11-06T07:05:10.501000Z"
    },
    "scrolled": true
   },
   "outputs": [
    {
     "name": "stdout",
     "output_type": "stream",
     "text": [
      "Dropped 0.02% of data\n",
      "Dropped 0.01% of data\n"
     ]
    }
   ],
   "source": [
    "data_train, df_one_unique_train, missing_df_train = prepare_data(data_train)\n",
    "data_test, df_one_unique_test, missing_df_test = prepare_data(data_test)"
   ]
  },
  {
   "cell_type": "markdown",
   "metadata": {},
   "source": [
    "## Feature Engineering"
   ]
  },
  {
   "cell_type": "markdown",
   "metadata": {},
   "source": [
    "### `scheduled_flight_duration`\n",
    "\n",
    "Get scheduled flight duration by subtracting arrival with departure time."
   ]
  },
  {
   "cell_type": "code",
   "execution_count": 38,
   "metadata": {
    "ExecuteTime": {
     "end_time": "2019-11-06T07:05:23.350500Z",
     "start_time": "2019-11-06T07:05:20.446000Z"
    }
   },
   "outputs": [],
   "source": [
    "data_train['scheduled_departure_time'] = utils.lookup_date(data_train['scheduled_departure_time'])\n",
    "data_train['scheduled_arrival_time'] = utils.lookup_date(data_train['scheduled_arrival_time'])\n",
    "\n",
    "data_test['scheduled_departure_time'] = utils.lookup_date(data_test['scheduled_departure_time'])\n",
    "data_test['scheduled_arrival_time'] = utils.lookup_date(data_test['scheduled_arrival_time'])"
   ]
  },
  {
   "cell_type": "code",
   "execution_count": 39,
   "metadata": {
    "ExecuteTime": {
     "end_time": "2019-11-06T07:05:24.583000Z",
     "start_time": "2019-11-06T07:05:23.353000Z"
    }
   },
   "outputs": [],
   "source": [
    "data_train['scheduled_flight_duration'] = [x.total_seconds() / 60 for x in (data_train['scheduled_arrival_time'] - data_train['scheduled_departure_time'])]\n",
    "data_test['scheduled_flight_duration'] = [x.total_seconds() / 60 for x in (data_test['scheduled_arrival_time'] - data_test['scheduled_departure_time'])]"
   ]
  },
  {
   "cell_type": "markdown",
   "metadata": {},
   "source": [
    "## Split Numerical & Categorical Data"
   ]
  },
  {
   "cell_type": "code",
   "execution_count": 40,
   "metadata": {
    "ExecuteTime": {
     "end_time": "2019-11-06T07:05:49.633000Z",
     "start_time": "2019-11-06T07:05:49.575500Z"
    }
   },
   "outputs": [],
   "source": [
    "if (data_train[col_target].nunique() == 2):\n",
    "    cols_num = list(set(data_train.select_dtypes(include=[np.number]).columns) - set([col_ID]))\n",
    "    cols_cat = list(set(data_train.select_dtypes(exclude=[np.number]).columns) - set([col_target]))\n",
    "else:\n",
    "    cols_num = list(set(data_train.select_dtypes(include=[np.number]).columns) - set([col_ID, col_target]))\n",
    "    cols_cat = list(set(data_train.select_dtypes(exclude=[np.number]).columns))"
   ]
  },
  {
   "cell_type": "code",
   "execution_count": 41,
   "metadata": {
    "ExecuteTime": {
     "end_time": "2019-11-06T07:05:49.903000Z",
     "start_time": "2019-11-06T07:05:49.893000Z"
    }
   },
   "outputs": [],
   "source": [
    "cols_cat = list(set(cols_cat) - set(['days', 'months', 'scheduled_departure_time', 'scheduled_arrival_time']))"
   ]
  },
  {
   "cell_type": "markdown",
   "metadata": {},
   "source": [
    "## Categorical Values Distribution\n",
    "\n",
    "Check wether all unique values in all categorical columns present both in train and test dataset. If not, dropped the rows."
   ]
  },
  {
   "cell_type": "code",
   "execution_count": 42,
   "metadata": {
    "ExecuteTime": {
     "end_time": "2019-11-06T07:05:51.378000Z",
     "start_time": "2019-11-06T07:05:50.950500Z"
    }
   },
   "outputs": [],
   "source": [
    "filt_idx_train = [True] * data_train.shape[0]\n",
    "filt_idx_test = [True] * data_test.shape[0]\n",
    "for col in cols_cat:\n",
    "    if (sorted(data_train[col].unique()) != sorted(data_test[col].unique())):\n",
    "        intersect = list(set(sorted(data_train[col].unique())) & set(sorted(data_test[col].unique())))\n",
    "        filt_idx_train = filt_idx_train & data_train[col].isin(intersect)\n",
    "        filt_idx_test = filt_idx_test & data_test[col].isin(intersect)"
   ]
  },
  {
   "cell_type": "code",
   "execution_count": 43,
   "metadata": {
    "ExecuteTime": {
     "end_time": "2019-11-06T07:05:51.425500Z",
     "start_time": "2019-11-06T07:05:51.380500Z"
    }
   },
   "outputs": [
    {
     "name": "stdout",
     "output_type": "stream",
     "text": [
      "(111047, 25)\n",
      "(106654, 25)\n"
     ]
    }
   ],
   "source": [
    "print(data_train.shape)\n",
    "print(data_train[filt_idx_train].shape)"
   ]
  },
  {
   "cell_type": "code",
   "execution_count": 44,
   "metadata": {
    "ExecuteTime": {
     "end_time": "2019-11-06T07:05:51.463000Z",
     "start_time": "2019-11-06T07:05:51.428000Z"
    }
   },
   "outputs": [
    {
     "name": "stdout",
     "output_type": "stream",
     "text": [
      "(41554, 24)\n",
      "(40994, 24)\n"
     ]
    }
   ],
   "source": [
    "print(data_test.shape)\n",
    "print(data_test[filt_idx_test].shape)"
   ]
  },
  {
   "cell_type": "code",
   "execution_count": 45,
   "metadata": {
    "ExecuteTime": {
     "end_time": "2019-11-06T07:05:51.658000Z",
     "start_time": "2019-11-06T07:05:51.600500Z"
    }
   },
   "outputs": [],
   "source": [
    "data_train = data_train[filt_idx_train]\n",
    "data_test = data_test[filt_idx_test]"
   ]
  },
  {
   "cell_type": "markdown",
   "metadata": {},
   "source": [
    "## Limit Categorical Columns\n",
    "\n",
    "Filter out categorical columns with unique values more than 50."
   ]
  },
  {
   "cell_type": "code",
   "execution_count": 46,
   "metadata": {
    "ExecuteTime": {
     "end_time": "2019-11-06T07:05:52.113000Z",
     "start_time": "2019-11-06T07:05:51.988000Z"
    }
   },
   "outputs": [],
   "source": [
    "to_drop = []\n",
    "for col in cols_cat:\n",
    "    if (data_train[col].nunique() > 50):\n",
    "        to_drop.append(col)"
   ]
  },
  {
   "cell_type": "code",
   "execution_count": 47,
   "metadata": {
    "ExecuteTime": {
     "end_time": "2019-11-06T07:05:52.153000Z",
     "start_time": "2019-11-06T07:05:52.148000Z"
    }
   },
   "outputs": [],
   "source": [
    "cols_cat = list(set(cols_cat) - set(to_drop))"
   ]
  },
  {
   "cell_type": "markdown",
   "metadata": {},
   "source": [
    "## Future Value Column"
   ]
  },
  {
   "cell_type": "markdown",
   "metadata": {
    "ExecuteTime": {
     "end_time": "2019-11-06T06:52:34.462000Z",
     "start_time": "2019-11-06T06:52:34.449500Z"
    }
   },
   "source": [
    "Drop the `flight_duration` column as it is information in the future when use in predicting."
   ]
  },
  {
   "cell_type": "code",
   "execution_count": 51,
   "metadata": {
    "ExecuteTime": {
     "end_time": "2019-11-06T07:06:28.190500Z",
     "start_time": "2019-11-06T07:06:28.183000Z"
    }
   },
   "outputs": [],
   "source": [
    "cols_num.remove('flight_duration')"
   ]
  },
  {
   "cell_type": "markdown",
   "metadata": {},
   "source": [
    "# Task 2: Model Estimating Delay Duration\n",
    "\n",
    "Before doing linear regression, we must see if the assumption is true.\n",
    "\n",
    "* Relation between dependant variable and independant variable is linear\n",
    "* Error or residual of the model need to be normally distributed\n",
    "* There is no multicollinearity"
   ]
  },
  {
   "cell_type": "markdown",
   "metadata": {},
   "source": [
    "See the target attribute distribution between train and test dataset."
   ]
  },
  {
   "cell_type": "code",
   "execution_count": 53,
   "metadata": {
    "ExecuteTime": {
     "end_time": "2019-11-06T07:06:35.993000Z",
     "start_time": "2019-11-06T07:06:35.465500Z"
    }
   },
   "outputs": [
    {
     "data": {
      "image/png": "[encoded data removed]",
      "text/plain": [
       "<Figure size 1008x432 with 1 Axes>"
      ]
     },
     "metadata": {
      "needs_background": "light"
     },
     "output_type": "display_data"
    }
   ],
   "source": [
    "fig, ax = plt.subplots(figsize=(14, 6))\n",
    "sns.distplot(data_train[col_target], ax=ax)\n",
    "sns.distplot(data_test[col_target], ax=ax)\n",
    "ax.legend(['Train', 'Test'])\n",
    "ax.set_title('Distribution of Delays (in minutes)')\n",
    "plt.show()"
   ]
  },
  {
   "cell_type": "markdown",
   "metadata": {},
   "source": [
    "See the difference in data date between train and test dataset."
   ]
  },
  {
   "cell_type": "code",
   "execution_count": 54,
   "metadata": {
    "ExecuteTime": {
     "end_time": "2019-11-06T07:06:37.953000Z",
     "start_time": "2019-11-06T07:06:37.060500Z"
    }
   },
   "outputs": [
    {
     "name": "stdout",
     "output_type": "stream",
     "text": [
      "2018-10-04 22:00:00 2018-11-30 23:55:00\n",
      "2018-12-01 00:00:00 2018-12-20 15:59:00\n"
     ]
    }
   ],
   "source": [
    "print(min(data_train['scheduled_departure_time']), max(data_train['scheduled_departure_time']))\n",
    "print(min(data_test['scheduled_departure_time']), max(data_test['scheduled_departure_time']))"
   ]
  },
  {
   "cell_type": "markdown",
   "metadata": {},
   "source": [
    "The test dataset cotains data only twenty days from December month while the train dataset doesn't contain any time in December month. The distribution of target column is quite similar, so we can proceed."
   ]
  },
  {
   "cell_type": "markdown",
   "metadata": {},
   "source": [
    "## Linear Regression"
   ]
  },
  {
   "cell_type": "code",
   "execution_count": 55,
   "metadata": {
    "ExecuteTime": {
     "end_time": "2019-11-06T07:06:39.700500Z",
     "start_time": "2019-11-06T07:06:38.815500Z"
    }
   },
   "outputs": [],
   "source": [
    "from sklearn.linear_model import LinearRegression\n",
    "from sklearn.metrics import mean_squared_error, r2_score\n",
    "import statsmodels.api as sm"
   ]
  },
  {
   "cell_type": "code",
   "execution_count": 56,
   "metadata": {
    "ExecuteTime": {
     "end_time": "2019-11-06T07:06:44.044000Z",
     "start_time": "2019-11-06T07:06:39.703000Z"
    }
   },
   "outputs": [
    {
     "name": "stdout",
     "output_type": "stream",
     "text": [
      "Train Mean Squared Error            675.141355\n",
      "Test Mean Squared Error             931.300174\n",
      "\n"
     ]
    }
   ],
   "source": [
    "for col in cols_cat:\n",
    "    data_train = pd.concat([data_train, pd.get_dummies(data_train[col], prefix='d_'+col, drop_first=True)], axis=1)\n",
    "    data_test = pd.concat([data_test, pd.get_dummies(data_test[col], prefix='d_'+col, drop_first=True)], axis=1)\n",
    "cols_cat_d = data_train.columns[data_train.columns.str.startswith('d_')]\n",
    "cols_feature = cols_num + list(cols_cat_d.values)\n",
    "\n",
    "X_train = data_train[[c for c in cols_feature]]\n",
    "y_train = data_train[col_target]\n",
    "X_test = data_test[[c for c in cols_feature]]\n",
    "y_test = data_test[col_target]\n",
    "\n",
    "reg = LinearRegression()\n",
    "reg.fit(X_train, y_train)\n",
    "\n",
    "y_preds_train = reg.predict(X_train)\n",
    "y_preds_test = reg.predict(X_test)\n",
    "\n",
    "mse_train = mean_squared_error(y_train, y_preds_train)\n",
    "mse_test = mean_squared_error(y_test, y_preds_test)\n",
    "\n",
    "print(str.ljust(\"Train Mean Squared Error \", 25), str.rjust(\"{:3f}\".format(mse_train), 20))\n",
    "print(str.ljust(\"Test Mean Squared Error \", 25), str.rjust(\"{:3f}\".format(mse_test), 20))\n",
    "print()"
   ]
  },
  {
   "cell_type": "code",
   "execution_count": 57,
   "metadata": {
    "ExecuteTime": {
     "end_time": "2019-11-06T07:06:47.181500Z",
     "start_time": "2019-11-06T07:06:47.159000Z"
    }
   },
   "outputs": [
    {
     "name": "stdout",
     "output_type": "stream",
     "text": [
      "Train R-square: 0.055\n",
      "Test R-square: 0.018\n"
     ]
    }
   ],
   "source": [
    "r_square_train = r2_score(y_train, y_preds_train)\n",
    "r_square_test = r2_score(y_test, y_preds_test)\n",
    "print(\"Train R-square: {:.3f}\".format(r_square_train))\n",
    "print(\"Test R-square: {:.3f}\".format(r_square_test))"
   ]
  },
  {
   "cell_type": "code",
   "execution_count": 58,
   "metadata": {
    "ExecuteTime": {
     "end_time": "2019-11-06T07:06:56.963500Z",
     "start_time": "2019-11-06T07:06:49.791500Z"
    }
   },
   "outputs": [
    {
     "name": "stdout",
     "output_type": "stream",
     "text": [
      "                            OLS Regression Results                            \n",
      "==============================================================================\n",
      "Dep. Variable:                  delay   R-squared:                       0.055\n",
      "Model:                            OLS   Adj. R-squared:                  0.054\n",
      "Method:                 Least Squares   F-statistic:                     61.74\n",
      "Date:                Wed, 06 Nov 2019   Prob (F-statistic):               0.00\n",
      "Time:                        14:06:56   Log-Likelihood:            -4.9876e+05\n",
      "No. Observations:              106654   AIC:                         9.977e+05\n",
      "Df Residuals:                  106553   BIC:                         9.987e+05\n",
      "Df Model:                         100                                         \n",
      "Covariance Type:            nonrobust                                         \n",
      "======================================================================================================================================\n",
      "                                                                         coef    std err          t      P>|t|      [0.025      0.975]\n",
      "--------------------------------------------------------------------------------------------------------------------------------------\n",
      "is_weekend                                                            -1.8486      0.168    -11.034      0.000      -2.177      -1.520\n",
      "scheduled_flight_duration                                              0.0337      0.003     13.234      0.000       0.029       0.039\n",
      "is_daytime                                                             5.4309      0.165     32.823      0.000       5.107       5.755\n",
      "d_departure_airport_city_Johor Bharu                                  -0.1811      0.284     -0.638      0.523      -0.737       0.375\n",
      "d_departure_airport_city_Kota Bharu                                    0.3693      0.304      1.215      0.224      -0.227       0.965\n",
      "d_departure_airport_city_Kota Kinabalu                                -0.0274      0.420     -0.065      0.948      -0.852       0.797\n",
      "d_departure_airport_city_Kuala Lumpur                                  0.1843      0.392      0.470      0.638      -0.584       0.953\n",
      "d_departure_airport_city_Kuching                                       0.1256      0.278      0.452      0.651      -0.419       0.670\n",
      "d_departure_airport_city_Kudat                                         0.4080      1.770      0.231      0.818      -3.061       3.877\n",
      "d_departure_airport_city_Labuan                                        3.0565      0.628      4.863      0.000       1.825       4.288\n",
      "d_departure_airport_city_Langkawi                                      1.1928      0.289      4.131      0.000       0.627       1.759\n",
      "d_departure_airport_city_Lawas                                         0.3537      1.769      0.200      0.842      -3.113       3.820\n",
      "d_departure_airport_city_Marudi                                       -1.2019      1.391     -0.864      0.387      -3.928       1.524\n",
      "d_departure_airport_city_Miri                                          0.7107      0.300      2.367      0.018       0.122       1.299\n",
      "d_departure_airport_city_Penang                                        0.5454      0.263      2.072      0.038       0.029       1.061\n",
      "d_departure_airport_city_Sandakan                                      5.2540      0.760      6.909      0.000       3.764       6.744\n",
      "d_departure_airport_city_Sibu                                          0.9939      0.323      3.077      0.002       0.361       1.627\n",
      "d_flight_equipment_name_ATR 72                                        -0.5637      0.403     -1.398      0.162      -1.354       0.227\n",
      "d_flight_equipment_name_Airbus A310 Passenger                         -1.7083      5.649     -0.302      0.762     -12.781       9.364\n",
      "d_flight_equipment_name_Airbus A318 / A319 / A320 / A321               1.8785      0.384      4.886      0.000       1.125       2.632\n",
      "d_flight_equipment_name_Airbus A319                                    0.2336      0.557      0.419      0.675      -0.858       1.325\n",
      "d_flight_equipment_name_Airbus A320                                    1.7236      0.813      2.119      0.034       0.130       3.318\n",
      "d_flight_equipment_name_Airbus A320 (sharklets)                       -5.1275      1.310     -3.915      0.000      -7.694      -2.561\n",
      "d_flight_equipment_name_Airbus A321                                   -1.3198      0.680     -1.942      0.052      -2.652       0.012\n",
      "d_flight_equipment_name_Airbus A321 (sharklets)                       -0.6336      1.199     -0.529      0.597      -2.983       1.716\n",
      "d_flight_equipment_name_Airbus A330                                   -2.6621      7.353     -0.362      0.717     -17.074      11.750\n",
      "d_flight_equipment_name_Airbus A330 Freighter                         -7.0379      3.212     -2.191      0.028     -13.333      -0.742\n",
      "d_flight_equipment_name_Airbus A330-200                                7.7708      0.584     13.305      0.000       6.626       8.916\n",
      "d_flight_equipment_name_Airbus A330-200 Freighter                     -7.0075      1.718     -4.078      0.000     -10.375      -3.640\n",
      "d_flight_equipment_name_Airbus A330-300                               -0.2788      0.421     -0.663      0.507      -1.103       0.546\n",
      "d_flight_equipment_name_Airbus A340                                   -1.9623      3.018     -0.650      0.516      -7.878       3.953\n",
      "d_flight_equipment_name_Airbus A340-300                               -1.2318      7.489     -0.164      0.869     -15.910      13.447\n",
      "d_flight_equipment_name_Airbus A340-600                               -4.6027      1.209     -3.807      0.000      -6.972      -2.233\n",
      "d_flight_equipment_name_Airbus A350-900                               -2.0880      0.574     -3.637      0.000      -3.213      -0.963\n",
      "d_flight_equipment_name_Airbus A380-800 Passenger                     -1.6465      0.745     -2.209      0.027      -3.107      -0.186\n",
      "d_flight_equipment_name_Boeing 727-200 Freighter                      -4.1961      1.868     -2.246      0.025      -7.858      -0.534\n",
      "d_flight_equipment_name_Boeing 737 Freighter                          -7.7135      2.630     -2.933      0.003     -12.868      -2.559\n",
      "d_flight_equipment_name_Boeing 737 Passenger                           0.3201      1.820      0.176      0.860      -3.248       3.888\n",
      "d_flight_equipment_name_Boeing 737-800 Passenger                      -0.1317      0.383     -0.344      0.731      -0.882       0.619\n",
      "d_flight_equipment_name_Boeing 737-900 Passenger                       8.0447      0.523     15.378      0.000       7.019       9.070\n",
      "d_flight_equipment_name_Boeing 737MAX 8 Passenger                      8.3412      1.142      7.306      0.000       6.104      10.579\n",
      "d_flight_equipment_name_Boeing 747 Freighter                          -8.5021      7.355     -1.156      0.248     -22.917       5.913\n",
      "d_flight_equipment_name_Boeing 747 Passenger                          58.1624      2.064     28.177      0.000      54.117      62.208\n",
      "d_flight_equipment_name_Boeing 747-400 Freighter                      -6.0435      1.796     -3.366      0.001      -9.563      -2.524\n",
      "d_flight_equipment_name_Boeing 747-8 Passenger                         6.2297      1.347      4.624      0.000       3.589       8.870\n",
      "d_flight_equipment_name_Boeing 757-200 Freighter                      -3.0861      1.051     -2.937      0.003      -5.146      -1.026\n",
      "d_flight_equipment_name_Boeing 757-200 Passenger                      11.4052      3.428      3.327      0.001       4.687      18.124\n",
      "d_flight_equipment_name_Boeing 767-200 Freighter                      -5.0897      9.005     -0.565      0.572     -22.739      12.560\n",
      "d_flight_equipment_name_Boeing 767-200 Passenger                       5.9577      2.173      2.742      0.006       1.699      10.217\n",
      "d_flight_equipment_name_Boeing 767-300 (winglets) Passenger           -1.5028      1.648     -0.912      0.362      -4.732       1.727\n",
      "d_flight_equipment_name_Boeing 767-300 Passenger                      -3.9449      2.226     -1.773      0.076      -8.307       0.417\n",
      "d_flight_equipment_name_Boeing 777                                     7.5902      2.339      3.246      0.001       3.006      12.174\n",
      "d_flight_equipment_name_Boeing 777-200 / 200ER                        -1.6848      1.034     -1.629      0.103      -3.712       0.342\n",
      "d_flight_equipment_name_Boeing 777-200F Freighter                     -5.1780      3.216     -1.610      0.107     -11.482       1.126\n",
      "d_flight_equipment_name_Boeing 777-300                                -1.3572      0.868     -1.563      0.118      -3.059       0.345\n",
      "d_flight_equipment_name_Boeing 777-300ER                               1.3796      0.638      2.164      0.030       0.130       2.629\n",
      "d_flight_equipment_name_Boeing 787-8                                  -2.6483      0.738     -3.587      0.000      -4.095      -1.201\n",
      "d_flight_equipment_name_Boeing 787-9                                  -5.3483      0.748     -7.153      0.000      -6.814      -3.883\n",
      "d_flight_equipment_name_De Havilland (Bombardier) DHC-6 Twin Otter     1.9634      0.576      3.409      0.001       0.834       3.092\n",
      "d_arrival_airport_timezone_Asia/Baku                                  -6.0435      1.796     -3.366      0.001      -9.563      -2.524\n",
      "d_arrival_airport_timezone_Asia/Bangkok                                1.2126      0.303      4.002      0.000       0.619       1.806\n",
      "d_arrival_airport_timezone_Asia/Brunei                                -1.9974      0.757     -2.637      0.008      -3.482      -0.513\n",
      "d_arrival_airport_timezone_Asia/Colombo                               -1.2973      0.555     -2.339      0.019      -2.385      -0.210\n",
      "d_arrival_airport_timezone_Asia/Dhaka                                  4.4920      0.652      6.894      0.000       3.215       5.769\n",
      "d_arrival_airport_timezone_Asia/Dubai                                 -7.4946      1.992     -3.763      0.000     -11.399      -3.591\n",
      "d_arrival_airport_timezone_Asia/Ho_Chi_Minh                            0.9693      0.385      2.518      0.012       0.215       1.724\n",
      "d_arrival_airport_timezone_Asia/Hong_Kong                              0.5887      0.335      1.758      0.079      -0.067       1.245\n",
      "d_arrival_airport_timezone_Asia/Jakarta                                2.4535      0.382      6.417      0.000       1.704       3.203\n",
      "d_arrival_airport_timezone_Asia/Karachi                               13.0908      1.546      8.467      0.000      10.060      16.121\n",
      "d_arrival_airport_timezone_Asia/Kathmandu                              9.0541      0.868     10.432      0.000       7.353      10.755\n",
      "d_arrival_airport_timezone_Asia/Kolkata                                2.2069      0.335      6.578      0.000       1.549       2.864\n",
      "d_arrival_airport_timezone_Asia/Kuala_Lumpur                           1.9024      0.274      6.931      0.000       1.364       2.440\n",
      "d_arrival_airport_timezone_Asia/Macau                                  0.0455      1.015      0.045      0.964      -1.945       2.036\n",
      "d_arrival_airport_timezone_Asia/Makassar                               0.8300      0.481      1.727      0.084      -0.112       1.772\n",
      "d_arrival_airport_timezone_Asia/Manila                                 6.1709      0.501     12.321      0.000       5.189       7.153\n",
      "d_arrival_airport_timezone_Asia/Muscat                                 4.3598      1.154      3.778      0.000       2.098       6.622\n",
      "d_arrival_airport_timezone_Asia/Phnom_Penh                             2.0564      0.583      3.527      0.000       0.914       3.199\n",
      "d_arrival_airport_timezone_Asia/Qatar                                 -1.4427      1.147     -1.258      0.208      -3.690       0.805\n",
      "d_arrival_airport_timezone_Asia/Qyzylorda                             -0.0769      2.224     -0.035      0.972      -4.435       4.281\n",
      "d_arrival_airport_timezone_Asia/Riyadh                                 0.8176      1.193      0.685      0.493      -1.521       3.157\n",
      "d_arrival_airport_timezone_Asia/Seoul                                 -0.9511      0.507     -1.877      0.060      -1.944       0.042\n",
      "d_arrival_airport_timezone_Asia/Shanghai                               0.9450      0.297      3.178      0.001       0.362       1.528\n",
      "d_arrival_airport_timezone_Asia/Singapore                              2.7241      0.302      9.021      0.000       2.132       3.316\n",
      "d_arrival_airport_timezone_Asia/Taipei                                 0.0313      0.450      0.070      0.945      -0.851       0.913\n",
      "d_arrival_airport_timezone_Asia/Tashkent                               7.5373      3.280      2.298      0.022       1.109      13.966\n",
      "d_arrival_airport_timezone_Asia/Tehran                                -4.9025      2.324     -2.109      0.035      -9.458      -0.347\n",
      "d_arrival_airport_timezone_Asia/Tokyo                                 -1.7113      0.576     -2.968      0.003      -2.841      -0.581\n",
      "d_arrival_airport_timezone_Asia/Yangon                                 3.8668      0.689      5.616      0.000       2.517       5.216\n",
      "d_arrival_airport_timezone_Australia/Adelaide                          6.1556      1.706      3.609      0.000       2.812       9.499\n",
      "d_arrival_airport_timezone_Australia/Brisbane                         -3.7601      1.748     -2.151      0.031      -7.186      -0.334\n",
      "d_arrival_airport_timezone_Australia/Perth                             2.1536      1.176      1.831      0.067      -0.152       4.459\n",
      "d_arrival_airport_timezone_Australia/Sydney                           -1.2572      0.924     -1.360      0.174      -3.069       0.554\n",
      "d_arrival_airport_timezone_Europe/Amsterdam                           -6.7130      0.870     -7.717      0.000      -8.418      -5.008\n",
      "d_arrival_airport_timezone_Europe/Berlin                              -1.5028      1.648     -0.912      0.362      -4.732       1.727\n",
      "d_arrival_airport_timezone_Europe/Istanbul                            -4.8367      1.105     -4.375      0.000      -7.003      -2.670\n",
      "d_arrival_airport_timezone_Europe/London                               1.9557      0.848      2.307      0.021       0.294       3.617\n",
      "d_arrival_airport_timezone_Indian/Maldives                            -0.8399      1.690     -0.497      0.619      -4.153       2.473\n",
      "d_arrival_airport_timezone_Pacific/Auckland                          -10.7169      1.007    -10.644      0.000     -12.690      -8.743\n",
      "d_days_of_week_Monday                                                 -3.3329      0.292    -11.431      0.000      -3.904      -2.761\n",
      "d_days_of_week_Saturday                                               -0.8001      0.174     -4.586      0.000      -1.142      -0.458\n",
      "d_days_of_week_Sunday                                                 -1.0485      0.172     -6.100      0.000      -1.385      -0.712\n",
      "d_days_of_week_Thursday                                                0.3054      0.290      1.053      0.292      -0.263       0.874\n",
      "d_days_of_week_Tuesday                                                -1.6864      0.294     -5.733      0.000      -2.263      -1.110\n",
      "d_days_of_week_Wednesday                                              -3.1872      0.292    -10.924      0.000      -3.759      -2.615\n",
      "d_departure_airport_name_Kota Kinabalu International Airport          -0.0274      0.420     -0.065      0.948      -0.852       0.797\n",
      "d_departure_airport_name_Kuala Lumpur International Airport            1.1151      0.213      5.234      0.000       0.697       1.533\n",
      "d_departure_airport_name_Kuching International Airport                 0.1256      0.278      0.452      0.651      -0.419       0.670\n",
      "d_departure_airport_name_Kudat Airport                                 0.4080      1.770      0.231      0.818      -3.061       3.877\n",
      "d_departure_airport_name_Labuan Airport                                3.0565      0.628      4.863      0.000       1.825       4.288\n",
      "d_departure_airport_name_Langkawi International Airport                1.1928      0.289      4.131      0.000       0.627       1.759\n",
      "d_departure_airport_name_Lawas Airport                                 0.3537      1.769      0.200      0.842      -3.113       3.820\n",
      "d_departure_airport_name_Marudi Airport                               -1.2019      1.391     -0.864      0.387      -3.928       1.524\n",
      "d_departure_airport_name_Miri Airport                                  0.7107      0.300      2.367      0.018       0.122       1.299\n",
      "d_departure_airport_name_Penang International Airport                  0.5454      0.263      2.072      0.038       0.029       1.061\n",
      "d_departure_airport_name_Sandakan Airport                              5.2540      0.760      6.909      0.000       3.764       6.744\n",
      "d_departure_airport_name_Senai Airport                                -0.1811      0.284     -0.638      0.523      -0.737       0.375\n",
      "d_departure_airport_name_Sibu Airport                                  0.9939      0.323      3.077      0.002       0.361       1.627\n",
      "d_departure_airport_name_Sultan Abdul Aziz Shah Airport               -0.9308      0.252     -3.687      0.000      -1.426      -0.436\n",
      "d_departure_airport_name_Sultan Ismail Petra Airport                   0.3693      0.304      1.215      0.224      -0.227       0.965\n",
      "d_departure_airport_code_BTU                                           7.6281      1.746      4.369      0.000       4.206      11.050\n",
      "d_departure_airport_code_JHB                                          -0.1811      0.284     -0.638      0.523      -0.737       0.375\n",
      "d_departure_airport_code_KBR                                           0.3693      0.304      1.215      0.224      -0.227       0.965\n",
      "d_departure_airport_code_KCH                                           0.1256      0.278      0.452      0.651      -0.419       0.670\n",
      "d_departure_airport_code_KUD                                           0.4080      1.770      0.231      0.818      -3.061       3.877\n",
      "d_departure_airport_code_KUL                                           1.1151      0.213      5.234      0.000       0.697       1.533\n",
      "d_departure_airport_code_LBU                                           3.0565      0.628      4.863      0.000       1.825       4.288\n",
      "d_departure_airport_code_LGK                                           1.1928      0.289      4.131      0.000       0.627       1.759\n",
      "d_departure_airport_code_LWY                                           0.3537      1.769      0.200      0.842      -3.113       3.820\n",
      "d_departure_airport_code_MUR                                          -1.2019      1.391     -0.864      0.387      -3.928       1.524\n",
      "d_departure_airport_code_MYY                                           0.7107      0.300      2.367      0.018       0.122       1.299\n",
      "d_departure_airport_code_PEN                                           0.5454      0.263      2.072      0.038       0.029       1.061\n",
      "d_departure_airport_code_SBW                                           0.9939      0.323      3.077      0.002       0.361       1.627\n",
      "d_departure_airport_code_SDK                                           5.2540      0.760      6.909      0.000       3.764       6.744\n",
      "d_departure_airport_code_SZB                                          -0.9308      0.252     -3.687      0.000      -1.426      -0.436\n",
      "d_arrival_airport_region_Europe                                      -11.0968      1.272     -8.721      0.000     -13.591      -8.603\n",
      "d_arrival_airport_region_Middle East                                  -4.4239      1.767     -2.503      0.012      -7.888      -0.960\n",
      "d_arrival_airport_region_Oceania                                      -7.4250      0.743     -9.989      0.000      -8.882      -5.968\n",
      "d_arrival_airport_country_AU                                           3.2919      0.646      5.098      0.000       2.026       4.558\n",
      "d_arrival_airport_country_AZ                                          -6.0435      1.796     -3.366      0.001      -9.563      -2.524\n",
      "d_arrival_airport_country_BD                                           4.4920      0.652      6.894      0.000       3.215       5.769\n",
      "d_arrival_airport_country_BN                                          -1.9974      0.757     -2.637      0.008      -3.482      -0.513\n",
      "d_arrival_airport_country_CN                                           0.9450      0.297      3.178      0.001       0.362       1.528\n",
      "d_arrival_airport_country_DE                                          -1.5028      1.648     -0.912      0.362      -4.732       1.727\n",
      "d_arrival_airport_country_GB                                           1.9557      0.848      2.307      0.021       0.294       3.617\n",
      "d_arrival_airport_country_HK                                           0.5887      0.335      1.758      0.079      -0.067       1.245\n",
      "d_arrival_airport_country_ID                                           3.2835      0.391      8.398      0.000       2.517       4.050\n",
      "d_arrival_airport_country_IN                                           2.2069      0.335      6.578      0.000       1.549       2.864\n",
      "d_arrival_airport_country_IQ                                          -0.6639      6.019     -0.110      0.912     -12.461      11.133\n",
      "d_arrival_airport_country_IR                                          -4.9025      2.324     -2.109      0.035      -9.458      -0.347\n",
      "d_arrival_airport_country_JP                                          -1.7113      0.576     -2.968      0.003      -2.841      -0.581\n",
      "d_arrival_airport_country_KH                                           2.0564      0.583      3.527      0.000       0.914       3.199\n",
      "d_arrival_airport_country_KR                                          -0.9511      0.507     -1.877      0.060      -1.944       0.042\n",
      "d_arrival_airport_country_KZ                                          -0.0769      2.224     -0.035      0.972      -4.435       4.281\n",
      "d_arrival_airport_country_LK                                          -1.2973      0.555     -2.339      0.019      -2.385      -0.210\n",
      "d_arrival_airport_country_MM                                           3.8668      0.689      5.616      0.000       2.517       5.216\n",
      "d_arrival_airport_country_MO                                           0.0455      1.015      0.045      0.964      -1.945       2.036\n",
      "d_arrival_airport_country_MV                                          -0.8399      1.690     -0.497      0.619      -4.153       2.473\n",
      "d_arrival_airport_country_MY                                           1.9024      0.274      6.931      0.000       1.364       2.440\n",
      "d_arrival_airport_country_NL                                          -6.7130      0.870     -7.717      0.000      -8.418      -5.008\n",
      "d_arrival_airport_country_NP                                           9.0541      0.868     10.432      0.000       7.353      10.755\n",
      "d_arrival_airport_country_NZ                                         -10.7169      1.007    -10.644      0.000     -12.690      -8.743\n",
      "d_arrival_airport_country_OM                                           4.3598      1.154      3.778      0.000       2.098       6.622\n",
      "d_arrival_airport_country_PH                                           6.1709      0.501     12.321      0.000       5.189       7.153\n",
      "d_arrival_airport_country_PK                                          13.0908      1.546      8.467      0.000      10.060      16.121\n",
      "d_arrival_airport_country_QA                                          -1.4427      1.147     -1.258      0.208      -3.690       0.805\n",
      "d_arrival_airport_country_SA                                           0.8176      1.193      0.685      0.493      -1.521       3.157\n",
      "d_arrival_airport_country_SG                                           2.7241      0.302      9.021      0.000       2.132       3.316\n",
      "d_arrival_airport_country_TH                                           1.2126      0.303      4.002      0.000       0.619       1.806\n",
      "d_arrival_airport_country_TR                                          -4.8367      1.105     -4.375      0.000      -7.003      -2.670\n",
      "d_arrival_airport_country_TW                                           0.0313      0.450      0.070      0.945      -0.851       0.913\n",
      "d_arrival_airport_country_UZ                                           7.5373      3.280      2.298      0.022       1.109      13.966\n",
      "d_arrival_airport_country_VN                                           0.9693      0.385      2.518      0.012       0.215       1.724\n",
      "d_flight_equipment_iata_319                                            0.2336      0.557      0.419      0.675      -0.858       1.325\n",
      "d_flight_equipment_iata_320                                            1.7236      0.813      2.119      0.034       0.130       3.318\n",
      "d_flight_equipment_iata_321                                           -1.3198      0.680     -1.942      0.052      -2.652       0.012\n",
      "d_flight_equipment_iata_32A                                           -5.1275      1.310     -3.915      0.000      -7.694      -2.561\n",
      "d_flight_equipment_iata_32B                                           -0.6336      1.199     -0.529      0.597      -2.983       1.716\n",
      "d_flight_equipment_iata_32S                                            1.8785      0.384      4.886      0.000       1.125       2.632\n",
      "d_flight_equipment_iata_330                                           -2.6621      7.353     -0.362      0.717     -17.074      11.750\n",
      "d_flight_equipment_iata_332                                            7.7708      0.584     13.305      0.000       6.626       8.916\n",
      "d_flight_equipment_iata_333                                           -0.2788      0.421     -0.663      0.507      -1.103       0.546\n",
      "d_flight_equipment_iata_33F                                           -7.0379      3.212     -2.191      0.028     -13.333      -0.742\n",
      "d_flight_equipment_iata_33X                                           -7.0075      1.718     -4.078      0.000     -10.375      -3.640\n",
      "d_flight_equipment_iata_340                                           -1.9623      3.018     -0.650      0.516      -7.878       3.953\n",
      "d_flight_equipment_iata_343                                           -1.2318      7.489     -0.164      0.869     -15.910      13.447\n",
      "d_flight_equipment_iata_346                                           -4.6027      1.209     -3.807      0.000      -6.972      -2.233\n",
      "d_flight_equipment_iata_359                                           -2.0880      0.574     -3.637      0.000      -3.213      -0.963\n",
      "d_flight_equipment_iata_388                                           -1.6465      0.745     -2.209      0.027      -3.107      -0.186\n",
      "d_flight_equipment_iata_72Y                                           -4.1961      1.868     -2.246      0.025      -7.858      -0.534\n",
      "d_flight_equipment_iata_737                                            0.3201      1.820      0.176      0.860      -3.248       3.888\n",
      "d_flight_equipment_iata_738                                           -0.1317      0.383     -0.344      0.731      -0.882       0.619\n",
      "d_flight_equipment_iata_739                                            8.0447      0.523     15.378      0.000       7.019       9.070\n",
      "d_flight_equipment_iata_73F                                           -7.7135      2.630     -2.933      0.003     -12.868      -2.559\n",
      "d_flight_equipment_iata_747                                           58.1624      2.064     28.177      0.000      54.117      62.208\n",
      "d_flight_equipment_iata_74F                                           -8.5021      7.355     -1.156      0.248     -22.917       5.913\n",
      "d_flight_equipment_iata_74H                                            6.2297      1.347      4.624      0.000       3.589       8.870\n",
      "d_flight_equipment_iata_74Y                                           -6.0435      1.796     -3.366      0.001      -9.563      -2.524\n",
      "d_flight_equipment_iata_752                                           11.4052      3.428      3.327      0.001       4.687      18.124\n",
      "d_flight_equipment_iata_75F                                           -3.0861      1.051     -2.937      0.003      -5.146      -1.026\n",
      "d_flight_equipment_iata_762                                            5.9577      2.173      2.742      0.006       1.699      10.217\n",
      "d_flight_equipment_iata_763                                           -3.9449      2.226     -1.773      0.076      -8.307       0.417\n",
      "d_flight_equipment_iata_76W                                           -1.5028      1.648     -0.912      0.362      -4.732       1.727\n",
      "d_flight_equipment_iata_76X                                           -5.0897      9.005     -0.565      0.572     -22.739      12.560\n",
      "d_flight_equipment_iata_772                                           -1.6848      1.034     -1.629      0.103      -3.712       0.342\n",
      "d_flight_equipment_iata_773                                           -1.3572      0.868     -1.563      0.118      -3.059       0.345\n",
      "d_flight_equipment_iata_777                                            7.5902      2.339      3.246      0.001       3.006      12.174\n",
      "d_flight_equipment_iata_77W                                            1.3796      0.638      2.164      0.030       0.130       2.629\n",
      "d_flight_equipment_iata_77X                                           -5.1780      3.216     -1.610      0.107     -11.482       1.126\n",
      "d_flight_equipment_iata_788                                           -2.6483      0.738     -3.587      0.000      -4.095      -1.201\n",
      "d_flight_equipment_iata_789                                           -5.3483      0.748     -7.153      0.000      -6.814      -3.883\n",
      "d_flight_equipment_iata_7M8                                            8.3412      1.142      7.306      0.000       6.104      10.579\n",
      "d_flight_equipment_iata_AT7                                           -0.5637      0.403     -1.398      0.162      -1.354       0.227\n",
      "d_flight_equipment_iata_ATR                                           -7.2911      1.809     -4.029      0.000     -10.838      -3.745\n",
      "d_flight_equipment_iata_DHT                                            1.9634      0.576      3.409      0.001       0.834       3.092\n",
      "==============================================================================\n",
      "Omnibus:                   145786.315   Durbin-Watson:                   1.556\n",
      "Prob(Omnibus):                  0.000   Jarque-Bera (JB):         68167117.245\n",
      "Skew:                           7.712   Prob(JB):                         0.00\n",
      "Kurtosis:                     125.888   Cond. No.                     1.34e+17\n",
      "==============================================================================\n",
      "\n",
      "Warnings:\n",
      "[1] Standard Errors assume that the covariance matrix of the errors is correctly specified.\n",
      "[2] The smallest eigenvalue is 1.98e-25. This might indicate that there are\n",
      "strong multicollinearity problems or that the design matrix is singular.\n"
     ]
    }
   ],
   "source": [
    "result = sm.OLS(y_train, X_train).fit()\n",
    "print(result.summary())"
   ]
  },
  {
   "cell_type": "markdown",
   "metadata": {},
   "source": [
    "# Task 3: Model Predict Delay > 60\n",
    "\n",
    "Create new binomial target column."
   ]
  },
  {
   "cell_type": "code",
   "execution_count": 59,
   "metadata": {
    "ExecuteTime": {
     "end_time": "2019-11-06T07:07:00.818500Z",
     "start_time": "2019-11-06T07:07:00.806000Z"
    }
   },
   "outputs": [],
   "source": [
    "data_train['delay_bin'] = (data_train['delay'] > 60.0).astype(int)\n",
    "data_test['delay_bin'] = (data_test['delay'] > 60.0).astype(int)"
   ]
  },
  {
   "cell_type": "markdown",
   "metadata": {},
   "source": [
    "## Logistic Regression"
   ]
  },
  {
   "cell_type": "code",
   "execution_count": 60,
   "metadata": {
    "ExecuteTime": {
     "end_time": "2019-11-06T07:07:03.811000Z",
     "start_time": "2019-11-06T07:07:03.763500Z"
    }
   },
   "outputs": [],
   "source": [
    "from sklearn.linear_model import LogisticRegression\n",
    "from sklearn.preprocessing import StandardScaler\n",
    "from sklearn.metrics import auc, confusion_matrix, roc_auc_score, classification_report, roc_curve\n",
    "\n",
    "def logistic_regression(X_train, X_test, y_train, y_test):\n",
    "    sc = StandardScaler()\n",
    "    X_train = sc.fit_transform(X_train)\n",
    "    X_test = sc.fit_transform(X_test)\n",
    "    \n",
    "    log_reg = LogisticRegression(solver='lbfgs')\n",
    "    log_reg.fit(X_train, y_train)\n",
    "    \n",
    "    train_preds = log_reg.predict(X_train)\n",
    "    test_preds = log_reg.predict(X_test)\n",
    "    \n",
    "    cm_train = confusion_matrix(y_train, train_preds)\n",
    "    cm_test = confusion_matrix(y_test, test_preds)\n",
    "    \n",
    "    roc_auc_train = roc_auc_score(y_train, train_preds)\n",
    "    roc_auc_test = roc_auc_score(y_test, test_preds)\n",
    "    \n",
    "    print(classification_report(y_train, train_preds))\n",
    "    print()\n",
    "    print(classification_report(y_test, test_preds))\n",
    "    \n",
    "    # ROC Curve\n",
    "    y_train_sample_score = log_reg.decision_function(X_train)\n",
    "    fpr_train, tpr_train, thresholds = roc_curve(y_train, y_train_sample_score)\n",
    "    y_pred_sample_score = log_reg.decision_function(X_test)\n",
    "    fpr, tpr, thresholds = roc_curve(y_test, y_pred_sample_score)\n",
    "\n",
    "    roc_auc_train = auc(fpr_train, tpr_train)\n",
    "    roc_auc = auc(fpr,tpr)\n",
    "\n",
    "    # Plot ROC\n",
    "    fig, ax = plt.subplots(figsize=(8, 6))\n",
    "    plt.title('Receiver Operating Characteristic')\n",
    "    ax.plot(fpr_train, tpr_train, 'g', label='AUC_train = %0.3f'% roc_auc_train)\n",
    "    ax.plot(fpr, tpr, 'b',label='AUC = %0.3f'% roc_auc)\n",
    "    ax.legend(loc='lower right')\n",
    "    ax.plot([0,1],[0,1],'r--')\n",
    "    ax.set_xlim([0,1.0])\n",
    "    ax.set_ylim([0,1.01])\n",
    "    ax.set_ylabel('True Positive Rate')\n",
    "    ax.set_xlabel('False Positive Rate')\n",
    "    plt.show()\n",
    "    \n",
    "    return cm_train, cm_test, roc_auc_train, roc_auc_test"
   ]
  },
  {
   "cell_type": "code",
   "execution_count": 61,
   "metadata": {
    "ExecuteTime": {
     "end_time": "2019-11-06T07:07:13.016500Z",
     "start_time": "2019-11-06T07:07:07.683500Z"
    }
   },
   "outputs": [
    {
     "name": "stdout",
     "output_type": "stream",
     "text": [
      "              precision    recall  f1-score   support\n",
      "\n",
      "           0       0.96      1.00      0.98    102784\n",
      "           1       0.56      0.00      0.01      3870\n",
      "\n",
      "    accuracy                           0.96    106654\n",
      "   macro avg       0.76      0.50      0.49    106654\n",
      "weighted avg       0.95      0.96      0.95    106654\n",
      "\n",
      "\n",
      "              precision    recall  f1-score   support\n",
      "\n",
      "           0       0.94      1.00      0.97     38613\n",
      "           1       0.60      0.00      0.00      2381\n",
      "\n",
      "    accuracy                           0.94     40994\n",
      "   macro avg       0.77      0.50      0.49     40994\n",
      "weighted avg       0.92      0.94      0.91     40994\n",
      "\n"
     ]
    },
    {
     "data": {
      "image/png": "[encoded data removed]",
      "text/plain": [
       "<Figure size 576x432 with 1 Axes>"
      ]
     },
     "metadata": {
      "needs_background": "light"
     },
     "output_type": "display_data"
    }
   ],
   "source": [
    "cm_train, cm_test, roc_auc_train, roc_auc_test = logistic_regression(X_train, X_test, data_train['delay_bin'], data_test['delay_bin'])"
   ]
  },
  {
   "cell_type": "markdown",
   "metadata": {},
   "source": [
    "## Decision Tree"
   ]
  },
  {
   "cell_type": "code",
   "execution_count": 62,
   "metadata": {
    "ExecuteTime": {
     "end_time": "2019-11-06T07:07:30.241500Z",
     "start_time": "2019-11-06T07:07:30.186500Z"
    }
   },
   "outputs": [],
   "source": [
    "from sklearn.tree import DecisionTreeClassifier\n",
    "\n",
    "def decision_tree(X_train, X_test, y_train, y_test):\n",
    "    sc = StandardScaler()\n",
    "    X_train = sc.fit_transform(X_train)\n",
    "    X_test = sc.fit_transform(X_test)\n",
    "    \n",
    "    log_reg = DecisionTreeClassifier(criterion='gini', \n",
    "                                     splitter='best', \n",
    "                                     max_depth=5, \n",
    "                                     min_samples_split=2, \n",
    "                                     min_samples_leaf=1,\n",
    "                                     random_state=42)\n",
    "    log_reg.fit(X_train, y_train)\n",
    "    \n",
    "    train_preds = log_reg.predict(X_train)\n",
    "    test_preds = log_reg.predict(X_test)\n",
    "    \n",
    "    cm_train = confusion_matrix(y_train, train_preds)\n",
    "    cm_test = confusion_matrix(y_test, test_preds)\n",
    "    \n",
    "    roc_auc_train = roc_auc_score(y_train, train_preds)\n",
    "    roc_auc_test = roc_auc_score(y_test, test_preds)\n",
    "    \n",
    "    print(classification_report(y_train, train_preds))\n",
    "    print()\n",
    "    print(classification_report(y_test, test_preds))\n",
    "    \n",
    "    # ROC Curve\n",
    "    y_train_sample_score = log_reg.predict_proba(X_train)[:, 1]\n",
    "    fpr_train, tpr_train, thresholds = roc_curve(y_train, y_train_sample_score)\n",
    "    y_pred_sample_score = log_reg.predict_proba(X_test)[:, 1]\n",
    "    fpr, tpr, thresholds = roc_curve(y_test, y_pred_sample_score)\n",
    "\n",
    "    roc_auc_train = auc(fpr_train, tpr_train)\n",
    "    roc_auc = auc(fpr,tpr)\n",
    "\n",
    "    # Plot ROC\n",
    "    fig, ax = plt.subplots(figsize=(8, 6))\n",
    "    plt.title('Receiver Operating Characteristic')\n",
    "    ax.plot(fpr_train, tpr_train, 'g', label='AUC_train = %0.3f'% roc_auc_train)\n",
    "    ax.plot(fpr, tpr, 'b',label='AUC_test = %0.3f'% roc_auc)\n",
    "    ax.legend(loc='lower right')\n",
    "    ax.plot([0,1],[0,1],'r--')\n",
    "    ax.set_xlim([0,1.0])\n",
    "    ax.set_ylim([0,1.01])\n",
    "    ax.set_ylabel('True Positive Rate')\n",
    "    ax.set_xlabel('False Positive Rate')\n",
    "    plt.show()\n",
    "    \n",
    "    return train_preds, test_preds"
   ]
  },
  {
   "cell_type": "code",
   "execution_count": 63,
   "metadata": {
    "ExecuteTime": {
     "end_time": "2019-11-06T07:07:34.771500Z",
     "start_time": "2019-11-06T07:07:31.274000Z"
    }
   },
   "outputs": [
    {
     "name": "stdout",
     "output_type": "stream",
     "text": [
      "              precision    recall  f1-score   support\n",
      "\n",
      "           0       0.96      1.00      0.98    102784\n",
      "           1       0.76      0.00      0.01      3870\n",
      "\n",
      "    accuracy                           0.96    106654\n",
      "   macro avg       0.86      0.50      0.49    106654\n",
      "weighted avg       0.96      0.96      0.95    106654\n",
      "\n",
      "\n",
      "              precision    recall  f1-score   support\n",
      "\n",
      "           0       0.94      1.00      0.97     38613\n",
      "           1       0.00      0.00      0.00      2381\n",
      "\n",
      "    accuracy                           0.94     40994\n",
      "   macro avg       0.47      0.50      0.49     40994\n",
      "weighted avg       0.89      0.94      0.91     40994\n",
      "\n"
     ]
    },
    {
     "data": {
      "image/png": "[encoded data removed]",
      "text/plain": [
       "<Figure size 576x432 with 1 Axes>"
      ]
     },
     "metadata": {
      "needs_background": "light"
     },
     "output_type": "display_data"
    }
   ],
   "source": [
    "y_preds_train, y_preds_test = decision_tree(X_train, X_test, data_train['delay_bin'], data_test['delay_bin'])"
   ]
  },
  {
   "cell_type": "markdown",
   "metadata": {},
   "source": [
    "# Task 4: Feature Engineering Reasoning"
   ]
  },
  {
   "cell_type": "markdown",
   "metadata": {},
   "source": [
    "1. days_of_week, is_weekend: different traffic during weekend/not weekend, more granular in days\n",
    "2. is_daytime: different weather condition during daytime and nighttime\n",
    "3. flight_duration: dropping the column as it is future value\n",
    "4. scheduled_flight_duration: perhaps longer flight duration require more preparation and more possible factor that can cause delay"
   ]
  },
  {
   "cell_type": "markdown",
   "metadata": {},
   "source": [
    "# Task 5: Predict Delay that will Happened in December for Delay > 60\n",
    "\n",
    "Turns out that all test data is in December. So we will try to predict 'Delay > 60' using test data."
   ]
  },
  {
   "cell_type": "code",
   "execution_count": 64,
   "metadata": {
    "ExecuteTime": {
     "end_time": "2019-11-06T07:07:37.904000Z",
     "start_time": "2019-11-06T07:07:37.401500Z"
    }
   },
   "outputs": [
    {
     "data": {
      "image/png": "[encoded data removed]",
      "text/plain": [
       "<Figure size 1080x432 with 2 Axes>"
      ]
     },
     "metadata": {
      "needs_background": "light"
     },
     "output_type": "display_data"
    }
   ],
   "source": [
    "fig, ax = plt.subplots(figsize=(15, 6))\n",
    "data_test.groupby(['days'])['delay_bin'].value_counts().unstack(1).plot(ax=ax, marker='o', alpha=1)\n",
    "data_test['delay_bin_pred'] = y_preds_test\n",
    "data_test.groupby(['days'])['delay_bin_pred'].value_counts().unstack(1).plot(ax=ax, marker='d', alpha=1)\n",
    "ax2 = ax.twinx()\n",
    "data_test.groupby(['days'])[col_target].count().plot.bar(ax=ax2, alpha=0.3)\n",
    "ax.legend([])\n",
    "# ax.set_ylim(0)\n",
    "# ax.set_ylabel('mean delays (min)')\n",
    "# ax2.set_ylabel('total flights')\n",
    "for tick in ax.get_xticklabels():\n",
    "    tick.set_rotation(90)\n",
    "lines, labels = ax.get_legend_handles_labels()\n",
    "lines2, labels2 = ax2.get_legend_handles_labels()\n",
    "ax2.legend(lines + lines2, ['actual (0)', 'actual (1)', 'pred (0)', 'pred (1)', 'total flights'], loc='center right')\n",
    "plt.suptitle('Predicted vs Actual Delays in December for Delay > 60',fontsize=20, ha='left', x=0.125)\n",
    "plt.title('Model is underfitting',fontsize=14, loc='left')\n",
    "plt.show()"
   ]
  },
  {
   "cell_type": "markdown",
   "metadata": {},
   "source": [
    "The model is very conservative, only detect delays in 4 days during December. Model is clearly underfitting."
   ]
  }
 ],
 "metadata": {
  "hide_input": false,
  "kernelspec": {
   "display_name": "Python 3",
   "language": "python",
   "name": "python3"
  },
  "language_info": {
   "codemirror_mode": {
    "name": "ipython",
    "version": 3
   },
   "file_extension": ".py",
   "mimetype": "text/x-python",
   "name": "python",
   "nbconvert_exporter": "python",
   "pygments_lexer": "ipython3",
   "version": "3.7.3"
  },
  "toc": {
   "base_numbering": 1,
   "nav_menu": {},
   "number_sections": true,
   "sideBar": true,
   "skip_h1_title": false,
   "title_cell": "Table of Contents",
   "title_sidebar": "Contents",
   "toc_cell": false,
   "toc_position": {
    "height": "calc(100% - 180px)",
    "left": "10px",
    "top": "150px",
    "width": "341.484px"
   },
   "toc_section_display": true,
   "toc_window_display": true
  }
 },
 "nbformat": 4,
 "nbformat_minor": 2
}
